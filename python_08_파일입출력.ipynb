{
  "nbformat": 4,
  "nbformat_minor": 0,
  "metadata": {
    "colab": {
      "provenance": [],
      "authorship_tag": "ABX9TyODY/4dwSz2SNg9PeAT9P96",
      "include_colab_link": true
    },
    "kernelspec": {
      "name": "python3",
      "display_name": "Python 3"
    },
    "language_info": {
      "name": "python"
    }
  },
  "cells": [
    {
      "cell_type": "markdown",
      "metadata": {
        "id": "view-in-github",
        "colab_type": "text"
      },
      "source": [
        "<a href=\"https://colab.research.google.com/github/dlscks/pythondemo/blob/main/python_08_%ED%8C%8C%EC%9D%BC%EC%9E%85%EC%B6%9C%EB%A0%A5.ipynb\" target=\"_parent\"><img src=\"https://colab.research.google.com/assets/colab-badge.svg\" alt=\"Open In Colab\"/></a>"
      ]
    },
    {
      "cell_type": "markdown",
      "source": [
        "### open('파일경로', '파일열기모드')\n",
        "- 파일 열기 모드\n",
        " - w: 쓰기모드 - 파일에 내용을 쓸 때 사용\n",
        " - r: 읽기모드 - 파일에 내용을 읽을 때 사용\n",
        " - a: 추가모드 - 파일에 내용을 추가할 때 사용"
      ],
      "metadata": {
        "id": "5dYQEJDB_LAy"
      }
    },
    {
      "cell_type": "code",
      "execution_count": 5,
      "metadata": {
        "id": "cjt6pEmU-8A7"
      },
      "outputs": [],
      "source": [
        "# open('파일경로', '모드')\n",
        "fwrite = open('sample.txt', 'w')  # 파일 열기\n",
        "for i in range(1, 4):\n",
        "  data = '%d번째 줄입니다. \\n' % i\n",
        "  fwrite.write(data)\n",
        "fwrite.close() # 파일 닫기"
      ]
    },
    {
      "cell_type": "code",
      "source": [
        "fread = open('sample.txt', 'r')  # sample.txt파일에 데이터를 읽어온다.\n",
        "# line = fread.readline() # readline()은 파일에서 한 라인씩 읽어옴\n",
        "line = fread.read()  # read() 은 파일에서 전체를 읽어와 str로 리턴한다.\n",
        "print(type(line))\n",
        "fread.close()"
      ],
      "metadata": {
        "colab": {
          "base_uri": "https://localhost:8080/"
        },
        "id": "AxCNgQSHAbvb",
        "outputId": "492b8816-a4e6-411b-b872-804c6e908cd4"
      },
      "execution_count": 6,
      "outputs": [
        {
          "output_type": "stream",
          "name": "stdout",
          "text": [
            "<class 'str'>\n"
          ]
        }
      ]
    },
    {
      "cell_type": "code",
      "source": [
        "fread = open('sample.txt', 'r') # sample.txt 파일에 데이터를 읽어온다.\n",
        "while True:\n",
        "  line = fread.readline()  # readline()은 파일에서 한 라인씩 읽어옴\n",
        "  if not line:  # 파일에서 더 이상 읽어올 내용이 없으면\n",
        "    break\n",
        "  print(line)\n",
        "fread.close()"
      ],
      "metadata": {
        "colab": {
          "base_uri": "https://localhost:8080/"
        },
        "id": "XxmSQctKCUtz",
        "outputId": "16db79b6-3794-4001-c073-e2a3b2f7c520"
      },
      "execution_count": 7,
      "outputs": [
        {
          "output_type": "stream",
          "name": "stdout",
          "text": [
            "1번째 줄입니다. \n",
            "\n",
            "2번째 줄입니다. \n",
            "\n",
            "3번째 줄입니다. \n",
            "\n"
          ]
        }
      ]
    },
    {
      "cell_type": "code",
      "source": [
        "import os\n",
        "path = os.getcwd()\n",
        "print(path)"
      ],
      "metadata": {
        "colab": {
          "base_uri": "https://localhost:8080/"
        },
        "id": "11N1p_fMCyxU",
        "outputId": "1a97f8b1-6373-49df-8c40-1e375ec68d25"
      },
      "execution_count": 8,
      "outputs": [
        {
          "output_type": "stream",
          "name": "stdout",
          "text": [
            "/content\n"
          ]
        }
      ]
    },
    {
      "cell_type": "markdown",
      "source": [
        "### with문과 함께 사용\n",
        "- with문과 함께 파일을 사용하면 읽기, 쓰기할 때 close()을 안해도 된다."
      ],
      "metadata": {
        "id": "1eFLkLmeEGQr"
      }
    },
    {
      "cell_type": "code",
      "source": [
        "with open('sample.txt', 'w')as f:\n",
        "  for i in range(5,8):\n",
        "    data = '%d번째 줄입니다.\\n' % i\n",
        "    f.write(data)"
      ],
      "metadata": {
        "id": "kC8OGBCxDGAj"
      },
      "execution_count": 12,
      "outputs": []
    },
    {
      "cell_type": "code",
      "source": [
        "with open('sample.txt', 'r') as f:\n",
        "  while True:\n",
        "    line = f.readline()\n",
        "    if not line :\n",
        "      break\n",
        "    print(line)"
      ],
      "metadata": {
        "colab": {
          "base_uri": "https://localhost:8080/"
        },
        "id": "lsulBw8QEpeM",
        "outputId": "1e6f40e8-809d-4421-ba83-f3d898a5aaad"
      },
      "execution_count": 13,
      "outputs": [
        {
          "output_type": "stream",
          "name": "stdout",
          "text": [
            "5번째 줄입니다.\n",
            "\n",
            "6번째 줄입니다.\n",
            "\n",
            "7번째 줄입니다.\n",
            "\n"
          ]
        }
      ]
    },
    {
      "cell_type": "code",
      "source": [
        "with open('test.txt','w') as f:\n",
        "  f.writelines(['apple', 'banana', 'lemon']) # str만 가능하다.\n"
      ],
      "metadata": {
        "colab": {
          "base_uri": "https://localhost:8080/",
          "height": 201
        },
        "id": "GTTn-G3mE_u1",
        "outputId": "07c94245-8d1a-4eff-df6c-8938a35afede"
      },
      "execution_count": 18,
      "outputs": [
        {
          "output_type": "error",
          "ename": "TypeError",
          "evalue": "ignored",
          "traceback": [
            "\u001b[0;31m---------------------------------------------------------------------------\u001b[0m",
            "\u001b[0;31mTypeError\u001b[0m                                 Traceback (most recent call last)",
            "\u001b[0;32m<ipython-input-18-a40902fe7fff>\u001b[0m in \u001b[0;36m<module>\u001b[0;34m\u001b[0m\n\u001b[1;32m      1\u001b[0m \u001b[0;32mwith\u001b[0m \u001b[0mopen\u001b[0m\u001b[0;34m(\u001b[0m\u001b[0;34m'test.txt'\u001b[0m\u001b[0;34m,\u001b[0m\u001b[0;34m'w'\u001b[0m\u001b[0;34m)\u001b[0m \u001b[0;32mas\u001b[0m \u001b[0mf\u001b[0m\u001b[0;34m:\u001b[0m\u001b[0;34m\u001b[0m\u001b[0;34m\u001b[0m\u001b[0m\n\u001b[1;32m      2\u001b[0m \u001b[0;31m#  f.writelines(['apple', 'banana', 'lemon'])\u001b[0m\u001b[0;34m\u001b[0m\u001b[0;34m\u001b[0m\u001b[0;34m\u001b[0m\u001b[0m\n\u001b[0;32m----> 3\u001b[0;31m   \u001b[0mf\u001b[0m\u001b[0;34m.\u001b[0m\u001b[0mwritelines\u001b[0m\u001b[0;34m(\u001b[0m\u001b[0;34m[\u001b[0m\u001b[0;32mTrue\u001b[0m\u001b[0;34m,\u001b[0m\u001b[0;32mFalse\u001b[0m\u001b[0;34m,\u001b[0m\u001b[0;32mTrue\u001b[0m\u001b[0;34m,\u001b[0m\u001b[0;32mFalse\u001b[0m\u001b[0;34m]\u001b[0m\u001b[0;34m)\u001b[0m\u001b[0;34m\u001b[0m\u001b[0;34m\u001b[0m\u001b[0m\n\u001b[0m",
            "\u001b[0;31mTypeError\u001b[0m: write() argument must be str, not bool"
          ]
        }
      ]
    },
    {
      "cell_type": "code",
      "source": [
        "with open('test.txt', 'r') as f:\n",
        "  print(f.readlines())"
      ],
      "metadata": {
        "colab": {
          "base_uri": "https://localhost:8080/"
        },
        "id": "kw7JmhNSFldM",
        "outputId": "d68063c4-4aa3-497f-a46d-6178d8e82d1e"
      },
      "execution_count": 17,
      "outputs": [
        {
          "output_type": "stream",
          "name": "stdout",
          "text": [
            "['applebananalemon']\n"
          ]
        }
      ]
    },
    {
      "cell_type": "code",
      "source": [
        "import random"
      ],
      "metadata": {
        "id": "4XZiAdCRGGYF"
      },
      "execution_count": 19,
      "outputs": []
    },
    {
      "cell_type": "code",
      "source": [
        "random.choice([1,2,3,4])"
      ],
      "metadata": {
        "colab": {
          "base_uri": "https://localhost:8080/"
        },
        "id": "7XRg9KjVGzN9",
        "outputId": "077df58d-d541-46df-e2a3-fa37f08d5505"
      },
      "execution_count": 29,
      "outputs": [
        {
          "output_type": "execute_result",
          "data": {
            "text/plain": [
              "2"
            ]
          },
          "metadata": {},
          "execution_count": 29
        }
      ]
    },
    {
      "cell_type": "code",
      "source": [
        "random.randrange(1,10) # 1부터 10미만 사이의 난수 발생"
      ],
      "metadata": {
        "colab": {
          "base_uri": "https://localhost:8080/"
        },
        "id": "q5lJTw9sG-M0",
        "outputId": "bd0fdf2b-d026-4503-f1e5-6bd1a9640071"
      },
      "execution_count": 48,
      "outputs": [
        {
          "output_type": "execute_result",
          "data": {
            "text/plain": [
              "9"
            ]
          },
          "metadata": {},
          "execution_count": 48
        }
      ]
    },
    {
      "cell_type": "code",
      "source": [
        "with open('number.txt', 'w') as f:\n",
        "  f.write(str(random.randrange(1,10)))"
      ],
      "metadata": {
        "id": "ZrrmDYA9HGPd"
      },
      "execution_count": 50,
      "outputs": []
    },
    {
      "cell_type": "code",
      "source": [
        "with open('number.txt', 'r')as f:\n",
        "  print(f.read())"
      ],
      "metadata": {
        "colab": {
          "base_uri": "https://localhost:8080/"
        },
        "id": "OW4rEfArHiUG",
        "outputId": "cb1cc703-28cc-45d0-bfd4-b42a0f49cf9a"
      },
      "execution_count": 56,
      "outputs": [
        {
          "output_type": "stream",
          "name": "stdout",
          "text": [
            "9\n"
          ]
        }
      ]
    },
    {
      "cell_type": "code",
      "source": [],
      "metadata": {
        "id": "trI5-E2FHuiN"
      },
      "execution_count": null,
      "outputs": []
    }
  ]
}