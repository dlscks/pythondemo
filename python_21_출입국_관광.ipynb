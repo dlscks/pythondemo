{
  "nbformat": 4,
  "nbformat_minor": 0,
  "metadata": {
    "colab": {
      "provenance": [],
      "authorship_tag": "ABX9TyO87PpSpvmIo/mLgehThabC",
      "include_colab_link": true
    },
    "kernelspec": {
      "name": "python3",
      "display_name": "Python 3"
    },
    "language_info": {
      "name": "python"
    }
  },
  "cells": [
    {
      "cell_type": "markdown",
      "metadata": {
        "id": "view-in-github",
        "colab_type": "text"
      },
      "source": [
        "<a href=\"https://colab.research.google.com/github/dlscks/pythondemo/blob/main/python_21_%EC%B6%9C%EC%9E%85%EA%B5%AD_%EA%B4%80%EA%B4%91.ipynb\" target=\"_parent\"><img src=\"https://colab.research.google.com/assets/colab-badge.svg\" alt=\"Open In Colab\"/></a>"
      ]
    },
    {
      "cell_type": "markdown",
      "source": [
        "### 구글 드라이브 연동"
      ],
      "metadata": {
        "id": "PRCEorKbYW8b"
      }
    },
    {
      "cell_type": "code",
      "execution_count": 1,
      "metadata": {
        "colab": {
          "base_uri": "https://localhost:8080/"
        },
        "id": "dDPUrQUbXw-C",
        "outputId": "84a0c53c-1bf2-4ff0-c3c3-e347519abb28"
      },
      "outputs": [
        {
          "output_type": "stream",
          "name": "stdout",
          "text": [
            "Mounted at /content/drive\n",
            "/content/drive/MyDrive/python_demo\n"
          ]
        }
      ],
      "source": [
        "from google.colab import drive\n",
        "drive.mount('/content/drive')\n",
        "\n",
        "%cd /content/drive/MyDrive/python_demo"
      ]
    },
    {
      "cell_type": "code",
      "source": [
        "!pip install xmltodict"
      ],
      "metadata": {
        "colab": {
          "base_uri": "https://localhost:8080/"
        },
        "id": "nBibFO_S2dpy",
        "outputId": "e5136c14-a4a2-4c75-c740-569c40a07cda"
      },
      "execution_count": 13,
      "outputs": [
        {
          "output_type": "stream",
          "name": "stdout",
          "text": [
            "Looking in indexes: https://pypi.org/simple, https://us-python.pkg.dev/colab-wheels/public/simple/\n",
            "Collecting xmltodict\n",
            "  Downloading xmltodict-0.13.0-py2.py3-none-any.whl (10.0 kB)\n",
            "Installing collected packages: xmltodict\n",
            "Successfully installed xmltodict-0.13.0\n"
          ]
        }
      ]
    },
    {
      "cell_type": "code",
      "source": [
        "import requests\n",
        "import json\n",
        "import xmltodict\n",
        "\n",
        "#key = 'ByINNUFGKMVFL9JYeU%2BOn6UH3KEH7JYRUl%2BhPP3A84Ts9%2FPJcH8VpzJ2COLsrAKqmL3fBAAM24kqYEhJhNHAKg%3D%3D'\n",
        "key = 'ByINNUFGKMVFL9JYeU+On6UH3KEH7JYRUl+hPP3A84Ts9/PJcH8VpzJ2COLsrAKqmL3fBAAM24kqYEhJhNHAKg=='\n",
        "\n",
        "def getTourismStatesItem(yyyymm, national_code, ed_cd):\n",
        "  url = 'http://openapi.tour.go.kr/openapi/service/EdrcntTourismStatsService/getEdrcntTourismStatsList'\n",
        "  params ={'serviceKey' : key, 'YM' : yyyymm, 'NAT_CD' : national_code, 'ED_CD' : ed_cd }\n",
        "\n",
        "  response = requests.get(url, params=params)\n",
        "  #print(response.content)\n",
        "  #print(response.text)\n",
        "  return response.text\n",
        "\n",
        "jsonResult = []\n",
        "result= []\n",
        "natName=''\n",
        "print('<<국내 입국한 외국인의 통계를 수집합니다.>>')\n",
        "nav_cd = input('국가 코드를 입력하세요(중국 : 112 / 일본 : 130 / 미국 : 275) :')\n",
        "nStartYear = int(input('데이터를 몇 년부터 수집할까요?:'))\n",
        "nEndYear = int(input('데이터를 몇 년까지 수집할까요?:'))\n",
        "ed_cd = 'E' # E:방한외래관광객, D:해외 출국\n",
        "\n",
        "dataEND = '{0}{1:0>2}'.format(str(nEndYear), str(12))\n",
        "print(dataEND)\n",
        "isDataEnd = 0 # 데이터 끝 확인용 flat초기화\n",
        "\n",
        "for year in range(nStartYear, nEndYear+1):\n",
        "  for month in range(1, 13):\n",
        "    if isDataEnd == 1: break; # 데이터 끝 flag 설정되어 있으면 작업 중지\n",
        "    yyyymm = '{0}{1:0>2}'.format(str(year),str(month))\n",
        "\n",
        "    jsonData = getTourismStatesItem(yyyymm, nav_cd, ed_cd)\n",
        "    jsonData = xmltodict.parse(jsonData)\n",
        "    #print(jsonData)\n",
        "\n",
        "\n",
        "    if jsonData ['response']['header']['resultMsg'] =='OK':\n",
        "      if jsonData['response']['body']['items']=='':\n",
        "        isDataEnd = 1 # 데이터 끝 flag 설정\n",
        "        dataEND = '{0}{1:0>2}'.format(str(year),str(monty-1))\n",
        "        print('데이터 없음...\\n 제공되는 통계 데이터는 %s년 %s월까지 입니다.' % str(year), str(month-1))\n",
        "        break\n",
        "      \n",
        "      #jsonData를 출력하여 확인\n",
        "      natName = jsonData['response']['body']['items']['item']['natKorNm']\n",
        "      natName = natName.replace(' ','')\n",
        "      num = jsonData['response']['body']['items']['item']['num']\n",
        "      ed = jsonData['response']['body']['items']['item']['ed']\n",
        "      ym = jsonData['response']['body']['items']['item']['ym']\n",
        "      print('[%s_%s_%s : %s명]' % (ym, ed, natName, num))"
      ],
      "metadata": {
        "colab": {
          "base_uri": "https://localhost:8080/"
        },
        "id": "_LrwBSF5ZAeT",
        "outputId": "3c0185d5-2c45-49ce-f2a3-c450dbb159d7"
      },
      "execution_count": 19,
      "outputs": [
        {
          "output_type": "stream",
          "name": "stdout",
          "text": [
            "<<국내 입국한 외국인의 통계를 수집합니다.>>\n",
            "국가 코드를 입력하세요(중국 : 112 / 일본 : 130 / 미국 : 275) :112\n",
            "데이터를 몇 년부터 수집할까요?:2012\n",
            "데이터를 몇 년까지 수집할까요?:2012\n",
            "201212\n",
            "[201201_방한외래관광객_중국 : 167022명]\n",
            "[201202_방한외래관광객_중국 : 173790명]\n",
            "[201203_방한외래관광객_중국 : 183691명]\n",
            "[201204_방한외래관광객_중국 : 222114명]\n",
            "[201205_방한외래관광객_중국 : 210439명]\n",
            "[201206_방한외래관광객_중국 : 234482명]\n",
            "[201207_방한외래관광객_중국 : 322917명]\n",
            "[201208_방한외래관광객_중국 : 359065명]\n",
            "[201209_방한외래관광객_중국 : 283402명]\n",
            "[201210_방한외래관광객_중국 : 279440명]\n",
            "[201211_방한외래관광객_중국 : 204533명]\n",
            "[201212_방한외래관광객_중국 : 195997명]\n"
          ]
        }
      ]
    },
    {
      "cell_type": "code",
      "source": [],
      "metadata": {
        "id": "xiaBPGJ3tjYl"
      },
      "execution_count": 15,
      "outputs": []
    }
  ]
}