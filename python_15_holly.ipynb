{
  "nbformat": 4,
  "nbformat_minor": 0,
  "metadata": {
    "colab": {
      "provenance": [],
      "authorship_tag": "ABX9TyOP0y/5Rhhdn0SLTi0miJch",
      "include_colab_link": true
    },
    "kernelspec": {
      "name": "python3",
      "display_name": "Python 3"
    },
    "language_info": {
      "name": "python"
    }
  },
  "cells": [
    {
      "cell_type": "markdown",
      "metadata": {
        "id": "view-in-github",
        "colab_type": "text"
      },
      "source": [
        "<a href=\"https://colab.research.google.com/github/dlscks/pythondemo/blob/main/python_15_holly.ipynb\" target=\"_parent\"><img src=\"https://colab.research.google.com/assets/colab-badge.svg\" alt=\"Open In Colab\"/></a>"
      ]
    },
    {
      "cell_type": "markdown",
      "source": [
        "### hollys.co.kr 크롤링하기"
      ],
      "metadata": {
        "id": "Pc6L-7nDIKfW"
      }
    },
    {
      "cell_type": "markdown",
      "source": [
        "구글 드라이브 연결"
      ],
      "metadata": {
        "id": "7l3on_FaIcqW"
      }
    },
    {
      "cell_type": "code",
      "execution_count": 1,
      "metadata": {
        "colab": {
          "base_uri": "https://localhost:8080/"
        },
        "id": "WHB6aKj3GR5_",
        "outputId": "e985bc51-f16c-4290-8297-0585e6eb8179"
      },
      "outputs": [
        {
          "output_type": "stream",
          "name": "stdout",
          "text": [
            "Mounted at /content/drive\n",
            "/content/drive/MyDrive/python_demo\n"
          ]
        }
      ],
      "source": [
        "from google.colab import drive\n",
        "drive.mount('/content/drive')\n",
        "\n",
        "%cd /content/drive/MyDrive/python_demo"
      ]
    },
    {
      "cell_type": "markdown",
      "source": [
        "### 1.import"
      ],
      "metadata": {
        "id": "ZwEE6D70IwVl"
      }
    },
    {
      "cell_type": "code",
      "source": [
        "from bs4 import BeautifulSoup\n",
        "import requests"
      ],
      "metadata": {
        "id": "eAvyiNzMIrtv"
      },
      "execution_count": 6,
      "outputs": []
    },
    {
      "cell_type": "markdown",
      "source": [
        "2. 작업결과를 저장할 리스트 준비"
      ],
      "metadata": {
        "id": "ycnk7CgmI84u"
      }
    },
    {
      "cell_type": "code",
      "source": [
        "result = []"
      ],
      "metadata": {
        "id": "9ygRxDPPJBC_"
      },
      "execution_count": 7,
      "outputs": []
    },
    {
      "cell_type": "markdown",
      "source": [
        "3. BeautifulSoup 객체 생성하여 파싱"
      ],
      "metadata": {
        "id": "elQZLs-RJECF"
      }
    },
    {
      "cell_type": "code",
      "source": [
        "header = {\"User-Agent\" : \"Mozilla/5.0 (Windows NT 10.0; Win64; x64) AppleWebKit/537.36 (KHTML, like Gecko) Chrome/108.0.0.0 Safari/537.36\"}\n",
        "url =\"https://www.hollys.co.kr/store/korea/korStore2.do\"\n",
        "\n",
        "res = requests.get(url, headers = header)\n",
        "soup = BeautifulSoup(res.text, 'html.parser')\n",
        "print(type(soup))\n",
        "\n",
        "tbody_tag = soup.find('tbody')\n",
        "#print(type(tbody_tag))\n",
        "\n",
        "#tr_list_tag = soup.find_all('tr')\n",
        "#print(len(tr_list_tag))\n",
        "#print(type(tr_list_tag))\n",
        "#print(tr_list_tag[0])\n",
        "\n",
        "tbody_tr_list_tag = tbody_tag.find_all('tr')\n",
        "#print(len(tbody_tr_list_tag))\n",
        "#print(tbody_tr_list_tag[0])"
      ],
      "metadata": {
        "colab": {
          "base_uri": "https://localhost:8080/"
        },
        "id": "U8rnZSbcJK1d",
        "outputId": "901a98e7-17a4-45dd-c5b1-76fbd08a8c5e"
      },
      "execution_count": 14,
      "outputs": [
        {
          "output_type": "stream",
          "name": "stdout",
          "text": [
            "<class 'bs4.BeautifulSoup'>\n"
          ]
        }
      ]
    },
    {
      "cell_type": "code",
      "source": [
        "for store in tbody_tr_list_tag:\n",
        "  store_td = store.find_all('td') \n",
        "  store_area = store_td[0].string\n",
        "  store_name = store_td[1].string\n",
        "  store_phone = store_td[5].string\n",
        "  result.append([store_area]+[store_name]+[store_phone])  #['서울 강남구']+ ['강남우리라운지점']+ ['02-566-1002']"
      ],
      "metadata": {
        "id": "_D1RhBriKScN"
      },
      "execution_count": 15,
      "outputs": []
    },
    {
      "cell_type": "code",
      "source": [
        "# 참고\n",
        "print(['a']+['b'])\n",
        "print(['서울 강남구']+ ['강남우리라운지점']+ ['02-566-1002'])"
      ],
      "metadata": {
        "colab": {
          "base_uri": "https://localhost:8080/"
        },
        "id": "ZMK8AbQ9O6Bc",
        "outputId": "3db0dba3-6c42-4897-c1b6-02905574e559"
      },
      "execution_count": 19,
      "outputs": [
        {
          "output_type": "stream",
          "name": "stdout",
          "text": [
            "['a', 'b']\n",
            "['서울 강남구', '강남우리라운지점', '02-566-1002']\n"
          ]
        }
      ]
    },
    {
      "cell_type": "markdown",
      "source": [
        "### 4 크롤링 결과 확인"
      ],
      "metadata": {
        "id": "i1oDfka2PfpF"
      }
    },
    {
      "cell_type": "code",
      "source": [
        "result"
      ],
      "metadata": {
        "colab": {
          "base_uri": "https://localhost:8080/"
        },
        "id": "i5Wa803nO91T",
        "outputId": "8c2744b6-e1dc-4000-ba8c-4e84c457c7f4"
      },
      "execution_count": 17,
      "outputs": [
        {
          "output_type": "execute_result",
          "data": {
            "text/plain": [
              "[['서울 강남구', '강남우리라운지점', '02-566-1002'],\n",
              " ['경기 수원시', '수원영통점', '031-202-3356'],\n",
              " ['경기 고양시 덕양구', '원흥역점', '031.967.0302'],\n",
              " ['서울 양천구', '오목교역점', '02-2062-8405'],\n",
              " ['대구 서구', '롯데시네마프리미엄만경관점', '070-7717-2192'],\n",
              " ['전남 순천시', '순천신대점', '061-723-5185'],\n",
              " ['서울 금천구', '시흥사거리점', '02-804-9226'],\n",
              " ['전북 전주시 완산구', '전주효천점', '063-224-5777'],\n",
              " ['제주 제주시', '제주도두해안DT점', '064-745-7301'],\n",
              " ['부산 북구', '부산화명점', '070-8884-1101']]"
            ]
          },
          "metadata": {},
          "execution_count": 17
        }
      ]
    },
    {
      "cell_type": "markdown",
      "source": [
        "### 5.테이블을 csv파일로 저장"
      ],
      "metadata": {
        "id": "DMNdHSHpPqKu"
      }
    },
    {
      "cell_type": "code",
      "source": [
        "import csv\n",
        "\n",
        "#field names\n",
        "fields = ['StoreArea', 'StoreName','StorePhone']\n",
        "\n",
        "with open('./data_crowing/hollys.csv','w', newline='') as f:\n",
        "  write = csv.writer(f)\n",
        "  write.writerow(fields)\n",
        "  write.writerow(result)"
      ],
      "metadata": {
        "id": "wHSGRZc4O-db"
      },
      "execution_count": 27,
      "outputs": []
    },
    {
      "cell_type": "code",
      "source": [
        "!pwd"
      ],
      "metadata": {
        "colab": {
          "base_uri": "https://localhost:8080/"
        },
        "id": "Nayu7qFeTBgj",
        "outputId": "62958911-dc50-4bcb-ec6d-64ac8316c9e3"
      },
      "execution_count": 20,
      "outputs": [
        {
          "output_type": "stream",
          "name": "stdout",
          "text": [
            "/content/drive/MyDrive/python_demo\n"
          ]
        }
      ]
    },
    {
      "cell_type": "code",
      "source": [
        "%cd data_crowing"
      ],
      "metadata": {
        "colab": {
          "base_uri": "https://localhost:8080/"
        },
        "id": "8-kEQ8nuTCHj",
        "outputId": "a86e0b12-6c80-440e-826c-5e803659cff8"
      },
      "execution_count": 34,
      "outputs": [
        {
          "output_type": "stream",
          "name": "stdout",
          "text": [
            "/content/drive/MyDrive/python_demo/data_crowing\n"
          ]
        }
      ]
    },
    {
      "cell_type": "code",
      "source": [
        "!ls *.csv"
      ],
      "metadata": {
        "colab": {
          "base_uri": "https://localhost:8080/"
        },
        "id": "3LzgTWIRTIja",
        "outputId": "1faa130f-9349-4199-f02d-f9f1cf86d1f0"
      },
      "execution_count": 30,
      "outputs": [
        {
          "output_type": "stream",
          "name": "stdout",
          "text": [
            "hollys.csv\n"
          ]
        }
      ]
    },
    {
      "cell_type": "code",
      "source": [
        "%cd .."
      ],
      "metadata": {
        "colab": {
          "base_uri": "https://localhost:8080/"
        },
        "id": "vR17SHx2TyCy",
        "outputId": "5e47715b-d698-42f1-98da-ad7195d3a8cd"
      },
      "execution_count": 35,
      "outputs": [
        {
          "output_type": "stream",
          "name": "stdout",
          "text": [
            "/content/drive/MyDrive/python_demo\n"
          ]
        }
      ]
    },
    {
      "cell_type": "code",
      "source": [
        "!cat hollys.csv"
      ],
      "metadata": {
        "colab": {
          "base_uri": "https://localhost:8080/"
        },
        "id": "QTMGQS4RU3ra",
        "outputId": "b0869091-2b0f-4d9b-b2d4-39d528c5ab21"
      },
      "execution_count": 32,
      "outputs": [
        {
          "output_type": "stream",
          "name": "stdout",
          "text": [
            "StoreArea,StoreName,StorePhone\r\n",
            "\"['서울 강남구', '강남우리라운지점', '02-566-1002']\",\"['경기 수원시', '수원영통점', '031-202-3356']\",\"['경기 고양시 덕양구', '원흥역점', '031.967.0302']\",\"['서울 양천구', '오목교역점', '02-2062-8405']\",\"['대구 서구', '롯데시네마프리미엄만경관점', '070-7717-2192']\",\"['전남 순천시', '순천신대점', '061-723-5185']\",\"['서울 금천구', '시흥사거리점', '02-804-9226']\",\"['전북 전주시 완산구', '전주효천점', '063-224-5777']\",\"['제주 제주시', '제주도두해안DT점', '064-745-7301']\",\"['부산 북구', '부산화명점', '070-8884-1101']\"\r\n"
          ]
        }
      ]
    },
    {
      "cell_type": "markdown",
      "source": [
        "### 6.기타 : 저장할 때 날짜 지정"
      ],
      "metadata": {
        "id": "EsBaQAHoVNqT"
      }
    },
    {
      "cell_type": "code",
      "source": [
        "import datetime\n",
        "now = datetime.datetime.today()\n",
        "print(now)\n",
        "print(now.utcnow())\n",
        "print(now.year, now.month, now.day, now.hour, now.minute, now.second)\n",
        "print(now.date())\n",
        "print(now.time())"
      ],
      "metadata": {
        "colab": {
          "base_uri": "https://localhost:8080/"
        },
        "id": "zm2dRmvWVT59",
        "outputId": "bc29af0f-5bbe-4b30-f667-6d39b64baa88"
      },
      "execution_count": 46,
      "outputs": [
        {
          "output_type": "stream",
          "name": "stdout",
          "text": [
            "2022-12-12 07:59:28.656778\n",
            "2022-12-12 07:59:28.658883\n",
            "2022 12 12 7 59 28\n",
            "2022-12-12\n",
            "07:59:28.656778\n"
          ]
        }
      ]
    },
    {
      "cell_type": "code",
      "source": [
        "import time\n",
        "time.strftime('%y-%m-%d', time.localtime(time.time()))"
      ],
      "metadata": {
        "colab": {
          "base_uri": "https://localhost:8080/",
          "height": 35
        },
        "id": "W0QwEhwIVXUp",
        "outputId": "f638bcb7-75f8-45ca-95f6-adbb8606a0c8"
      },
      "execution_count": 47,
      "outputs": [
        {
          "output_type": "execute_result",
          "data": {
            "text/plain": [
              "'22-12-12'"
            ],
            "application/vnd.google.colaboratory.intrinsic+json": {
              "type": "string"
            }
          },
          "metadata": {},
          "execution_count": 47
        }
      ]
    },
    {
      "cell_type": "markdown",
      "source": [
        "### 파이썬 파일 작성하여 크롤링 작업하기 "
      ],
      "metadata": {
        "id": "OHYuSfuIWj7Z"
      }
    },
    {
      "cell_type": "code",
      "source": [
        "from bs4 import BeautifulSoup\n",
        "import requests\n",
        "\n",
        "import csv\n",
        "import datetime\n",
        "\n",
        "def hollys_store():\n",
        "  result = []\n",
        "  header = {\"User-Agent\" : \"Mozilla/5.0 (Windows NT 10.0; Win64; x64) AppleWebKit/537.36 (KHTML, like Gecko) Chrome/108.0.0.0 Safari/537.36\"}\n",
        "  url =\"https://www.hollys.co.kr/store/korea/korStore2.do\"\n",
        "\n",
        "  res = requests.get(url, headers = header)\n",
        "  soup = BeautifulSoup(res.text, 'html.parser')\n",
        "  tbody_tag = soup.find('tbody')\n",
        "  tbody_tr_list_tag = tbody_tag.find_all('tr')\n",
        "  \n",
        "  for store in tbody_tr_list_tag:\n",
        "      store_td = store.find_all('td') \n",
        "      store_area = store_td[0].string\n",
        "      store_name = store_td[1].string\n",
        "      store_phone = store_td[5].string\n",
        "      result.append([store_area]+[store_name]+[store_phone])\n",
        "  return result\n",
        "\n",
        "\n",
        "def main( ):\n",
        "    result = hollys_store()\n",
        "\n",
        "    to_now = datetime.datetime.today().date()\n",
        "\n",
        "    fields = ['StoreArea', 'StoreName','StorePhone']\n",
        "\n",
        "    with open('./data_crowing/%s-hollys.csv' % to_now,'w', newline='') as f:\n",
        "      write = csv.writer(f)\n",
        "      write.writerow(fields)\n",
        "      write.writerows(result)\n",
        "\n",
        "    print('hollys 데이터 저장완료')\n",
        "    del result[:]\n",
        "\n",
        "if __name__ == '__main__':\n",
        "    main()"
      ],
      "metadata": {
        "colab": {
          "base_uri": "https://localhost:8080/"
        },
        "id": "KTfQSoAQWSXq",
        "outputId": "7c1cfaf9-bc68-4b85-f7e8-b26ee560ef7a"
      },
      "execution_count": 81,
      "outputs": [
        {
          "output_type": "stream",
          "name": "stdout",
          "text": [
            "hollys 데이터 저장완료\n"
          ]
        }
      ]
    },
    {
      "cell_type": "code",
      "source": [
        "%cd data_crowing"
      ],
      "metadata": {
        "colab": {
          "base_uri": "https://localhost:8080/"
        },
        "id": "-PPitfgDZptQ",
        "outputId": "e823afbe-b7dd-461e-841e-74fc67db1ac3"
      },
      "execution_count": 52,
      "outputs": [
        {
          "output_type": "stream",
          "name": "stdout",
          "text": [
            "/content/drive/MyDrive/python_demo/data_crowing\n"
          ]
        }
      ]
    },
    {
      "cell_type": "code",
      "source": [
        "!cat 2022-12-12-hollys.csv"
      ],
      "metadata": {
        "colab": {
          "base_uri": "https://localhost:8080/"
        },
        "id": "29-Y4dytaEUT",
        "outputId": "0e717b57-1aee-4314-cae8-1cb121c82f5f"
      },
      "execution_count": 73,
      "outputs": [
        {
          "output_type": "stream",
          "name": "stdout",
          "text": [
            "cat: 2022-12-12-hollys.csv: No such file or directory\n"
          ]
        }
      ]
    },
    {
      "cell_type": "code",
      "source": [
        "%cd .."
      ],
      "metadata": {
        "colab": {
          "base_uri": "https://localhost:8080/"
        },
        "id": "brLiJWrkaJXI",
        "outputId": "fd510552-ce73-4184-b5b4-c541883043d4"
      },
      "execution_count": 54,
      "outputs": [
        {
          "output_type": "stream",
          "name": "stdout",
          "text": [
            "/content/drive/MyDrive/python_demo\n"
          ]
        }
      ]
    },
    {
      "cell_type": "code",
      "source": [
        "to_now = datetime.datetime.today().date()\n",
        "with open('./data_crowing/%s-hollys.csv' % to_now, 'r') as f:\n",
        "  reader = csv.reader(f)\n",
        "  for element in f:\n",
        "    td_list = element.split(',')\n",
        "    print(td_list[0], td_list[1], td_list[2])\n",
        "    #print(row[0],row[1],row[2])"
      ],
      "metadata": {
        "colab": {
          "base_uri": "https://localhost:8080/"
        },
        "id": "qxGUXFnGaLCJ",
        "outputId": "4136fe6d-52c1-4087-b98a-c433bc76c65b"
      },
      "execution_count": 83,
      "outputs": [
        {
          "output_type": "stream",
          "name": "stdout",
          "text": [
            "StoreArea StoreName StorePhone\n",
            "\n",
            "서울 강남구 강남우리라운지점 02-566-1002\n",
            "\n",
            "경기 수원시 수원영통점 031-202-3356\n",
            "\n",
            "경기 고양시 덕양구 원흥역점 031.967.0302\n",
            "\n",
            "서울 양천구 오목교역점 02-2062-8405\n",
            "\n",
            "대구 서구 롯데시네마프리미엄만경관점 070-7717-2192\n",
            "\n",
            "전남 순천시 순천신대점 061-723-5185\n",
            "\n",
            "서울 금천구 시흥사거리점 02-804-9226\n",
            "\n",
            "전북 전주시 완산구 전주효천점 063-224-5777\n",
            "\n",
            "제주 제주시 제주도두해안DT점 064-745-7301\n",
            "\n",
            "부산 북구 부산화명점 070-8884-1101\n",
            "\n"
          ]
        }
      ]
    },
    {
      "cell_type": "code",
      "source": [],
      "metadata": {
        "id": "RJArv6BmcQOI"
      },
      "execution_count": null,
      "outputs": []
    }
  ]
}