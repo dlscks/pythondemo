{
  "nbformat": 4,
  "nbformat_minor": 0,
  "metadata": {
    "colab": {
      "provenance": [],
      "collapsed_sections": [
        "oHpHD9C_pRGu",
        "vVpLxHDLs5ta",
        "Dc_tkBb7uinK",
        "V3CpRFut1g0-",
        "t8iQ8AZ84mfv",
        "xJf20gvV5UFI",
        "uXXELAzP6LdH",
        "mxBMfUFY6x94",
        "yDE0GBE28Dv8",
        "Xol7hlD1Iw9T",
        "BGiurk_FUL_2",
        "c2ceHOJLWhS-",
        "9zo4kKzMYL92",
        "mls47RDydVhw",
        "KhHdSGr5hDYK",
        "rr0cR59XjDnc",
        "nE7qsUtxjqXk",
        "o-Vun-8Dj_Zk"
      ],
      "authorship_tag": "ABX9TyNp5paJxiDWaxs3+QDwVFPF",
      "include_colab_link": true
    },
    "kernelspec": {
      "name": "python3",
      "display_name": "Python 3"
    },
    "language_info": {
      "name": "python"
    }
  },
  "cells": [
    {
      "cell_type": "markdown",
      "metadata": {
        "id": "view-in-github",
        "colab_type": "text"
      },
      "source": [
        "<a href=\"https://colab.research.google.com/github/dlscks/pythondemo/blob/main/python_04_function.ipynb\" target=\"_parent\"><img src=\"https://colab.research.google.com/assets/colab-badge.svg\" alt=\"Open In Colab\"/></a>"
      ]
    },
    {
      "cell_type": "markdown",
      "source": [
        "### function\n",
        "\n",
        "def proc():   \n",
        "   pass  # pass는 구현을 안할 떄 사용한다.   \n",
        "         #아무것도 안쓰면 에러가 발생한다."
      ],
      "metadata": {
        "id": "wFC63N7BlC80"
      }
    },
    {
      "cell_type": "code",
      "execution_count": null,
      "metadata": {
        "id": "EEh4B6XIk6W0"
      },
      "outputs": [],
      "source": [
        "def display():\n",
        "  pass"
      ]
    },
    {
      "cell_type": "code",
      "source": [
        "display()"
      ],
      "metadata": {
        "id": "ofnOTTeqlqi9"
      },
      "execution_count": null,
      "outputs": []
    },
    {
      "cell_type": "code",
      "source": [
        "print(display())"
      ],
      "metadata": {
        "colab": {
          "base_uri": "https://localhost:8080/"
        },
        "id": "gXzZ-sxrlrob",
        "outputId": "de20c938-00be-4960-db09-315e66d18be9"
      },
      "execution_count": null,
      "outputs": [
        {
          "output_type": "stream",
          "name": "stdout",
          "text": [
            "None\n"
          ]
        }
      ]
    },
    {
      "cell_type": "markdown",
      "source": [
        "### callable\n",
        "- 이름 뒤에 괄호()를 붙이는 것을 call(호출)이라고 한다.\n",
        "- 이름 뒤에 괄호()를 붙일 수 있는 것을 callable이라고 한다.\n",
        "- 함수는 사용할 때 이름 뒤에 괄호를 불인다.\n",
        "- python에서 callable인 것이 3가지 유형이 있다.   \n",
        "  (1) function   \n",
        "  (2) class(init가 정의 되었을 경우)   \n",
        "  (3) object(call가 정의되었을 경우)\n",
        "  "
      ],
      "metadata": {
        "id": "DE_42dnMl4fM"
      }
    },
    {
      "cell_type": "code",
      "source": [
        "a = 3\n",
        "a()"
      ],
      "metadata": {
        "colab": {
          "base_uri": "https://localhost:8080/",
          "height": 184
        },
        "id": "329HGzP_lw-8",
        "outputId": "53622765-c41e-4042-99a7-119781c2a97d"
      },
      "execution_count": null,
      "outputs": [
        {
          "output_type": "error",
          "ename": "TypeError",
          "evalue": "ignored",
          "traceback": [
            "\u001b[0;31m---------------------------------------------------------------------------\u001b[0m",
            "\u001b[0;31mTypeError\u001b[0m                                 Traceback (most recent call last)",
            "\u001b[0;32m<ipython-input-5-0bf2a3b2549b>\u001b[0m in \u001b[0;36m<module>\u001b[0;34m\u001b[0m\n\u001b[1;32m      1\u001b[0m \u001b[0ma\u001b[0m \u001b[0;34m=\u001b[0m \u001b[0;36m3\u001b[0m\u001b[0;34m\u001b[0m\u001b[0;34m\u001b[0m\u001b[0m\n\u001b[0;32m----> 2\u001b[0;31m \u001b[0ma\u001b[0m\u001b[0;34m(\u001b[0m\u001b[0;34m)\u001b[0m\u001b[0;34m\u001b[0m\u001b[0;34m\u001b[0m\u001b[0m\n\u001b[0m",
            "\u001b[0;31mTypeError\u001b[0m: 'int' object is not callable"
          ]
        }
      ]
    },
    {
      "cell_type": "code",
      "source": [
        "list()"
      ],
      "metadata": {
        "colab": {
          "base_uri": "https://localhost:8080/"
        },
        "id": "TXrNOyANmltd",
        "outputId": "22b07e0b-7b1e-4389-a51b-a389e4579f3c"
      },
      "execution_count": null,
      "outputs": [
        {
          "output_type": "execute_result",
          "data": {
            "text/plain": [
              "[]"
            ]
          },
          "metadata": {},
          "execution_count": 6
        }
      ]
    },
    {
      "cell_type": "code",
      "source": [
        "list = 3\n",
        "list()"
      ],
      "metadata": {
        "colab": {
          "base_uri": "https://localhost:8080/",
          "height": 184
        },
        "id": "RGNmFfRtm2U0",
        "outputId": "c306a1bb-f0a9-4ce8-c9cc-1319e5531e2d"
      },
      "execution_count": null,
      "outputs": [
        {
          "output_type": "error",
          "ename": "TypeError",
          "evalue": "ignored",
          "traceback": [
            "\u001b[0;31m---------------------------------------------------------------------------\u001b[0m",
            "\u001b[0;31mTypeError\u001b[0m                                 Traceback (most recent call last)",
            "\u001b[0;32m<ipython-input-7-333a1a86953d>\u001b[0m in \u001b[0;36m<module>\u001b[0;34m\u001b[0m\n\u001b[1;32m      1\u001b[0m \u001b[0mlist\u001b[0m \u001b[0;34m=\u001b[0m \u001b[0;36m3\u001b[0m\u001b[0;34m\u001b[0m\u001b[0;34m\u001b[0m\u001b[0m\n\u001b[0;32m----> 2\u001b[0;31m \u001b[0mlist\u001b[0m\u001b[0;34m(\u001b[0m\u001b[0;34m)\u001b[0m\u001b[0;34m\u001b[0m\u001b[0;34m\u001b[0m\u001b[0m\n\u001b[0m",
            "\u001b[0;31mTypeError\u001b[0m: 'int' object is not callable"
          ]
        }
      ]
    },
    {
      "cell_type": "code",
      "source": [
        "import keyword\n",
        "keyword.kwlist"
      ],
      "metadata": {
        "colab": {
          "base_uri": "https://localhost:8080/"
        },
        "id": "bNSp3wIhm5vs",
        "outputId": "fdd1a50d-f0cf-4e43-c4cb-05a621331acb"
      },
      "execution_count": null,
      "outputs": [
        {
          "output_type": "execute_result",
          "data": {
            "text/plain": [
              "['False',\n",
              " 'None',\n",
              " 'True',\n",
              " 'and',\n",
              " 'as',\n",
              " 'assert',\n",
              " 'async',\n",
              " 'await',\n",
              " 'break',\n",
              " 'class',\n",
              " 'continue',\n",
              " 'def',\n",
              " 'del',\n",
              " 'elif',\n",
              " 'else',\n",
              " 'except',\n",
              " 'finally',\n",
              " 'for',\n",
              " 'from',\n",
              " 'global',\n",
              " 'if',\n",
              " 'import',\n",
              " 'in',\n",
              " 'is',\n",
              " 'lambda',\n",
              " 'nonlocal',\n",
              " 'not',\n",
              " 'or',\n",
              " 'pass',\n",
              " 'raise',\n",
              " 'return',\n",
              " 'try',\n",
              " 'while',\n",
              " 'with',\n",
              " 'yield']"
            ]
          },
          "metadata": {},
          "execution_count": 8
        }
      ]
    },
    {
      "cell_type": "code",
      "source": [
        "try = 3\n",
        "print(try)"
      ],
      "metadata": {
        "colab": {
          "base_uri": "https://localhost:8080/",
          "height": 131
        },
        "id": "RH1Bo2YynJac",
        "outputId": "98192b17-e65f-4b1c-90a5-467eaaa15109"
      },
      "execution_count": null,
      "outputs": [
        {
          "output_type": "error",
          "ename": "SyntaxError",
          "evalue": "ignored",
          "traceback": [
            "\u001b[0;36m  File \u001b[0;32m\"<ipython-input-9-ae0a7547b253>\"\u001b[0;36m, line \u001b[0;32m1\u001b[0m\n\u001b[0;31m    try = 3\u001b[0m\n\u001b[0m        ^\u001b[0m\n\u001b[0;31mSyntaxError\u001b[0m\u001b[0;31m:\u001b[0m invalid syntax\n"
          ]
        }
      ]
    },
    {
      "cell_type": "code",
      "source": [
        "list = 3\n",
        "del list\n",
        "list()"
      ],
      "metadata": {
        "colab": {
          "base_uri": "https://localhost:8080/"
        },
        "id": "o34fxX8EnQyU",
        "outputId": "591a601a-dbed-4471-b2b7-5cecda082c66"
      },
      "execution_count": null,
      "outputs": [
        {
          "output_type": "execute_result",
          "data": {
            "text/plain": [
              "[]"
            ]
          },
          "metadata": {},
          "execution_count": 10
        }
      ]
    },
    {
      "cell_type": "code",
      "source": [
        "def prn():\n",
        "  return 1"
      ],
      "metadata": {
        "id": "WQhWYLKUnzoF"
      },
      "execution_count": null,
      "outputs": []
    },
    {
      "cell_type": "code",
      "source": [
        "# 실행\n",
        "prn()"
      ],
      "metadata": {
        "colab": {
          "base_uri": "https://localhost:8080/"
        },
        "id": "jq4qNxnwoIH1",
        "outputId": "89110d6a-4ba9-4e88-bac2-6882d1929730"
      },
      "execution_count": null,
      "outputs": [
        {
          "output_type": "execute_result",
          "data": {
            "text/plain": [
              "1"
            ]
          },
          "metadata": {},
          "execution_count": 12
        }
      ]
    },
    {
      "cell_type": "code",
      "source": [
        "# 괄호를 붙이지 않으면 함수식이다.\n",
        "prn"
      ],
      "metadata": {
        "colab": {
          "base_uri": "https://localhost:8080/"
        },
        "id": "3PILQJOWoIwl",
        "outputId": "9f1e704e-f12d-4267-9eb1-b363e8aa87e2"
      },
      "execution_count": null,
      "outputs": [
        {
          "output_type": "execute_result",
          "data": {
            "text/plain": [
              "<function __main__.prn()>"
            ]
          },
          "metadata": {},
          "execution_count": 13
        }
      ]
    },
    {
      "cell_type": "code",
      "source": [
        "# 내장함수 callable은 객체가()을 붙여 사용할 수 있는지를 True/False로 알려준다.\n",
        "callable(prn)"
      ],
      "metadata": {
        "colab": {
          "base_uri": "https://localhost:8080/"
        },
        "id": "5lOE9kIgoaEd",
        "outputId": "d333f253-d3d8-4a4f-a8eb-5d801660b23f"
      },
      "execution_count": null,
      "outputs": [
        {
          "output_type": "execute_result",
          "data": {
            "text/plain": [
              "True"
            ]
          },
          "metadata": {},
          "execution_count": 14
        }
      ]
    },
    {
      "cell_type": "code",
      "source": [
        "a =3\n",
        "callable(a)"
      ],
      "metadata": {
        "colab": {
          "base_uri": "https://localhost:8080/"
        },
        "id": "PqQJYb31ov9-",
        "outputId": "c5ac63ae-cf53-434d-8814-6701aa756ea9"
      },
      "execution_count": null,
      "outputs": [
        {
          "output_type": "execute_result",
          "data": {
            "text/plain": [
              "False"
            ]
          },
          "metadata": {},
          "execution_count": 15
        }
      ]
    },
    {
      "cell_type": "markdown",
      "source": [
        "### 매개변수(parameter) 인자(argument)\n",
        "\n",
        "1. positional\n",
        "2. keyword\n",
        "3. position & keyword\n",
        "4. position only\n",
        "5. keyword only\n",
        "6. 가변 positional\n",
        "7. 가변 keyword"
      ],
      "metadata": {
        "id": "oHpHD9C_pRGu"
      }
    },
    {
      "cell_type": "markdown",
      "source": [
        "1. positional\n",
        "  - 함수 호출 : 선언할 때 파라미터의 순서와 호출할 때 인자의 입력순서를 그대로 매칭한다."
      ],
      "metadata": {
        "id": "qUWgbNjkp56g"
      }
    },
    {
      "cell_type": "code",
      "source": [
        "def proc(a,b):\n",
        "  return a,b"
      ],
      "metadata": {
        "id": "dFZfA8bBo72u"
      },
      "execution_count": null,
      "outputs": []
    },
    {
      "cell_type": "code",
      "source": [
        "proc(2,4)"
      ],
      "metadata": {
        "colab": {
          "base_uri": "https://localhost:8080/"
        },
        "id": "1joVJBEXqMFe",
        "outputId": "e6200b6c-9e33-43dd-958d-e4b78b623792"
      },
      "execution_count": null,
      "outputs": [
        {
          "output_type": "execute_result",
          "data": {
            "text/plain": [
              "(2, 4)"
            ]
          },
          "metadata": {},
          "execution_count": 17
        }
      ]
    },
    {
      "cell_type": "markdown",
      "source": [
        "2. keyword\n",
        " - keyword 방식을 이용하면 순서와 관계없이 파라미터 이름에 따라 값이 대입된다."
      ],
      "metadata": {
        "id": "OSVnhZJHqSxm"
      }
    },
    {
      "cell_type": "code",
      "source": [
        "proc(b=4, a=2)"
      ],
      "metadata": {
        "colab": {
          "base_uri": "https://localhost:8080/"
        },
        "id": "ON_Q1rg1qNle",
        "outputId": "e2727dfe-3e4b-4b37-f475-b35573d1f6aa"
      },
      "execution_count": null,
      "outputs": [
        {
          "output_type": "execute_result",
          "data": {
            "text/plain": [
              "(2, 4)"
            ]
          },
          "metadata": {},
          "execution_count": 18
        }
      ]
    },
    {
      "cell_type": "markdown",
      "source": [
        "3. positional & keyword 혼합"
      ],
      "metadata": {
        "id": "P0QZI_IDqt-u"
      }
    },
    {
      "cell_type": "code",
      "source": [
        "def proc(a, b, c):\n",
        "  return a,b,c"
      ],
      "metadata": {
        "id": "MUcT3AqPqiCW"
      },
      "execution_count": null,
      "outputs": []
    },
    {
      "cell_type": "code",
      "source": [
        "proc(2, c=5, b=3)"
      ],
      "metadata": {
        "colab": {
          "base_uri": "https://localhost:8080/"
        },
        "id": "qD9MBnE6q_Pu",
        "outputId": "277b8217-d20c-4fff-fc4d-3a2d3adaa45b"
      },
      "execution_count": null,
      "outputs": [
        {
          "output_type": "execute_result",
          "data": {
            "text/plain": [
              "(2, 3, 5)"
            ]
          },
          "metadata": {},
          "execution_count": 20
        }
      ]
    },
    {
      "cell_type": "code",
      "source": [
        "# 한번 keyword 방식을 사용하면, 그 다음부터는 keyword 방법만 사용할 수 있다.\n",
        "proc(b=5, a=4, 8)"
      ],
      "metadata": {
        "colab": {
          "base_uri": "https://localhost:8080/",
          "height": 131
        },
        "id": "Q_wcqKQvrB0-",
        "outputId": "18caa435-06b3-46c2-ef0f-2a8c0ea9e4bb"
      },
      "execution_count": null,
      "outputs": [
        {
          "output_type": "error",
          "ename": "SyntaxError",
          "evalue": "ignored",
          "traceback": [
            "\u001b[0;36m  File \u001b[0;32m\"<ipython-input-21-f151bb04997b>\"\u001b[0;36m, line \u001b[0;32m2\u001b[0m\n\u001b[0;31m    proc(b=5, a=4, 8)\u001b[0m\n\u001b[0m                   ^\u001b[0m\n\u001b[0;31mSyntaxError\u001b[0m\u001b[0;31m:\u001b[0m positional argument follows keyword argument\n"
          ]
        }
      ]
    },
    {
      "cell_type": "code",
      "source": [
        "# python 버전확인\n",
        "import sys\n",
        "sys.version"
      ],
      "metadata": {
        "colab": {
          "base_uri": "https://localhost:8080/",
          "height": 35
        },
        "id": "yWjJ9WtCrc-_",
        "outputId": "af237103-0bdc-4796-e992-fbe0f6612f3b"
      },
      "execution_count": null,
      "outputs": [
        {
          "output_type": "execute_result",
          "data": {
            "text/plain": [
              "'3.8.15 (default, Oct 12 2022, 19:14:39) \\n[GCC 7.5.0]'"
            ],
            "application/vnd.google.colaboratory.intrinsic+json": {
              "type": "string"
            }
          },
          "metadata": {},
          "execution_count": 22
        }
      ]
    },
    {
      "cell_type": "markdown",
      "source": [
        "4. position only\n",
        " - position only는 함수를 사용할 때 position방식으로만 인자를 쓸 수 있도록 강제하는 방법이다.\n",
        " - /의 앞에 오는 인자들은 position방식으로 입력할 수있지만, keyword 방식으로 입력할 수 없다.\n",
        " -position only 함수를 선언하는 것은 python 3.8부터 지원한다. 이전버전에서는 사전 정의된 position only함수는 있지만, 사용자가 만들 수는 없었다."
      ],
      "metadata": {
        "id": "etNHXYFBrtb3"
      }
    },
    {
      "cell_type": "code",
      "source": [
        "def proc(a, b, c, /):\n",
        "  return a, b, c"
      ],
      "metadata": {
        "id": "lUF0Oggwrmjn"
      },
      "execution_count": null,
      "outputs": []
    },
    {
      "cell_type": "code",
      "source": [
        "proc(4,5,6)"
      ],
      "metadata": {
        "colab": {
          "base_uri": "https://localhost:8080/"
        },
        "id": "Ye3C6LHBsZFP",
        "outputId": "9031cfa3-cc44-4b35-b1fa-0490d3d8d48e"
      },
      "execution_count": null,
      "outputs": [
        {
          "output_type": "execute_result",
          "data": {
            "text/plain": [
              "(4, 5, 6)"
            ]
          },
          "metadata": {},
          "execution_count": 24
        }
      ]
    },
    {
      "cell_type": "code",
      "source": [
        "proc(4, c=6, b=5)"
      ],
      "metadata": {
        "colab": {
          "base_uri": "https://localhost:8080/",
          "height": 166
        },
        "id": "qJNsS78SsaT3",
        "outputId": "c88c8fbc-1f56-4b70-de41-d068fdb7fa70"
      },
      "execution_count": null,
      "outputs": [
        {
          "output_type": "error",
          "ename": "TypeError",
          "evalue": "ignored",
          "traceback": [
            "\u001b[0;31m---------------------------------------------------------------------------\u001b[0m",
            "\u001b[0;31mTypeError\u001b[0m                                 Traceback (most recent call last)",
            "\u001b[0;32m<ipython-input-25-38ec957656fc>\u001b[0m in \u001b[0;36m<module>\u001b[0;34m\u001b[0m\n\u001b[0;32m----> 1\u001b[0;31m \u001b[0mproc\u001b[0m\u001b[0;34m(\u001b[0m\u001b[0;36m4\u001b[0m\u001b[0;34m,\u001b[0m \u001b[0mc\u001b[0m\u001b[0;34m=\u001b[0m\u001b[0;36m6\u001b[0m\u001b[0;34m,\u001b[0m \u001b[0mb\u001b[0m\u001b[0;34m=\u001b[0m\u001b[0;36m5\u001b[0m\u001b[0;34m)\u001b[0m\u001b[0;34m\u001b[0m\u001b[0;34m\u001b[0m\u001b[0m\n\u001b[0m",
            "\u001b[0;31mTypeError\u001b[0m: proc() got some positional-only arguments passed as keyword arguments: 'b, c'"
          ]
        }
      ]
    },
    {
      "cell_type": "code",
      "source": [
        "set\n",
        "list"
      ],
      "metadata": {
        "colab": {
          "base_uri": "https://localhost:8080/"
        },
        "id": "vl2kxFuJmTBn",
        "outputId": "d06874d0-2c22-40fc-d15c-ae3f11b06269"
      },
      "execution_count": null,
      "outputs": [
        {
          "output_type": "execute_result",
          "data": {
            "text/plain": [
              "list"
            ]
          },
          "metadata": {},
          "execution_count": 6
        }
      ]
    },
    {
      "cell_type": "code",
      "source": [
        "import keyword\n",
        "keyword.kwlist"
      ],
      "metadata": {
        "colab": {
          "base_uri": "https://localhost:8080/"
        },
        "id": "oqQDFkj_m9pn",
        "outputId": "722de640-69e3-493d-8f54-70c78d2dc03e"
      },
      "execution_count": null,
      "outputs": [
        {
          "output_type": "execute_result",
          "data": {
            "text/plain": [
              "['False',\n",
              " 'None',\n",
              " 'True',\n",
              " 'and',\n",
              " 'as',\n",
              " 'assert',\n",
              " 'async',\n",
              " 'await',\n",
              " 'break',\n",
              " 'class',\n",
              " 'continue',\n",
              " 'def',\n",
              " 'del',\n",
              " 'elif',\n",
              " 'else',\n",
              " 'except',\n",
              " 'finally',\n",
              " 'for',\n",
              " 'from',\n",
              " 'global',\n",
              " 'if',\n",
              " 'import',\n",
              " 'in',\n",
              " 'is',\n",
              " 'lambda',\n",
              " 'nonlocal',\n",
              " 'not',\n",
              " 'or',\n",
              " 'pass',\n",
              " 'raise',\n",
              " 'return',\n",
              " 'try',\n",
              " 'while',\n",
              " 'with',\n",
              " 'yield']"
            ]
          },
          "metadata": {},
          "execution_count": 10
        }
      ]
    },
    {
      "cell_type": "markdown",
      "source": [
        "5. keyword only\n",
        "- keyword only 방식은 인자를 keyword방식으로만 입력하도록 강제하는 방법이다.\n",
        "- '*' 이후로는 키워드 방식만 가능하다."
      ],
      "metadata": {
        "id": "LMyBmwjgotMa"
      }
    },
    {
      "cell_type": "code",
      "source": [
        "def proc(*, a, b, c) :\n",
        "  return a, b, c"
      ],
      "metadata": {
        "id": "d8UIysaYnaOe"
      },
      "execution_count": null,
      "outputs": []
    },
    {
      "cell_type": "code",
      "source": [
        "proc(a=3, c=5, b=4)"
      ],
      "metadata": {
        "colab": {
          "base_uri": "https://localhost:8080/"
        },
        "id": "kRJOn5CEpKi5",
        "outputId": "c2a5d483-0ff1-4455-f109-00c78774bb59"
      },
      "execution_count": null,
      "outputs": [
        {
          "output_type": "execute_result",
          "data": {
            "text/plain": [
              "(3, 4, 5)"
            ]
          },
          "metadata": {},
          "execution_count": 15
        }
      ]
    },
    {
      "cell_type": "code",
      "source": [
        "# position 방식을 사용하면 TypeError 발생\n",
        "proc(3,4,5)"
      ],
      "metadata": {
        "colab": {
          "base_uri": "https://localhost:8080/",
          "height": 166
        },
        "id": "AXXuah0WpP6z",
        "outputId": "c4c2d54b-8ace-4ac6-f6cf-62e74fec2e51"
      },
      "execution_count": null,
      "outputs": [
        {
          "output_type": "error",
          "ename": "TypeError",
          "evalue": "ignored",
          "traceback": [
            "\u001b[0;31m---------------------------------------------------------------------------\u001b[0m",
            "\u001b[0;31mTypeError\u001b[0m                                 Traceback (most recent call last)",
            "\u001b[0;32m<ipython-input-16-12a0d2acce26>\u001b[0m in \u001b[0;36m<module>\u001b[0;34m\u001b[0m\n\u001b[0;32m----> 1\u001b[0;31m \u001b[0mproc\u001b[0m\u001b[0;34m(\u001b[0m\u001b[0;36m3\u001b[0m\u001b[0;34m,\u001b[0m\u001b[0;36m4\u001b[0m\u001b[0;34m,\u001b[0m\u001b[0;36m5\u001b[0m\u001b[0;34m)\u001b[0m\u001b[0;34m\u001b[0m\u001b[0;34m\u001b[0m\u001b[0m\n\u001b[0m",
            "\u001b[0;31mTypeError\u001b[0m: proc() takes 0 positional arguments but 3 were given"
          ]
        }
      ]
    },
    {
      "cell_type": "markdown",
      "source": [
        "6. 가변 positional\n",
        "- 가변 positional은 파라미터 이름에 '*'를 붙인다.\n",
        "- positional 방식으로 입력되는 인자의 갯수에 상관없이 모두 받아온다."
      ],
      "metadata": {
        "id": "xLde83t4pxJY"
      }
    },
    {
      "cell_type": "code",
      "source": [
        "def proc(*a) :\n",
        "  return a"
      ],
      "metadata": {
        "id": "RBmIYQ4mpSc_"
      },
      "execution_count": null,
      "outputs": []
    },
    {
      "cell_type": "code",
      "source": [
        "proc()"
      ],
      "metadata": {
        "colab": {
          "base_uri": "https://localhost:8080/"
        },
        "id": "2MA8Bf3rqJk4",
        "outputId": "8291f293-dab0-4fcd-8e8c-c7b8b921bd78"
      },
      "execution_count": null,
      "outputs": [
        {
          "output_type": "execute_result",
          "data": {
            "text/plain": [
              "()"
            ]
          },
          "metadata": {},
          "execution_count": 18
        }
      ]
    },
    {
      "cell_type": "code",
      "source": [
        "proc(1)"
      ],
      "metadata": {
        "colab": {
          "base_uri": "https://localhost:8080/"
        },
        "id": "xES_cGlyqKQX",
        "outputId": "ca314062-5631-47cd-b87c-7beebe6bb6a4"
      },
      "execution_count": null,
      "outputs": [
        {
          "output_type": "execute_result",
          "data": {
            "text/plain": [
              "(1,)"
            ]
          },
          "metadata": {},
          "execution_count": 19
        }
      ]
    },
    {
      "cell_type": "code",
      "source": [
        "proc(1,2)"
      ],
      "metadata": {
        "colab": {
          "base_uri": "https://localhost:8080/"
        },
        "id": "j5acQZ7sqLKA",
        "outputId": "fdac9427-5255-4bb8-ff8d-f67cbfbe56f0"
      },
      "execution_count": null,
      "outputs": [
        {
          "output_type": "execute_result",
          "data": {
            "text/plain": [
              "(1, 2)"
            ]
          },
          "metadata": {},
          "execution_count": 20
        }
      ]
    },
    {
      "cell_type": "code",
      "source": [
        "def proc2(*a):\n",
        "  print(type(a))\n",
        "  hap = 0\n",
        "  for i in a:\n",
        "    hap += i\n",
        "  return hap"
      ],
      "metadata": {
        "id": "6V47R9R_qMTw"
      },
      "execution_count": null,
      "outputs": []
    },
    {
      "cell_type": "code",
      "source": [
        "proc2(1,3,5)"
      ],
      "metadata": {
        "colab": {
          "base_uri": "https://localhost:8080/"
        },
        "id": "i3S-rEjDqlRw",
        "outputId": "93c96737-6f47-4475-f038-11b9cd214bec"
      },
      "execution_count": null,
      "outputs": [
        {
          "output_type": "stream",
          "name": "stdout",
          "text": [
            "<class 'tuple'>\n"
          ]
        },
        {
          "output_type": "execute_result",
          "data": {
            "text/plain": [
              "9"
            ]
          },
          "metadata": {},
          "execution_count": 26
        }
      ]
    },
    {
      "cell_type": "code",
      "source": [
        "proc2()"
      ],
      "metadata": {
        "colab": {
          "base_uri": "https://localhost:8080/"
        },
        "id": "0U0QMFCiqmLw",
        "outputId": "2d23aaa6-25b7-420d-a3da-72ae6c8d73b7"
      },
      "execution_count": null,
      "outputs": [
        {
          "output_type": "stream",
          "name": "stdout",
          "text": [
            "<class 'tuple'>\n"
          ]
        },
        {
          "output_type": "execute_result",
          "data": {
            "text/plain": [
              "0"
            ]
          },
          "metadata": {},
          "execution_count": 27
        }
      ]
    },
    {
      "cell_type": "markdown",
      "source": [
        "7. 가변 keyword\n",
        "- 가변 keyword는 파라미터 이름에 '**'을 붙인다.\n",
        "- keyword 방식으로 입력되는 인자의 개수에 상관없이 모두 받아온다."
      ],
      "metadata": {
        "id": "yoKqAegArRki"
      }
    },
    {
      "cell_type": "code",
      "source": [
        "def proc(**a):\n",
        "  print(type(a))\n",
        "  return a"
      ],
      "metadata": {
        "id": "5N7IPop1q40I"
      },
      "execution_count": null,
      "outputs": []
    },
    {
      "cell_type": "code",
      "source": [
        "proc()"
      ],
      "metadata": {
        "colab": {
          "base_uri": "https://localhost:8080/"
        },
        "id": "_Exr1RbprxM5",
        "outputId": "b1e26d24-92fb-4cf4-c465-bfc4e7f9d921"
      },
      "execution_count": null,
      "outputs": [
        {
          "output_type": "stream",
          "name": "stdout",
          "text": [
            "<class 'dict'>\n"
          ]
        },
        {
          "output_type": "execute_result",
          "data": {
            "text/plain": [
              "{}"
            ]
          },
          "metadata": {},
          "execution_count": 30
        }
      ]
    },
    {
      "cell_type": "code",
      "source": [
        "# 인자로 넘겨준 이름을 dict의 키로 사용한다.\n",
        "proc(x=2, y=3)"
      ],
      "metadata": {
        "colab": {
          "base_uri": "https://localhost:8080/"
        },
        "id": "-MruXLT7sCKo",
        "outputId": "4a34afce-94a7-4a24-d755-0849098e368f"
      },
      "execution_count": null,
      "outputs": [
        {
          "output_type": "stream",
          "name": "stdout",
          "text": [
            "<class 'dict'>\n"
          ]
        },
        {
          "output_type": "execute_result",
          "data": {
            "text/plain": [
              "{'x': 2, 'y': 3}"
            ]
          },
          "metadata": {},
          "execution_count": 31
        }
      ]
    },
    {
      "cell_type": "code",
      "source": [
        "proc(x=3,y=1, z=[1,2,3])"
      ],
      "metadata": {
        "colab": {
          "base_uri": "https://localhost:8080/"
        },
        "id": "n3yKyHhwsEjg",
        "outputId": "74470293-0634-437e-e09f-e1b3759ed0ea"
      },
      "execution_count": null,
      "outputs": [
        {
          "output_type": "stream",
          "name": "stdout",
          "text": [
            "<class 'dict'>\n"
          ]
        },
        {
          "output_type": "execute_result",
          "data": {
            "text/plain": [
              "{'x': 3, 'y': 1, 'z': [1, 2, 3]}"
            ]
          },
          "metadata": {},
          "execution_count": 32
        }
      ]
    },
    {
      "cell_type": "markdown",
      "source": [
        "### 가변 keyword / 가변 positional 은 한 번만 사용 할 수 있다."
      ],
      "metadata": {
        "id": "vVpLxHDLs5ta"
      }
    },
    {
      "cell_type": "code",
      "source": [
        "def proc(*a, *b):\n",
        "  return a,b"
      ],
      "metadata": {
        "colab": {
          "base_uri": "https://localhost:8080/",
          "height": 131
        },
        "id": "rPTa8D_ksVYB",
        "outputId": "5d7bf421-f7fe-419b-de7e-fdb294197b8f"
      },
      "execution_count": null,
      "outputs": [
        {
          "output_type": "error",
          "ename": "SyntaxError",
          "evalue": "ignored",
          "traceback": [
            "\u001b[0;36m  File \u001b[0;32m\"<ipython-input-33-84848a7b6fce>\"\u001b[0;36m, line \u001b[0;32m1\u001b[0m\n\u001b[0;31m    def proc(*a, *b):\u001b[0m\n\u001b[0m                 ^\u001b[0m\n\u001b[0;31mSyntaxError\u001b[0m\u001b[0;31m:\u001b[0m invalid syntax\n"
          ]
        }
      ]
    },
    {
      "cell_type": "code",
      "source": [
        "def proc(**a, **b):\n",
        "  return a,b"
      ],
      "metadata": {
        "colab": {
          "base_uri": "https://localhost:8080/",
          "height": 131
        },
        "id": "Uwb1NPFstIRi",
        "outputId": "0fe481bc-c7ce-4d35-bedb-f10d52b1406d"
      },
      "execution_count": null,
      "outputs": [
        {
          "output_type": "error",
          "ename": "SyntaxError",
          "evalue": "ignored",
          "traceback": [
            "\u001b[0;36m  File \u001b[0;32m\"<ipython-input-34-4a8845574f25>\"\u001b[0;36m, line \u001b[0;32m1\u001b[0m\n\u001b[0;31m    def proc(**a, **b):\u001b[0m\n\u001b[0m                  ^\u001b[0m\n\u001b[0;31mSyntaxError\u001b[0m\u001b[0;31m:\u001b[0m invalid syntax\n"
          ]
        }
      ]
    },
    {
      "cell_type": "markdown",
      "source": [
        "### return\n",
        "1. 함수의 결과값을 넘겨주는 목적으로 사용한다.\n",
        "2. 함수를 강제적으로 종료할 때 사용한다.\n",
        "3. 함수에서 return을 2번 이상 사용할 수 없다.\n",
        "4. 함수의 결과를 2개 이상으로 받고 싶다면 unpacking해서 받는다.\n"
      ],
      "metadata": {
        "id": "Dc_tkBb7uinK"
      }
    },
    {
      "cell_type": "code",
      "source": [
        "def proc(*a):\n",
        "  total = 0\n",
        "  avg = 0\n",
        "  for i in a:\n",
        "    total += i\n",
        "\n",
        "  avg = total/len(a)\n",
        "  return (total,avg)"
      ],
      "metadata": {
        "id": "5a-AQhi-tQa5"
      },
      "execution_count": null,
      "outputs": []
    },
    {
      "cell_type": "code",
      "source": [
        "# 함수의 결과를 2개로 받고 싶을 때 unpacking을 사용하면 된다.\n",
        "total, avg = proc(1,2,3,4)\n",
        "print(total)\n",
        "print(avg)"
      ],
      "metadata": {
        "colab": {
          "base_uri": "https://localhost:8080/"
        },
        "id": "xvnDG7XgybL9",
        "outputId": "b0f10432-f5d6-4bde-c83b-8a006a7cbf3e"
      },
      "execution_count": null,
      "outputs": [
        {
          "output_type": "stream",
          "name": "stdout",
          "text": [
            "10\n",
            "2.5\n"
          ]
        }
      ]
    },
    {
      "cell_type": "code",
      "source": [
        "def proc(**a):\n",
        "  total = 0\n",
        "  avg = 0\n",
        "\n",
        " # for key in a:\n",
        " #   total += a[key]\n",
        "\n",
        "  for _, value in a.items():\n",
        "       total += value\n",
        "\n",
        "  avg = total / len(a)\n",
        "  return (total, avg)"
      ],
      "metadata": {
        "id": "rdt-JOb4ymlM"
      },
      "execution_count": null,
      "outputs": []
    },
    {
      "cell_type": "code",
      "source": [
        "total, avg =proc(a=5, b=6, c=7, d=8)\n",
        "print(total)\n",
        "print(avg)"
      ],
      "metadata": {
        "colab": {
          "base_uri": "https://localhost:8080/"
        },
        "id": "IQLbHQVzzeyt",
        "outputId": "68822fb9-c83a-4a95-b8b8-da9504cbbef1"
      },
      "execution_count": null,
      "outputs": [
        {
          "output_type": "stream",
          "name": "stdout",
          "text": [
            "26\n",
            "6.5\n"
          ]
        }
      ]
    },
    {
      "cell_type": "markdown",
      "source": [
        "### overloading\n",
        "- 함수의 이름은 같은데, 매개변수 개수 또는 매개변수의 타입이 달라야 한다.\n",
        "- python은 overload을 지원하지 않는다."
      ],
      "metadata": {
        "id": "V3CpRFut1g0-"
      }
    },
    {
      "cell_type": "code",
      "source": [
        "def add(a):\n",
        "  return a + 1"
      ],
      "metadata": {
        "id": "aQJFnqklzkdV"
      },
      "execution_count": null,
      "outputs": []
    },
    {
      "cell_type": "code",
      "source": [
        "add(6)"
      ],
      "metadata": {
        "colab": {
          "base_uri": "https://localhost:8080/"
        },
        "id": "ySe_96dM2Fm1",
        "outputId": "5bab74e9-260a-40c3-e56b-b1bce0e95b6f"
      },
      "execution_count": null,
      "outputs": [
        {
          "output_type": "execute_result",
          "data": {
            "text/plain": [
              "7"
            ]
          },
          "metadata": {},
          "execution_count": 52
        }
      ]
    },
    {
      "cell_type": "code",
      "source": [
        "def add(a,b):\n",
        "  return a+b"
      ],
      "metadata": {
        "id": "RybSc3vD2G2l"
      },
      "execution_count": null,
      "outputs": []
    },
    {
      "cell_type": "code",
      "source": [
        "def add(a) :\n",
        "  return a + 1\n",
        "\n",
        "\n",
        "def add(a, b):\n",
        "  return a+b\n",
        "\n",
        "add(3)\n",
        "add(5,6)"
      ],
      "metadata": {
        "colab": {
          "base_uri": "https://localhost:8080/",
          "height": 218
        },
        "id": "TYtt-eD-2Jpu",
        "outputId": "e45a3af2-aa9c-427a-ff1f-1c993fe4b8c2"
      },
      "execution_count": null,
      "outputs": [
        {
          "output_type": "error",
          "ename": "TypeError",
          "evalue": "ignored",
          "traceback": [
            "\u001b[0;31m---------------------------------------------------------------------------\u001b[0m",
            "\u001b[0;31mTypeError\u001b[0m                                 Traceback (most recent call last)",
            "\u001b[0;32m<ipython-input-59-2cd10ef1986a>\u001b[0m in \u001b[0;36m<module>\u001b[0;34m\u001b[0m\n\u001b[1;32m      6\u001b[0m   \u001b[0;32mreturn\u001b[0m \u001b[0ma\u001b[0m\u001b[0;34m+\u001b[0m\u001b[0mb\u001b[0m\u001b[0;34m\u001b[0m\u001b[0;34m\u001b[0m\u001b[0m\n\u001b[1;32m      7\u001b[0m \u001b[0;34m\u001b[0m\u001b[0m\n\u001b[0;32m----> 8\u001b[0;31m \u001b[0madd\u001b[0m\u001b[0;34m(\u001b[0m\u001b[0;36m3\u001b[0m\u001b[0;34m)\u001b[0m\u001b[0;34m\u001b[0m\u001b[0;34m\u001b[0m\u001b[0m\n\u001b[0m\u001b[1;32m      9\u001b[0m \u001b[0madd\u001b[0m\u001b[0;34m(\u001b[0m\u001b[0;36m5\u001b[0m\u001b[0;34m,\u001b[0m\u001b[0;36m6\u001b[0m\u001b[0;34m)\u001b[0m\u001b[0;34m\u001b[0m\u001b[0;34m\u001b[0m\u001b[0m\n",
            "\u001b[0;31mTypeError\u001b[0m: add() missing 1 required positional argument: 'b'"
          ]
        }
      ]
    },
    {
      "cell_type": "code",
      "source": [
        "def proc(a, b):\n",
        "  return a + b"
      ],
      "metadata": {
        "id": "8ODnHIIR2Lfu"
      },
      "execution_count": null,
      "outputs": []
    },
    {
      "cell_type": "code",
      "source": [
        "type(proc)"
      ],
      "metadata": {
        "colab": {
          "base_uri": "https://localhost:8080/"
        },
        "id": "EeBpa8nZ29qt",
        "outputId": "5f530b13-44c7-41c6-dff4-b50224d260b7"
      },
      "execution_count": null,
      "outputs": [
        {
          "output_type": "execute_result",
          "data": {
            "text/plain": [
              "function"
            ]
          },
          "metadata": {},
          "execution_count": 61
        }
      ]
    },
    {
      "cell_type": "code",
      "source": [
        "type(proc.__name__)"
      ],
      "metadata": {
        "colab": {
          "base_uri": "https://localhost:8080/"
        },
        "id": "p1yL57W02_ZW",
        "outputId": "624e79db-11c9-43a4-9502-7bfc350f8708"
      },
      "execution_count": null,
      "outputs": [
        {
          "output_type": "execute_result",
          "data": {
            "text/plain": [
              "str"
            ]
          },
          "metadata": {},
          "execution_count": 62
        }
      ]
    },
    {
      "cell_type": "code",
      "source": [
        "#__name__ 은 함수이름을 알려준다.\n",
        "proc.__name__"
      ],
      "metadata": {
        "colab": {
          "base_uri": "https://localhost:8080/",
          "height": 35
        },
        "id": "eLNH5-KI3c5G",
        "outputId": "78da2e5a-cc15-4944-b8a9-1198fe2cc802"
      },
      "execution_count": null,
      "outputs": [
        {
          "output_type": "execute_result",
          "data": {
            "text/plain": [
              "'proc'"
            ],
            "application/vnd.google.colaboratory.intrinsic+json": {
              "type": "string"
            }
          },
          "metadata": {},
          "execution_count": 63
        }
      ]
    },
    {
      "cell_type": "code",
      "source": [
        "display = proc;"
      ],
      "metadata": {
        "id": "pXjzT9Fk3i_n"
      },
      "execution_count": null,
      "outputs": []
    },
    {
      "cell_type": "code",
      "source": [
        "# 함수를 다른 함수에 재할당해도 __name__은 원래이름을 알려준다.\n",
        "display.__name__"
      ],
      "metadata": {
        "colab": {
          "base_uri": "https://localhost:8080/",
          "height": 35
        },
        "id": "dHCJOIn63zJI",
        "outputId": "38aff76d-b9e9-417c-c5aa-04036d938445"
      },
      "execution_count": null,
      "outputs": [
        {
          "output_type": "execute_result",
          "data": {
            "text/plain": [
              "'proc'"
            ],
            "application/vnd.google.colaboratory.intrinsic+json": {
              "type": "string"
            }
          },
          "metadata": {},
          "execution_count": 68
        }
      ]
    },
    {
      "cell_type": "code",
      "source": [
        "display"
      ],
      "metadata": {
        "colab": {
          "base_uri": "https://localhost:8080/"
        },
        "id": "sRZeZDU036nG",
        "outputId": "73ed1d18-91d9-4fa2-b210-08f02ac7c16d"
      },
      "execution_count": null,
      "outputs": [
        {
          "output_type": "execute_result",
          "data": {
            "text/plain": [
              "<function __main__.proc(a, b)>"
            ]
          },
          "metadata": {},
          "execution_count": 69
        }
      ]
    },
    {
      "cell_type": "code",
      "source": [
        "display(3,4)"
      ],
      "metadata": {
        "colab": {
          "base_uri": "https://localhost:8080/"
        },
        "id": "gozpTj3u4SEO",
        "outputId": "b621cf48-719b-403d-9b08-c9183c719343"
      },
      "execution_count": null,
      "outputs": [
        {
          "output_type": "execute_result",
          "data": {
            "text/plain": [
              "7"
            ]
          },
          "metadata": {},
          "execution_count": 70
        }
      ]
    },
    {
      "cell_type": "markdown",
      "source": [
        "### python은 외부에서 함수 내부로 접근할 수 없다. z는 함수내에서 할당 되었으므로 함수 밖에서 호출할 수 없다."
      ],
      "metadata": {
        "id": "t8iQ8AZ84mfv"
      }
    },
    {
      "cell_type": "code",
      "source": [
        "def proc():\n",
        "  z = 1"
      ],
      "metadata": {
        "id": "ghkkHOuh4TvG"
      },
      "execution_count": null,
      "outputs": []
    },
    {
      "cell_type": "code",
      "source": [
        "z"
      ],
      "metadata": {
        "colab": {
          "base_uri": "https://localhost:8080/",
          "height": 166
        },
        "id": "MWXZ1E3e5OXv",
        "outputId": "fc94f6b5-7ad6-4d5f-fb2b-9665be2b5cce"
      },
      "execution_count": null,
      "outputs": [
        {
          "output_type": "error",
          "ename": "NameError",
          "evalue": "ignored",
          "traceback": [
            "\u001b[0;31m---------------------------------------------------------------------------\u001b[0m",
            "\u001b[0;31mNameError\u001b[0m                                 Traceback (most recent call last)",
            "\u001b[0;32m<ipython-input-72-3a710d2a84f8>\u001b[0m in \u001b[0;36m<module>\u001b[0;34m\u001b[0m\n\u001b[0;32m----> 1\u001b[0;31m \u001b[0mz\u001b[0m\u001b[0;34m\u001b[0m\u001b[0;34m\u001b[0m\u001b[0m\n\u001b[0m",
            "\u001b[0;31mNameError\u001b[0m: name 'z' is not defined"
          ]
        }
      ]
    },
    {
      "cell_type": "markdown",
      "source": [
        "### 함수 내부에서는 외부에 접근할 수 있다."
      ],
      "metadata": {
        "id": "xJf20gvV5UFI"
      }
    },
    {
      "cell_type": "code",
      "source": [
        "c = 10\n",
        "def display():\n",
        "  print(c)"
      ],
      "metadata": {
        "id": "b-BvnI5q5R-v"
      },
      "execution_count": null,
      "outputs": []
    },
    {
      "cell_type": "code",
      "source": [
        "display()"
      ],
      "metadata": {
        "colab": {
          "base_uri": "https://localhost:8080/"
        },
        "id": "wPP11g8s5elC",
        "outputId": "ac40b0c0-5b9e-494c-8e7b-e6401b0adaab"
      },
      "execution_count": null,
      "outputs": [
        {
          "output_type": "stream",
          "name": "stdout",
          "text": [
            "10\n"
          ]
        }
      ]
    },
    {
      "cell_type": "markdown",
      "source": [
        "### 함수에서 외부의 값을 접근할 수 있지만, 변경은 할 수 없다."
      ],
      "metadata": {
        "id": "uXXELAzP6LdH"
      }
    },
    {
      "cell_type": "code",
      "source": [
        "t = 3\n",
        "def prn():\n",
        "  t = t + 1\n",
        "  print(t)"
      ],
      "metadata": {
        "id": "bZkNZTA75fmP"
      },
      "execution_count": null,
      "outputs": []
    },
    {
      "cell_type": "code",
      "source": [
        "prn()"
      ],
      "metadata": {
        "colab": {
          "base_uri": "https://localhost:8080/",
          "height": 270
        },
        "id": "fjCkeBAB56m_",
        "outputId": "080b2b05-5662-4e1e-9765-d7cfe72cba79"
      },
      "execution_count": null,
      "outputs": [
        {
          "output_type": "error",
          "ename": "UnboundLocalError",
          "evalue": "ignored",
          "traceback": [
            "\u001b[0;31m---------------------------------------------------------------------------\u001b[0m",
            "\u001b[0;31mUnboundLocalError\u001b[0m                         Traceback (most recent call last)",
            "\u001b[0;32m<ipython-input-76-9f4e808490c5>\u001b[0m in \u001b[0;36m<module>\u001b[0;34m\u001b[0m\n\u001b[0;32m----> 1\u001b[0;31m \u001b[0mprn\u001b[0m\u001b[0;34m(\u001b[0m\u001b[0;34m)\u001b[0m\u001b[0;34m\u001b[0m\u001b[0;34m\u001b[0m\u001b[0m\n\u001b[0m",
            "\u001b[0;32m<ipython-input-75-8e9edadaef62>\u001b[0m in \u001b[0;36mprn\u001b[0;34m()\u001b[0m\n\u001b[1;32m      1\u001b[0m \u001b[0mt\u001b[0m \u001b[0;34m=\u001b[0m \u001b[0;36m3\u001b[0m\u001b[0;34m\u001b[0m\u001b[0;34m\u001b[0m\u001b[0m\n\u001b[1;32m      2\u001b[0m \u001b[0;32mdef\u001b[0m \u001b[0mprn\u001b[0m\u001b[0;34m(\u001b[0m\u001b[0;34m)\u001b[0m\u001b[0;34m:\u001b[0m\u001b[0;34m\u001b[0m\u001b[0;34m\u001b[0m\u001b[0m\n\u001b[0;32m----> 3\u001b[0;31m   \u001b[0mt\u001b[0m \u001b[0;34m=\u001b[0m \u001b[0mt\u001b[0m \u001b[0;34m+\u001b[0m \u001b[0;36m1\u001b[0m\u001b[0;34m\u001b[0m\u001b[0;34m\u001b[0m\u001b[0m\n\u001b[0m\u001b[1;32m      4\u001b[0m   \u001b[0mprint\u001b[0m\u001b[0;34m(\u001b[0m\u001b[0mt\u001b[0m\u001b[0;34m)\u001b[0m\u001b[0;34m\u001b[0m\u001b[0;34m\u001b[0m\u001b[0m\n",
            "\u001b[0;31mUnboundLocalError\u001b[0m: local variable 't' referenced before assignment"
          ]
        }
      ]
    },
    {
      "cell_type": "markdown",
      "source": [
        "### global은 내부와 외부의 객체를 동기화(sync) 시켜준다.\n",
        "### global은 사용하기는 편하지만 언제 바뀌었는지 흐름을 파악하기 힘들기 때문에 남용은 하지 않는다."
      ],
      "metadata": {
        "id": "mxBMfUFY6x94"
      }
    },
    {
      "cell_type": "code",
      "source": [
        "t = 3\n",
        "def prn():\n",
        "  global t\n",
        "  t = t + 1\n",
        "  print(t)"
      ],
      "metadata": {
        "id": "TPUbQgQN57X3"
      },
      "execution_count": null,
      "outputs": []
    },
    {
      "cell_type": "code",
      "source": [
        "prn()"
      ],
      "metadata": {
        "colab": {
          "base_uri": "https://localhost:8080/"
        },
        "id": "Xtap0FWf6dA3",
        "outputId": "c30c533f-f166-4d52-b53a-48e60d571494"
      },
      "execution_count": null,
      "outputs": [
        {
          "output_type": "stream",
          "name": "stdout",
          "text": [
            "4\n"
          ]
        }
      ]
    },
    {
      "cell_type": "code",
      "source": [
        "# 외부의 자원도 값이 변경이 되어서 출력이 된다.\n",
        "t"
      ],
      "metadata": {
        "colab": {
          "base_uri": "https://localhost:8080/"
        },
        "id": "2XBFJONX6no4",
        "outputId": "05ba1215-5a50-4d44-b605-50a17a9026e2"
      },
      "execution_count": null,
      "outputs": [
        {
          "output_type": "execute_result",
          "data": {
            "text/plain": [
              "4"
            ]
          },
          "metadata": {},
          "execution_count": 80
        }
      ]
    },
    {
      "cell_type": "markdown",
      "source": [
        "### 중첩함수 사용"
      ],
      "metadata": {
        "id": "yDE0GBE28Dv8"
      }
    },
    {
      "cell_type": "markdown",
      "source": [
        "nonlocal은 함수 안에 있는 영역에 동기화sync한다.\n"
      ],
      "metadata": {
        "id": "OkJbN-cxAbNr"
      }
    },
    {
      "cell_type": "code",
      "source": [
        "k = 1\n",
        "def outer():\n",
        "  m = 1\n",
        "  def inner():\n",
        "    global k\n",
        "    k = k + 1\n",
        "    nonlocal m\n",
        "    m = m + 1\n",
        "    return k,m\n",
        "  return inner()"
      ],
      "metadata": {
        "id": "r4CoYzev7Ocw"
      },
      "execution_count": null,
      "outputs": []
    },
    {
      "cell_type": "code",
      "source": [
        "outer()"
      ],
      "metadata": {
        "colab": {
          "base_uri": "https://localhost:8080/"
        },
        "id": "WCOoVbBW8S3R",
        "outputId": "68c6f58a-3bfc-4619-d59e-ae332ffc08aa"
      },
      "execution_count": null,
      "outputs": [
        {
          "output_type": "execute_result",
          "data": {
            "text/plain": [
              "(2, 2)"
            ]
          },
          "metadata": {},
          "execution_count": 86
        }
      ]
    },
    {
      "cell_type": "markdown",
      "source": [
        "### 모듈"
      ],
      "metadata": {
        "id": "Xol7hlD1Iw9T"
      }
    },
    {
      "cell_type": "code",
      "source": [
        "import sys\n",
        "#사전형\n",
        "print(type(sys.modules))\n",
        "#가져온 모듈 이름들을 출력한다.\n",
        "print('\\n'.join(sys.modules.keys()))"
      ],
      "metadata": {
        "id": "jejJO4mL8T6R"
      },
      "execution_count": null,
      "outputs": []
    },
    {
      "cell_type": "markdown",
      "source": [
        "- 파이썬 클래스나 함수는 그들이 속한 모듈 이름을 갖는 속성이다."
      ],
      "metadata": {
        "id": "XtqE0B3zTjxO"
      }
    },
    {
      "cell_type": "code",
      "source": [
        "from math import sin\n",
        "print(sin.__module__)\n",
        "\n",
        "from cmd import Cmd\n",
        "print(Cmd.__module__)"
      ],
      "metadata": {
        "colab": {
          "base_uri": "https://localhost:8080/"
        },
        "id": "m70fhzFRSyu7",
        "outputId": "a3d777a6-e0dc-4cb8-c925-706f2089d832"
      },
      "execution_count": null,
      "outputs": [
        {
          "output_type": "stream",
          "name": "stdout",
          "text": [
            "math\n",
            "cmd\n"
          ]
        }
      ]
    },
    {
      "cell_type": "markdown",
      "source": [
        "### 패키지\n",
        "- 패키지는 모듈을 모아 놓은 단위이다. 관련된 여러 개의 모듈을 계층적인 몇 개의 디렉토리로 분류해서 저장하고 계층화 한다.\n",
        "\n",
        "- 패키지 구조\n",
        " - 패키지를 생성하면 __ init __.py파일이 반드시 있어야한다.(파이참-자동생성)\n",
        " - __ init __.py 파일은 패키지를 가져올 때 자동으로 실행된다."
      ],
      "metadata": {
        "id": "BGiurk_FUL_2"
      }
    },
    {
      "cell_type": "markdown",
      "source": [
        "### function\n",
        "1. ketword(/,*/**)\n",
        "2. overloading\n",
        "3. 외부 자원 변경(global, nonlocal)\n",
        "\n",
        "### interning\n",
        "1. 숫자(-5 ~ 256) - interning으로 지정할 수 없음\n",
        "2. 문자(a-z,A-Z,0-9) - interning으로 지정 할 수 잇음\n",
        "\n",
        "### module And package\n",
        "1. 모듈\n",
        "2. 패키지\n",
        "\n",
        "- 모듈\n",
        " - import 모듈 == from 모듈 import*\n",
        " - from 패키지.모듈 import변수,함수,클래스\n",
        " - import 모듈 as alias == import numpy as np"
      ],
      "metadata": {
        "id": "c2ceHOJLWhS-"
      }
    },
    {
      "cell_type": "markdown",
      "source": [
        "### lambda (람다함수)\n",
        "- lambda로 만든 익명 함수를 호출하려면 람다 표현식을 변수에 할당해야한다."
      ],
      "metadata": {
        "id": "9zo4kKzMYL92"
      }
    },
    {
      "cell_type": "code",
      "source": [
        "plus_ten2 = lambda x:x+10\n",
        "plus_ten2(1)"
      ],
      "metadata": {
        "colab": {
          "base_uri": "https://localhost:8080/"
        },
        "id": "BL2hLpAZcJkD",
        "outputId": "cd008cf2-e123-4414-d89b-92b4cd4d8d68"
      },
      "execution_count": null,
      "outputs": [
        {
          "output_type": "execute_result",
          "data": {
            "text/plain": [
              "11"
            ]
          },
          "metadata": {},
          "execution_count": 92
        }
      ]
    },
    {
      "cell_type": "markdown",
      "source": [
        "- 람다 표현식은 변수에 할당하지 않고 람다 표현식 자체를 바로 호출 할 수 있다.\n",
        "- (lambda 매개변수들 : 식)(인수들)"
      ],
      "metadata": {
        "id": "Ft0qzIdmcsI4"
      }
    },
    {
      "cell_type": "code",
      "source": [
        "(lambda x:x+10)(1)"
      ],
      "metadata": {
        "colab": {
          "base_uri": "https://localhost:8080/"
        },
        "id": "BOSPPqVaciFw",
        "outputId": "26d467f6-ccd1-4523-b138-6ce983c6d933"
      },
      "execution_count": null,
      "outputs": [
        {
          "output_type": "execute_result",
          "data": {
            "text/plain": [
              "11"
            ]
          },
          "metadata": {},
          "execution_count": 93
        }
      ]
    },
    {
      "cell_type": "markdown",
      "source": [
        "- 람다 표현식 안에서는 변수를 만들 수 없다."
      ],
      "metadata": {
        "id": "hGLCLqJFc-LA"
      }
    },
    {
      "cell_type": "code",
      "source": [
        "(lambda x : y = 10; x+y)(1)"
      ],
      "metadata": {
        "colab": {
          "base_uri": "https://localhost:8080/",
          "height": 131
        },
        "id": "SLKSbzyIc5cY",
        "outputId": "3127b371-d260-4185-baab-ee4d3eac5400"
      },
      "execution_count": null,
      "outputs": [
        {
          "output_type": "error",
          "ename": "SyntaxError",
          "evalue": "ignored",
          "traceback": [
            "\u001b[0;36m  File \u001b[0;32m\"<ipython-input-94-6f6238483e17>\"\u001b[0;36m, line \u001b[0;32m1\u001b[0m\n\u001b[0;31m    (lambda x : y = 10; x+y)(1)\u001b[0m\n\u001b[0m                  ^\u001b[0m\n\u001b[0;31mSyntaxError\u001b[0m\u001b[0;31m:\u001b[0m invalid syntax\n"
          ]
        }
      ]
    },
    {
      "cell_type": "markdown",
      "source": [
        "- 람다 표현식 바깥에 있는 변수는 사용할 수 있다."
      ],
      "metadata": {
        "id": "GQdM3x1vdGzo"
      }
    },
    {
      "cell_type": "code",
      "source": [
        "y = 10\n",
        "(lambda x:x+y)(1)"
      ],
      "metadata": {
        "colab": {
          "base_uri": "https://localhost:8080/"
        },
        "id": "FNkxDhEfdGHI",
        "outputId": "8ad63eff-bed3-47f3-8622-56f9f36f9050"
      },
      "execution_count": null,
      "outputs": [
        {
          "output_type": "execute_result",
          "data": {
            "text/plain": [
              "11"
            ]
          },
          "metadata": {},
          "execution_count": 95
        }
      ]
    },
    {
      "cell_type": "markdown",
      "source": [
        "### higher order function\n",
        "- 함수의 인자에 함수를 넣을 수 있고, 함수의 결과가 함수일 수 있는 것을 higher order function이라고 한다.\n",
        " - function을 인자로 사용할 수 있음\n",
        " - function을 return을 사용할 수 있음 "
      ],
      "metadata": {
        "id": "mls47RDydVhw"
      }
    },
    {
      "cell_type": "code",
      "source": [
        "def foo(func, a):\n",
        "  return func(a)\n",
        "\n",
        "def ss(a):\n",
        "  return a + 1\n",
        "foo(ss, 1)"
      ],
      "metadata": {
        "colab": {
          "base_uri": "https://localhost:8080/"
        },
        "id": "LITMmG_XdO9w",
        "outputId": "6209e955-fc75-4ce0-d567-0be8a0f832e9"
      },
      "execution_count": null,
      "outputs": [
        {
          "output_type": "execute_result",
          "data": {
            "text/plain": [
              "2"
            ]
          },
          "metadata": {},
          "execution_count": 98
        }
      ]
    },
    {
      "cell_type": "markdown",
      "source": [
        "### closure\n",
        "- python 공식 문서에는 없는 용어이지만, 다음과 같이 함수를 중첩해서 사용하는 기법을 closure라고 한다."
      ],
      "metadata": {
        "id": "KhHdSGr5hDYK"
      }
    },
    {
      "cell_type": "code",
      "source": [
        "def x(n):\n",
        "  def y(m):\n",
        "    return n+m\n",
        "  return y"
      ],
      "metadata": {
        "id": "CoCEL6nrdy7z"
      },
      "execution_count": null,
      "outputs": []
    },
    {
      "cell_type": "code",
      "source": [
        "k=x(3)"
      ],
      "metadata": {
        "id": "Qz-mRRgKhUdr"
      },
      "execution_count": null,
      "outputs": []
    },
    {
      "cell_type": "code",
      "source": [
        "k"
      ],
      "metadata": {
        "colab": {
          "base_uri": "https://localhost:8080/"
        },
        "id": "7WQrW2Afi4gj",
        "outputId": "fef54102-66d5-4e7a-deb4-02649e96fdac"
      },
      "execution_count": null,
      "outputs": [
        {
          "output_type": "execute_result",
          "data": {
            "text/plain": [
              "<function __main__.x.<locals>.y(m)>"
            ]
          },
          "metadata": {},
          "execution_count": 119
        }
      ]
    },
    {
      "cell_type": "code",
      "source": [
        "k(4)"
      ],
      "metadata": {
        "colab": {
          "base_uri": "https://localhost:8080/"
        },
        "id": "j5sosdFSjBRD",
        "outputId": "3af63e30-1461-469b-b1dc-f3e5881306a0"
      },
      "execution_count": null,
      "outputs": [
        {
          "output_type": "execute_result",
          "data": {
            "text/plain": [
              "7"
            ]
          },
          "metadata": {},
          "execution_count": 120
        }
      ]
    },
    {
      "cell_type": "markdown",
      "source": [
        "### 일급객체함수(first class function)\n",
        "- python에서 가장 중요한 개념은 객체(object)이다.\n",
        "- first class를 직역하면 1급인데, 함수를 객체처럼 사용할 수 있는 패러다임을 first class function이라고 한다.\n",
        " - 변수나 데이터 구조에 넣을 수 있어야 한다.\n",
        " - 매개변수에 전달 할 수 있어야 한다.\n",
        " - 반환값으로 사용할 수 있어야 한다."
      ],
      "metadata": {
        "id": "rr0cR59XjDnc"
      }
    },
    {
      "cell_type": "markdown",
      "source": [
        "### Loop와 비교\n",
        "- Loop를 쓰면 이해하기 쉬운 장점이 있음\n",
        "- Loop는 논리적 흐름을 깨는 경우가 있어 프로그램의 버그를 만들기 쉬운 단점이 있다.\n",
        "- 코드를 이해하기 위해서 왔다갔다 해야하므로 Loop는 속도가 느리다."
      ],
      "metadata": {
        "id": "nE7qsUtxjqXk"
      }
    },
    {
      "cell_type": "markdown",
      "source": [
        "### Loop을 사용하지 않는 기법\n",
        "- functional paradigm에서는 Loop를 사용하지 않는 기법을 선호한다.\n",
        "- Loop를 사용하지 않는 기법에는 다음 4가지가 있다.\n",
        " - iterator, generator\n",
        " - recursion\n",
        " - comprehension\n",
        " - map, filter, reduce"
      ],
      "metadata": {
        "id": "o-Vun-8Dj_Zk"
      }
    },
    {
      "cell_type": "markdown",
      "source": [
        "### Comprehension\n",
        "- Comprehension이란 iterable한 오브젝트를 생성하기 위한 방법 중 하나이다.\n",
        "- 파이썬에는 다음과 같은 크게 3가지 종류의 Comprehension이 있다.\n",
        " - List Comprehension(LC)\n",
        " - Set Comprehension(SC)\n",
        " - Dict Comprehension(DC)"
      ],
      "metadata": {
        "id": "pymVyO3rktlP"
      }
    },
    {
      "cell_type": "markdown",
      "source": [
        "- List Comprehension\n",
        " - 리시트 정의 시 값을 정하지 않고 호출 시  리스트 내의 값들이 처리되도록 구성\n",
        " - A = [표현식 for i in sequence if 논리식]"
      ],
      "metadata": {
        "id": "84tSPMY5lXgs"
      }
    },
    {
      "cell_type": "code",
      "source": [
        "squares = []\n",
        "for x in range(10):\n",
        "  squares.append(x**2)\n",
        "\n",
        "print (squares)"
      ],
      "metadata": {
        "colab": {
          "base_uri": "https://localhost:8080/"
        },
        "id": "8tM6UTG9l_s_",
        "outputId": "ec0d5a80-4ac4-4b33-a7a0-1a69d5e6444b"
      },
      "execution_count": 1,
      "outputs": [
        {
          "output_type": "stream",
          "name": "stdout",
          "text": [
            "[0, 1, 4, 9, 16, 25, 36, 49, 64, 81]\n"
          ]
        }
      ]
    },
    {
      "cell_type": "code",
      "source": [
        "squares = [x**2 for x in range(10)]\n",
        "print (squares)"
      ],
      "metadata": {
        "colab": {
          "base_uri": "https://localhost:8080/"
        },
        "id": "dxqq_bjPjCjT",
        "outputId": "a8c47ac8-8185-4715-a602-a36aaf5f0b45"
      },
      "execution_count": 2,
      "outputs": [
        {
          "output_type": "stream",
          "name": "stdout",
          "text": [
            "[0, 1, 4, 9, 16, 25, 36, 49, 64, 81]\n"
          ]
        }
      ]
    },
    {
      "cell_type": "markdown",
      "source": [
        "- List Comprehension\n",
        " - 리스트 내의 다중 for 문을 이용해서 처리\n",
        "  - A = [표현식 for i in sequence for j in sequence if 논리식]"
      ],
      "metadata": {
        "id": "1q39Qx_NmZhI"
      }
    },
    {
      "cell_type": "code",
      "source": [
        "ll = []\n",
        "for i in range(5) :\n",
        "  for j in range(5) :\n",
        "    if j % 2 == 0 :\n",
        "      ll.append((i,j))\n",
        "print(ll)\n",
        "\n",
        "l = [(x,y) for x in range(5) for y in range(5) if y % 2 ==0]\n",
        "print(l)\n",
        "\n",
        "print(ll == l)\n"
      ],
      "metadata": {
        "colab": {
          "base_uri": "https://localhost:8080/"
        },
        "id": "VEsdp1wXmauf",
        "outputId": "891d711b-7290-46e6-f9ec-60fdd8d0af8d"
      },
      "execution_count": 3,
      "outputs": [
        {
          "output_type": "stream",
          "name": "stdout",
          "text": [
            "[(0, 0), (0, 2), (0, 4), (1, 0), (1, 2), (1, 4), (2, 0), (2, 2), (2, 4), (3, 0), (3, 2), (3, 4), (4, 0), (4, 2), (4, 4)]\n",
            "[(0, 0), (0, 2), (0, 4), (1, 0), (1, 2), (1, 4), (2, 0), (2, 2), (2, 4), (3, 0), (3, 2), (3, 4), (4, 0), (4, 2), (4, 4)]\n",
            "True\n"
          ]
        }
      ]
    },
    {
      "cell_type": "markdown",
      "source": [
        "- List Comprehension\n",
        " - 리스트 컴프리헨션에서 함수 내부 로직에서 외부변수를 참조할 때 모든 순환이 다 된 결과를 참조"
      ],
      "metadata": {
        "id": "zkICL4u-nSut"
      }
    },
    {
      "cell_type": "code",
      "source": [
        "lh = [ lambda x : x+n for n in range(5)]\n",
        "print(lh)\n",
        "for i in lh :\n",
        "  print(i(0))"
      ],
      "metadata": {
        "colab": {
          "base_uri": "https://localhost:8080/"
        },
        "id": "Tz62C9bbnK7N",
        "outputId": "c1d80550-7d8d-4883-a0e3-70217b254ddd"
      },
      "execution_count": 4,
      "outputs": [
        {
          "output_type": "stream",
          "name": "stdout",
          "text": [
            "[<function <listcomp>.<lambda> at 0x7f025a989940>, <function <listcomp>.<lambda> at 0x7f025a989f70>, <function <listcomp>.<lambda> at 0x7f02598b8940>, <function <listcomp>.<lambda> at 0x7f02598b8a60>, <function <listcomp>.<lambda> at 0x7f02598b88b0>]\n",
            "4\n",
            "4\n",
            "4\n",
            "4\n",
            "4\n"
          ]
        }
      ]
    },
    {
      "cell_type": "code",
      "source": [
        "print(type(Ih))\n",
        "lh[0]"
      ],
      "metadata": {
        "colab": {
          "base_uri": "https://localhost:8080/",
          "height": 184
        },
        "id": "1CGllCa-nwNW",
        "outputId": "13095ff0-57e4-4fad-8d34-87311ac32ebf"
      },
      "execution_count": 6,
      "outputs": [
        {
          "output_type": "error",
          "ename": "NameError",
          "evalue": "ignored",
          "traceback": [
            "\u001b[0;31m---------------------------------------------------------------------------\u001b[0m",
            "\u001b[0;31mNameError\u001b[0m                                 Traceback (most recent call last)",
            "\u001b[0;32m<ipython-input-6-9297b0320462>\u001b[0m in \u001b[0;36m<module>\u001b[0;34m\u001b[0m\n\u001b[0;32m----> 1\u001b[0;31m \u001b[0mprint\u001b[0m\u001b[0;34m(\u001b[0m\u001b[0mtype\u001b[0m\u001b[0;34m(\u001b[0m\u001b[0mIh\u001b[0m\u001b[0;34m)\u001b[0m\u001b[0;34m)\u001b[0m\u001b[0;34m\u001b[0m\u001b[0;34m\u001b[0m\u001b[0m\n\u001b[0m\u001b[1;32m      2\u001b[0m \u001b[0mlh\u001b[0m\u001b[0;34m[\u001b[0m\u001b[0;36m0\u001b[0m\u001b[0;34m]\u001b[0m\u001b[0;34m\u001b[0m\u001b[0;34m\u001b[0m\u001b[0m\n",
            "\u001b[0;31mNameError\u001b[0m: name 'Ih' is not defined"
          ]
        }
      ]
    },
    {
      "cell_type": "code",
      "source": [
        "i = lh[0]\n",
        "print(i(0))"
      ],
      "metadata": {
        "colab": {
          "base_uri": "https://localhost:8080/"
        },
        "id": "pTy-UnJhpqG_",
        "outputId": "53abdafc-f021-4820-9883-73acff93971e"
      },
      "execution_count": 7,
      "outputs": [
        {
          "output_type": "stream",
          "name": "stdout",
          "text": [
            "4\n"
          ]
        }
      ]
    },
    {
      "cell_type": "markdown",
      "source": [
        "- List Comprehension\n",
        " - 리스트 컴프리헨션에 있는 변수를 함수의 파라미터 초기값으로 세팅하면 원하는 숫자대로 처리됨"
      ],
      "metadata": {
        "id": "A28e2ZOVqXH4"
      }
    },
    {
      "cell_type": "code",
      "source": [
        "lh = [lambda x, m=n : x+m for n in range(5)]\n",
        "print(lh)\n",
        "for i in lh :\n",
        "  print(i(0))"
      ],
      "metadata": {
        "colab": {
          "base_uri": "https://localhost:8080/"
        },
        "id": "VPe00eHiqgdc",
        "outputId": "4eca9969-402a-4010-be07-622f2066e7d0"
      },
      "execution_count": 8,
      "outputs": [
        {
          "output_type": "stream",
          "name": "stdout",
          "text": [
            "[<function <listcomp>.<lambda> at 0x7f02598b8ca0>, <function <listcomp>.<lambda> at 0x7f02598b8e50>, <function <listcomp>.<lambda> at 0x7f02598b8040>, <function <listcomp>.<lambda> at 0x7f02598b8f70>, <function <listcomp>.<lambda> at 0x7f02598b8af0>]\n",
            "0\n",
            "1\n",
            "2\n",
            "3\n",
            "4\n"
          ]
        }
      ]
    },
    {
      "cell_type": "markdown",
      "source": [
        "- Dict Comprehension\n",
        " - 사전 정의 시 값을 정하지 않고 호출 시 사전 내의 값들이 처리되도록 구성\n",
        " - A = {표현식 for(k,v) in sequence if 논리식}"
      ],
      "metadata": {
        "id": "VsBlmxNRubRD"
      }
    },
    {
      "cell_type": "code",
      "source": [
        "d1 = {x:y for (x,y) in zip(range(9),range(9))}\n",
        "print (d1)"
      ],
      "metadata": {
        "colab": {
          "base_uri": "https://localhost:8080/"
        },
        "id": "3rOZoNX-qtDZ",
        "outputId": "8cc8b1ce-c200-4322-eba8-1a46ece76ef1"
      },
      "execution_count": 9,
      "outputs": [
        {
          "output_type": "stream",
          "name": "stdout",
          "text": [
            "{0: 0, 1: 1, 2: 2, 3: 3, 4: 4, 5: 5, 6: 6, 7: 7, 8: 8}\n"
          ]
        }
      ]
    },
    {
      "cell_type": "markdown",
      "source": [
        "- Dict Comprehension\n",
        " - dict 타입에 대한 comprehension 생성\n",
        " - A = {표현식 for i in sequence if 논리식}\n",
        " "
      ],
      "metadata": {
        "id": "R-oACEe8voPq"
      }
    },
    {
      "cell_type": "code",
      "source": [
        "a = {'x' : 1, 'y' : 2, 'z' : 3 }\n",
        "b = {'w' : 10, 'x' : 11, 'y' : 2 }\n",
        "\n",
        "print(a.keys() & b.keys())\n",
        "print(type(a.keys()))\n",
        "\n",
        "c={key:a[key] for key in a.keys() - {'z', 'w'}}\n",
        "\n",
        "print(c)"
      ],
      "metadata": {
        "colab": {
          "base_uri": "https://localhost:8080/"
        },
        "id": "D7Z0uZNtv5bj",
        "outputId": "f7cf2462-63f3-4cdf-991c-38f7422556f7"
      },
      "execution_count": 10,
      "outputs": [
        {
          "output_type": "stream",
          "name": "stdout",
          "text": [
            "{'y', 'x'}\n",
            "<class 'dict_keys'>\n",
            "{'y': 2, 'x': 1}\n"
          ]
        }
      ]
    },
    {
      "cell_type": "markdown",
      "source": [
        "- Dict Comprehension\n",
        " - dict 내의 다중 for문을 이용해서 처리\n",
        " - A = {표현식 for i in sequence for j in sequence if 논리식}"
      ],
      "metadata": {
        "id": "SWHG3uqow42K"
      }
    },
    {
      "cell_type": "code",
      "source": [
        "ll = {}\n",
        "for i in range(5) :\n",
        "  for j in range(5) :\n",
        "    if j % 2 == 0 :\n",
        "      ll.setdefault(i,4)\n",
        "print(ll)\n",
        "l = {x:y for x in range(5) for y in range(5) if y % 2 == 0}\n",
        "print(l)\n",
        "\n",
        "print(ll == l)"
      ],
      "metadata": {
        "colab": {
          "base_uri": "https://localhost:8080/"
        },
        "id": "MJ-6A3RWwhnS",
        "outputId": "437a6031-58f7-42f7-898a-06fb494693e8"
      },
      "execution_count": 11,
      "outputs": [
        {
          "output_type": "stream",
          "name": "stdout",
          "text": [
            "{0: 4, 1: 4, 2: 4, 3: 4, 4: 4}\n",
            "{0: 4, 1: 4, 2: 4, 3: 4, 4: 4}\n",
            "True\n"
          ]
        }
      ]
    },
    {
      "cell_type": "markdown",
      "source": [
        "- Set Comprehension\n",
        " - Set 정의시 값을 정하지 않고 호출 시 Set 내의 값들이 처리되도록 구성\n",
        " - A= {표현식 for i in sequence if 논리식}"
      ],
      "metadata": {
        "id": "mlAHvbOKyhC-"
      }
    },
    {
      "cell_type": "code",
      "source": [
        "s1 = {x for x in range(10)}\n",
        "print (s1)"
      ],
      "metadata": {
        "colab": {
          "base_uri": "https://localhost:8080/"
        },
        "id": "LyoB9WtQxeKy",
        "outputId": "a59a3644-307a-4123-c482-2c4e39f9110a"
      },
      "execution_count": 12,
      "outputs": [
        {
          "output_type": "stream",
          "name": "stdout",
          "text": [
            "{0, 1, 2, 3, 4, 5, 6, 7, 8, 9}\n"
          ]
        }
      ]
    },
    {
      "cell_type": "markdown",
      "source": [
        "- Set Comprehension\n",
        " - Set 내의 다중 for 문을 이용해서 처리\n",
        " - A = {표현식 for i in sequence for j in sequence if 논리식}"
      ],
      "metadata": {
        "id": "Lr46NhtJ0DzH"
      }
    },
    {
      "cell_type": "code",
      "source": [
        "ll = set()\n",
        "for i in range(5) :\n",
        "  for j in range(5) :\n",
        "    if j % 2 == 0 :\n",
        "      ll.add((i,j))\n",
        "print (ll)\n",
        "\n",
        "l = {(x,y) for x in range(5) for y in range(5) if y %2 == 0}\n",
        "print (l)\n",
        "\n",
        "print(ll == l)"
      ],
      "metadata": {
        "colab": {
          "base_uri": "https://localhost:8080/"
        },
        "id": "mUkyTHvtzuEL",
        "outputId": "a9848cf1-b72b-4a6c-fd7d-b4405b95927e"
      },
      "execution_count": 13,
      "outputs": [
        {
          "output_type": "stream",
          "name": "stdout",
          "text": [
            "{(4, 4), (2, 4), (1, 2), (0, 4), (3, 4), (4, 0), (0, 0), (2, 0), (1, 4), (3, 0), (4, 2), (0, 2), (2, 2), (1, 0), (3, 2)}\n",
            "{(4, 4), (2, 4), (1, 2), (0, 4), (3, 4), (4, 0), (0, 0), (2, 0), (1, 4), (3, 0), (4, 2), (0, 2), (2, 2), (1, 0), (3, 2)}\n",
            "True\n"
          ]
        }
      ]
    },
    {
      "cell_type": "markdown",
      "source": [
        "### Recursion\n",
        "- 함수가 자기 자신을 다시 실행하는 기법이다."
      ],
      "metadata": {
        "id": "ReP9aDUECBK9"
      }
    },
    {
      "cell_type": "code",
      "source": [
        "def x(t):\n",
        "  if t<3:\n",
        "    return 1\n",
        "  return x(t-1)"
      ],
      "metadata": {
        "id": "ow8lr8v60plI"
      },
      "execution_count": 15,
      "outputs": []
    },
    {
      "cell_type": "code",
      "source": [
        "x(7)"
      ],
      "metadata": {
        "colab": {
          "base_uri": "https://localhost:8080/"
        },
        "id": "Hd6NcGP0CTvF",
        "outputId": "2ed9009d-dc9e-4ec9-c039-c322792c1647"
      },
      "execution_count": 21,
      "outputs": [
        {
          "output_type": "execute_result",
          "data": {
            "text/plain": [
              "1"
            ]
          },
          "metadata": {},
          "execution_count": 21
        }
      ]
    },
    {
      "cell_type": "markdown",
      "source": [
        "### iterator\n",
        "- iterable \n",
        " - iterator가 될 수 있는 것을 iterable이라고 한다.\n",
        " - 반복문을 수행할 수 있는 객체\n",
        "- iterator\n",
        " - 객체의 요소를 차례대로 가지고 올 수 있는것"
      ],
      "metadata": {
        "id": "_kdgCkKdDNX0"
      }
    },
    {
      "cell_type": "code",
      "source": [
        "a = [1,2,3]\n",
        "print (a)\n",
        "print(type(a))"
      ],
      "metadata": {
        "colab": {
          "base_uri": "https://localhost:8080/"
        },
        "id": "BRSKXkhGDBwd",
        "outputId": "cd3df9bb-f857-41eb-9dca-1c02fa2241b2"
      },
      "execution_count": 51,
      "outputs": [
        {
          "output_type": "stream",
          "name": "stdout",
          "text": [
            "[1, 2, 3]\n",
            "<class 'list'>\n"
          ]
        }
      ]
    },
    {
      "cell_type": "markdown",
      "source": [
        "- next는 iterator에서 값을 순서대로 하나씩 뽑아온다."
      ],
      "metadata": {
        "id": "tv31dHp5DmCe"
      }
    },
    {
      "cell_type": "code",
      "source": [
        "print(dir(a))"
      ],
      "metadata": {
        "colab": {
          "base_uri": "https://localhost:8080/"
        },
        "id": "Gt3d0p9nEZGl",
        "outputId": "076d85c4-06b8-4445-f6bd-19b3f4ff8c2e"
      },
      "execution_count": 38,
      "outputs": [
        {
          "output_type": "stream",
          "name": "stdout",
          "text": [
            "['__add__', '__class__', '__contains__', '__delattr__', '__delitem__', '__dir__', '__doc__', '__eq__', '__format__', '__ge__', '__getattribute__', '__getitem__', '__gt__', '__hash__', '__iadd__', '__imul__', '__init__', '__init_subclass__', '__iter__', '__le__', '__len__', '__lt__', '__mul__', '__ne__', '__new__', '__reduce__', '__reduce_ex__', '__repr__', '__reversed__', '__rmul__', '__setattr__', '__setitem__', '__sizeof__', '__str__', '__subclasshook__', 'append', 'clear', 'copy', 'count', 'extend', 'index', 'insert', 'pop', 'remove', 'reverse', 'sort']\n"
          ]
        }
      ]
    },
    {
      "cell_type": "code",
      "source": [
        "b = iter(a)\n",
        "b"
      ],
      "metadata": {
        "colab": {
          "base_uri": "https://localhost:8080/"
        },
        "id": "wPPiFaeZEvgH",
        "outputId": "8831bd6e-fc9c-41f6-e3a9-3e16af363079"
      },
      "execution_count": 52,
      "outputs": [
        {
          "output_type": "execute_result",
          "data": {
            "text/plain": [
              "<list_iterator at 0x7f024bec1c70>"
            ]
          },
          "metadata": {},
          "execution_count": 52
        }
      ]
    },
    {
      "cell_type": "code",
      "source": [
        "print(dir(b))"
      ],
      "metadata": {
        "colab": {
          "base_uri": "https://localhost:8080/"
        },
        "id": "OieJVmEBEyN9",
        "outputId": "43c225a1-beb9-47e2-c58e-cf3ad0fa6194"
      },
      "execution_count": 42,
      "outputs": [
        {
          "output_type": "stream",
          "name": "stdout",
          "text": [
            "['__class__', '__delattr__', '__dir__', '__doc__', '__eq__', '__format__', '__ge__', '__getattribute__', '__gt__', '__hash__', '__init__', '__init_subclass__', '__iter__', '__le__', '__length_hint__', '__lt__', '__ne__', '__new__', '__next__', '__reduce__', '__reduce_ex__', '__repr__', '__setattr__', '__setstate__', '__sizeof__', '__str__', '__subclasshook__']\n"
          ]
        }
      ]
    },
    {
      "cell_type": "code",
      "source": [
        "next(b)"
      ],
      "metadata": {
        "colab": {
          "base_uri": "https://localhost:8080/"
        },
        "id": "Lcb_rK53FM8-",
        "outputId": "2815f3be-a0a9-4506-ee1a-5088dee43f3b"
      },
      "execution_count": 53,
      "outputs": [
        {
          "output_type": "execute_result",
          "data": {
            "text/plain": [
              "1"
            ]
          },
          "metadata": {},
          "execution_count": 53
        }
      ]
    },
    {
      "cell_type": "markdown",
      "source": [
        "- iterator은 lazy기법이다.\n",
        "- 메모리에 전체를 올리지 않고, 사용할 때 마다 하나씩 메모리에 올린다.\n",
        " - 메모리에 효율적으로 사용한다.\n",
        " - index,len 을 사용 못한다."
      ],
      "metadata": {
        "id": "wYh78UIZG-TW"
      }
    },
    {
      "cell_type": "code",
      "source": [
        "a=[1,2,3]"
      ],
      "metadata": {
        "id": "LsNpDAF7Fd6V"
      },
      "execution_count": 62,
      "outputs": []
    },
    {
      "cell_type": "code",
      "source": [
        "b = iter(a)\n",
        "print(b)"
      ],
      "metadata": {
        "colab": {
          "base_uri": "https://localhost:8080/"
        },
        "id": "WtLJPeiZHTmX",
        "outputId": "972d9294-e60f-45a2-ff9f-66d76407539a"
      },
      "execution_count": 63,
      "outputs": [
        {
          "output_type": "stream",
          "name": "stdout",
          "text": [
            "<list_iterator object at 0x7f024be5c850>\n"
          ]
        }
      ]
    },
    {
      "cell_type": "code",
      "source": [
        "b[0]"
      ],
      "metadata": {
        "colab": {
          "base_uri": "https://localhost:8080/",
          "height": 166
        },
        "id": "uD-K713mHZAX",
        "outputId": "22d2e568-2b31-406b-9c98-2c1de2387407"
      },
      "execution_count": 56,
      "outputs": [
        {
          "output_type": "error",
          "ename": "TypeError",
          "evalue": "ignored",
          "traceback": [
            "\u001b[0;31m---------------------------------------------------------------------------\u001b[0m",
            "\u001b[0;31mTypeError\u001b[0m                                 Traceback (most recent call last)",
            "\u001b[0;32m<ipython-input-56-54af0eb47770>\u001b[0m in \u001b[0;36m<module>\u001b[0;34m\u001b[0m\n\u001b[0;32m----> 1\u001b[0;31m \u001b[0mb\u001b[0m\u001b[0;34m[\u001b[0m\u001b[0;36m0\u001b[0m\u001b[0;34m]\u001b[0m\u001b[0;34m\u001b[0m\u001b[0;34m\u001b[0m\u001b[0m\n\u001b[0m",
            "\u001b[0;31mTypeError\u001b[0m: 'list_iterator' object is not subscriptable"
          ]
        }
      ]
    },
    {
      "cell_type": "code",
      "source": [
        "len(b)"
      ],
      "metadata": {
        "colab": {
          "base_uri": "https://localhost:8080/",
          "height": 166
        },
        "id": "WzHCcCBkHj-W",
        "outputId": "09e1ac2a-f7db-41f4-fa63-25d6614f95eb"
      },
      "execution_count": 57,
      "outputs": [
        {
          "output_type": "error",
          "ename": "TypeError",
          "evalue": "ignored",
          "traceback": [
            "\u001b[0;31m---------------------------------------------------------------------------\u001b[0m",
            "\u001b[0;31mTypeError\u001b[0m                                 Traceback (most recent call last)",
            "\u001b[0;32m<ipython-input-57-97d8916a185b>\u001b[0m in \u001b[0;36m<module>\u001b[0;34m\u001b[0m\n\u001b[0;32m----> 1\u001b[0;31m \u001b[0mlen\u001b[0m\u001b[0;34m(\u001b[0m\u001b[0mb\u001b[0m\u001b[0;34m)\u001b[0m\u001b[0;34m\u001b[0m\u001b[0;34m\u001b[0m\u001b[0m\n\u001b[0m",
            "\u001b[0;31mTypeError\u001b[0m: object of type 'list_iterator' has no len()"
          ]
        }
      ]
    },
    {
      "cell_type": "code",
      "source": [
        "# list로 바꿔주면 내부의 남의 값을 알 수 있다.\n",
        "c = list(b)\n",
        "c"
      ],
      "metadata": {
        "colab": {
          "base_uri": "https://localhost:8080/"
        },
        "id": "MoUYUseVHlL3",
        "outputId": "d67eb428-8805-4776-efca-8c8b14a3909e"
      },
      "execution_count": 64,
      "outputs": [
        {
          "output_type": "execute_result",
          "data": {
            "text/plain": [
              "[1, 2, 3]"
            ]
          },
          "metadata": {},
          "execution_count": 64
        }
      ]
    },
    {
      "cell_type": "code",
      "source": [
        "len(c)"
      ],
      "metadata": {
        "colab": {
          "base_uri": "https://localhost:8080/"
        },
        "id": "4LHXCaKkI-SI",
        "outputId": "1136bb94-f1ba-46ce-dfc1-8c6bb6019272"
      },
      "execution_count": 66,
      "outputs": [
        {
          "output_type": "execute_result",
          "data": {
            "text/plain": [
              "3"
            ]
          },
          "metadata": {},
          "execution_count": 66
        }
      ]
    },
    {
      "cell_type": "code",
      "source": [
        "c[1]"
      ],
      "metadata": {
        "colab": {
          "base_uri": "https://localhost:8080/"
        },
        "id": "zpeS9Sp5JPGo",
        "outputId": "b050026c-55ee-486f-be2e-cfcb51ff4595"
      },
      "execution_count": 68,
      "outputs": [
        {
          "output_type": "execute_result",
          "data": {
            "text/plain": [
              "2"
            ]
          },
          "metadata": {},
          "execution_count": 68
        }
      ]
    },
    {
      "cell_type": "code",
      "source": [
        "a = {1,2,3}\n",
        "b = iter(a)\n",
        "b"
      ],
      "metadata": {
        "colab": {
          "base_uri": "https://localhost:8080/"
        },
        "id": "5XvgcQxOJQaH",
        "outputId": "989cb28b-d136-4eed-cdd4-812d9e26e161"
      },
      "execution_count": 69,
      "outputs": [
        {
          "output_type": "execute_result",
          "data": {
            "text/plain": [
              "<set_iterator at 0x7f024be4aac0>"
            ]
          },
          "metadata": {},
          "execution_count": 69
        }
      ]
    },
    {
      "cell_type": "code",
      "source": [
        "next(b)"
      ],
      "metadata": {
        "colab": {
          "base_uri": "https://localhost:8080/"
        },
        "id": "A-MhnK7WJpKf",
        "outputId": "e4b7ce6e-b3ec-4775-fcf5-c91278a087aa"
      },
      "execution_count": 70,
      "outputs": [
        {
          "output_type": "execute_result",
          "data": {
            "text/plain": [
              "1"
            ]
          },
          "metadata": {},
          "execution_count": 70
        }
      ]
    },
    {
      "cell_type": "code",
      "source": [
        "c = set(b)\n",
        "c"
      ],
      "metadata": {
        "colab": {
          "base_uri": "https://localhost:8080/"
        },
        "id": "j57M_w8LJqm_",
        "outputId": "c5f086a6-38c4-45b1-e47d-bac560d36ee6"
      },
      "execution_count": 71,
      "outputs": [
        {
          "output_type": "execute_result",
          "data": {
            "text/plain": [
              "{2, 3}"
            ]
          },
          "metadata": {},
          "execution_count": 71
        }
      ]
    },
    {
      "cell_type": "code",
      "source": [
        "a = {'k' :1, 'm' :2}\n",
        "b = iter(a)\n",
        "b"
      ],
      "metadata": {
        "colab": {
          "base_uri": "https://localhost:8080/"
        },
        "id": "PPx0bUWGJszX",
        "outputId": "35eedf7c-292d-42b3-8511-46dd90b3e3ad"
      },
      "execution_count": 76,
      "outputs": [
        {
          "output_type": "execute_result",
          "data": {
            "text/plain": [
              "<dict_keyiterator at 0x7f024be388b0>"
            ]
          },
          "metadata": {},
          "execution_count": 76
        }
      ]
    },
    {
      "cell_type": "code",
      "source": [
        "# dict_keyiterator은 key만 가져온다.\n",
        "next(b)"
      ],
      "metadata": {
        "colab": {
          "base_uri": "https://localhost:8080/",
          "height": 35
        },
        "id": "TmfFSRg-KClZ",
        "outputId": "960a05e4-f448-47fd-c8d2-a48e7b9a1b8d"
      },
      "execution_count": 77,
      "outputs": [
        {
          "output_type": "execute_result",
          "data": {
            "text/plain": [
              "'k'"
            ],
            "application/vnd.google.colaboratory.intrinsic+json": {
              "type": "string"
            }
          },
          "metadata": {},
          "execution_count": 77
        }
      ]
    },
    {
      "cell_type": "code",
      "source": [
        "c = set(b)\n",
        "c"
      ],
      "metadata": {
        "colab": {
          "base_uri": "https://localhost:8080/"
        },
        "id": "MpB4TvL-KETA",
        "outputId": "950d313f-9f81-4de2-afb7-afff5642cab2"
      },
      "execution_count": 78,
      "outputs": [
        {
          "output_type": "execute_result",
          "data": {
            "text/plain": [
              "{'m'}"
            ]
          },
          "metadata": {},
          "execution_count": 78
        }
      ]
    },
    {
      "cell_type": "markdown",
      "source": [
        "- comprehension : iterable 객체를 생성할 수 있도록 제공해주는 기법이다.\n",
        " - list, set, dict\n",
        "\n",
        "- tuple은 comprehension은 안되고 generator 이다."
      ],
      "metadata": {
        "id": "RabXXkObK0MB"
      }
    },
    {
      "cell_type": "code",
      "source": [
        "[i for i in range(5)]"
      ],
      "metadata": {
        "colab": {
          "base_uri": "https://localhost:8080/"
        },
        "id": "9SnhVjqzLqz5",
        "outputId": "06e8eeed-8eb7-4394-dd51-d919ebe94947"
      },
      "execution_count": 80,
      "outputs": [
        {
          "output_type": "execute_result",
          "data": {
            "text/plain": [
              "[0, 1, 2, 3, 4]"
            ]
          },
          "metadata": {},
          "execution_count": 80
        }
      ]
    },
    {
      "cell_type": "code",
      "source": [
        "# generator만드는 첫번째 방법 : tuple을 comprehension처럼 사용\n",
        "(i for i in range(5))"
      ],
      "metadata": {
        "colab": {
          "base_uri": "https://localhost:8080/"
        },
        "id": "k9KZejQKLHTo",
        "outputId": "a4b142bf-622e-4481-d6eb-1ea9cb946671"
      },
      "execution_count": 79,
      "outputs": [
        {
          "output_type": "execute_result",
          "data": {
            "text/plain": [
              "<generator object <genexpr> at 0x7f024be83d60>"
            ]
          },
          "metadata": {},
          "execution_count": 79
        }
      ]
    },
    {
      "cell_type": "code",
      "source": [
        "t = (i for i in range(5))\n",
        "t"
      ],
      "metadata": {
        "colab": {
          "base_uri": "https://localhost:8080/"
        },
        "id": "049lG5W9Lmtx",
        "outputId": "22d8af9f-74de-4c02-9d76-fdbe4d5d2377"
      },
      "execution_count": 82,
      "outputs": [
        {
          "output_type": "execute_result",
          "data": {
            "text/plain": [
              "<generator object <genexpr> at 0x7f024be83ac0>"
            ]
          },
          "metadata": {},
          "execution_count": 82
        }
      ]
    },
    {
      "cell_type": "code",
      "source": [
        "print(dir(t))"
      ],
      "metadata": {
        "colab": {
          "base_uri": "https://localhost:8080/"
        },
        "id": "2ob24WHDMOlS",
        "outputId": "19b593de-53f0-4c18-efce-5c1e6b39353e"
      },
      "execution_count": 84,
      "outputs": [
        {
          "output_type": "stream",
          "name": "stdout",
          "text": [
            "['__class__', '__del__', '__delattr__', '__dir__', '__doc__', '__eq__', '__format__', '__ge__', '__getattribute__', '__gt__', '__hash__', '__init__', '__init_subclass__', '__iter__', '__le__', '__lt__', '__name__', '__ne__', '__new__', '__next__', '__qualname__', '__reduce__', '__reduce_ex__', '__repr__', '__setattr__', '__sizeof__', '__str__', '__subclasshook__', 'close', 'gi_code', 'gi_frame', 'gi_running', 'gi_yieldfrom', 'send', 'throw']\n"
          ]
        }
      ]
    },
    {
      "cell_type": "code",
      "source": [
        "next(t)"
      ],
      "metadata": {
        "colab": {
          "base_uri": "https://localhost:8080/"
        },
        "id": "sIo3rDg0MPrp",
        "outputId": "73340dbc-6037-40d7-949e-eb7ae8835c46"
      },
      "execution_count": 85,
      "outputs": [
        {
          "output_type": "execute_result",
          "data": {
            "text/plain": [
              "0"
            ]
          },
          "metadata": {},
          "execution_count": 85
        }
      ]
    },
    {
      "cell_type": "code",
      "source": [
        "next(t)"
      ],
      "metadata": {
        "colab": {
          "base_uri": "https://localhost:8080/"
        },
        "id": "c5rLew_YMf6R",
        "outputId": "babcf4b6-bead-42b0-fddc-619210dc2173"
      },
      "execution_count": 86,
      "outputs": [
        {
          "output_type": "execute_result",
          "data": {
            "text/plain": [
              "1"
            ]
          },
          "metadata": {},
          "execution_count": 86
        }
      ]
    },
    {
      "cell_type": "code",
      "source": [
        " # generator을 만드는 두번째 방법 : yield을 이용하는 방법\n",
        "def y():\n",
        "   yield 1\n",
        "   yield 2"
      ],
      "metadata": {
        "id": "csL2sRgaMhTY"
      },
      "execution_count": 90,
      "outputs": []
    },
    {
      "cell_type": "code",
      "source": [
        "t = y()\n",
        "t"
      ],
      "metadata": {
        "colab": {
          "base_uri": "https://localhost:8080/"
        },
        "id": "7f4X2wpRQFpW",
        "outputId": "e8a19db0-b02c-433c-e750-7d15d31f673b"
      },
      "execution_count": 92,
      "outputs": [
        {
          "output_type": "execute_result",
          "data": {
            "text/plain": [
              "<generator object y at 0x7f024be83f20>"
            ]
          },
          "metadata": {},
          "execution_count": 92
        }
      ]
    },
    {
      "cell_type": "code",
      "source": [
        "next(t)"
      ],
      "metadata": {
        "colab": {
          "base_uri": "https://localhost:8080/"
        },
        "id": "UXfMRkBXQHZ7",
        "outputId": "03b45221-2ce9-45d0-96cd-08e2259bc798"
      },
      "execution_count": 93,
      "outputs": [
        {
          "output_type": "execute_result",
          "data": {
            "text/plain": [
              "1"
            ]
          },
          "metadata": {},
          "execution_count": 93
        }
      ]
    },
    {
      "cell_type": "code",
      "source": [
        "next(t)"
      ],
      "metadata": {
        "colab": {
          "base_uri": "https://localhost:8080/"
        },
        "id": "lF9etGtEQT5T",
        "outputId": "8a99a91b-56a0-4605-e9de-f14df08f76ed"
      },
      "execution_count": 94,
      "outputs": [
        {
          "output_type": "execute_result",
          "data": {
            "text/plain": [
              "2"
            ]
          },
          "metadata": {},
          "execution_count": 94
        }
      ]
    },
    {
      "cell_type": "code",
      "source": [
        "#StopIteration: \n",
        "next(t)"
      ],
      "metadata": {
        "colab": {
          "base_uri": "https://localhost:8080/",
          "height": 166
        },
        "id": "Gsv6KQavQkkh",
        "outputId": "c68ab45b-234e-403b-d398-842fe06f3a80"
      },
      "execution_count": 95,
      "outputs": [
        {
          "output_type": "error",
          "ename": "StopIteration",
          "evalue": "ignored",
          "traceback": [
            "\u001b[0;31m---------------------------------------------------------------------------\u001b[0m",
            "\u001b[0;31mStopIteration\u001b[0m                             Traceback (most recent call last)",
            "\u001b[0;32m<ipython-input-95-f843efe259be>\u001b[0m in \u001b[0;36m<module>\u001b[0;34m\u001b[0m\n\u001b[0;32m----> 1\u001b[0;31m \u001b[0mnext\u001b[0m\u001b[0;34m(\u001b[0m\u001b[0mt\u001b[0m\u001b[0;34m)\u001b[0m\u001b[0;34m\u001b[0m\u001b[0;34m\u001b[0m\u001b[0m\n\u001b[0m",
            "\u001b[0;31mStopIteration\u001b[0m: "
          ]
        }
      ]
    },
    {
      "cell_type": "code",
      "source": [
        "# range(횟수) 처럼 동작하는 generator 생성\n",
        "def num_gen(stop):\n",
        "  n = 0\n",
        "  while n < stop:\n",
        "    yield n\n",
        "    n += 1"
      ],
      "metadata": {
        "id": "tRtpcGVqQpTM"
      },
      "execution_count": 99,
      "outputs": []
    },
    {
      "cell_type": "code",
      "source": [
        "k = num_gen(3)"
      ],
      "metadata": {
        "id": "idDOzkj3RNbL"
      },
      "execution_count": 100,
      "outputs": []
    },
    {
      "cell_type": "code",
      "source": [
        "next(k)"
      ],
      "metadata": {
        "colab": {
          "base_uri": "https://localhost:8080/"
        },
        "id": "_icANCB2RRYT",
        "outputId": "6e4f86f3-48e8-4c48-c3ac-2be807e2b314"
      },
      "execution_count": 101,
      "outputs": [
        {
          "output_type": "execute_result",
          "data": {
            "text/plain": [
              "0"
            ]
          },
          "metadata": {},
          "execution_count": 101
        }
      ]
    },
    {
      "cell_type": "code",
      "source": [
        "next(k)"
      ],
      "metadata": {
        "colab": {
          "base_uri": "https://localhost:8080/"
        },
        "id": "JqJIUMBIRdvN",
        "outputId": "fe0d5bd1-5ca4-49f9-d0cb-25217936f8c1"
      },
      "execution_count": 102,
      "outputs": [
        {
          "output_type": "execute_result",
          "data": {
            "text/plain": [
              "1"
            ]
          },
          "metadata": {},
          "execution_count": 102
        }
      ]
    },
    {
      "cell_type": "code",
      "source": [
        "next(k)"
      ],
      "metadata": {
        "colab": {
          "base_uri": "https://localhost:8080/"
        },
        "id": "f0GDL5JuSK-n",
        "outputId": "e25f47ba-bbda-47fa-8ae4-dbe557b50ab4"
      },
      "execution_count": 104,
      "outputs": [
        {
          "output_type": "execute_result",
          "data": {
            "text/plain": [
              "2"
            ]
          },
          "metadata": {},
          "execution_count": 104
        }
      ]
    },
    {
      "cell_type": "markdown",
      "source": [
        "### 숫자로 구성된 하나의 리스트를 입력받아, 짝수들을 추출하여 리스트로 반환하는 pickup_even함수를 구현할때 list comprehension을 사용"
      ],
      "metadata": {
        "id": "kxiStL41TeyO"
      }
    },
    {
      "cell_type": "code",
      "source": [
        "a= []\n",
        "def pickup_even(items):\n",
        " # for i in items:\n",
        " #   if i%2==0 :\n",
        " #     a.append(i)\n",
        " #   return a\n",
        "   return [i for i in items if i%2==0]"
      ],
      "metadata": {
        "id": "0yrumqG0TcLt"
      },
      "execution_count": 109,
      "outputs": []
    },
    {
      "cell_type": "code",
      "source": [
        "pickup_even([3,4,5,6,7,8])"
      ],
      "metadata": {
        "colab": {
          "base_uri": "https://localhost:8080/"
        },
        "id": "IVjpijWCUMAc",
        "outputId": "b34c846d-236a-4e02-ecbb-7544ca7b1e3e"
      },
      "execution_count": 110,
      "outputs": [
        {
          "output_type": "execute_result",
          "data": {
            "text/plain": [
              "[4, 6, 8]"
            ]
          },
          "metadata": {},
          "execution_count": 110
        }
      ]
    },
    {
      "cell_type": "markdown",
      "source": [
        "총판매금액을 구하는 프로그램(list comprehension을 사용)   \n",
        "cnt = [1,1,2,1]   \n",
        "prod = [500,1000,400,600] "
      ],
      "metadata": {
        "id": "-1Om1OZWVZ83"
      }
    },
    {
      "cell_type": "code",
      "source": [
        "# zip은 두개의 index를 하나로 묶어준다.\n",
        "cnt = [1,1,2,1]\n",
        "prod = [500, 1000 ,400, 600]\n",
        "sum([ c * p for c, p in zip(cnt, prod) ])"
      ],
      "metadata": {
        "colab": {
          "base_uri": "https://localhost:8080/"
        },
        "id": "MBkFXLnXUePF",
        "outputId": "670d5477-1638-4932-dc5a-88cac201caf4"
      },
      "execution_count": 111,
      "outputs": [
        {
          "output_type": "execute_result",
          "data": {
            "text/plain": [
              "2900"
            ]
          },
          "metadata": {},
          "execution_count": 111
        }
      ]
    },
    {
      "cell_type": "markdown",
      "source": [
        "리스트에서 짝수값만 추출해서 index와 함께 출력하는 프로그램을 구현하세요.   \n",
        "data = [1,3,5,8,9,11,15,19,18,20,30,33,31]"
      ],
      "metadata": {
        "id": "xl7bGcx1XBJm"
      }
    },
    {
      "cell_type": "code",
      "source": [
        "data = [1,3,5,8,9,11,15,19,18,20,30,33,31]\n",
        "for i,v in enumerate([i for i in data if i%2==0]):\n",
        "  print(i,v)"
      ],
      "metadata": {
        "colab": {
          "base_uri": "https://localhost:8080/"
        },
        "id": "gQxvuYWpWWsI",
        "outputId": "4adca33c-767e-4997-e5b8-ae5a09bf27c1"
      },
      "execution_count": 119,
      "outputs": [
        {
          "output_type": "stream",
          "name": "stdout",
          "text": [
            "0 8\n",
            "1 18\n",
            "2 20\n",
            "3 30\n"
          ]
        }
      ]
    },
    {
      "cell_type": "markdown",
      "source": [
        "'e'가 포함되어 있는 과일들만 추출해서 대문자로 출력하는 프로그램을 구현하세요.   \n",
        "frults = ['apple', 'banana', 'cherry', 'grape', 'kiwi', 'tomato]   \n",
        "[출력결과]   \n",
        "['APPLE', 'CHERRY', 'GRAPE']"
      ],
      "metadata": {
        "id": "rQf-XxbactYL"
      }
    },
    {
      "cell_type": "code",
      "source": [
        "frults = ['apple', 'banana', 'cherry', 'grape', 'kiwi', 'tomato']\n",
        "result = [f.upper() for f in frults if 'e' in f]\n",
        "print(result)"
      ],
      "metadata": {
        "colab": {
          "base_uri": "https://localhost:8080/"
        },
        "id": "BGJdNb6zdQ8K",
        "outputId": "355f59ea-17ca-42e9-d0c8-1a52376a7a7c"
      },
      "execution_count": 123,
      "outputs": [
        {
          "output_type": "stream",
          "name": "stdout",
          "text": [
            "['APPLE', 'CHERRY', 'GRAPE']\n"
          ]
        }
      ]
    }
  ]
}