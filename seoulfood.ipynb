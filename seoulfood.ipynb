{
  "nbformat": 4,
  "nbformat_minor": 0,
  "metadata": {
    "colab": {
      "provenance": [],
      "authorship_tag": "ABX9TyO7p0yiBAWQ6vKU83Wt03n9",
      "include_colab_link": true
    },
    "kernelspec": {
      "name": "python3",
      "display_name": "Python 3"
    },
    "language_info": {
      "name": "python"
    }
  },
  "cells": [
    {
      "cell_type": "markdown",
      "metadata": {
        "id": "view-in-github",
        "colab_type": "text"
      },
      "source": [
        "<a href=\"https://colab.research.google.com/github/dlscks/pythondemo/blob/main/seoulfood.ipynb\" target=\"_parent\"><img src=\"https://colab.research.google.com/assets/colab-badge.svg\" alt=\"Open In Colab\"/></a>"
      ]
    },
    {
      "cell_type": "code",
      "execution_count": 1,
      "metadata": {
        "colab": {
          "base_uri": "https://localhost:8080/"
        },
        "id": "GsMRGhuIB4rF",
        "outputId": "f3b725e6-865d-4c79-d704-074ca27be3bb"
      },
      "outputs": [
        {
          "output_type": "stream",
          "name": "stdout",
          "text": [
            "Reading package lists... Done\n",
            "Building dependency tree       \n",
            "Reading state information... Done\n",
            "The following package was automatically installed and is no longer required:\n",
            "  libnvidia-common-460\n",
            "Use 'sudo apt autoremove' to remove it.\n",
            "The following NEW packages will be installed:\n",
            "  fonts-nanum\n",
            "0 upgraded, 1 newly installed, 0 to remove and 20 not upgraded.\n",
            "Need to get 9,604 kB of archives.\n",
            "After this operation, 29.5 MB of additional disk space will be used.\n",
            "Get:1 http://archive.ubuntu.com/ubuntu bionic/universe amd64 fonts-nanum all 20170925-1 [9,604 kB]\n",
            "Fetched 9,604 kB in 1s (9,854 kB/s)\n",
            "debconf: unable to initialize frontend: Dialog\n",
            "debconf: (No usable dialog-like program is installed, so the dialog based frontend cannot be used. at /usr/share/perl5/Debconf/FrontEnd/Dialog.pm line 76, <> line 1.)\n",
            "debconf: falling back to frontend: Readline\n",
            "debconf: unable to initialize frontend: Readline\n",
            "debconf: (This frontend requires a controlling tty.)\n",
            "debconf: falling back to frontend: Teletype\n",
            "dpkg-preconfigure: unable to re-open stdin: \n",
            "Selecting previously unselected package fonts-nanum.\n",
            "(Reading database ... 124016 files and directories currently installed.)\n",
            "Preparing to unpack .../fonts-nanum_20170925-1_all.deb ...\n",
            "Unpacking fonts-nanum (20170925-1) ...\n",
            "Setting up fonts-nanum (20170925-1) ...\n",
            "Processing triggers for fontconfig (2.12.6-0ubuntu2) ...\n",
            "/usr/share/fonts: caching, new cache contents: 0 fonts, 1 dirs\n",
            "/usr/share/fonts/truetype: caching, new cache contents: 0 fonts, 3 dirs\n",
            "/usr/share/fonts/truetype/humor-sans: caching, new cache contents: 1 fonts, 0 dirs\n",
            "/usr/share/fonts/truetype/liberation: caching, new cache contents: 16 fonts, 0 dirs\n",
            "/usr/share/fonts/truetype/nanum: caching, new cache contents: 10 fonts, 0 dirs\n",
            "/usr/local/share/fonts: caching, new cache contents: 0 fonts, 0 dirs\n",
            "/root/.local/share/fonts: skipping, no such directory\n",
            "/root/.fonts: skipping, no such directory\n",
            "/var/cache/fontconfig: cleaning cache directory\n",
            "/root/.cache/fontconfig: not cleaning non-existent cache directory\n",
            "/root/.fontconfig: not cleaning non-existent cache directory\n",
            "fc-cache: succeeded\n"
          ]
        }
      ],
      "source": [
        "!sudo apt-get install -y fonts-nanum\n",
        "!sudo fc-cache -fv\n",
        "!rm ~/.cache/matplotlib -rf"
      ]
    },
    {
      "cell_type": "code",
      "source": [
        "from google.colab import drive\n",
        "drive.mount('/content/drive')\n",
        "\n",
        "%cd /content/drive/MyDrive/seoulfood"
      ],
      "metadata": {
        "colab": {
          "base_uri": "https://localhost:8080/"
        },
        "id": "fbVpHWDbCmuE",
        "outputId": "ffd0bfbe-51f0-4acd-d5fd-fb563d09a4b0"
      },
      "execution_count": 1,
      "outputs": [
        {
          "output_type": "stream",
          "name": "stdout",
          "text": [
            "Mounted at /content/drive\n",
            "/content/drive/MyDrive/seoulfood\n"
          ]
        }
      ]
    },
    {
      "cell_type": "code",
      "source": [
        "import numpy as np\n",
        "import pandas as pd\n",
        "import matplotlib as mp\n",
        "import matplotlib.pyplot as plt\n",
        "import seaborn as sns"
      ],
      "metadata": {
        "id": "VOgBeOeqCyP0"
      },
      "execution_count": 2,
      "outputs": []
    },
    {
      "cell_type": "code",
      "source": [
        "plt.rc('font', family='NanumBarunGothic')"
      ],
      "metadata": {
        "id": "ay_VuSM4C5tK"
      },
      "execution_count": 3,
      "outputs": []
    },
    {
      "cell_type": "code",
      "source": [
        "df = pd.read_csv('seoulfood/seoulfood.csv', sep=',', encoding='ms949')\n",
        "df.head()"
      ],
      "metadata": {
        "colab": {
          "base_uri": "https://localhost:8080/",
          "height": 424
        },
        "id": "2daCWY0_C7LC",
        "outputId": "dfd661dd-cebe-4a11-f613-5fc917fc9382"
      },
      "execution_count": 8,
      "outputs": [
        {
          "output_type": "execute_result",
          "data": {
            "text/plain": [
              "  foodstore_id foodcategory_code foodcategory foodtype_code   foodtype  \\\n",
              "0          비지트               Q01           한식        Q01A01  한식/백반/한정식   \n",
              "1         쓰리에프               Q01           한식        Q01A01  한식/백반/한정식   \n",
              "2           다향               Q01           한식        Q01A01  한식/백반/한정식   \n",
              "3       고향생막걸리               Q09         유흥주점        Q09A04       민속주점   \n",
              "4    도전최강달인왕만두               Q01           한식        Q01A01  한식/백반/한정식   \n",
              "\n",
              "   states_code states   area_code area   adress_code               address  \\\n",
              "0        11650    서초구  1165010100  방배동  1.170000e+18  서울특별시 서초구 방배동 854-18   \n",
              "1        11590    동작구  1159010700  사당동  1.160000e+18  서울특별시 동작구 사당동 139-72   \n",
              "2        11650    서초구  1165010800  서초동  1.170000e+18  서울특별시 서초구 서초동 1485-3   \n",
              "3        11680    강남구  1168010700  신사동  1.170000e+18   서울특별시 강남구 신사동 615-1   \n",
              "4        11740    강동구  1174010200  고덕동  1.170000e+18     서울특별시 강동구 고덕동 693   \n",
              "\n",
              "            road_name   latitude   longitude  \n",
              "0    서울특별시 서초구 동광로18길  37.488375  126.991394  \n",
              "1  서울특별시 동작구 동작대로27가길  37.487105  126.980952  \n",
              "2       서울특별시 서초구 효령로  37.483436  127.009382  \n",
              "3      서울특별시 강남구 압구정로  37.528073  127.031013  \n",
              "4       서울특별시 강동구 고덕로  37.556197  127.159471  "
            ],
            "text/html": [
              "\n",
              "  <div id=\"df-9c34fe0a-5623-44a0-96f8-78a4db480ad1\">\n",
              "    <div class=\"colab-df-container\">\n",
              "      <div>\n",
              "<style scoped>\n",
              "    .dataframe tbody tr th:only-of-type {\n",
              "        vertical-align: middle;\n",
              "    }\n",
              "\n",
              "    .dataframe tbody tr th {\n",
              "        vertical-align: top;\n",
              "    }\n",
              "\n",
              "    .dataframe thead th {\n",
              "        text-align: right;\n",
              "    }\n",
              "</style>\n",
              "<table border=\"1\" class=\"dataframe\">\n",
              "  <thead>\n",
              "    <tr style=\"text-align: right;\">\n",
              "      <th></th>\n",
              "      <th>foodstore_id</th>\n",
              "      <th>foodcategory_code</th>\n",
              "      <th>foodcategory</th>\n",
              "      <th>foodtype_code</th>\n",
              "      <th>foodtype</th>\n",
              "      <th>states_code</th>\n",
              "      <th>states</th>\n",
              "      <th>area_code</th>\n",
              "      <th>area</th>\n",
              "      <th>adress_code</th>\n",
              "      <th>address</th>\n",
              "      <th>road_name</th>\n",
              "      <th>latitude</th>\n",
              "      <th>longitude</th>\n",
              "    </tr>\n",
              "  </thead>\n",
              "  <tbody>\n",
              "    <tr>\n",
              "      <th>0</th>\n",
              "      <td>비지트</td>\n",
              "      <td>Q01</td>\n",
              "      <td>한식</td>\n",
              "      <td>Q01A01</td>\n",
              "      <td>한식/백반/한정식</td>\n",
              "      <td>11650</td>\n",
              "      <td>서초구</td>\n",
              "      <td>1165010100</td>\n",
              "      <td>방배동</td>\n",
              "      <td>1.170000e+18</td>\n",
              "      <td>서울특별시 서초구 방배동 854-18</td>\n",
              "      <td>서울특별시 서초구 동광로18길</td>\n",
              "      <td>37.488375</td>\n",
              "      <td>126.991394</td>\n",
              "    </tr>\n",
              "    <tr>\n",
              "      <th>1</th>\n",
              "      <td>쓰리에프</td>\n",
              "      <td>Q01</td>\n",
              "      <td>한식</td>\n",
              "      <td>Q01A01</td>\n",
              "      <td>한식/백반/한정식</td>\n",
              "      <td>11590</td>\n",
              "      <td>동작구</td>\n",
              "      <td>1159010700</td>\n",
              "      <td>사당동</td>\n",
              "      <td>1.160000e+18</td>\n",
              "      <td>서울특별시 동작구 사당동 139-72</td>\n",
              "      <td>서울특별시 동작구 동작대로27가길</td>\n",
              "      <td>37.487105</td>\n",
              "      <td>126.980952</td>\n",
              "    </tr>\n",
              "    <tr>\n",
              "      <th>2</th>\n",
              "      <td>다향</td>\n",
              "      <td>Q01</td>\n",
              "      <td>한식</td>\n",
              "      <td>Q01A01</td>\n",
              "      <td>한식/백반/한정식</td>\n",
              "      <td>11650</td>\n",
              "      <td>서초구</td>\n",
              "      <td>1165010800</td>\n",
              "      <td>서초동</td>\n",
              "      <td>1.170000e+18</td>\n",
              "      <td>서울특별시 서초구 서초동 1485-3</td>\n",
              "      <td>서울특별시 서초구 효령로</td>\n",
              "      <td>37.483436</td>\n",
              "      <td>127.009382</td>\n",
              "    </tr>\n",
              "    <tr>\n",
              "      <th>3</th>\n",
              "      <td>고향생막걸리</td>\n",
              "      <td>Q09</td>\n",
              "      <td>유흥주점</td>\n",
              "      <td>Q09A04</td>\n",
              "      <td>민속주점</td>\n",
              "      <td>11680</td>\n",
              "      <td>강남구</td>\n",
              "      <td>1168010700</td>\n",
              "      <td>신사동</td>\n",
              "      <td>1.170000e+18</td>\n",
              "      <td>서울특별시 강남구 신사동 615-1</td>\n",
              "      <td>서울특별시 강남구 압구정로</td>\n",
              "      <td>37.528073</td>\n",
              "      <td>127.031013</td>\n",
              "    </tr>\n",
              "    <tr>\n",
              "      <th>4</th>\n",
              "      <td>도전최강달인왕만두</td>\n",
              "      <td>Q01</td>\n",
              "      <td>한식</td>\n",
              "      <td>Q01A01</td>\n",
              "      <td>한식/백반/한정식</td>\n",
              "      <td>11740</td>\n",
              "      <td>강동구</td>\n",
              "      <td>1174010200</td>\n",
              "      <td>고덕동</td>\n",
              "      <td>1.170000e+18</td>\n",
              "      <td>서울특별시 강동구 고덕동 693</td>\n",
              "      <td>서울특별시 강동구 고덕로</td>\n",
              "      <td>37.556197</td>\n",
              "      <td>127.159471</td>\n",
              "    </tr>\n",
              "  </tbody>\n",
              "</table>\n",
              "</div>\n",
              "      <button class=\"colab-df-convert\" onclick=\"convertToInteractive('df-9c34fe0a-5623-44a0-96f8-78a4db480ad1')\"\n",
              "              title=\"Convert this dataframe to an interactive table.\"\n",
              "              style=\"display:none;\">\n",
              "        \n",
              "  <svg xmlns=\"http://www.w3.org/2000/svg\" height=\"24px\"viewBox=\"0 0 24 24\"\n",
              "       width=\"24px\">\n",
              "    <path d=\"M0 0h24v24H0V0z\" fill=\"none\"/>\n",
              "    <path d=\"M18.56 5.44l.94 2.06.94-2.06 2.06-.94-2.06-.94-.94-2.06-.94 2.06-2.06.94zm-11 1L8.5 8.5l.94-2.06 2.06-.94-2.06-.94L8.5 2.5l-.94 2.06-2.06.94zm10 10l.94 2.06.94-2.06 2.06-.94-2.06-.94-.94-2.06-.94 2.06-2.06.94z\"/><path d=\"M17.41 7.96l-1.37-1.37c-.4-.4-.92-.59-1.43-.59-.52 0-1.04.2-1.43.59L10.3 9.45l-7.72 7.72c-.78.78-.78 2.05 0 2.83L4 21.41c.39.39.9.59 1.41.59.51 0 1.02-.2 1.41-.59l7.78-7.78 2.81-2.81c.8-.78.8-2.07 0-2.86zM5.41 20L4 18.59l7.72-7.72 1.47 1.35L5.41 20z\"/>\n",
              "  </svg>\n",
              "      </button>\n",
              "      \n",
              "  <style>\n",
              "    .colab-df-container {\n",
              "      display:flex;\n",
              "      flex-wrap:wrap;\n",
              "      gap: 12px;\n",
              "    }\n",
              "\n",
              "    .colab-df-convert {\n",
              "      background-color: #E8F0FE;\n",
              "      border: none;\n",
              "      border-radius: 50%;\n",
              "      cursor: pointer;\n",
              "      display: none;\n",
              "      fill: #1967D2;\n",
              "      height: 32px;\n",
              "      padding: 0 0 0 0;\n",
              "      width: 32px;\n",
              "    }\n",
              "\n",
              "    .colab-df-convert:hover {\n",
              "      background-color: #E2EBFA;\n",
              "      box-shadow: 0px 1px 2px rgba(60, 64, 67, 0.3), 0px 1px 3px 1px rgba(60, 64, 67, 0.15);\n",
              "      fill: #174EA6;\n",
              "    }\n",
              "\n",
              "    [theme=dark] .colab-df-convert {\n",
              "      background-color: #3B4455;\n",
              "      fill: #D2E3FC;\n",
              "    }\n",
              "\n",
              "    [theme=dark] .colab-df-convert:hover {\n",
              "      background-color: #434B5C;\n",
              "      box-shadow: 0px 1px 3px 1px rgba(0, 0, 0, 0.15);\n",
              "      filter: drop-shadow(0px 1px 2px rgba(0, 0, 0, 0.3));\n",
              "      fill: #FFFFFF;\n",
              "    }\n",
              "  </style>\n",
              "\n",
              "      <script>\n",
              "        const buttonEl =\n",
              "          document.querySelector('#df-9c34fe0a-5623-44a0-96f8-78a4db480ad1 button.colab-df-convert');\n",
              "        buttonEl.style.display =\n",
              "          google.colab.kernel.accessAllowed ? 'block' : 'none';\n",
              "\n",
              "        async function convertToInteractive(key) {\n",
              "          const element = document.querySelector('#df-9c34fe0a-5623-44a0-96f8-78a4db480ad1');\n",
              "          const dataTable =\n",
              "            await google.colab.kernel.invokeFunction('convertToInteractive',\n",
              "                                                     [key], {});\n",
              "          if (!dataTable) return;\n",
              "\n",
              "          const docLinkHtml = 'Like what you see? Visit the ' +\n",
              "            '<a target=\"_blank\" href=https://colab.research.google.com/notebooks/data_table.ipynb>data table notebook</a>'\n",
              "            + ' to learn more about interactive tables.';\n",
              "          element.innerHTML = '';\n",
              "          dataTable['output_type'] = 'display_data';\n",
              "          await google.colab.output.renderOutput(dataTable, element);\n",
              "          const docLink = document.createElement('div');\n",
              "          docLink.innerHTML = docLinkHtml;\n",
              "          element.appendChild(docLink);\n",
              "        }\n",
              "      </script>\n",
              "    </div>\n",
              "  </div>\n",
              "  "
            ]
          },
          "metadata": {},
          "execution_count": 8
        }
      ]
    },
    {
      "cell_type": "code",
      "source": [
        "df.shape"
      ],
      "metadata": {
        "colab": {
          "base_uri": "https://localhost:8080/"
        },
        "id": "eSfYZ6KBDDQN",
        "outputId": "9aef8d4c-13cd-4259-e9f1-325df3cd7281"
      },
      "execution_count": 9,
      "outputs": [
        {
          "output_type": "execute_result",
          "data": {
            "text/plain": [
              "(121079, 14)"
            ]
          },
          "metadata": {},
          "execution_count": 9
        }
      ]
    },
    {
      "cell_type": "code",
      "source": [
        "df.columns"
      ],
      "metadata": {
        "colab": {
          "base_uri": "https://localhost:8080/"
        },
        "id": "1h3HP1w9DYsr",
        "outputId": "2d843bda-26d2-44ca-e423-464292c88a32"
      },
      "execution_count": 10,
      "outputs": [
        {
          "output_type": "execute_result",
          "data": {
            "text/plain": [
              "Index(['foodstore_id', 'foodcategory_code', 'foodcategory', 'foodtype_code',\n",
              "       'foodtype', 'states_code', 'states', 'area_code', 'area', 'adress_code',\n",
              "       'address', 'road_name', 'latitude', 'longitude'],\n",
              "      dtype='object')"
            ]
          },
          "metadata": {},
          "execution_count": 10
        }
      ]
    },
    {
      "cell_type": "code",
      "source": [
        "df['states'].value_counts()"
      ],
      "metadata": {
        "colab": {
          "base_uri": "https://localhost:8080/"
        },
        "id": "eEM0-JriDabS",
        "outputId": "ec08d02b-9fd0-42a4-9fa4-7966f9e1e710"
      },
      "execution_count": 18,
      "outputs": [
        {
          "output_type": "execute_result",
          "data": {
            "text/plain": [
              "강남구     11825\n",
              "마포구      7863\n",
              "송파구      7314\n",
              "강서구      6444\n",
              "서초구      6095\n",
              "영등포구     5502\n",
              "종로구      5047\n",
              "중구       4752\n",
              "강동구      4721\n",
              "관악구      4642\n",
              "광진구      4579\n",
              "용산구      4349\n",
              "구로구      4312\n",
              "은평구      4295\n",
              "성북구      4105\n",
              "동대문구     3986\n",
              "노원구      3960\n",
              "성동구      3858\n",
              "서대문구     3831\n",
              "중랑구      3639\n",
              "양천구      3626\n",
              "강북구      3403\n",
              "동작구      3269\n",
              "금천구      3067\n",
              "도봉구      2595\n",
              "Name: states, dtype: int64"
            ]
          },
          "metadata": {},
          "execution_count": 18
        }
      ]
    },
    {
      "cell_type": "code",
      "source": [
        "sns.countplot(data=df, y='states')"
      ],
      "metadata": {
        "colab": {
          "base_uri": "https://localhost:8080/",
          "height": 297
        },
        "id": "n0oiL7EQDuLC",
        "outputId": "8b5c8a96-7c8a-4a5e-819f-fef312b645e3"
      },
      "execution_count": 16,
      "outputs": [
        {
          "output_type": "execute_result",
          "data": {
            "text/plain": [
              "<matplotlib.axes._subplots.AxesSubplot at 0x7f9cd6195160>"
            ]
          },
          "metadata": {},
          "execution_count": 16
        },
        {
          "output_type": "display_data",
          "data": {
            "text/plain": [
              "<Figure size 432x288 with 1 Axes>"
            ],
            "image/png": "[encoded data removed]"
          },
          "metadata": {
            "needs_background": "light"
          }
        }
      ]
    },
    {
      "cell_type": "code",
      "source": [
        "df.columns"
      ],
      "metadata": {
        "colab": {
          "base_uri": "https://localhost:8080/"
        },
        "id": "lJUqFJvVHHcV",
        "outputId": "582266c5-bc92-4c01-847a-642127436170"
      },
      "execution_count": 20,
      "outputs": [
        {
          "output_type": "execute_result",
          "data": {
            "text/plain": [
              "Index(['foodstore_id', 'foodcategory_code', 'foodcategory', 'foodtype_code',\n",
              "       'foodtype', 'states_code', 'states', 'area_code', 'area', 'adress_code',\n",
              "       'address', 'road_name', 'latitude', 'longitude'],\n",
              "      dtype='object')"
            ]
          },
          "metadata": {},
          "execution_count": 20
        }
      ]
    },
    {
      "cell_type": "code",
      "source": [
        "dataset = df[['foodstore_id','foodcategory_code', 'foodcategory', 'foodtype_code',\n",
        "       'foodtype', 'states_code', 'states', 'area_code', 'area', 'adress_code',\n",
        "       'address', 'road_name', 'latitude', 'longitude']]\n",
        "dataset.head()"
      ],
      "metadata": {
        "colab": {
          "base_uri": "https://localhost:8080/",
          "height": 424
        },
        "id": "i8lsaqk1HMFK",
        "outputId": "aab8174b-1728-43ef-86d0-62c35781a631"
      },
      "execution_count": 21,
      "outputs": [
        {
          "output_type": "execute_result",
          "data": {
            "text/plain": [
              "  foodstore_id foodcategory_code foodcategory foodtype_code   foodtype  \\\n",
              "0          비지트               Q01           한식        Q01A01  한식/백반/한정식   \n",
              "1         쓰리에프               Q01           한식        Q01A01  한식/백반/한정식   \n",
              "2           다향               Q01           한식        Q01A01  한식/백반/한정식   \n",
              "3       고향생막걸리               Q09         유흥주점        Q09A04       민속주점   \n",
              "4    도전최강달인왕만두               Q01           한식        Q01A01  한식/백반/한정식   \n",
              "\n",
              "   states_code states   area_code area   adress_code               address  \\\n",
              "0        11650    서초구  1165010100  방배동  1.170000e+18  서울특별시 서초구 방배동 854-18   \n",
              "1        11590    동작구  1159010700  사당동  1.160000e+18  서울특별시 동작구 사당동 139-72   \n",
              "2        11650    서초구  1165010800  서초동  1.170000e+18  서울특별시 서초구 서초동 1485-3   \n",
              "3        11680    강남구  1168010700  신사동  1.170000e+18   서울특별시 강남구 신사동 615-1   \n",
              "4        11740    강동구  1174010200  고덕동  1.170000e+18     서울특별시 강동구 고덕동 693   \n",
              "\n",
              "            road_name   latitude   longitude  \n",
              "0    서울특별시 서초구 동광로18길  37.488375  126.991394  \n",
              "1  서울특별시 동작구 동작대로27가길  37.487105  126.980952  \n",
              "2       서울특별시 서초구 효령로  37.483436  127.009382  \n",
              "3      서울특별시 강남구 압구정로  37.528073  127.031013  \n",
              "4       서울특별시 강동구 고덕로  37.556197  127.159471  "
            ],
            "text/html": [
              "\n",
              "  <div id=\"df-e7f6b107-8f42-4dfb-8dc2-e21c4afa10cc\">\n",
              "    <div class=\"colab-df-container\">\n",
              "      <div>\n",
              "<style scoped>\n",
              "    .dataframe tbody tr th:only-of-type {\n",
              "        vertical-align: middle;\n",
              "    }\n",
              "\n",
              "    .dataframe tbody tr th {\n",
              "        vertical-align: top;\n",
              "    }\n",
              "\n",
              "    .dataframe thead th {\n",
              "        text-align: right;\n",
              "    }\n",
              "</style>\n",
              "<table border=\"1\" class=\"dataframe\">\n",
              "  <thead>\n",
              "    <tr style=\"text-align: right;\">\n",
              "      <th></th>\n",
              "      <th>foodstore_id</th>\n",
              "      <th>foodcategory_code</th>\n",
              "      <th>foodcategory</th>\n",
              "      <th>foodtype_code</th>\n",
              "      <th>foodtype</th>\n",
              "      <th>states_code</th>\n",
              "      <th>states</th>\n",
              "      <th>area_code</th>\n",
              "      <th>area</th>\n",
              "      <th>adress_code</th>\n",
              "      <th>address</th>\n",
              "      <th>road_name</th>\n",
              "      <th>latitude</th>\n",
              "      <th>longitude</th>\n",
              "    </tr>\n",
              "  </thead>\n",
              "  <tbody>\n",
              "    <tr>\n",
              "      <th>0</th>\n",
              "      <td>비지트</td>\n",
              "      <td>Q01</td>\n",
              "      <td>한식</td>\n",
              "      <td>Q01A01</td>\n",
              "      <td>한식/백반/한정식</td>\n",
              "      <td>11650</td>\n",
              "      <td>서초구</td>\n",
              "      <td>1165010100</td>\n",
              "      <td>방배동</td>\n",
              "      <td>1.170000e+18</td>\n",
              "      <td>서울특별시 서초구 방배동 854-18</td>\n",
              "      <td>서울특별시 서초구 동광로18길</td>\n",
              "      <td>37.488375</td>\n",
              "      <td>126.991394</td>\n",
              "    </tr>\n",
              "    <tr>\n",
              "      <th>1</th>\n",
              "      <td>쓰리에프</td>\n",
              "      <td>Q01</td>\n",
              "      <td>한식</td>\n",
              "      <td>Q01A01</td>\n",
              "      <td>한식/백반/한정식</td>\n",
              "      <td>11590</td>\n",
              "      <td>동작구</td>\n",
              "      <td>1159010700</td>\n",
              "      <td>사당동</td>\n",
              "      <td>1.160000e+18</td>\n",
              "      <td>서울특별시 동작구 사당동 139-72</td>\n",
              "      <td>서울특별시 동작구 동작대로27가길</td>\n",
              "      <td>37.487105</td>\n",
              "      <td>126.980952</td>\n",
              "    </tr>\n",
              "    <tr>\n",
              "      <th>2</th>\n",
              "      <td>다향</td>\n",
              "      <td>Q01</td>\n",
              "      <td>한식</td>\n",
              "      <td>Q01A01</td>\n",
              "      <td>한식/백반/한정식</td>\n",
              "      <td>11650</td>\n",
              "      <td>서초구</td>\n",
              "      <td>1165010800</td>\n",
              "      <td>서초동</td>\n",
              "      <td>1.170000e+18</td>\n",
              "      <td>서울특별시 서초구 서초동 1485-3</td>\n",
              "      <td>서울특별시 서초구 효령로</td>\n",
              "      <td>37.483436</td>\n",
              "      <td>127.009382</td>\n",
              "    </tr>\n",
              "    <tr>\n",
              "      <th>3</th>\n",
              "      <td>고향생막걸리</td>\n",
              "      <td>Q09</td>\n",
              "      <td>유흥주점</td>\n",
              "      <td>Q09A04</td>\n",
              "      <td>민속주점</td>\n",
              "      <td>11680</td>\n",
              "      <td>강남구</td>\n",
              "      <td>1168010700</td>\n",
              "      <td>신사동</td>\n",
              "      <td>1.170000e+18</td>\n",
              "      <td>서울특별시 강남구 신사동 615-1</td>\n",
              "      <td>서울특별시 강남구 압구정로</td>\n",
              "      <td>37.528073</td>\n",
              "      <td>127.031013</td>\n",
              "    </tr>\n",
              "    <tr>\n",
              "      <th>4</th>\n",
              "      <td>도전최강달인왕만두</td>\n",
              "      <td>Q01</td>\n",
              "      <td>한식</td>\n",
              "      <td>Q01A01</td>\n",
              "      <td>한식/백반/한정식</td>\n",
              "      <td>11740</td>\n",
              "      <td>강동구</td>\n",
              "      <td>1174010200</td>\n",
              "      <td>고덕동</td>\n",
              "      <td>1.170000e+18</td>\n",
              "      <td>서울특별시 강동구 고덕동 693</td>\n",
              "      <td>서울특별시 강동구 고덕로</td>\n",
              "      <td>37.556197</td>\n",
              "      <td>127.159471</td>\n",
              "    </tr>\n",
              "  </tbody>\n",
              "</table>\n",
              "</div>\n",
              "      <button class=\"colab-df-convert\" onclick=\"convertToInteractive('df-e7f6b107-8f42-4dfb-8dc2-e21c4afa10cc')\"\n",
              "              title=\"Convert this dataframe to an interactive table.\"\n",
              "              style=\"display:none;\">\n",
              "        \n",
              "  <svg xmlns=\"http://www.w3.org/2000/svg\" height=\"24px\"viewBox=\"0 0 24 24\"\n",
              "       width=\"24px\">\n",
              "    <path d=\"M0 0h24v24H0V0z\" fill=\"none\"/>\n",
              "    <path d=\"M18.56 5.44l.94 2.06.94-2.06 2.06-.94-2.06-.94-.94-2.06-.94 2.06-2.06.94zm-11 1L8.5 8.5l.94-2.06 2.06-.94-2.06-.94L8.5 2.5l-.94 2.06-2.06.94zm10 10l.94 2.06.94-2.06 2.06-.94-2.06-.94-.94-2.06-.94 2.06-2.06.94z\"/><path d=\"M17.41 7.96l-1.37-1.37c-.4-.4-.92-.59-1.43-.59-.52 0-1.04.2-1.43.59L10.3 9.45l-7.72 7.72c-.78.78-.78 2.05 0 2.83L4 21.41c.39.39.9.59 1.41.59.51 0 1.02-.2 1.41-.59l7.78-7.78 2.81-2.81c.8-.78.8-2.07 0-2.86zM5.41 20L4 18.59l7.72-7.72 1.47 1.35L5.41 20z\"/>\n",
              "  </svg>\n",
              "      </button>\n",
              "      \n",
              "  <style>\n",
              "    .colab-df-container {\n",
              "      display:flex;\n",
              "      flex-wrap:wrap;\n",
              "      gap: 12px;\n",
              "    }\n",
              "\n",
              "    .colab-df-convert {\n",
              "      background-color: #E8F0FE;\n",
              "      border: none;\n",
              "      border-radius: 50%;\n",
              "      cursor: pointer;\n",
              "      display: none;\n",
              "      fill: #1967D2;\n",
              "      height: 32px;\n",
              "      padding: 0 0 0 0;\n",
              "      width: 32px;\n",
              "    }\n",
              "\n",
              "    .colab-df-convert:hover {\n",
              "      background-color: #E2EBFA;\n",
              "      box-shadow: 0px 1px 2px rgba(60, 64, 67, 0.3), 0px 1px 3px 1px rgba(60, 64, 67, 0.15);\n",
              "      fill: #174EA6;\n",
              "    }\n",
              "\n",
              "    [theme=dark] .colab-df-convert {\n",
              "      background-color: #3B4455;\n",
              "      fill: #D2E3FC;\n",
              "    }\n",
              "\n",
              "    [theme=dark] .colab-df-convert:hover {\n",
              "      background-color: #434B5C;\n",
              "      box-shadow: 0px 1px 3px 1px rgba(0, 0, 0, 0.15);\n",
              "      filter: drop-shadow(0px 1px 2px rgba(0, 0, 0, 0.3));\n",
              "      fill: #FFFFFF;\n",
              "    }\n",
              "  </style>\n",
              "\n",
              "      <script>\n",
              "        const buttonEl =\n",
              "          document.querySelector('#df-e7f6b107-8f42-4dfb-8dc2-e21c4afa10cc button.colab-df-convert');\n",
              "        buttonEl.style.display =\n",
              "          google.colab.kernel.accessAllowed ? 'block' : 'none';\n",
              "\n",
              "        async function convertToInteractive(key) {\n",
              "          const element = document.querySelector('#df-e7f6b107-8f42-4dfb-8dc2-e21c4afa10cc');\n",
              "          const dataTable =\n",
              "            await google.colab.kernel.invokeFunction('convertToInteractive',\n",
              "                                                     [key], {});\n",
              "          if (!dataTable) return;\n",
              "\n",
              "          const docLinkHtml = 'Like what you see? Visit the ' +\n",
              "            '<a target=\"_blank\" href=https://colab.research.google.com/notebooks/data_table.ipynb>data table notebook</a>'\n",
              "            + ' to learn more about interactive tables.';\n",
              "          element.innerHTML = '';\n",
              "          dataTable['output_type'] = 'display_data';\n",
              "          await google.colab.output.renderOutput(dataTable, element);\n",
              "          const docLink = document.createElement('div');\n",
              "          docLink.innerHTML = docLinkHtml;\n",
              "          element.appendChild(docLink);\n",
              "        }\n",
              "      </script>\n",
              "    </div>\n",
              "  </div>\n",
              "  "
            ]
          },
          "metadata": {},
          "execution_count": 21
        }
      ]
    },
    {
      "cell_type": "code",
      "source": [
        "df_gangnam = dataset[dataset['states']=='강남구']\n",
        "df_gangnam.head()"
      ],
      "metadata": {
        "colab": {
          "base_uri": "https://localhost:8080/",
          "height": 424
        },
        "id": "eZWppQhtD6ob",
        "outputId": "9997f9f5-8f37-4385-9a49-2e580372f422"
      },
      "execution_count": 23,
      "outputs": [
        {
          "output_type": "execute_result",
          "data": {
            "text/plain": [
              "   foodstore_id foodcategory_code foodcategory foodtype_code     foodtype  \\\n",
              "3        고향생막걸리               Q09         유흥주점        Q09A04         민속주점   \n",
              "36      의정부부대찌개               Q01           한식        Q01A07    부대찌개/섞어찌개   \n",
              "42         바른치킨               Q05       닭/오리요리        Q05A08    후라이드/양념치킨   \n",
              "54          알뤼르               Q12       커피점/카페        Q12A01  커피전문점/카페/다방   \n",
              "62           하레               Q09         유흥주점        Q09A05        로바다야끼   \n",
              "\n",
              "    states_code states   area_code area   adress_code               address  \\\n",
              "3         11680    강남구  1168010700  신사동  1.170000e+18   서울특별시 강남구 신사동 615-1   \n",
              "36        11680    강남구  1168010600  대치동  1.170000e+18   서울특별시 강남구 대치동 955-6   \n",
              "42        11680    강남구  1168010600  대치동  1.170000e+18  서울특별시 강남구 대치동 889-72   \n",
              "54        11680    강남구  1168010600  대치동  1.170000e+18     서울특별시 강남구 대치동 894   \n",
              "62        11680    강남구  1168010600  대치동  1.170000e+18  서울특별시 강남구 대치동 944-25   \n",
              "\n",
              "            road_name   latitude   longitude  \n",
              "3      서울특별시 강남구 압구정로  37.528073  127.031013  \n",
              "36   서울특별시 강남구 역삼로83길  37.505082  127.059382  \n",
              "42   서울특별시 강남구 선릉로86길  37.503556  127.051054  \n",
              "54   서울특별시 강남구 삼성로85길  37.504378  127.054731  \n",
              "62  서울특별시 강남구 영동대로85길  37.506633  127.060562  "
            ],
            "text/html": [
              "\n",
              "  <div id=\"df-057c615a-9d54-4dab-816b-3e5877b8bb0c\">\n",
              "    <div class=\"colab-df-container\">\n",
              "      <div>\n",
              "<style scoped>\n",
              "    .dataframe tbody tr th:only-of-type {\n",
              "        vertical-align: middle;\n",
              "    }\n",
              "\n",
              "    .dataframe tbody tr th {\n",
              "        vertical-align: top;\n",
              "    }\n",
              "\n",
              "    .dataframe thead th {\n",
              "        text-align: right;\n",
              "    }\n",
              "</style>\n",
              "<table border=\"1\" class=\"dataframe\">\n",
              "  <thead>\n",
              "    <tr style=\"text-align: right;\">\n",
              "      <th></th>\n",
              "      <th>foodstore_id</th>\n",
              "      <th>foodcategory_code</th>\n",
              "      <th>foodcategory</th>\n",
              "      <th>foodtype_code</th>\n",
              "      <th>foodtype</th>\n",
              "      <th>states_code</th>\n",
              "      <th>states</th>\n",
              "      <th>area_code</th>\n",
              "      <th>area</th>\n",
              "      <th>adress_code</th>\n",
              "      <th>address</th>\n",
              "      <th>road_name</th>\n",
              "      <th>latitude</th>\n",
              "      <th>longitude</th>\n",
              "    </tr>\n",
              "  </thead>\n",
              "  <tbody>\n",
              "    <tr>\n",
              "      <th>3</th>\n",
              "      <td>고향생막걸리</td>\n",
              "      <td>Q09</td>\n",
              "      <td>유흥주점</td>\n",
              "      <td>Q09A04</td>\n",
              "      <td>민속주점</td>\n",
              "      <td>11680</td>\n",
              "      <td>강남구</td>\n",
              "      <td>1168010700</td>\n",
              "      <td>신사동</td>\n",
              "      <td>1.170000e+18</td>\n",
              "      <td>서울특별시 강남구 신사동 615-1</td>\n",
              "      <td>서울특별시 강남구 압구정로</td>\n",
              "      <td>37.528073</td>\n",
              "      <td>127.031013</td>\n",
              "    </tr>\n",
              "    <tr>\n",
              "      <th>36</th>\n",
              "      <td>의정부부대찌개</td>\n",
              "      <td>Q01</td>\n",
              "      <td>한식</td>\n",
              "      <td>Q01A07</td>\n",
              "      <td>부대찌개/섞어찌개</td>\n",
              "      <td>11680</td>\n",
              "      <td>강남구</td>\n",
              "      <td>1168010600</td>\n",
              "      <td>대치동</td>\n",
              "      <td>1.170000e+18</td>\n",
              "      <td>서울특별시 강남구 대치동 955-6</td>\n",
              "      <td>서울특별시 강남구 역삼로83길</td>\n",
              "      <td>37.505082</td>\n",
              "      <td>127.059382</td>\n",
              "    </tr>\n",
              "    <tr>\n",
              "      <th>42</th>\n",
              "      <td>바른치킨</td>\n",
              "      <td>Q05</td>\n",
              "      <td>닭/오리요리</td>\n",
              "      <td>Q05A08</td>\n",
              "      <td>후라이드/양념치킨</td>\n",
              "      <td>11680</td>\n",
              "      <td>강남구</td>\n",
              "      <td>1168010600</td>\n",
              "      <td>대치동</td>\n",
              "      <td>1.170000e+18</td>\n",
              "      <td>서울특별시 강남구 대치동 889-72</td>\n",
              "      <td>서울특별시 강남구 선릉로86길</td>\n",
              "      <td>37.503556</td>\n",
              "      <td>127.051054</td>\n",
              "    </tr>\n",
              "    <tr>\n",
              "      <th>54</th>\n",
              "      <td>알뤼르</td>\n",
              "      <td>Q12</td>\n",
              "      <td>커피점/카페</td>\n",
              "      <td>Q12A01</td>\n",
              "      <td>커피전문점/카페/다방</td>\n",
              "      <td>11680</td>\n",
              "      <td>강남구</td>\n",
              "      <td>1168010600</td>\n",
              "      <td>대치동</td>\n",
              "      <td>1.170000e+18</td>\n",
              "      <td>서울특별시 강남구 대치동 894</td>\n",
              "      <td>서울특별시 강남구 삼성로85길</td>\n",
              "      <td>37.504378</td>\n",
              "      <td>127.054731</td>\n",
              "    </tr>\n",
              "    <tr>\n",
              "      <th>62</th>\n",
              "      <td>하레</td>\n",
              "      <td>Q09</td>\n",
              "      <td>유흥주점</td>\n",
              "      <td>Q09A05</td>\n",
              "      <td>로바다야끼</td>\n",
              "      <td>11680</td>\n",
              "      <td>강남구</td>\n",
              "      <td>1168010600</td>\n",
              "      <td>대치동</td>\n",
              "      <td>1.170000e+18</td>\n",
              "      <td>서울특별시 강남구 대치동 944-25</td>\n",
              "      <td>서울특별시 강남구 영동대로85길</td>\n",
              "      <td>37.506633</td>\n",
              "      <td>127.060562</td>\n",
              "    </tr>\n",
              "  </tbody>\n",
              "</table>\n",
              "</div>\n",
              "      <button class=\"colab-df-convert\" onclick=\"convertToInteractive('df-057c615a-9d54-4dab-816b-3e5877b8bb0c')\"\n",
              "              title=\"Convert this dataframe to an interactive table.\"\n",
              "              style=\"display:none;\">\n",
              "        \n",
              "  <svg xmlns=\"http://www.w3.org/2000/svg\" height=\"24px\"viewBox=\"0 0 24 24\"\n",
              "       width=\"24px\">\n",
              "    <path d=\"M0 0h24v24H0V0z\" fill=\"none\"/>\n",
              "    <path d=\"M18.56 5.44l.94 2.06.94-2.06 2.06-.94-2.06-.94-.94-2.06-.94 2.06-2.06.94zm-11 1L8.5 8.5l.94-2.06 2.06-.94-2.06-.94L8.5 2.5l-.94 2.06-2.06.94zm10 10l.94 2.06.94-2.06 2.06-.94-2.06-.94-.94-2.06-.94 2.06-2.06.94z\"/><path d=\"M17.41 7.96l-1.37-1.37c-.4-.4-.92-.59-1.43-.59-.52 0-1.04.2-1.43.59L10.3 9.45l-7.72 7.72c-.78.78-.78 2.05 0 2.83L4 21.41c.39.39.9.59 1.41.59.51 0 1.02-.2 1.41-.59l7.78-7.78 2.81-2.81c.8-.78.8-2.07 0-2.86zM5.41 20L4 18.59l7.72-7.72 1.47 1.35L5.41 20z\"/>\n",
              "  </svg>\n",
              "      </button>\n",
              "      \n",
              "  <style>\n",
              "    .colab-df-container {\n",
              "      display:flex;\n",
              "      flex-wrap:wrap;\n",
              "      gap: 12px;\n",
              "    }\n",
              "\n",
              "    .colab-df-convert {\n",
              "      background-color: #E8F0FE;\n",
              "      border: none;\n",
              "      border-radius: 50%;\n",
              "      cursor: pointer;\n",
              "      display: none;\n",
              "      fill: #1967D2;\n",
              "      height: 32px;\n",
              "      padding: 0 0 0 0;\n",
              "      width: 32px;\n",
              "    }\n",
              "\n",
              "    .colab-df-convert:hover {\n",
              "      background-color: #E2EBFA;\n",
              "      box-shadow: 0px 1px 2px rgba(60, 64, 67, 0.3), 0px 1px 3px 1px rgba(60, 64, 67, 0.15);\n",
              "      fill: #174EA6;\n",
              "    }\n",
              "\n",
              "    [theme=dark] .colab-df-convert {\n",
              "      background-color: #3B4455;\n",
              "      fill: #D2E3FC;\n",
              "    }\n",
              "\n",
              "    [theme=dark] .colab-df-convert:hover {\n",
              "      background-color: #434B5C;\n",
              "      box-shadow: 0px 1px 3px 1px rgba(0, 0, 0, 0.15);\n",
              "      filter: drop-shadow(0px 1px 2px rgba(0, 0, 0, 0.3));\n",
              "      fill: #FFFFFF;\n",
              "    }\n",
              "  </style>\n",
              "\n",
              "      <script>\n",
              "        const buttonEl =\n",
              "          document.querySelector('#df-057c615a-9d54-4dab-816b-3e5877b8bb0c button.colab-df-convert');\n",
              "        buttonEl.style.display =\n",
              "          google.colab.kernel.accessAllowed ? 'block' : 'none';\n",
              "\n",
              "        async function convertToInteractive(key) {\n",
              "          const element = document.querySelector('#df-057c615a-9d54-4dab-816b-3e5877b8bb0c');\n",
              "          const dataTable =\n",
              "            await google.colab.kernel.invokeFunction('convertToInteractive',\n",
              "                                                     [key], {});\n",
              "          if (!dataTable) return;\n",
              "\n",
              "          const docLinkHtml = 'Like what you see? Visit the ' +\n",
              "            '<a target=\"_blank\" href=https://colab.research.google.com/notebooks/data_table.ipynb>data table notebook</a>'\n",
              "            + ' to learn more about interactive tables.';\n",
              "          element.innerHTML = '';\n",
              "          dataTable['output_type'] = 'display_data';\n",
              "          await google.colab.output.renderOutput(dataTable, element);\n",
              "          const docLink = document.createElement('div');\n",
              "          docLink.innerHTML = docLinkHtml;\n",
              "          element.appendChild(docLink);\n",
              "        }\n",
              "      </script>\n",
              "    </div>\n",
              "  </div>\n",
              "  "
            ]
          },
          "metadata": {},
          "execution_count": 23
        }
      ]
    },
    {
      "cell_type": "code",
      "source": [
        "df_gangnam['foodcategory'].value_counts()"
      ],
      "metadata": {
        "colab": {
          "base_uri": "https://localhost:8080/"
        },
        "id": "Kkya6CoPG62T",
        "outputId": "333ce17f-5b6d-4682-ce78-8e3fa7307ac9"
      },
      "execution_count": 24,
      "outputs": [
        {
          "output_type": "execute_result",
          "data": {
            "text/plain": [
              "한식         3688\n",
              "커피점/카페     2191\n",
              "양식         1288\n",
              "일식/수산물      993\n",
              "유흥주점        924\n",
              "분식          751\n",
              "패스트푸드       548\n",
              "제과제빵떡케익     485\n",
              "닭/오리요리      340\n",
              "중식          335\n",
              "별식/퓨전요리     224\n",
              "부페           47\n",
              "음식배달서비스      11\n",
              "Name: foodcategory, dtype: int64"
            ]
          },
          "metadata": {},
          "execution_count": 24
        }
      ]
    },
    {
      "cell_type": "code",
      "source": [
        "sns.countplot(data=df_gangnam, y='foodcategory')"
      ],
      "metadata": {
        "colab": {
          "base_uri": "https://localhost:8080/",
          "height": 297
        },
        "id": "FXGL88CAHxRJ",
        "outputId": "cb1f62ec-8b5c-4106-da06-8e08a0965191"
      },
      "execution_count": 25,
      "outputs": [
        {
          "output_type": "execute_result",
          "data": {
            "text/plain": [
              "<matplotlib.axes._subplots.AxesSubplot at 0x7f9cd582d340>"
            ]
          },
          "metadata": {},
          "execution_count": 25
        },
        {
          "output_type": "display_data",
          "data": {
            "text/plain": [
              "<Figure size 432x288 with 1 Axes>"
            ],
            "image/png": "[encoded data removed]"
          },
          "metadata": {
            "needs_background": "light"
          }
        }
      ]
    },
    {
      "cell_type": "code",
      "source": [],
      "metadata": {
        "id": "YSAG2OOJIEcL"
      },
      "execution_count": null,
      "outputs": []
    }
  ]
}