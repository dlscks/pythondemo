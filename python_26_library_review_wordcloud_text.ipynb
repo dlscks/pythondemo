{
  "nbformat": 4,
  "nbformat_minor": 0,
  "metadata": {
    "colab": {
      "provenance": [],
      "authorship_tag": "ABX9TyPKOStXcDtow8brAhacQJXr",
      "include_colab_link": true
    },
    "kernelspec": {
      "name": "python3",
      "display_name": "Python 3"
    },
    "language_info": {
      "name": "python"
    }
  },
  "cells": [
    {
      "cell_type": "markdown",
      "metadata": {
        "id": "view-in-github",
        "colab_type": "text"
      },
      "source": [
        "<a href=\"https://colab.research.google.com/github/dlscks/pythondemo/blob/main/python_26_library_review_wordcloud_text.ipynb\" target=\"_parent\"><img src=\"https://colab.research.google.com/assets/colab-badge.svg\" alt=\"Open In Colab\"/></a>"
      ]
    },
    {
      "cell_type": "markdown",
      "source": [
        "### 워드클라우드와 텍스트마이닝"
      ],
      "metadata": {
        "id": "r_k5Ykt4Tqwb"
      }
    },
    {
      "cell_type": "markdown",
      "source": [
        "### colab한글화"
      ],
      "metadata": {
        "id": "bCaHvpblTt06"
      }
    },
    {
      "cell_type": "code",
      "execution_count": null,
      "metadata": {
        "id": "irakJLhsTkwi"
      },
      "outputs": [],
      "source": [
        "!sudo apt-get install -y fonts-nanum\n",
        "!sudo fc-cache -fv\n",
        "!rm ~/.cache/matplotlib -rf"
      ]
    },
    {
      "cell_type": "markdown",
      "source": [
        "### 구글 드라이브 연동"
      ],
      "metadata": {
        "id": "meWSs_TPT8by"
      }
    },
    {
      "cell_type": "code",
      "source": [
        "from google.colab import drive\n",
        "drive.mount('/content/drive')\n",
        "\n",
        "%cd /content/drive/MyDrive/python_demo"
      ],
      "metadata": {
        "colab": {
          "base_uri": "https://localhost:8080/"
        },
        "id": "S2Egnhb-T-pK",
        "outputId": "23c216e6-2e04-40b1-a87d-1d3e2d0d7763"
      },
      "execution_count": 1,
      "outputs": [
        {
          "output_type": "stream",
          "name": "stdout",
          "text": [
            "Mounted at /content/drive\n",
            "/content/drive/MyDrive/python_demo\n"
          ]
        }
      ]
    },
    {
      "cell_type": "markdown",
      "source": [
        "### jpype 설치\n",
        "- python에서 java라이브러리를 이용할 수 있도록 설치한다."
      ],
      "metadata": {
        "id": "ogKpZm-6VA7x"
      }
    },
    {
      "cell_type": "code",
      "source": [
        "#https://www.lfd.uci.edu/~gohlke/pythonlibs/#jpype\n",
        "# 아래 부분 바로 실행하면 jpype설치됨\n",
        "!pip install -U \"jpype1<1.1\""
      ],
      "metadata": {
        "colab": {
          "base_uri": "https://localhost:8080/"
        },
        "id": "8BY8yiaHU2pB",
        "outputId": "502e10fd-6712-436a-d23a-29b8e664f50b"
      },
      "execution_count": 2,
      "outputs": [
        {
          "output_type": "stream",
          "name": "stdout",
          "text": [
            "Looking in indexes: https://pypi.org/simple, https://us-python.pkg.dev/colab-wheels/public/simple/\n",
            "Collecting jpype1<1.1\n",
            "  Downloading JPype1-1.0.2-cp38-cp38-manylinux2010_x86_64.whl (3.8 MB)\n",
            "\u001b[K     |████████████████████████████████| 3.8 MB 5.2 MB/s \n",
            "\u001b[?25hInstalling collected packages: jpype1\n",
            "Successfully installed jpype1-1.0.2\n"
          ]
        }
      ]
    },
    {
      "cell_type": "code",
      "source": [
        "# 한글을 사용하기 위해 세종사전을 이용\n",
        "!pip install konlpy\n",
        "!pip install wordcloud"
      ],
      "metadata": {
        "colab": {
          "base_uri": "https://localhost:8080/"
        },
        "id": "NKxNtTgJZX3J",
        "outputId": "c569e1ed-9da7-483f-d7e9-a3b09bcdb7c0"
      },
      "execution_count": 3,
      "outputs": [
        {
          "output_type": "stream",
          "name": "stdout",
          "text": [
            "Looking in indexes: https://pypi.org/simple, https://us-python.pkg.dev/colab-wheels/public/simple/\n",
            "Collecting konlpy\n",
            "  Downloading konlpy-0.6.0-py2.py3-none-any.whl (19.4 MB)\n",
            "\u001b[K     |████████████████████████████████| 19.4 MB 72.4 MB/s \n",
            "\u001b[?25hRequirement already satisfied: numpy>=1.6 in /usr/local/lib/python3.8/dist-packages (from konlpy) (1.21.6)\n",
            "Requirement already satisfied: lxml>=4.1.0 in /usr/local/lib/python3.8/dist-packages (from konlpy) (4.9.2)\n",
            "Requirement already satisfied: JPype1>=0.7.0 in /usr/local/lib/python3.8/dist-packages (from konlpy) (1.0.2)\n",
            "Installing collected packages: konlpy\n",
            "Successfully installed konlpy-0.6.0\n",
            "Looking in indexes: https://pypi.org/simple, https://us-python.pkg.dev/colab-wheels/public/simple/\n",
            "Requirement already satisfied: wordcloud in /usr/local/lib/python3.8/dist-packages (1.8.2.2)\n",
            "Requirement already satisfied: numpy>=1.6.1 in /usr/local/lib/python3.8/dist-packages (from wordcloud) (1.21.6)\n",
            "Requirement already satisfied: matplotlib in /usr/local/lib/python3.8/dist-packages (from wordcloud) (3.2.2)\n",
            "Requirement already satisfied: pillow in /usr/local/lib/python3.8/dist-packages (from wordcloud) (7.1.2)\n",
            "Requirement already satisfied: cycler>=0.10 in /usr/local/lib/python3.8/dist-packages (from matplotlib->wordcloud) (0.11.0)\n",
            "Requirement already satisfied: kiwisolver>=1.0.1 in /usr/local/lib/python3.8/dist-packages (from matplotlib->wordcloud) (1.4.4)\n",
            "Requirement already satisfied: pyparsing!=2.0.4,!=2.1.2,!=2.1.6,>=2.0.1 in /usr/local/lib/python3.8/dist-packages (from matplotlib->wordcloud) (3.0.9)\n",
            "Requirement already satisfied: python-dateutil>=2.1 in /usr/local/lib/python3.8/dist-packages (from matplotlib->wordcloud) (2.8.2)\n",
            "Requirement already satisfied: six>=1.5 in /usr/local/lib/python3.8/dist-packages (from python-dateutil>=2.1->matplotlib->wordcloud) (1.15.0)\n"
          ]
        }
      ]
    },
    {
      "cell_type": "code",
      "source": [
        "# 기본\n",
        "import numpy as np  #numpy 패키지 가져오기\n",
        "import pandas as pd  # pandas 패키지 가져오기\n",
        "import matplotlib.pyplot as plt  # 시각화 패키지 가져오기\n",
        "\n",
        "# 데이터 전처리\n",
        "from konlpy.tag import Okt\n",
        "from collections import Counter\n",
        "from wordcloud import WordCloud"
      ],
      "metadata": {
        "id": "L0vl3NC7ZinB"
      },
      "execution_count": 4,
      "outputs": []
    },
    {
      "cell_type": "code",
      "source": [
        "!pip list"
      ],
      "metadata": {
        "id": "w57d7OW9aKha"
      },
      "execution_count": null,
      "outputs": []
    },
    {
      "cell_type": "markdown",
      "source": [
        "### 데이터 가져오기"
      ],
      "metadata": {
        "id": "vf_XVsg9ah4I"
      }
    },
    {
      "cell_type": "code",
      "source": [
        "df = pd.read_csv('data_crowing/data.csv', encoding='cp949')\n",
        "df.head()"
      ],
      "metadata": {
        "colab": {
          "base_uri": "https://localhost:8080/",
          "height": 206
        },
        "id": "04veFkgnaLmA",
        "outputId": "76956567-17fb-4a29-9f88-849a32165d01"
      },
      "execution_count": 7,
      "outputs": [
        {
          "output_type": "execute_result",
          "data": {
            "text/plain": [
              "    번호 재학생구분  학년/학기    학과 성별  \\\n",
              "0   65    대학      1  인문계열  여   \n",
              "1   78    대학      3  사회계열  여   \n",
              "2  100    대학      1  사회계열  여   \n",
              "3  129    대학      4  인문계열  여   \n",
              "4   37    대학      2  인문계열  남   \n",
              "\n",
              "                                                text  \n",
              "0  1학기 때 책 읽으려고 갔는데 먼지가 있었어요. 그래서 책상에 먼지가 없었으면 좋겠어요.  \n",
              "1                                   KC대학교도서관 재건축해주세요  \n",
              "2                                       개인스터디할공간이 필요  \n",
              "3                               건물 재건축 및 교체, 내부 리모델링  \n",
              "4                        공부를 할 수 있는 시설이 개선되었으면 좋겠습니다  "
            ],
            "text/html": [
              "\n",
              "  <div id=\"df-877cf1ec-09af-4c7d-b2e5-e2f09cd27e2b\">\n",
              "    <div class=\"colab-df-container\">\n",
              "      <div>\n",
              "<style scoped>\n",
              "    .dataframe tbody tr th:only-of-type {\n",
              "        vertical-align: middle;\n",
              "    }\n",
              "\n",
              "    .dataframe tbody tr th {\n",
              "        vertical-align: top;\n",
              "    }\n",
              "\n",
              "    .dataframe thead th {\n",
              "        text-align: right;\n",
              "    }\n",
              "</style>\n",
              "<table border=\"1\" class=\"dataframe\">\n",
              "  <thead>\n",
              "    <tr style=\"text-align: right;\">\n",
              "      <th></th>\n",
              "      <th>번호</th>\n",
              "      <th>재학생구분</th>\n",
              "      <th>학년/학기</th>\n",
              "      <th>학과</th>\n",
              "      <th>성별</th>\n",
              "      <th>text</th>\n",
              "    </tr>\n",
              "  </thead>\n",
              "  <tbody>\n",
              "    <tr>\n",
              "      <th>0</th>\n",
              "      <td>65</td>\n",
              "      <td>대학</td>\n",
              "      <td>1</td>\n",
              "      <td>인문계열</td>\n",
              "      <td>여</td>\n",
              "      <td>1학기 때 책 읽으려고 갔는데 먼지가 있었어요. 그래서 책상에 먼지가 없었으면 좋겠어요.</td>\n",
              "    </tr>\n",
              "    <tr>\n",
              "      <th>1</th>\n",
              "      <td>78</td>\n",
              "      <td>대학</td>\n",
              "      <td>3</td>\n",
              "      <td>사회계열</td>\n",
              "      <td>여</td>\n",
              "      <td>KC대학교도서관 재건축해주세요</td>\n",
              "    </tr>\n",
              "    <tr>\n",
              "      <th>2</th>\n",
              "      <td>100</td>\n",
              "      <td>대학</td>\n",
              "      <td>1</td>\n",
              "      <td>사회계열</td>\n",
              "      <td>여</td>\n",
              "      <td>개인스터디할공간이 필요</td>\n",
              "    </tr>\n",
              "    <tr>\n",
              "      <th>3</th>\n",
              "      <td>129</td>\n",
              "      <td>대학</td>\n",
              "      <td>4</td>\n",
              "      <td>인문계열</td>\n",
              "      <td>여</td>\n",
              "      <td>건물 재건축 및 교체, 내부 리모델링</td>\n",
              "    </tr>\n",
              "    <tr>\n",
              "      <th>4</th>\n",
              "      <td>37</td>\n",
              "      <td>대학</td>\n",
              "      <td>2</td>\n",
              "      <td>인문계열</td>\n",
              "      <td>남</td>\n",
              "      <td>공부를 할 수 있는 시설이 개선되었으면 좋겠습니다</td>\n",
              "    </tr>\n",
              "  </tbody>\n",
              "</table>\n",
              "</div>\n",
              "      <button class=\"colab-df-convert\" onclick=\"convertToInteractive('df-877cf1ec-09af-4c7d-b2e5-e2f09cd27e2b')\"\n",
              "              title=\"Convert this dataframe to an interactive table.\"\n",
              "              style=\"display:none;\">\n",
              "        \n",
              "  <svg xmlns=\"http://www.w3.org/2000/svg\" height=\"24px\"viewBox=\"0 0 24 24\"\n",
              "       width=\"24px\">\n",
              "    <path d=\"M0 0h24v24H0V0z\" fill=\"none\"/>\n",
              "    <path d=\"M18.56 5.44l.94 2.06.94-2.06 2.06-.94-2.06-.94-.94-2.06-.94 2.06-2.06.94zm-11 1L8.5 8.5l.94-2.06 2.06-.94-2.06-.94L8.5 2.5l-.94 2.06-2.06.94zm10 10l.94 2.06.94-2.06 2.06-.94-2.06-.94-.94-2.06-.94 2.06-2.06.94z\"/><path d=\"M17.41 7.96l-1.37-1.37c-.4-.4-.92-.59-1.43-.59-.52 0-1.04.2-1.43.59L10.3 9.45l-7.72 7.72c-.78.78-.78 2.05 0 2.83L4 21.41c.39.39.9.59 1.41.59.51 0 1.02-.2 1.41-.59l7.78-7.78 2.81-2.81c.8-.78.8-2.07 0-2.86zM5.41 20L4 18.59l7.72-7.72 1.47 1.35L5.41 20z\"/>\n",
              "  </svg>\n",
              "      </button>\n",
              "      \n",
              "  <style>\n",
              "    .colab-df-container {\n",
              "      display:flex;\n",
              "      flex-wrap:wrap;\n",
              "      gap: 12px;\n",
              "    }\n",
              "\n",
              "    .colab-df-convert {\n",
              "      background-color: #E8F0FE;\n",
              "      border: none;\n",
              "      border-radius: 50%;\n",
              "      cursor: pointer;\n",
              "      display: none;\n",
              "      fill: #1967D2;\n",
              "      height: 32px;\n",
              "      padding: 0 0 0 0;\n",
              "      width: 32px;\n",
              "    }\n",
              "\n",
              "    .colab-df-convert:hover {\n",
              "      background-color: #E2EBFA;\n",
              "      box-shadow: 0px 1px 2px rgba(60, 64, 67, 0.3), 0px 1px 3px 1px rgba(60, 64, 67, 0.15);\n",
              "      fill: #174EA6;\n",
              "    }\n",
              "\n",
              "    [theme=dark] .colab-df-convert {\n",
              "      background-color: #3B4455;\n",
              "      fill: #D2E3FC;\n",
              "    }\n",
              "\n",
              "    [theme=dark] .colab-df-convert:hover {\n",
              "      background-color: #434B5C;\n",
              "      box-shadow: 0px 1px 3px 1px rgba(0, 0, 0, 0.15);\n",
              "      filter: drop-shadow(0px 1px 2px rgba(0, 0, 0, 0.3));\n",
              "      fill: #FFFFFF;\n",
              "    }\n",
              "  </style>\n",
              "\n",
              "      <script>\n",
              "        const buttonEl =\n",
              "          document.querySelector('#df-877cf1ec-09af-4c7d-b2e5-e2f09cd27e2b button.colab-df-convert');\n",
              "        buttonEl.style.display =\n",
              "          google.colab.kernel.accessAllowed ? 'block' : 'none';\n",
              "\n",
              "        async function convertToInteractive(key) {\n",
              "          const element = document.querySelector('#df-877cf1ec-09af-4c7d-b2e5-e2f09cd27e2b');\n",
              "          const dataTable =\n",
              "            await google.colab.kernel.invokeFunction('convertToInteractive',\n",
              "                                                     [key], {});\n",
              "          if (!dataTable) return;\n",
              "\n",
              "          const docLinkHtml = 'Like what you see? Visit the ' +\n",
              "            '<a target=\"_blank\" href=https://colab.research.google.com/notebooks/data_table.ipynb>data table notebook</a>'\n",
              "            + ' to learn more about interactive tables.';\n",
              "          element.innerHTML = '';\n",
              "          dataTable['output_type'] = 'display_data';\n",
              "          await google.colab.output.renderOutput(dataTable, element);\n",
              "          const docLink = document.createElement('div');\n",
              "          docLink.innerHTML = docLinkHtml;\n",
              "          element.appendChild(docLink);\n",
              "        }\n",
              "      </script>\n",
              "    </div>\n",
              "  </div>\n",
              "  "
            ]
          },
          "metadata": {},
          "execution_count": 7
        }
      ]
    },
    {
      "cell_type": "code",
      "source": [
        "df.shape"
      ],
      "metadata": {
        "colab": {
          "base_uri": "https://localhost:8080/"
        },
        "id": "TX4eQ9lHbbya",
        "outputId": "a300bc22-9af8-4ab2-da60-d25bf85dbf0d"
      },
      "execution_count": 8,
      "outputs": [
        {
          "output_type": "execute_result",
          "data": {
            "text/plain": [
              "(59, 6)"
            ]
          },
          "metadata": {},
          "execution_count": 8
        }
      ]
    },
    {
      "cell_type": "code",
      "source": [
        "df.info()"
      ],
      "metadata": {
        "colab": {
          "base_uri": "https://localhost:8080/"
        },
        "id": "loO7M_Z8bueo",
        "outputId": "d95803b4-19b0-4147-ea6a-cfbb6be89b1c"
      },
      "execution_count": 9,
      "outputs": [
        {
          "output_type": "stream",
          "name": "stdout",
          "text": [
            "<class 'pandas.core.frame.DataFrame'>\n",
            "RangeIndex: 59 entries, 0 to 58\n",
            "Data columns (total 6 columns):\n",
            " #   Column  Non-Null Count  Dtype \n",
            "---  ------  --------------  ----- \n",
            " 0   번호      59 non-null     int64 \n",
            " 1   재학생구분   59 non-null     object\n",
            " 2   학년/학기   59 non-null     int64 \n",
            " 3   학과      59 non-null     object\n",
            " 4   성별      59 non-null     object\n",
            " 5   text    59 non-null     object\n",
            "dtypes: int64(2), object(4)\n",
            "memory usage: 2.9+ KB\n"
          ]
        }
      ]
    },
    {
      "cell_type": "markdown",
      "source": [
        "### 명사단어 추출"
      ],
      "metadata": {
        "id": "YRFquNgQb57g"
      }
    },
    {
      "cell_type": "markdown",
      "source": [
        "#### 1. 세종사전 실행"
      ],
      "metadata": {
        "id": "8hzjR2AXcPpw"
      }
    },
    {
      "cell_type": "code",
      "source": [
        "from konlpy.tag import Okt\n",
        "twitter = Okt()"
      ],
      "metadata": {
        "id": "VM7icSLhbvwP"
      },
      "execution_count": 10,
      "outputs": []
    },
    {
      "cell_type": "markdown",
      "source": [
        "#### 2. 단어 리스트 만들기"
      ],
      "metadata": {
        "id": "zoH0k9eacS6w"
      }
    },
    {
      "cell_type": "code",
      "source": [
        "word_list = []\n",
        "word_list = df['text']"
      ],
      "metadata": {
        "id": "MoGOVtjKcK3o"
      },
      "execution_count": 11,
      "outputs": []
    },
    {
      "cell_type": "code",
      "source": [
        "word_list"
      ],
      "metadata": {
        "colab": {
          "base_uri": "https://localhost:8080/"
        },
        "id": "ykqq5Jzgca7R",
        "outputId": "c17500e3-346c-4a07-aacd-14b30f67f9fe"
      },
      "execution_count": 12,
      "outputs": [
        {
          "output_type": "execute_result",
          "data": {
            "text/plain": [
              "0     1학기 때 책 읽으려고 갔는데 먼지가 있었어요. 그래서 책상에 먼지가 없었으면 좋겠어요.\n",
              "1                                      KC대학교도서관 재건축해주세요\n",
              "2                                          개인스터디할공간이 필요\n",
              "3                                  건물 재건축 및 교체, 내부 리모델링\n",
              "4                           공부를 할 수 있는 시설이 개선되었으면 좋겠습니다\n",
              "5     공부할수있는쾌적한 공간을 마련해주세요. 그저 좁은 공간에 책만 꽉 차서 책이 믾은 ...\n",
              "6     논문 열람 가능한 사이트 riss를 학교와 연계해서 학생들이 이용할 수 있게 해주세...\n",
              "7     대출불가도서를 대여해주던지 복사기를 고쳐주세요.. 대여도 안되고 복사도 잘안되서 돈...\n",
              "8                  대학원 전공과 관련된 국내외 참고도서도 많이 구비하였으면 합니다.\n",
              "9                                       더 나아진 도서관을 기대해요\n",
              "10    도서관 2층 들어서자마자 있는 컴퓨터 공간 외 다른 공간들의 공기가 너무 탁합니다....\n",
              "11                                         도서관 건물 시설 개설\n",
              "12                        도서관 리모델링을 했으면 좋겠다. 너무 낙후되어있다.\n",
              "13                                     도서관 책장이 너무 부실합니다\n",
              "14    도서관같은 공간의 경우에는 사람을 끌어들이는 힘이 굉장히 중요하다고 생각하는데, 그...\n",
              "15         도서관규모에비해직원수가많아서 직원1명이면충분함. 근로생들이 대출반납정리다하니..\n",
              "16                                           도서관리모델링필요!\n",
              "17    도서관에 간호학 전공 공부를 할 수 있는 다양한 자료가 있었으면 좋겠습니다. 뿐만 ...\n",
              "18    도서관에 대한 홍보를 조금더 하고 프로그램을 개발하여 학생들이 많이 찾아갈 수 있게...\n",
              "19    도서관의 위치와 내부 중간에 자유롭게 앉아서 책을 읽을 환경이 필요하고, 지금 이상...\n",
              "20    도서관이 너무 어지럽게 되어 있기도 하고 저번에 갔을때는 책이 아무렇게나 꽂혀 있는...\n",
              "21    도서관이 너무 오래되어서 겨울에는 너무 추워요. 1층 같은 경우는 밖에서 담배피우는...\n",
              "22    도서관이 너무 작아요ㅠ 학교 내에 열람실이 있긴 하지만 도서관 안에서도 공부하고 싶...\n",
              "23    도서관이 대학 자료의 보고로서 최신 자료 수집과 학문 연구를 위한 지원에 최선을 다...\n",
              "24                              도서관이 좀 더 시설이 좋았으면 좋겠습니다\n",
              "25    독서를 왜 해야하는지, 독서의 필요성에 대한 특강을 들으면 독서실이용이 조금 더 활...\n",
              "26            새로운 건물로 다시 지었으면 좋겠다 시설이 초갓집도 아니고 시설이 미비하다\n",
              "27                                                   설비\n",
              "28                                                시설 보수\n",
              "29                                               시설개선..\n",
              "30                                     시설이 개선되었으면 좋겠습니다\n",
              "31            시설이 너무 낙후되어있고, 스터디모임이나 공부하는 공간이 턱없이 부족하다.\n",
              "32                                 신간도서 자주 구비해주시기 바랍니다.\n",
              "33              신학기마다 새로운 책들을 학과별로 체크해서 구입해주시면 좋을듯 합니다.\n",
              "34    신학으로 설립되었기에 그와 관련된 서적은 타관보다 장서보유는 많아 유익한데 최신 양...\n",
              "35                                    앞으로도 많은 발전을 기원합니다\n",
              "36                                                  없다.\n",
              "37                          열람실부분 타 대학들처럼 개선되었으면 좋겠습니다.\n",
              "38    열람실에서 주로 공부하기 보단 도서관에서도 공부를 하러 갈 수 있는 환경조성과 홍보...\n",
              "39                                  열람실이랑 도서관을 새로 지어주세요\n",
              "40    열람실처럼 개인학습 공간이 따로 마련되었으면 좋겠고 종교 서적이 아닌 베스트 셀러나...\n",
              "41                          오래된 자료보다 최신자료를 보다 이용하고싶습니다.\n",
              "42    자격증 취득을 위한 최신도서들이 부족하다 특히나 세법같은 매년 개정되는 내용을 확인...\n",
              "43    자료를 조금 더 보충해 주셨으면 합니다. 예로 신학 자료 같은 것들을 검색할 때 적...\n",
              "44                                         잘 이용하고 있습니다.\n",
              "45                                           전반적으로 만족함.\n",
              "46                                 전체적인 개혁이 필요하다고 생각합니다\n",
              "47                                  조금 더 공간이 넓었으면 좋겠습니다\n",
              "48                                 조금 더 공간이 넓었으면 좋겠습니다.\n",
              "49                          좀더 넓고 좋은 시설과 학습공간이 있었으면 좋겠다\n",
              "50    책 읽을 공간, 학습공간, 스터디룸 책을 좋아하는 학생들과 도서관 분위기에서 공부하...\n",
              "51    책도 많아지고 책이 분류 별로 확실하게 정리되었으면 좋겠습니다 그리고 공부할수있는 ...\n",
              "52                                      최신 자료가 많이 부족합니다\n",
              "53                                      최신도서 배치 및 건물 신축\n",
              "54                         출입구의인식기가사용이어렵습니다(인식이잘안되는것같음)\n",
              "55                                           충분히 만족스러워요\n",
              "56                                  학교 전공이나 교양 관련 서적 증가\n",
              "57                 학생들이 공부하기 편한 환경 / 제대로 된 도서들 제공했으면좋겠다\n",
              "58       해당 학기에 쓰는 전공책 등을 구비하고, 그 외에도 최신 도서들이 들어왔으면 좋겠다\n",
              "Name: text, dtype: object"
            ]
          },
          "metadata": {},
          "execution_count": 12
        }
      ]
    },
    {
      "cell_type": "markdown",
      "source": [
        "#### 3. 형태소 분리 및 품사태깅"
      ],
      "metadata": {
        "id": "M8CzJx2AetAo"
      }
    },
    {
      "cell_type": "code",
      "source": [
        "sentences_tag = []\n",
        "\n",
        "for sentence in word_list:\n",
        "  morph = twitter.pos(sentence)\n",
        "  sentences_tag.append(morph)\n",
        "\n",
        "print(morph)"
      ],
      "metadata": {
        "colab": {
          "base_uri": "https://localhost:8080/"
        },
        "id": "-QckCJVvcdK3",
        "outputId": "aaf9967b-a331-4f94-c33c-114615f756c5"
      },
      "execution_count": 13,
      "outputs": [
        {
          "output_type": "stream",
          "name": "stdout",
          "text": [
            "[('해당', 'Noun'), ('학기', 'Noun'), ('에', 'Josa'), ('쓰는', 'Verb'), ('전', 'Modifier'), ('공책', 'Noun'), ('등', 'Noun'), ('을', 'Josa'), ('구비', 'Noun'), ('하고', 'Josa'), (',', 'Punctuation'), ('그', 'Noun'), ('외', 'Noun'), ('에도', 'Josa'), ('최신', 'Noun'), ('도서', 'Noun'), ('들', 'Suffix'), ('이', 'Josa'), ('들어왔으면', 'Verb'), ('좋겠다', 'Adjective')]\n"
          ]
        }
      ]
    },
    {
      "cell_type": "markdown",
      "source": [
        "#### 4. 명사만 추출"
      ],
      "metadata": {
        "id": "TqN8afSHfXin"
      }
    },
    {
      "cell_type": "code",
      "source": [
        "noun_list = []\n",
        "for sentence in sentences_tag:\n",
        "  for word, tag in sentence:\n",
        "    if tag in ['Noun']:\n",
        "      noun_list.append(word)"
      ],
      "metadata": {
        "id": "n48IH9GwfBfX"
      },
      "execution_count": 14,
      "outputs": []
    },
    {
      "cell_type": "code",
      "source": [
        "noun_list"
      ],
      "metadata": {
        "id": "RVq-atJ_frNP"
      },
      "execution_count": null,
      "outputs": []
    },
    {
      "cell_type": "markdown",
      "source": [
        "#### 5.명사가 두 문자 이상인것만 추출"
      ],
      "metadata": {
        "id": "bccR__VFf_EX"
      }
    },
    {
      "cell_type": "code",
      "source": [
        "len(noun_list)\n",
        "\n",
        "noun_list = [n for n in noun_list if len(n)>1]\n",
        "noun_list[:10]"
      ],
      "metadata": {
        "colab": {
          "base_uri": "https://localhost:8080/"
        },
        "id": "6DtGsAIgfwx-",
        "outputId": "4f6c5e6a-1e99-408f-f759-34785fd20b66"
      },
      "execution_count": 19,
      "outputs": [
        {
          "output_type": "execute_result",
          "data": {
            "text/plain": [
              "['학기', '먼지', '책상', '먼지', '대학교', '도서관', '재건축', '개인', '스터디', '공간']"
            ]
          },
          "metadata": {},
          "execution_count": 19
        }
      ]
    },
    {
      "cell_type": "markdown",
      "source": [
        "#### 6. 단어 카운트"
      ],
      "metadata": {
        "id": "ogPvW47mgg7m"
      }
    },
    {
      "cell_type": "code",
      "source": [
        "counts = Counter(noun_list)\n",
        "tags = counts.most_common(30)\n",
        "len(tags)\n",
        "tags"
      ],
      "metadata": {
        "colab": {
          "base_uri": "https://localhost:8080/"
        },
        "id": "Iewm_c4lgHCn",
        "outputId": "fc550d94-8547-42c0-bd11-4bad4a5c04a4"
      },
      "execution_count": 23,
      "outputs": [
        {
          "output_type": "execute_result",
          "data": {
            "text/plain": [
              "[('도서관', 36),\n",
              " ('공간', 28),\n",
              " ('공부', 17),\n",
              " ('시설', 12),\n",
              " ('학교', 12),\n",
              " ('학생', 11),\n",
              " ('도서', 11),\n",
              " ('이용', 10),\n",
              " ('환경', 9),\n",
              " ('최신', 9),\n",
              " ('생각', 8),\n",
              " ('자료', 8),\n",
              " ('열람', 7),\n",
              " ('조금', 7),\n",
              " ('학습', 6),\n",
              " ('개선', 5),\n",
              " ('다른', 5),\n",
              " ('먼지', 4),\n",
              " ('개인', 4),\n",
              " ('건물', 4),\n",
              " ('관련', 4),\n",
              " ('우리', 4),\n",
              " ('부분', 4),\n",
              " ('학기', 3),\n",
              " ('스터디', 3),\n",
              " ('모델링', 3),\n",
              " ('마련', 3),\n",
              " ('대학', 3),\n",
              " ('저희', 3),\n",
              " ('전공', 3)]"
            ]
          },
          "metadata": {},
          "execution_count": 23
        }
      ]
    },
    {
      "cell_type": "markdown",
      "source": [
        "### WordCloud 생성"
      ],
      "metadata": {
        "id": "thHYK9WchNLm"
      }
    },
    {
      "cell_type": "code",
      "source": [
        "wordcloud = WordCloud(font_path='NanumBarunGothic', background_color='white', width=800, height=600)\n",
        "cloud = wordcloud.generate_from_frequencies(dict(tags))\n",
        "plt.figure(figsize=(10,8))\n",
        "plt.axis('off')\n",
        "plt.imshow(cloud)\n",
        "plt.show()"
      ],
      "metadata": {
        "colab": {
          "base_uri": "https://localhost:8080/",
          "height": 449
        },
        "id": "FL5wMEiPg7IY",
        "outputId": "cfe1d093-ca5b-4097-fe74-b1615e56645b"
      },
      "execution_count": 24,
      "outputs": [
        {
          "output_type": "display_data",
          "data": {
            "text/plain": [
              "<Figure size 720x576 with 1 Axes>"
            ],
            "image/png": "[encoded data removed]"
          },
          "metadata": {
            "needs_background": "light"
          }
        }
      ]
    },
    {
      "cell_type": "code",
      "source": [],
      "metadata": {
        "id": "0_u1ykwfh513"
      },
      "execution_count": null,
      "outputs": []
    }
  ]
}