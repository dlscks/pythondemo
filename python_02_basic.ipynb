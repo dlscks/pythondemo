{
  "nbformat": 4,
  "nbformat_minor": 0,
  "metadata": {
    "colab": {
      "provenance": [],
      "collapsed_sections": [
        "XnYBYdW1cIIT",
        "4y1pB53ReYAc"
      ],
      "authorship_tag": "ABX9TyPCTXLdbDNNBpXQKPH03Z9Y",
      "include_colab_link": true
    },
    "kernelspec": {
      "name": "python3",
      "display_name": "Python 3"
    },
    "language_info": {
      "name": "python"
    }
  },
  "cells": [
    {
      "cell_type": "markdown",
      "metadata": {
        "id": "view-in-github",
        "colab_type": "text"
      },
      "source": [
        "<a href=\"https://colab.research.google.com/github/dlscks/pythondemo/blob/main/python_02_basic.ipynb\" target=\"_parent\"><img src=\"https://colab.research.google.com/assets/colab-badge.svg\" alt=\"Open In Colab\"/></a>"
      ]
    },
    {
      "cell_type": "code",
      "execution_count": null,
      "metadata": {
        "colab": {
          "base_uri": "https://localhost:8080/"
        },
        "id": "nskD-uW9aofv",
        "outputId": "f955897d-31b1-43ce-f9c9-6a2eb4f6453c"
      },
      "outputs": [
        {
          "output_type": "stream",
          "name": "stdout",
          "text": [
            "The Zen of Python, by Tim Peters\n",
            "\n",
            "Beautiful is better than ugly.\n",
            "Explicit is better than implicit.\n",
            "Simple is better than complex.\n",
            "Complex is better than complicated.\n",
            "Flat is better than nested.\n",
            "Sparse is better than dense.\n",
            "Readability counts.\n",
            "Special cases aren't special enough to break the rules.\n",
            "Although practicality beats purity.\n",
            "Errors should never pass silently.\n",
            "Unless explicitly silenced.\n",
            "In the face of ambiguity, refuse the temptation to guess.\n",
            "There should be one-- and preferably only one --obvious way to do it.\n",
            "Although that way may not be obvious at first unless you're Dutch.\n",
            "Now is better than never.\n",
            "Although never is often better than *right* now.\n",
            "If the implementation is hard to explain, it's a bad idea.\n",
            "If the implementation is easy to explain, it may be a good idea.\n",
            "Namespaces are one honking great idea -- let's do more of those!\n"
          ]
        }
      ],
      "source": [
        "import this"
      ]
    },
    {
      "cell_type": "code",
      "source": [
        "import antigravity"
      ],
      "metadata": {
        "id": "lnMil1mWaxRt"
      },
      "execution_count": null,
      "outputs": []
    },
    {
      "cell_type": "code",
      "source": [
        "antigravity"
      ],
      "metadata": {
        "colab": {
          "base_uri": "https://localhost:8080/"
        },
        "id": "PJpiuJ5oa638",
        "outputId": "4a8e0f57-ec7a-44a5-850e-055a29066255"
      },
      "execution_count": null,
      "outputs": [
        {
          "output_type": "execute_result",
          "data": {
            "text/plain": [
              "<module 'antigravity' from '/usr/lib/python3.7/antigravity.py'>"
            ]
          },
          "metadata": {},
          "execution_count": 4
        }
      ]
    },
    {
      "cell_type": "code",
      "source": [
        "import keyword\n",
        "keyword.kwlist"
      ],
      "metadata": {
        "colab": {
          "base_uri": "https://localhost:8080/"
        },
        "id": "GYc8-KBBa9PL",
        "outputId": "7f571ddc-0bbc-4d04-cda4-99c8d3a0be19"
      },
      "execution_count": null,
      "outputs": [
        {
          "output_type": "execute_result",
          "data": {
            "text/plain": [
              "['False',\n",
              " 'None',\n",
              " 'True',\n",
              " 'and',\n",
              " 'as',\n",
              " 'assert',\n",
              " 'async',\n",
              " 'await',\n",
              " 'break',\n",
              " 'class',\n",
              " 'continue',\n",
              " 'def',\n",
              " 'del',\n",
              " 'elif',\n",
              " 'else',\n",
              " 'except',\n",
              " 'finally',\n",
              " 'for',\n",
              " 'from',\n",
              " 'global',\n",
              " 'if',\n",
              " 'import',\n",
              " 'in',\n",
              " 'is',\n",
              " 'lambda',\n",
              " 'nonlocal',\n",
              " 'not',\n",
              " 'or',\n",
              " 'pass',\n",
              " 'raise',\n",
              " 'return',\n",
              " 'try',\n",
              " 'while',\n",
              " 'with',\n",
              " 'yield']"
            ]
          },
          "metadata": {},
          "execution_count": 6
        }
      ]
    },
    {
      "cell_type": "code",
      "source": [
        "len(keyword.kwlist)"
      ],
      "metadata": {
        "colab": {
          "base_uri": "https://localhost:8080/"
        },
        "id": "F_uAdpLIbFW7",
        "outputId": "2518aed8-539b-410c-ea8c-22420525b1ed"
      },
      "execution_count": null,
      "outputs": [
        {
          "output_type": "execute_result",
          "data": {
            "text/plain": [
              "35"
            ]
          },
          "metadata": {},
          "execution_count": 8
        }
      ]
    },
    {
      "cell_type": "code",
      "source": [
        "print('Hello Word')"
      ],
      "metadata": {
        "colab": {
          "base_uri": "https://localhost:8080/"
        },
        "id": "9cAFjrTZbX4b",
        "outputId": "da10d5d7-ff01-446e-83d2-58eaa9ad8610"
      },
      "execution_count": null,
      "outputs": [
        {
          "output_type": "stream",
          "name": "stdout",
          "text": [
            "Hello Word\n"
          ]
        }
      ]
    },
    {
      "cell_type": "code",
      "source": [
        "print(\"python\"); print(\"module\")"
      ],
      "metadata": {
        "colab": {
          "base_uri": "https://localhost:8080/"
        },
        "id": "8-R8P6a3b-hR",
        "outputId": "f5228181-fe5b-45f7-94f2-7443cf151c98"
      },
      "execution_count": null,
      "outputs": [
        {
          "output_type": "stream",
          "name": "stdout",
          "text": [
            "python\n",
            "module\n"
          ]
        }
      ]
    },
    {
      "cell_type": "code",
      "source": [
        "a = 10; b = 20\n",
        "if(a==10) and \\\n",
        " (b==20):\n",
        "     print(\"OK\")"
      ],
      "metadata": {
        "colab": {
          "base_uri": "https://localhost:8080/"
        },
        "id": "n5nB9kbkiJwO",
        "outputId": "2f6c7a7e-08a5-4dc1-a44b-cba077d0a1b8"
      },
      "execution_count": null,
      "outputs": [
        {
          "output_type": "stream",
          "name": "stdout",
          "text": [
            "OK\n"
          ]
        }
      ]
    },
    {
      "cell_type": "code",
      "source": [
        "pen=ko=100\n",
        "print(pen)\n",
        "print(ko)"
      ],
      "metadata": {
        "colab": {
          "base_uri": "https://localhost:8080/"
        },
        "id": "tyNepMtVjIJ_",
        "outputId": "1346274d-951d-4364-c8e2-e989fcd1cafc"
      },
      "execution_count": null,
      "outputs": [
        {
          "output_type": "stream",
          "name": "stdout",
          "text": [
            "100\n",
            "100\n"
          ]
        }
      ]
    },
    {
      "cell_type": "code",
      "source": [
        "language='korea'\n",
        "body=\"tag\"\n",
        "print(language)\n",
        "print(body)"
      ],
      "metadata": {
        "colab": {
          "base_uri": "https://localhost:8080/"
        },
        "id": "6LWd0JegjSda",
        "outputId": "161874ff-f734-4c34-dcf3-0cbeef840f1a"
      },
      "execution_count": null,
      "outputs": [
        {
          "output_type": "stream",
          "name": "stdout",
          "text": [
            "korea\n",
            "tag\n"
          ]
        }
      ]
    },
    {
      "cell_type": "code",
      "source": [
        "a = 1\n",
        "a = eval('a + 4')\n",
        "print(a)"
      ],
      "metadata": {
        "colab": {
          "base_uri": "https://localhost:8080/"
        },
        "id": "vA--u-pFjaKg",
        "outputId": "ac123bdd-4002-4096-c13f-72f5679d0f1b"
      },
      "execution_count": null,
      "outputs": [
        {
          "output_type": "stream",
          "name": "stdout",
          "text": [
            "5\n"
          ]
        }
      ]
    },
    {
      "cell_type": "code",
      "source": [
        "type(5)"
      ],
      "metadata": {
        "colab": {
          "base_uri": "https://localhost:8080/"
        },
        "id": "SD6MLiknjy8f",
        "outputId": "e1a11f30-127b-46f8-9520-d574f2cfb928"
      },
      "execution_count": null,
      "outputs": [
        {
          "output_type": "execute_result",
          "data": {
            "text/plain": [
              "int"
            ]
          },
          "metadata": {},
          "execution_count": 19
        }
      ]
    },
    {
      "cell_type": "code",
      "source": [
        "type(85.3)"
      ],
      "metadata": {
        "colab": {
          "base_uri": "https://localhost:8080/"
        },
        "id": "RMUMXM1Dl04p",
        "outputId": "185c2fef-2273-4c87-f221-9aeeb4f79cf0"
      },
      "execution_count": null,
      "outputs": [
        {
          "output_type": "execute_result",
          "data": {
            "text/plain": [
              "float"
            ]
          },
          "metadata": {},
          "execution_count": 20
        }
      ]
    },
    {
      "cell_type": "code",
      "source": [
        "type([1,5,8])"
      ],
      "metadata": {
        "colab": {
          "base_uri": "https://localhost:8080/"
        },
        "id": "GIrlSBlnl3fR",
        "outputId": "6dab2939-84b5-42e8-d576-10941b8be057"
      },
      "execution_count": null,
      "outputs": [
        {
          "output_type": "execute_result",
          "data": {
            "text/plain": [
              "list"
            ]
          },
          "metadata": {},
          "execution_count": 21
        }
      ]
    },
    {
      "cell_type": "code",
      "source": [
        "type((2,6,7))"
      ],
      "metadata": {
        "colab": {
          "base_uri": "https://localhost:8080/"
        },
        "id": "ArFuJ1xal4Bp",
        "outputId": "3b0e60d2-c41a-4955-e6d8-1c9d95943fc7"
      },
      "execution_count": null,
      "outputs": [
        {
          "output_type": "execute_result",
          "data": {
            "text/plain": [
              "tuple"
            ]
          },
          "metadata": {},
          "execution_count": 23
        }
      ]
    },
    {
      "cell_type": "code",
      "source": [
        "dir(str)"
      ],
      "metadata": {
        "colab": {
          "base_uri": "https://localhost:8080/"
        },
        "id": "kcUqPqBxmIMa",
        "outputId": "fafc2eb2-c966-4705-da3b-859af1d6cbbc"
      },
      "execution_count": null,
      "outputs": [
        {
          "output_type": "execute_result",
          "data": {
            "text/plain": [
              "['__add__',\n",
              " '__class__',\n",
              " '__contains__',\n",
              " '__delattr__',\n",
              " '__dir__',\n",
              " '__doc__',\n",
              " '__eq__',\n",
              " '__format__',\n",
              " '__ge__',\n",
              " '__getattribute__',\n",
              " '__getitem__',\n",
              " '__getnewargs__',\n",
              " '__gt__',\n",
              " '__hash__',\n",
              " '__init__',\n",
              " '__init_subclass__',\n",
              " '__iter__',\n",
              " '__le__',\n",
              " '__len__',\n",
              " '__lt__',\n",
              " '__mod__',\n",
              " '__mul__',\n",
              " '__ne__',\n",
              " '__new__',\n",
              " '__reduce__',\n",
              " '__reduce_ex__',\n",
              " '__repr__',\n",
              " '__rmod__',\n",
              " '__rmul__',\n",
              " '__setattr__',\n",
              " '__sizeof__',\n",
              " '__str__',\n",
              " '__subclasshook__',\n",
              " 'capitalize',\n",
              " 'casefold',\n",
              " 'center',\n",
              " 'count',\n",
              " 'encode',\n",
              " 'endswith',\n",
              " 'expandtabs',\n",
              " 'find',\n",
              " 'format',\n",
              " 'format_map',\n",
              " 'index',\n",
              " 'isalnum',\n",
              " 'isalpha',\n",
              " 'isascii',\n",
              " 'isdecimal',\n",
              " 'isdigit',\n",
              " 'isidentifier',\n",
              " 'islower',\n",
              " 'isnumeric',\n",
              " 'isprintable',\n",
              " 'isspace',\n",
              " 'istitle',\n",
              " 'isupper',\n",
              " 'join',\n",
              " 'ljust',\n",
              " 'lower',\n",
              " 'lstrip',\n",
              " 'maketrans',\n",
              " 'partition',\n",
              " 'replace',\n",
              " 'rfind',\n",
              " 'rindex',\n",
              " 'rjust',\n",
              " 'rpartition',\n",
              " 'rsplit',\n",
              " 'rstrip',\n",
              " 'split',\n",
              " 'splitlines',\n",
              " 'startswith',\n",
              " 'strip',\n",
              " 'swapcase',\n",
              " 'title',\n",
              " 'translate',\n",
              " 'upper',\n",
              " 'zfill']"
            ]
          },
          "metadata": {},
          "execution_count": 25
        }
      ]
    },
    {
      "cell_type": "code",
      "source": [
        "dir(int)"
      ],
      "metadata": {
        "colab": {
          "base_uri": "https://localhost:8080/"
        },
        "id": "qJTxlIddmiRh",
        "outputId": "55d540c4-a225-4a8c-cee2-81d33d69b522"
      },
      "execution_count": null,
      "outputs": [
        {
          "output_type": "execute_result",
          "data": {
            "text/plain": [
              "['__abs__',\n",
              " '__add__',\n",
              " '__and__',\n",
              " '__bool__',\n",
              " '__ceil__',\n",
              " '__class__',\n",
              " '__delattr__',\n",
              " '__dir__',\n",
              " '__divmod__',\n",
              " '__doc__',\n",
              " '__eq__',\n",
              " '__float__',\n",
              " '__floor__',\n",
              " '__floordiv__',\n",
              " '__format__',\n",
              " '__ge__',\n",
              " '__getattribute__',\n",
              " '__getnewargs__',\n",
              " '__gt__',\n",
              " '__hash__',\n",
              " '__index__',\n",
              " '__init__',\n",
              " '__init_subclass__',\n",
              " '__int__',\n",
              " '__invert__',\n",
              " '__le__',\n",
              " '__lshift__',\n",
              " '__lt__',\n",
              " '__mod__',\n",
              " '__mul__',\n",
              " '__ne__',\n",
              " '__neg__',\n",
              " '__new__',\n",
              " '__or__',\n",
              " '__pos__',\n",
              " '__pow__',\n",
              " '__radd__',\n",
              " '__rand__',\n",
              " '__rdivmod__',\n",
              " '__reduce__',\n",
              " '__reduce_ex__',\n",
              " '__repr__',\n",
              " '__rfloordiv__',\n",
              " '__rlshift__',\n",
              " '__rmod__',\n",
              " '__rmul__',\n",
              " '__ror__',\n",
              " '__round__',\n",
              " '__rpow__',\n",
              " '__rrshift__',\n",
              " '__rshift__',\n",
              " '__rsub__',\n",
              " '__rtruediv__',\n",
              " '__rxor__',\n",
              " '__setattr__',\n",
              " '__sizeof__',\n",
              " '__str__',\n",
              " '__sub__',\n",
              " '__subclasshook__',\n",
              " '__truediv__',\n",
              " '__trunc__',\n",
              " '__xor__',\n",
              " 'bit_length',\n",
              " 'conjugate',\n",
              " 'denominator',\n",
              " 'from_bytes',\n",
              " 'imag',\n",
              " 'numerator',\n",
              " 'real',\n",
              " 'to_bytes']"
            ]
          },
          "metadata": {},
          "execution_count": 26
        }
      ]
    },
    {
      "cell_type": "code",
      "source": [
        "help(str.index)"
      ],
      "metadata": {
        "colab": {
          "base_uri": "https://localhost:8080/"
        },
        "id": "4h6uyYA0nDdS",
        "outputId": "50efe423-7f62-41bb-b9a1-0aaafd23c5b5"
      },
      "execution_count": null,
      "outputs": [
        {
          "output_type": "stream",
          "name": "stdout",
          "text": [
            "Help on method_descriptor:\n",
            "\n",
            "index(...)\n",
            "    S.index(sub[, start[, end]]) -> int\n",
            "    \n",
            "    Return the lowest index in S where substring sub is found, \n",
            "    such that sub is contained within S[start:end].  Optional\n",
            "    arguments start and end are interpreted as in slice notation.\n",
            "    \n",
            "    Raises ValueError when the substring is not found.\n",
            "\n"
          ]
        }
      ]
    },
    {
      "cell_type": "code",
      "source": [
        "data =1 + 2j\n",
        "data.real"
      ],
      "metadata": {
        "colab": {
          "base_uri": "https://localhost:8080/"
        },
        "id": "dzUSS6sanK5x",
        "outputId": "5eaa724d-030e-489d-9499-f46b08a238bd"
      },
      "execution_count": null,
      "outputs": [
        {
          "output_type": "execute_result",
          "data": {
            "text/plain": [
              "1.0"
            ]
          },
          "metadata": {},
          "execution_count": 28
        }
      ]
    },
    {
      "cell_type": "code",
      "source": [
        "data.imag"
      ],
      "metadata": {
        "colab": {
          "base_uri": "https://localhost:8080/"
        },
        "id": "yLfVi2Q5nzlh",
        "outputId": "a03c9d76-5251-4f09-d289-4dc5f0005699"
      },
      "execution_count": null,
      "outputs": [
        {
          "output_type": "execute_result",
          "data": {
            "text/plain": [
              "2.0"
            ]
          },
          "metadata": {},
          "execution_count": 29
        }
      ]
    },
    {
      "cell_type": "code",
      "source": [
        "import sys\n",
        "sys.maxsize"
      ],
      "metadata": {
        "colab": {
          "base_uri": "https://localhost:8080/"
        },
        "id": "yKv5ZiRDpDD7",
        "outputId": "a4cfe26c-ab42-438b-90a3-20b224ecdb3a"
      },
      "execution_count": null,
      "outputs": [
        {
          "output_type": "execute_result",
          "data": {
            "text/plain": [
              "9223372036854775807"
            ]
          },
          "metadata": {},
          "execution_count": 41
        }
      ]
    },
    {
      "cell_type": "code",
      "source": [
        "9223372036854775807 + 1"
      ],
      "metadata": {
        "colab": {
          "base_uri": "https://localhost:8080/"
        },
        "id": "uBlSLaL9uifG",
        "outputId": "0594f6f9-5778-4246-d8aa-459f07a20b84"
      },
      "execution_count": null,
      "outputs": [
        {
          "output_type": "execute_result",
          "data": {
            "text/plain": [
              "9223372036854775808"
            ]
          },
          "metadata": {},
          "execution_count": 42
        }
      ]
    },
    {
      "cell_type": "code",
      "source": [
        "s_val='hello python!' #[인덱스 시작 : 인덱스 끝 : 스텝] 스텝은 default로 1의 값을 갖는다.\n",
        "s_val[0:3]"
      ],
      "metadata": {
        "colab": {
          "base_uri": "https://localhost:8080/",
          "height": 35
        },
        "id": "xP1akCjYu4GN",
        "outputId": "70d0193c-dfd0-4629-e233-723c53fbfe11"
      },
      "execution_count": null,
      "outputs": [
        {
          "output_type": "execute_result",
          "data": {
            "text/plain": [
              "'hel'"
            ],
            "application/vnd.google.colaboratory.intrinsic+json": {
              "type": "string"
            }
          },
          "metadata": {},
          "execution_count": 43
        }
      ]
    },
    {
      "cell_type": "code",
      "source": [
        "s_val[1:]"
      ],
      "metadata": {
        "colab": {
          "base_uri": "https://localhost:8080/",
          "height": 35
        },
        "id": "QxbfLdBNvwf4",
        "outputId": "18ef2b9e-746b-4977-80fb-b5832269a3ec"
      },
      "execution_count": null,
      "outputs": [
        {
          "output_type": "execute_result",
          "data": {
            "text/plain": [
              "'ello python!'"
            ],
            "application/vnd.google.colaboratory.intrinsic+json": {
              "type": "string"
            }
          },
          "metadata": {},
          "execution_count": 45
        }
      ]
    },
    {
      "cell_type": "code",
      "source": [
        "s_val"
      ],
      "metadata": {
        "colab": {
          "base_uri": "https://localhost:8080/",
          "height": 35
        },
        "id": "_9ANUUoFwlSI",
        "outputId": "c79b6c7d-1714-4148-c87c-0f7817176d54"
      },
      "execution_count": null,
      "outputs": [
        {
          "output_type": "execute_result",
          "data": {
            "text/plain": [
              "'hello python!'"
            ],
            "application/vnd.google.colaboratory.intrinsic+json": {
              "type": "string"
            }
          },
          "metadata": {},
          "execution_count": 52
        }
      ]
    },
    {
      "cell_type": "code",
      "source": [
        "s_val[:]"
      ],
      "metadata": {
        "colab": {
          "base_uri": "https://localhost:8080/",
          "height": 35
        },
        "id": "e8RG0gjCxIDn",
        "outputId": "01d61e04-6fc0-444f-8003-9366ca4c9ac0"
      },
      "execution_count": null,
      "outputs": [
        {
          "output_type": "execute_result",
          "data": {
            "text/plain": [
              "'hello python!'"
            ],
            "application/vnd.google.colaboratory.intrinsic+json": {
              "type": "string"
            }
          },
          "metadata": {},
          "execution_count": 53
        }
      ]
    },
    {
      "cell_type": "code",
      "source": [
        "s_val[-1]"
      ],
      "metadata": {
        "colab": {
          "base_uri": "https://localhost:8080/",
          "height": 35
        },
        "id": "Ljzu9TkHxKbm",
        "outputId": "57cbcee6-4f2e-48e4-d2d7-46970dd6b799"
      },
      "execution_count": null,
      "outputs": [
        {
          "output_type": "execute_result",
          "data": {
            "text/plain": [
              "'!'"
            ],
            "application/vnd.google.colaboratory.intrinsic+json": {
              "type": "string"
            }
          },
          "metadata": {},
          "execution_count": 55
        }
      ]
    },
    {
      "cell_type": "code",
      "source": [
        "s_val[::2] # 2글자 마다 가져옴"
      ],
      "metadata": {
        "colab": {
          "base_uri": "https://localhost:8080/",
          "height": 35
        },
        "id": "GeXrJ9tGxTaI",
        "outputId": "2d0fb7ad-0405-4fb0-8807-b4dd9ef1daad"
      },
      "execution_count": null,
      "outputs": [
        {
          "output_type": "execute_result",
          "data": {
            "text/plain": [
              "'hlopto!'"
            ],
            "application/vnd.google.colaboratory.intrinsic+json": {
              "type": "string"
            }
          },
          "metadata": {},
          "execution_count": 57
        }
      ]
    },
    {
      "cell_type": "code",
      "source": [
        "s_val[::-2] "
      ],
      "metadata": {
        "colab": {
          "base_uri": "https://localhost:8080/",
          "height": 35
        },
        "id": "OIqjEBWcxaU3",
        "outputId": "b1dd4e68-66bb-48eb-efb2-4ddf8b1b63eb"
      },
      "execution_count": null,
      "outputs": [
        {
          "output_type": "execute_result",
          "data": {
            "text/plain": [
              "'!otpolh'"
            ],
            "application/vnd.google.colaboratory.intrinsic+json": {
              "type": "string"
            }
          },
          "metadata": {},
          "execution_count": 58
        }
      ]
    },
    {
      "cell_type": "code",
      "source": [
        "s_val[::-1] # 역순"
      ],
      "metadata": {
        "colab": {
          "base_uri": "https://localhost:8080/",
          "height": 35
        },
        "id": "ZFbUO8g0xcRm",
        "outputId": "a0e15b44-bb84-4ac4-b879-0f1aeec1c2a6"
      },
      "execution_count": null,
      "outputs": [
        {
          "output_type": "execute_result",
          "data": {
            "text/plain": [
              "'!nohtyp olleh'"
            ],
            "application/vnd.google.colaboratory.intrinsic+json": {
              "type": "string"
            }
          },
          "metadata": {},
          "execution_count": 59
        }
      ]
    },
    {
      "cell_type": "code",
      "source": [
        "s_val2='hello' + ' ' +'python!' #문자열의 연결하기는 (+)연산자를 사용\n",
        "s_val2"
      ],
      "metadata": {
        "colab": {
          "base_uri": "https://localhost:8080/",
          "height": 35
        },
        "id": "InFxfM5hxepf",
        "outputId": "26a3d78f-ab3d-4849-93da-020bcfb12d63"
      },
      "execution_count": null,
      "outputs": [
        {
          "output_type": "execute_result",
          "data": {
            "text/plain": [
              "'hello python!'"
            ],
            "application/vnd.google.colaboratory.intrinsic+json": {
              "type": "string"
            }
          },
          "metadata": {},
          "execution_count": 60
        }
      ]
    },
    {
      "cell_type": "code",
      "source": [
        "s_val3='win' * 3 #문자열 반복하기는(*) 연산자를 사용\n",
        "s_val3"
      ],
      "metadata": {
        "colab": {
          "base_uri": "https://localhost:8080/",
          "height": 35
        },
        "id": "Gs-6HOS_yAh-",
        "outputId": "ad27e5f0-d788-4d24-bb6d-87f08143bc55"
      },
      "execution_count": null,
      "outputs": [
        {
          "output_type": "execute_result",
          "data": {
            "text/plain": [
              "'winwinwin'"
            ],
            "application/vnd.google.colaboratory.intrinsic+json": {
              "type": "string"
            }
          },
          "metadata": {},
          "execution_count": 61
        }
      ]
    },
    {
      "cell_type": "code",
      "source": [
        "s_val4='H' + s_val2[1:] #문자열을 변경할 때 슬라이싱과 연결하기 사용\n",
        "s_val4"
      ],
      "metadata": {
        "colab": {
          "base_uri": "https://localhost:8080/",
          "height": 35
        },
        "id": "0UmpO3gJyOVf",
        "outputId": "8c1b0259-7507-4151-9a9c-e989f70c9175"
      },
      "execution_count": null,
      "outputs": [
        {
          "output_type": "execute_result",
          "data": {
            "text/plain": [
              "'Hello python!'"
            ],
            "application/vnd.google.colaboratory.intrinsic+json": {
              "type": "string"
            }
          },
          "metadata": {},
          "execution_count": 67
        }
      ]
    },
    {
      "cell_type": "code",
      "source": [
        "len(s_val4)"
      ],
      "metadata": {
        "colab": {
          "base_uri": "https://localhost:8080/"
        },
        "id": "dtJQzWqly40f",
        "outputId": "86ce0a1f-d188-45fe-a52c-99ec31d85168"
      },
      "execution_count": null,
      "outputs": [
        {
          "output_type": "execute_result",
          "data": {
            "text/plain": [
              "13"
            ]
          },
          "metadata": {},
          "execution_count": 68
        }
      ]
    },
    {
      "cell_type": "code",
      "source": [
        "'python' in s_val4 #'python'가 문자열 s_val안에 있는가?   # in연산자로 멤버 검사를 해서 부분 문자열의 존재 확인"
      ],
      "metadata": {
        "colab": {
          "base_uri": "https://localhost:8080/"
        },
        "id": "yWDlLTyIzifY",
        "outputId": "40e59171-bdfa-41f9-e824-83333ff15e66"
      },
      "execution_count": null,
      "outputs": [
        {
          "output_type": "execute_result",
          "data": {
            "text/plain": [
              "True"
            ]
          },
          "metadata": {},
          "execution_count": 70
        }
      ]
    },
    {
      "cell_type": "code",
      "source": [
        "'python' not in s_val4"
      ],
      "metadata": {
        "colab": {
          "base_uri": "https://localhost:8080/"
        },
        "id": "NmRGc9I6z_X4",
        "outputId": "a1fe2b33-c430-4577-c334-efb293cb0744"
      },
      "execution_count": null,
      "outputs": [
        {
          "output_type": "execute_result",
          "data": {
            "text/plain": [
              "False"
            ]
          },
          "metadata": {},
          "execution_count": 72
        }
      ]
    },
    {
      "cell_type": "code",
      "source": [
        "s_val5='''돈이 다 무슨 소용인가? 사람이 아침에 일어나고 밤에 잠자리에    \n",
        " 들며 그 사이에 하고 싶은 일을 한다면 그 사람은 성공한 것이다.'''\n",
        "s_val5"
      ],
      "metadata": {
        "colab": {
          "base_uri": "https://localhost:8080/",
          "height": 35
        },
        "id": "gA8-lZwm0EEf",
        "outputId": "32043d74-ae65-46ae-f3ff-b1af33c7d1bf"
      },
      "execution_count": null,
      "outputs": [
        {
          "output_type": "execute_result",
          "data": {
            "text/plain": [
              "'돈이 다 무슨 소용인가? 사람이 아침에 일어나고 밤에 잠자리에    \\n 들며 그 사이에 하고 싶은 일을 한다면 그 사람은 성공한 것이다.'"
            ],
            "application/vnd.google.colaboratory.intrinsic+json": {
              "type": "string"
            }
          },
          "metadata": {},
          "execution_count": 77
        }
      ]
    },
    {
      "cell_type": "code",
      "source": [
        "input(\"3+2?\")"
      ],
      "metadata": {
        "colab": {
          "base_uri": "https://localhost:8080/",
          "height": 53
        },
        "id": "ghijVnuT0ejI",
        "outputId": "d64c79f2-7f2e-4a6b-da32-5091fb3baa48"
      },
      "execution_count": null,
      "outputs": [
        {
          "name": "stdout",
          "output_type": "stream",
          "text": [
            "3+2?5\n"
          ]
        },
        {
          "output_type": "execute_result",
          "data": {
            "text/plain": [
              "'5'"
            ],
            "application/vnd.google.colaboratory.intrinsic+json": {
              "type": "string"
            }
          },
          "metadata": {},
          "execution_count": 79
        }
      ]
    },
    {
      "cell_type": "code",
      "source": [
        "a=input('첫번째 정수 입력: ')"
      ],
      "metadata": {
        "colab": {
          "base_uri": "https://localhost:8080/"
        },
        "id": "wx-LFrWC1OMJ",
        "outputId": "fb14705b-c9c3-44ea-9a7a-a3609e946cd1"
      },
      "execution_count": null,
      "outputs": [
        {
          "name": "stdout",
          "output_type": "stream",
          "text": [
            "첫번째 정수 입력: 10\n"
          ]
        }
      ]
    },
    {
      "cell_type": "code",
      "source": [
        "b=input('두번째 정수 입력: ')"
      ],
      "metadata": {
        "colab": {
          "base_uri": "https://localhost:8080/"
        },
        "id": "_Ws7LNW61bCg",
        "outputId": "7ed610f0-552b-45ed-e479-b4c70f42a040"
      },
      "execution_count": null,
      "outputs": [
        {
          "name": "stdout",
          "output_type": "stream",
          "text": [
            "두번째 정수 입력: 6\n"
          ]
        }
      ]
    },
    {
      "cell_type": "code",
      "source": [
        "c=int(a) + int(b)\n",
        "print(c)"
      ],
      "metadata": {
        "colab": {
          "base_uri": "https://localhost:8080/"
        },
        "id": "YVJOGLC11jKh",
        "outputId": "63c1ad87-d5c2-4bb2-8515-1a0b90c8dee0"
      },
      "execution_count": null,
      "outputs": [
        {
          "output_type": "stream",
          "name": "stdout",
          "text": [
            "16\n"
          ]
        }
      ]
    },
    {
      "cell_type": "markdown",
      "source": [
        "#문자열 서식지정\n",
        "어떤 문서 양식을 만들어 놓고 빈칸에 필요한 내용을 채워서 문서를 지정"
      ],
      "metadata": {
        "id": "7j1gjINc3Ppj"
      }
    },
    {
      "cell_type": "code",
      "source": [
        "s_val6='python'\n",
        "s_val7=83.5\n",
        "print('%s의 점수는 %.1f입니다.' %(s_val6,s_val7))"
      ],
      "metadata": {
        "colab": {
          "base_uri": "https://localhost:8080/"
        },
        "id": "cd09mbQt1rNh",
        "outputId": "59520c14-1cf1-4103-f679-c4cf7f55c96b"
      },
      "execution_count": null,
      "outputs": [
        {
          "output_type": "stream",
          "name": "stdout",
          "text": [
            "python의 점수는 83.5입니다.\n"
          ]
        }
      ]
    },
    {
      "cell_type": "code",
      "source": [
        "'Hello,{0}{1}{2}'.format('Python','Script',3.6) #{인덱스}'.format(값)"
      ],
      "metadata": {
        "colab": {
          "base_uri": "https://localhost:8080/",
          "height": 35
        },
        "id": "nk8ogwWs2sga",
        "outputId": "8c0c2dcc-cafc-4e6b-e27d-0ea9fe7a3ae9"
      },
      "execution_count": null,
      "outputs": [
        {
          "output_type": "execute_result",
          "data": {
            "text/plain": [
              "'Hello,PythonScript3.6'"
            ],
            "application/vnd.google.colaboratory.intrinsic+json": {
              "type": "string"
            }
          },
          "metadata": {},
          "execution_count": 88
        }
      ]
    },
    {
      "cell_type": "code",
      "source": [
        "'Hello,{0}{2}{1}'.format('Python','Script',3.6)"
      ],
      "metadata": {
        "colab": {
          "base_uri": "https://localhost:8080/",
          "height": 35
        },
        "id": "vppYl0RM3EqR",
        "outputId": "3d7f2e55-53ab-46d5-86bd-4c7868e47ded"
      },
      "execution_count": null,
      "outputs": [
        {
          "output_type": "execute_result",
          "data": {
            "text/plain": [
              "'Hello,Python3.6Script'"
            ],
            "application/vnd.google.colaboratory.intrinsic+json": {
              "type": "string"
            }
          },
          "metadata": {},
          "execution_count": 90
        }
      ]
    },
    {
      "cell_type": "code",
      "source": [
        "hp1= '010'\n",
        "hp2= '2531'\n",
        "hp3= '9234'\n",
        "print(hp1, hp2, hp3, sep='-')"
      ],
      "metadata": {
        "colab": {
          "base_uri": "https://localhost:8080/"
        },
        "id": "ZG0eVorIAUnA",
        "outputId": "b0320eab-f531-4de5-fede-07a92669e269"
      },
      "execution_count": null,
      "outputs": [
        {
          "output_type": "stream",
          "name": "stdout",
          "text": [
            "010-2531-9234\n"
          ]
        }
      ]
    },
    {
      "cell_type": "code",
      "source": [
        "print('korea'.lower())\n",
        "print('korea'.upper())\n",
        "print('korea'.swapcase())\n",
        "print('KOREA'.swapcase())\n",
        "print('we are the world'.title())\n",
        "print('we are the world'.capitalize())"
      ],
      "metadata": {
        "colab": {
          "base_uri": "https://localhost:8080/"
        },
        "id": "fF5D9QcNBUQO",
        "outputId": "5b696bf2-2296-44dd-99d7-bd25cb9b8510"
      },
      "execution_count": null,
      "outputs": [
        {
          "output_type": "stream",
          "name": "stdout",
          "text": [
            "korea\n",
            "KOREA\n",
            "KOREA\n",
            "korea\n",
            "We Are The World\n",
            "We are the world\n"
          ]
        }
      ]
    },
    {
      "cell_type": "code",
      "source": [
        "print('KORea'.islower())\n",
        "print('korea'.islower())\n",
        "print('KORea'.isupper())\n",
        "print('KOREA'.isupper())"
      ],
      "metadata": {
        "colab": {
          "base_uri": "https://localhost:8080/"
        },
        "id": "f6nTa2jmD2NN",
        "outputId": "20dcbce8-8541-4ffd-8aba-5e73de82d2f9"
      },
      "execution_count": null,
      "outputs": [
        {
          "output_type": "stream",
          "name": "stdout",
          "text": [
            "False\n",
            "True\n",
            "False\n",
            "True\n"
          ]
        }
      ]
    },
    {
      "cell_type": "code",
      "source": [
        "print('we are the world'.find('are'))\n",
        "print('we are the world'.find('WORLD'))\n",
        "print('we are the world'.index('are'))\n",
        "print('we are the world'. index('WORLD'))"
      ],
      "metadata": {
        "colab": {
          "base_uri": "https://localhost:8080/",
          "height": 253
        },
        "id": "Pc2iM535EFxQ",
        "outputId": "89957a79-0782-45ca-abb3-d0615d92050e"
      },
      "execution_count": null,
      "outputs": [
        {
          "output_type": "stream",
          "name": "stdout",
          "text": [
            "3\n",
            "-1\n",
            "3\n"
          ]
        },
        {
          "output_type": "error",
          "ename": "ValueError",
          "evalue": "ignored",
          "traceback": [
            "\u001b[0;31m---------------------------------------------------------------------------\u001b[0m",
            "\u001b[0;31mValueError\u001b[0m                                Traceback (most recent call last)",
            "\u001b[0;32m<ipython-input-109-08260eafc0e4>\u001b[0m in \u001b[0;36m<module>\u001b[0;34m\u001b[0m\n\u001b[1;32m      2\u001b[0m \u001b[0mprint\u001b[0m\u001b[0;34m(\u001b[0m\u001b[0;34m'we are the world'\u001b[0m\u001b[0;34m.\u001b[0m\u001b[0mfind\u001b[0m\u001b[0;34m(\u001b[0m\u001b[0;34m'WORLD'\u001b[0m\u001b[0;34m)\u001b[0m\u001b[0;34m)\u001b[0m\u001b[0;34m\u001b[0m\u001b[0;34m\u001b[0m\u001b[0m\n\u001b[1;32m      3\u001b[0m \u001b[0mprint\u001b[0m\u001b[0;34m(\u001b[0m\u001b[0;34m'we are the world'\u001b[0m\u001b[0;34m.\u001b[0m\u001b[0mindex\u001b[0m\u001b[0;34m(\u001b[0m\u001b[0;34m'are'\u001b[0m\u001b[0;34m)\u001b[0m\u001b[0;34m)\u001b[0m\u001b[0;34m\u001b[0m\u001b[0;34m\u001b[0m\u001b[0m\n\u001b[0;32m----> 4\u001b[0;31m \u001b[0mprint\u001b[0m\u001b[0;34m(\u001b[0m\u001b[0;34m'we are the world'\u001b[0m\u001b[0;34m.\u001b[0m \u001b[0mindex\u001b[0m\u001b[0;34m(\u001b[0m\u001b[0;34m'WORLD'\u001b[0m\u001b[0;34m)\u001b[0m\u001b[0;34m)\u001b[0m\u001b[0;34m\u001b[0m\u001b[0;34m\u001b[0m\u001b[0m\n\u001b[0m",
            "\u001b[0;31mValueError\u001b[0m: substring not found"
          ]
        }
      ]
    },
    {
      "cell_type": "code",
      "source": [
        "print('.'.join(['we', 'are', 'the', 'world']))"
      ],
      "metadata": {
        "colab": {
          "base_uri": "https://localhost:8080/"
        },
        "id": "bcUR8H6jExtY",
        "outputId": "7e63e486-fe5e-40ab-b134-6fbf10ab8399"
      },
      "execution_count": null,
      "outputs": [
        {
          "output_type": "stream",
          "name": "stdout",
          "text": [
            "we.are.the.world\n"
          ]
        }
      ]
    },
    {
      "cell_type": "code",
      "source": [
        "print('we are'.isalnum())\n",
        "print('weare'.isalnum())\n",
        "print('we123'.isalnum())\n",
        "print('we123'.isdecimal())\n",
        "print('123'.isdecimal())\n",
        "print ('123.4'.isdecimal())\n",
        "print('123.4'.isdigit())"
      ],
      "metadata": {
        "colab": {
          "base_uri": "https://localhost:8080/"
        },
        "id": "twD_tHewE4bf",
        "outputId": "7dd9b0cc-5389-40ba-ffd3-eee190a28953"
      },
      "execution_count": null,
      "outputs": [
        {
          "output_type": "stream",
          "name": "stdout",
          "text": [
            "False\n",
            "True\n",
            "True\n",
            "False\n",
            "True\n",
            "False\n",
            "False\n"
          ]
        }
      ]
    },
    {
      "cell_type": "code",
      "source": [
        "print('we are the world'.split())"
      ],
      "metadata": {
        "colab": {
          "base_uri": "https://localhost:8080/"
        },
        "id": "6eQpFokzGdJi",
        "outputId": "ae196d65-1865-48cb-b805-fae8f5b76b55"
      },
      "execution_count": null,
      "outputs": [
        {
          "output_type": "stream",
          "name": "stdout",
          "text": [
            "['we', 'are', 'the', 'world']\n"
          ]
        }
      ]
    },
    {
      "cell_type": "markdown",
      "source": [
        "### 리스트"
      ],
      "metadata": {
        "id": "avqIqEJ1HBKG"
      }
    },
    {
      "cell_type": "code",
      "source": [
        "l_val=[10,20,30]\n",
        "l_val"
      ],
      "metadata": {
        "colab": {
          "base_uri": "https://localhost:8080/"
        },
        "id": "a3dN-ybfHAeR",
        "outputId": "f86be565-5410-48b1-c1a0-353769b8652c"
      },
      "execution_count": null,
      "outputs": [
        {
          "output_type": "execute_result",
          "data": {
            "text/plain": [
              "[10, 20, 30]"
            ]
          },
          "metadata": {},
          "execution_count": 128
        }
      ]
    },
    {
      "cell_type": "code",
      "source": [
        "type(l_val)"
      ],
      "metadata": {
        "colab": {
          "base_uri": "https://localhost:8080/"
        },
        "id": "L-CZ56IXHKoZ",
        "outputId": "4c223eed-7960-4625-9545-d5ab33d7789c"
      },
      "execution_count": null,
      "outputs": [
        {
          "output_type": "execute_result",
          "data": {
            "text/plain": [
              "list"
            ]
          },
          "metadata": {},
          "execution_count": 130
        }
      ]
    },
    {
      "cell_type": "code",
      "source": [
        "l_val2=[10,'python',80.5,True]\n",
        "l_val2"
      ],
      "metadata": {
        "colab": {
          "base_uri": "https://localhost:8080/"
        },
        "id": "rj8_2w8-HPlJ",
        "outputId": "8a2cdb33-a31e-4058-b40a-19dc5bfbb00f"
      },
      "execution_count": null,
      "outputs": [
        {
          "output_type": "execute_result",
          "data": {
            "text/plain": [
              "[10, 'python', 80.5, True]"
            ]
          },
          "metadata": {},
          "execution_count": 133
        }
      ]
    },
    {
      "cell_type": "code",
      "source": [
        "l_val3=[5,10,15,20,25]\n",
        "l_val3[0]"
      ],
      "metadata": {
        "colab": {
          "base_uri": "https://localhost:8080/"
        },
        "id": "G81YU7VPHbsM",
        "outputId": "b33b9476-01f5-473f-b682-2c46a1994791"
      },
      "execution_count": null,
      "outputs": [
        {
          "output_type": "execute_result",
          "data": {
            "text/plain": [
              "5"
            ]
          },
          "metadata": {},
          "execution_count": 135
        }
      ]
    },
    {
      "cell_type": "code",
      "source": [
        "l_val3[-1]"
      ],
      "metadata": {
        "colab": {
          "base_uri": "https://localhost:8080/"
        },
        "id": "OWAR6bPOHiCx",
        "outputId": "ae953648-58db-428a-855e-ccefc6ac9149"
      },
      "execution_count": null,
      "outputs": [
        {
          "output_type": "execute_result",
          "data": {
            "text/plain": [
              "25"
            ]
          },
          "metadata": {},
          "execution_count": 137
        }
      ]
    },
    {
      "cell_type": "code",
      "source": [
        "l_val3[0:2]"
      ],
      "metadata": {
        "colab": {
          "base_uri": "https://localhost:8080/"
        },
        "id": "mHyX68_OH9DZ",
        "outputId": "482574c8-05f7-420b-be30-5f8fe0501685"
      },
      "execution_count": null,
      "outputs": [
        {
          "output_type": "execute_result",
          "data": {
            "text/plain": [
              "[5, 10]"
            ]
          },
          "metadata": {},
          "execution_count": 138
        }
      ]
    },
    {
      "cell_type": "code",
      "source": [
        "l_val3[::2]"
      ],
      "metadata": {
        "colab": {
          "base_uri": "https://localhost:8080/"
        },
        "id": "LbasrP0wH_4q",
        "outputId": "4cd92eb7-91f4-40b6-903d-ac6a977bd262"
      },
      "execution_count": null,
      "outputs": [
        {
          "output_type": "execute_result",
          "data": {
            "text/plain": [
              "[5, 15, 25]"
            ]
          },
          "metadata": {},
          "execution_count": 140
        }
      ]
    },
    {
      "cell_type": "code",
      "source": [
        "l_val3 + l_val3 + l_val3  # 연결하기"
      ],
      "metadata": {
        "colab": {
          "base_uri": "https://localhost:8080/"
        },
        "id": "xItWToXyID7p",
        "outputId": "2914da83-babb-4184-bf12-6bcdb3fa6f31"
      },
      "execution_count": null,
      "outputs": [
        {
          "output_type": "execute_result",
          "data": {
            "text/plain": [
              "[5, 10, 15, 20, 25, 5, 10, 15, 20, 25, 5, 10, 15, 20, 25]"
            ]
          },
          "metadata": {},
          "execution_count": 141
        }
      ]
    },
    {
      "cell_type": "code",
      "source": [
        "l_val3 +[30,35] # 연결하기"
      ],
      "metadata": {
        "colab": {
          "base_uri": "https://localhost:8080/"
        },
        "id": "pQf5KVT6IOtp",
        "outputId": "5be1c235-fe59-4a05-950a-078cd6b56fba"
      },
      "execution_count": null,
      "outputs": [
        {
          "output_type": "execute_result",
          "data": {
            "text/plain": [
              "[5, 10, 15, 20, 25, 30, 35]"
            ]
          },
          "metadata": {},
          "execution_count": 143
        }
      ]
    },
    {
      "cell_type": "code",
      "source": [
        "l_val3*3 # 반복하기"
      ],
      "metadata": {
        "colab": {
          "base_uri": "https://localhost:8080/"
        },
        "id": "TbQMz7b-ITYK",
        "outputId": "4e6ec4f3-cfe4-4078-9077-3bb3e6407050"
      },
      "execution_count": null,
      "outputs": [
        {
          "output_type": "execute_result",
          "data": {
            "text/plain": [
              "[5, 10, 15, 20, 25, 5, 10, 15, 20, 25, 5, 10, 15, 20, 25]"
            ]
          },
          "metadata": {},
          "execution_count": 144
        }
      ]
    },
    {
      "cell_type": "code",
      "source": [
        "5 in l_val3 #멤버 검사"
      ],
      "metadata": {
        "colab": {
          "base_uri": "https://localhost:8080/"
        },
        "id": "9tM02-k1IVyR",
        "outputId": "3d9c4841-b7e3-44b1-c5f6-91c28acf8829"
      },
      "execution_count": null,
      "outputs": [
        {
          "output_type": "execute_result",
          "data": {
            "text/plain": [
              "True"
            ]
          },
          "metadata": {},
          "execution_count": 146
        }
      ]
    },
    {
      "cell_type": "code",
      "source": [
        "l_val5=['apple','banana',100,200]\n",
        "l_val5[0:2]=[1,2]  # 지정한 인덱스[0:2] 범위의 요소를 [1,2]로 변경한다.\n",
        "l_val5"
      ],
      "metadata": {
        "colab": {
          "base_uri": "https://localhost:8080/"
        },
        "id": "XK0cj_bqIsVq",
        "outputId": "10bc6a45-9a6a-4c36-ef06-da5ebd573375"
      },
      "execution_count": null,
      "outputs": [
        {
          "output_type": "execute_result",
          "data": {
            "text/plain": [
              "[1, 2, 100, 200]"
            ]
          },
          "metadata": {},
          "execution_count": 148
        }
      ]
    },
    {
      "cell_type": "code",
      "source": [
        "l_val5[0:2] = [100] # 크기가 달라도 된다.\n",
        "l_val5"
      ],
      "metadata": {
        "colab": {
          "base_uri": "https://localhost:8080/"
        },
        "id": "G4izikaYJq57",
        "outputId": "66eac28e-257d-48df-fc48-f725b264dabc"
      },
      "execution_count": null,
      "outputs": [
        {
          "output_type": "execute_result",
          "data": {
            "text/plain": [
              "[100]"
            ]
          },
          "metadata": {},
          "execution_count": 156
        }
      ]
    },
    {
      "cell_type": "code",
      "source": [
        "l_val6=['apple','banana',100,200]\n",
        "l_val6[0:2]=[]\n",
        "l_val6"
      ],
      "metadata": {
        "id": "OmQU5zciKHcb",
        "colab": {
          "base_uri": "https://localhost:8080/"
        },
        "outputId": "a57adc3e-b456-4e6a-cf6b-83fe7da6b25b"
      },
      "execution_count": null,
      "outputs": [
        {
          "output_type": "execute_result",
          "data": {
            "text/plain": [
              "[100, 200]"
            ]
          },
          "metadata": {},
          "execution_count": 158
        }
      ]
    },
    {
      "cell_type": "code",
      "source": [
        "l_val7=[2,4,6,8]\n",
        "del l_val7[0]\n",
        "l_val7"
      ],
      "metadata": {
        "colab": {
          "base_uri": "https://localhost:8080/"
        },
        "id": "4OOZfS9nN4Uc",
        "outputId": "2d7f8c4b-0a46-4c87-e8c5-15685fe95e25"
      },
      "execution_count": null,
      "outputs": [
        {
          "output_type": "execute_result",
          "data": {
            "text/plain": [
              "[4, 6, 8]"
            ]
          },
          "metadata": {},
          "execution_count": 160
        }
      ]
    },
    {
      "cell_type": "code",
      "source": [
        "l_val8=[3,6,9]\n",
        "l_val8[1:1]=['red','green']\n",
        "l_val8"
      ],
      "metadata": {
        "colab": {
          "base_uri": "https://localhost:8080/"
        },
        "id": "ZBQTKZ-tODxU",
        "outputId": "572b96d8-eebe-400b-d7d0-eb692794d15d"
      },
      "execution_count": null,
      "outputs": [
        {
          "output_type": "execute_result",
          "data": {
            "text/plain": [
              "[3, 'red', 'green', 6, 9]"
            ]
          },
          "metadata": {},
          "execution_count": 164
        }
      ]
    },
    {
      "cell_type": "code",
      "source": [
        "l_val9=[2,4,6,8]\n",
        "l_val9[::2]=[-1,-2,-3,-4]  # l_val9[::2]결과는 [2,6]\n",
        "l_val9"
      ],
      "metadata": {
        "colab": {
          "base_uri": "https://localhost:8080/",
          "height": 201
        },
        "id": "P8AVOpOPO8kW",
        "outputId": "70fc1ed6-339f-4784-c13f-1c4562f6e197"
      },
      "execution_count": null,
      "outputs": [
        {
          "output_type": "error",
          "ename": "ValueError",
          "evalue": "ignored",
          "traceback": [
            "\u001b[0;31m---------------------------------------------------------------------------\u001b[0m",
            "\u001b[0;31mValueError\u001b[0m                                Traceback (most recent call last)",
            "\u001b[0;32m<ipython-input-168-8fa0d7fe2fc2>\u001b[0m in \u001b[0;36m<module>\u001b[0;34m\u001b[0m\n\u001b[1;32m      1\u001b[0m \u001b[0ml_val9\u001b[0m\u001b[0;34m=\u001b[0m\u001b[0;34m[\u001b[0m\u001b[0;36m2\u001b[0m\u001b[0;34m,\u001b[0m\u001b[0;36m4\u001b[0m\u001b[0;34m,\u001b[0m\u001b[0;36m6\u001b[0m\u001b[0;34m,\u001b[0m\u001b[0;36m8\u001b[0m\u001b[0;34m]\u001b[0m\u001b[0;34m\u001b[0m\u001b[0;34m\u001b[0m\u001b[0m\n\u001b[0;32m----> 2\u001b[0;31m \u001b[0ml_val9\u001b[0m\u001b[0;34m[\u001b[0m\u001b[0;34m:\u001b[0m\u001b[0;34m:\u001b[0m\u001b[0;36m2\u001b[0m\u001b[0;34m]\u001b[0m\u001b[0;34m=\u001b[0m\u001b[0;34m[\u001b[0m\u001b[0;34m-\u001b[0m\u001b[0;36m1\u001b[0m\u001b[0;34m,\u001b[0m\u001b[0;34m-\u001b[0m\u001b[0;36m2\u001b[0m\u001b[0;34m,\u001b[0m\u001b[0;34m-\u001b[0m\u001b[0;36m3\u001b[0m\u001b[0;34m,\u001b[0m\u001b[0;34m-\u001b[0m\u001b[0;36m4\u001b[0m\u001b[0;34m]\u001b[0m  \u001b[0;31m# l_val9[::2]결과는 [2,6]\u001b[0m\u001b[0;34m\u001b[0m\u001b[0;34m\u001b[0m\u001b[0m\n\u001b[0m\u001b[1;32m      3\u001b[0m \u001b[0ml_val9\u001b[0m\u001b[0;34m\u001b[0m\u001b[0;34m\u001b[0m\u001b[0m\n",
            "\u001b[0;31mValueError\u001b[0m: attempt to assign sequence of size 4 to extended slice of size 2"
          ]
        }
      ]
    },
    {
      "cell_type": "code",
      "source": [
        "l_val10=[10,20,30]\n",
        "l_val10=['start',l_val10,'end']\n",
        "l_val10"
      ],
      "metadata": {
        "colab": {
          "base_uri": "https://localhost:8080/"
        },
        "id": "HxZI2NXdPqHF",
        "outputId": "5862d319-17f4-429c-b8eb-1c3aa4546aeb"
      },
      "execution_count": null,
      "outputs": [
        {
          "output_type": "execute_result",
          "data": {
            "text/plain": [
              "['start', [10, 20, 30], 'end']"
            ]
          },
          "metadata": {},
          "execution_count": 170
        }
      ]
    },
    {
      "cell_type": "code",
      "source": [
        "a=['foo','bar', 4,5]\n",
        "x,y,z,w=a\n",
        "print(x,y,z,w)"
      ],
      "metadata": {
        "colab": {
          "base_uri": "https://localhost:8080/"
        },
        "id": "iBRVRTUgP7q9",
        "outputId": "a0292bff-e15b-4fbe-8564-a7c4946c9c31"
      },
      "execution_count": null,
      "outputs": [
        {
          "output_type": "stream",
          "name": "stdout",
          "text": [
            "foo bar 4 5\n"
          ]
        }
      ]
    },
    {
      "cell_type": "code",
      "source": [
        "l_val9= ['red', 'green', 'blue', 'white', 'black']\n",
        "print(l_val9.append(\"orange\"))\n",
        "print(l_val9)\n",
        "print(l_val9.extend(['yello','aqua']))\n",
        "print(l_val9)\n",
        "l_val9.extend('purple')\n",
        "print(l_val9)\n",
        "l_val9.insert(0,\"gray\")\n",
        "print(l_val9)\n",
        "l_val9.remove(\"p\")\n",
        "print(l_val9)\n",
        "l_val9.pop()\n",
        "print(l_val9)\n",
        "l_val9.pop(0)\n",
        "print(l_val9)\n",
        "print(l_val9.index(\"blue\"))\n",
        "print(l_val9.count(\"white\"))\n",
        "print(l_val9.sort())\n",
        "print(l_val9)\n",
        "print(l_val9.reverse())\n",
        "print(l_val9)\n",
        "l_val12=l_val9.copy()\n",
        "print(l_val9)\n",
        "print(l_val12)\n",
        "l_val12[0]='gray';\n",
        "print(l_val9)\n",
        "print(l_val12)\n",
        "l_val12.clear()\n",
        "print('clear',l_val12)"
      ],
      "metadata": {
        "colab": {
          "base_uri": "https://localhost:8080/"
        },
        "id": "xep44z-zUPYo",
        "outputId": "f24589b2-887f-4ace-b11f-b23d7b58f7ca"
      },
      "execution_count": null,
      "outputs": [
        {
          "output_type": "stream",
          "name": "stdout",
          "text": [
            "None\n",
            "['red', 'green', 'blue', 'white', 'black', 'orange']\n",
            "None\n",
            "['red', 'green', 'blue', 'white', 'black', 'orange', 'yello', 'aqua']\n",
            "['red', 'green', 'blue', 'white', 'black', 'orange', 'yello', 'aqua', 'p', 'u', 'r', 'p', 'l', 'e']\n",
            "['gray', 'red', 'green', 'blue', 'white', 'black', 'orange', 'yello', 'aqua', 'p', 'u', 'r', 'p', 'l', 'e']\n",
            "['gray', 'red', 'green', 'blue', 'white', 'black', 'orange', 'yello', 'aqua', 'u', 'r', 'p', 'l', 'e']\n",
            "['gray', 'red', 'green', 'blue', 'white', 'black', 'orange', 'yello', 'aqua', 'u', 'r', 'p', 'l']\n",
            "['red', 'green', 'blue', 'white', 'black', 'orange', 'yello', 'aqua', 'u', 'r', 'p', 'l']\n",
            "2\n",
            "1\n",
            "None\n",
            "['aqua', 'black', 'blue', 'green', 'l', 'orange', 'p', 'r', 'red', 'u', 'white', 'yello']\n",
            "None\n",
            "['yello', 'white', 'u', 'red', 'r', 'p', 'orange', 'l', 'green', 'blue', 'black', 'aqua']\n",
            "['yello', 'white', 'u', 'red', 'r', 'p', 'orange', 'l', 'green', 'blue', 'black', 'aqua']\n",
            "['yello', 'white', 'u', 'red', 'r', 'p', 'orange', 'l', 'green', 'blue', 'black', 'aqua']\n",
            "['yello', 'white', 'u', 'red', 'r', 'p', 'orange', 'l', 'green', 'blue', 'black', 'aqua']\n",
            "['gray', 'white', 'u', 'red', 'r', 'p', 'orange', 'l', 'green', 'blue', 'black', 'aqua']\n",
            "clear []\n"
          ]
        }
      ]
    },
    {
      "cell_type": "code",
      "source": [
        "a=['red', 'blud']\n",
        "b = a\n",
        "print(a,b)\n",
        "b[0] = 'white'\n",
        "print(a,b)"
      ],
      "metadata": {
        "colab": {
          "base_uri": "https://localhost:8080/"
        },
        "id": "RcOnGiQSXCVI",
        "outputId": "c7a32b21-50fa-415c-92bb-5abc36f331e0"
      },
      "execution_count": null,
      "outputs": [
        {
          "output_type": "stream",
          "name": "stdout",
          "text": [
            "['red', 'blud'] ['red', 'blud']\n",
            "['white', 'blud'] ['white', 'blud']\n"
          ]
        }
      ]
    },
    {
      "cell_type": "code",
      "source": [
        "a=['red','green']\n",
        "b=[]\n",
        "print(a,b)\n",
        "\n",
        "b.extend(a)\n",
        "print(a,b)\n",
        "b[0] = 'black'\n",
        "print(a,b)\n"
      ],
      "metadata": {
        "colab": {
          "base_uri": "https://localhost:8080/"
        },
        "id": "GmUjMd-XXVYA",
        "outputId": "97da5645-0c6d-422c-a75c-c0e794dcd3ee"
      },
      "execution_count": null,
      "outputs": [
        {
          "output_type": "stream",
          "name": "stdout",
          "text": [
            "['red', 'green'] []\n",
            "['red', 'green'] ['red', 'green']\n",
            "['red', 'green'] ['black', 'green']\n"
          ]
        }
      ]
    },
    {
      "cell_type": "code",
      "source": [
        "a=[['red','green']]\n",
        "b= a.copy();\n",
        "print(a,b)\n",
        "b[0][0]='black'\n",
        "print(a,b)"
      ],
      "metadata": {
        "colab": {
          "base_uri": "https://localhost:8080/"
        },
        "id": "G8Y_-aINXzgJ",
        "outputId": "d629d11a-0dbb-4bb6-92e5-18c16d358f8e"
      },
      "execution_count": null,
      "outputs": [
        {
          "output_type": "stream",
          "name": "stdout",
          "text": [
            "[['red', 'green']] [['red', 'green']]\n",
            "[['black', 'green']] [['black', 'green']]\n"
          ]
        }
      ]
    },
    {
      "cell_type": "code",
      "source": [
        "import copy\n",
        "\n",
        "a=[['red','green']]\n",
        "b= copy.deepcopy(a)\n",
        "print(a,b)\n",
        "b[0][0]='black'\n",
        "print(a,b)"
      ],
      "metadata": {
        "colab": {
          "base_uri": "https://localhost:8080/"
        },
        "id": "q2B360VUbFqj",
        "outputId": "7720e343-0aac-4d50-c15f-31f668e855a1"
      },
      "execution_count": null,
      "outputs": [
        {
          "output_type": "stream",
          "name": "stdout",
          "text": [
            "[['red', 'green']] [['red', 'green']]\n",
            "[['red', 'green']] [['black', 'green']]\n"
          ]
        }
      ]
    },
    {
      "cell_type": "code",
      "source": [
        "dir(list)"
      ],
      "metadata": {
        "colab": {
          "base_uri": "https://localhost:8080/"
        },
        "id": "4wCbMoOPQUJd",
        "outputId": "7ca9777c-be61-4bd3-c1fd-23706119986e"
      },
      "execution_count": null,
      "outputs": [
        {
          "output_type": "execute_result",
          "data": {
            "text/plain": [
              "['__add__',\n",
              " '__class__',\n",
              " '__contains__',\n",
              " '__delattr__',\n",
              " '__delitem__',\n",
              " '__dir__',\n",
              " '__doc__',\n",
              " '__eq__',\n",
              " '__format__',\n",
              " '__ge__',\n",
              " '__getattribute__',\n",
              " '__getitem__',\n",
              " '__gt__',\n",
              " '__hash__',\n",
              " '__iadd__',\n",
              " '__imul__',\n",
              " '__init__',\n",
              " '__init_subclass__',\n",
              " '__iter__',\n",
              " '__le__',\n",
              " '__len__',\n",
              " '__lt__',\n",
              " '__mul__',\n",
              " '__ne__',\n",
              " '__new__',\n",
              " '__reduce__',\n",
              " '__reduce_ex__',\n",
              " '__repr__',\n",
              " '__reversed__',\n",
              " '__rmul__',\n",
              " '__setattr__',\n",
              " '__setitem__',\n",
              " '__sizeof__',\n",
              " '__str__',\n",
              " '__subclasshook__',\n",
              " 'append',\n",
              " 'clear',\n",
              " 'copy',\n",
              " 'count',\n",
              " 'extend',\n",
              " 'index',\n",
              " 'insert',\n",
              " 'pop',\n",
              " 'remove',\n",
              " 'reverse',\n",
              " 'sort']"
            ]
          },
          "metadata": {},
          "execution_count": 175
        }
      ]
    },
    {
      "cell_type": "code",
      "source": [
        "dir(str)"
      ],
      "metadata": {
        "colab": {
          "base_uri": "https://localhost:8080/"
        },
        "id": "ooqNL4G6cpma",
        "outputId": "1922cb0d-6e55-4aea-bbdd-a88746ce3772"
      },
      "execution_count": null,
      "outputs": [
        {
          "output_type": "execute_result",
          "data": {
            "text/plain": [
              "['__add__',\n",
              " '__class__',\n",
              " '__contains__',\n",
              " '__delattr__',\n",
              " '__dir__',\n",
              " '__doc__',\n",
              " '__eq__',\n",
              " '__format__',\n",
              " '__ge__',\n",
              " '__getattribute__',\n",
              " '__getitem__',\n",
              " '__getnewargs__',\n",
              " '__gt__',\n",
              " '__hash__',\n",
              " '__init__',\n",
              " '__init_subclass__',\n",
              " '__iter__',\n",
              " '__le__',\n",
              " '__len__',\n",
              " '__lt__',\n",
              " '__mod__',\n",
              " '__mul__',\n",
              " '__ne__',\n",
              " '__new__',\n",
              " '__reduce__',\n",
              " '__reduce_ex__',\n",
              " '__repr__',\n",
              " '__rmod__',\n",
              " '__rmul__',\n",
              " '__setattr__',\n",
              " '__sizeof__',\n",
              " '__str__',\n",
              " '__subclasshook__',\n",
              " 'capitalize',\n",
              " 'casefold',\n",
              " 'center',\n",
              " 'count',\n",
              " 'encode',\n",
              " 'endswith',\n",
              " 'expandtabs',\n",
              " 'find',\n",
              " 'format',\n",
              " 'format_map',\n",
              " 'index',\n",
              " 'isalnum',\n",
              " 'isalpha',\n",
              " 'isascii',\n",
              " 'isdecimal',\n",
              " 'isdigit',\n",
              " 'isidentifier',\n",
              " 'islower',\n",
              " 'isnumeric',\n",
              " 'isprintable',\n",
              " 'isspace',\n",
              " 'istitle',\n",
              " 'isupper',\n",
              " 'join',\n",
              " 'ljust',\n",
              " 'lower',\n",
              " 'lstrip',\n",
              " 'maketrans',\n",
              " 'partition',\n",
              " 'replace',\n",
              " 'rfind',\n",
              " 'rindex',\n",
              " 'rjust',\n",
              " 'rpartition',\n",
              " 'rsplit',\n",
              " 'rstrip',\n",
              " 'split',\n",
              " 'splitlines',\n",
              " 'startswith',\n",
              " 'strip',\n",
              " 'swapcase',\n",
              " 'title',\n",
              " 'translate',\n",
              " 'upper',\n",
              " 'zfill']"
            ]
          },
          "metadata": {},
          "execution_count": 1
        }
      ]
    },
    {
      "cell_type": "markdown",
      "source": [
        "### 튜플\n",
        "변경이 불가능한 순서(sequence)가 있는 자료형이다.   \n",
        "튜플은 ()소괄호로 표현한다   \n",
        "   \n"
      ],
      "metadata": {
        "id": "XnYBYdW1cIIT"
      }
    },
    {
      "cell_type": "code",
      "source": [
        "def test():\n",
        "  return 2,3\n",
        "\n",
        "print(test())"
      ],
      "metadata": {
        "colab": {
          "base_uri": "https://localhost:8080/"
        },
        "id": "tavRtvzPcP9F",
        "outputId": "ea325c93-21ee-443b-d471-3efb10fe44aa"
      },
      "execution_count": null,
      "outputs": [
        {
          "output_type": "stream",
          "name": "stdout",
          "text": [
            "(2, 3)\n"
          ]
        }
      ]
    },
    {
      "cell_type": "code",
      "source": [
        "t_val=(10,20,30)\n",
        "t_val"
      ],
      "metadata": {
        "colab": {
          "base_uri": "https://localhost:8080/"
        },
        "id": "3V5b_lUXceuM",
        "outputId": "36cfabe1-dbbe-4226-bc54-5cd148659d87"
      },
      "execution_count": null,
      "outputs": [
        {
          "output_type": "execute_result",
          "data": {
            "text/plain": [
              "(10, 20, 30)"
            ]
          },
          "metadata": {},
          "execution_count": 238
        }
      ]
    },
    {
      "cell_type": "code",
      "source": [
        "type(t_val)"
      ],
      "metadata": {
        "colab": {
          "base_uri": "https://localhost:8080/"
        },
        "id": "S0ezNpKwcq7r",
        "outputId": "0753f33f-58bc-49e9-8d87-3ceb84c165bd"
      },
      "execution_count": null,
      "outputs": [
        {
          "output_type": "execute_result",
          "data": {
            "text/plain": [
              "tuple"
            ]
          },
          "metadata": {},
          "execution_count": 241
        }
      ]
    },
    {
      "cell_type": "markdown",
      "source": [
        "괄호()는 수식에서의 ()와 혼동 될 가능성이 있기 때문에 주의해야한다."
      ],
      "metadata": {
        "id": "9uwrZStmeEYs"
      }
    },
    {
      "cell_type": "code",
      "source": [
        "t_val2=(1)\n",
        "type(t_val2)"
      ],
      "metadata": {
        "colab": {
          "base_uri": "https://localhost:8080/"
        },
        "id": "s1Ueh2cwcvZi",
        "outputId": "a1af6b18-2008-46df-cd1d-00dec17d6128"
      },
      "execution_count": null,
      "outputs": [
        {
          "output_type": "execute_result",
          "data": {
            "text/plain": [
              "int"
            ]
          },
          "metadata": {},
          "execution_count": 243
        }
      ]
    },
    {
      "cell_type": "code",
      "source": [
        "t_val2=(1,)  # 데이터가 한 개일 때는 반드시 쉼표가 있어야 한다.\n",
        "t_val2=1,   #괄호는 없어도 쉼표는 있어야한다.\n",
        "type(t_val2)"
      ],
      "metadata": {
        "colab": {
          "base_uri": "https://localhost:8080/"
        },
        "id": "_82S3YUjc-CL",
        "outputId": "6ecd93ee-a586-4f02-8272-c62653e87884"
      },
      "execution_count": null,
      "outputs": [
        {
          "output_type": "execute_result",
          "data": {
            "text/plain": [
              "tuple"
            ]
          },
          "metadata": {},
          "execution_count": 246
        }
      ]
    },
    {
      "cell_type": "markdown",
      "source": [
        "List와 비슷하지만 한번 생성되면 Tuple은 변경할 수 없다."
      ],
      "metadata": {
        "id": "dzda9tTIeChk"
      }
    },
    {
      "cell_type": "code",
      "source": [
        "t_val3=(1,2,3)\n",
        "t_val3[0]=100  "
      ],
      "metadata": {
        "colab": {
          "base_uri": "https://localhost:8080/",
          "height": 184
        },
        "id": "KdGu0le8dPEz",
        "outputId": "5cecaeea-3ae4-4c27-e3a3-9a8e9a1e1f77"
      },
      "execution_count": null,
      "outputs": [
        {
          "output_type": "error",
          "ename": "TypeError",
          "evalue": "ignored",
          "traceback": [
            "\u001b[0;31m---------------------------------------------------------------------------\u001b[0m",
            "\u001b[0;31mTypeError\u001b[0m                                 Traceback (most recent call last)",
            "\u001b[0;32m<ipython-input-248-42c71507a599>\u001b[0m in \u001b[0;36m<module>\u001b[0;34m\u001b[0m\n\u001b[1;32m      1\u001b[0m \u001b[0mt_val3\u001b[0m\u001b[0;34m=\u001b[0m\u001b[0;34m(\u001b[0m\u001b[0;36m1\u001b[0m\u001b[0;34m,\u001b[0m\u001b[0;36m2\u001b[0m\u001b[0;34m,\u001b[0m\u001b[0;36m3\u001b[0m\u001b[0;34m)\u001b[0m\u001b[0;34m\u001b[0m\u001b[0;34m\u001b[0m\u001b[0m\n\u001b[0;32m----> 2\u001b[0;31m \u001b[0mt_val3\u001b[0m\u001b[0;34m[\u001b[0m\u001b[0;36m0\u001b[0m\u001b[0;34m]\u001b[0m\u001b[0;34m=\u001b[0m\u001b[0;36m100\u001b[0m\u001b[0;34m\u001b[0m\u001b[0;34m\u001b[0m\u001b[0m\n\u001b[0m",
            "\u001b[0;31mTypeError\u001b[0m: 'tuple' object does not support item assignment"
          ]
        }
      ]
    },
    {
      "cell_type": "code",
      "source": [
        "t_val4=(10,'python',80.5, True)\n",
        "t_val4"
      ],
      "metadata": {
        "colab": {
          "base_uri": "https://localhost:8080/"
        },
        "id": "qUNOLNsXeI07",
        "outputId": "68f2e1d4-7d99-4e83-cb83-0e72920e2c83"
      },
      "execution_count": null,
      "outputs": [
        {
          "output_type": "execute_result",
          "data": {
            "text/plain": [
              "(10, 'python', 80.5, True)"
            ]
          },
          "metadata": {},
          "execution_count": 257
        }
      ]
    },
    {
      "cell_type": "markdown",
      "source": [
        "###인덱스를 이용해서 튜플의 각 원소에 접근할 수 있다."
      ],
      "metadata": {
        "id": "4y1pB53ReYAc"
      }
    },
    {
      "cell_type": "code",
      "source": [
        "t_val5=(5,10,15,20,25)\n",
        "len(t_val5)"
      ],
      "metadata": {
        "colab": {
          "base_uri": "https://localhost:8080/"
        },
        "id": "0rsLMpVweP0b",
        "outputId": "c8f01d7a-4ea9-4dff-e763-dac5f61c3a54"
      },
      "execution_count": null,
      "outputs": [
        {
          "output_type": "execute_result",
          "data": {
            "text/plain": [
              "5"
            ]
          },
          "metadata": {},
          "execution_count": 252
        }
      ]
    },
    {
      "cell_type": "code",
      "source": [
        "t_val[0]"
      ],
      "metadata": {
        "colab": {
          "base_uri": "https://localhost:8080/"
        },
        "id": "J7iS0PxIeV6s",
        "outputId": "73d9ba95-36ce-4cb6-c68a-ddb687969057"
      },
      "execution_count": null,
      "outputs": [
        {
          "output_type": "execute_result",
          "data": {
            "text/plain": [
              "10"
            ]
          },
          "metadata": {},
          "execution_count": 258
        }
      ]
    },
    {
      "cell_type": "code",
      "source": [
        "t_val5[-1] # 음수를 사용하면 요소 마지막부터 찾음"
      ],
      "metadata": {
        "colab": {
          "base_uri": "https://localhost:8080/"
        },
        "id": "0zt5-l6Pemgc",
        "outputId": "c89791bc-453d-4462-bd4b-f66dbbacb7ba"
      },
      "execution_count": null,
      "outputs": [
        {
          "output_type": "execute_result",
          "data": {
            "text/plain": [
              "25"
            ]
          },
          "metadata": {},
          "execution_count": 260
        }
      ]
    },
    {
      "cell_type": "code",
      "source": [
        "t_val5[0:2]  # 슬라이싱"
      ],
      "metadata": {
        "colab": {
          "base_uri": "https://localhost:8080/"
        },
        "id": "bZb3hednepjb",
        "outputId": "8c72004a-8ecc-48b1-cb67-96cae806c87b"
      },
      "execution_count": null,
      "outputs": [
        {
          "output_type": "execute_result",
          "data": {
            "text/plain": [
              "(5, 10)"
            ]
          },
          "metadata": {},
          "execution_count": 261
        }
      ]
    },
    {
      "cell_type": "code",
      "source": [
        "t_val5[::2]  #확장 슬라이싱, 파이썬2.3이상"
      ],
      "metadata": {
        "colab": {
          "base_uri": "https://localhost:8080/"
        },
        "id": "TbF533tAeruu",
        "outputId": "aa399d01-b734-467b-cc91-e194d8d5ed97"
      },
      "execution_count": null,
      "outputs": [
        {
          "output_type": "execute_result",
          "data": {
            "text/plain": [
              "(5, 15, 25)"
            ]
          },
          "metadata": {},
          "execution_count": 262
        }
      ]
    },
    {
      "cell_type": "markdown",
      "source": [
        "### +,* 연산자를 사용하여 이어붙일 수도 반복할 수도 있다."
      ],
      "metadata": {
        "id": "MbrU4ixoe_Se"
      }
    },
    {
      "cell_type": "code",
      "source": [
        "t_val5 + t_val5 + t_val5   #연결하기"
      ],
      "metadata": {
        "colab": {
          "base_uri": "https://localhost:8080/"
        },
        "id": "YYiVtsDuet3s",
        "outputId": "8a37e464-9ba8-4299-8154-31f1efa38859"
      },
      "execution_count": null,
      "outputs": [
        {
          "output_type": "execute_result",
          "data": {
            "text/plain": [
              "(5, 10, 15, 20, 25, 5, 10, 15, 20, 25, 5, 10, 15, 20, 25)"
            ]
          },
          "metadata": {},
          "execution_count": 263
        }
      ]
    },
    {
      "cell_type": "code",
      "source": [
        "t_val5 + (30,35)    # 연결하기"
      ],
      "metadata": {
        "colab": {
          "base_uri": "https://localhost:8080/"
        },
        "id": "eW8NHj9pfI9-",
        "outputId": "5f04d595-c6cf-4048-bb42-b3176a5500df"
      },
      "execution_count": null,
      "outputs": [
        {
          "output_type": "execute_result",
          "data": {
            "text/plain": [
              "(5, 10, 15, 20, 25, 30, 35)"
            ]
          },
          "metadata": {},
          "execution_count": 264
        }
      ]
    },
    {
      "cell_type": "code",
      "source": [
        "t_val5*3   # 반복하기"
      ],
      "metadata": {
        "colab": {
          "base_uri": "https://localhost:8080/"
        },
        "id": "mra7JN5YfMV1",
        "outputId": "faf8e703-6a20-46ab-b99e-1cf8b9c38e14"
      },
      "execution_count": null,
      "outputs": [
        {
          "output_type": "execute_result",
          "data": {
            "text/plain": [
              "(5, 10, 15, 20, 25, 5, 10, 15, 20, 25, 5, 10, 15, 20, 25)"
            ]
          },
          "metadata": {},
          "execution_count": 266
        }
      ]
    },
    {
      "cell_type": "markdown",
      "source": [
        "### 튜플에 특정값이 있는지 검사가능"
      ],
      "metadata": {
        "id": "i1I9xKu0fVFd"
      }
    },
    {
      "cell_type": "code",
      "source": [
        "5 in t_val5   # 멤버 검사"
      ],
      "metadata": {
        "colab": {
          "base_uri": "https://localhost:8080/"
        },
        "id": "cfH3Ql8qfZ8n",
        "outputId": "281b381e-94c7-483a-84fb-dd3bc97728e9"
      },
      "execution_count": null,
      "outputs": [
        {
          "output_type": "execute_result",
          "data": {
            "text/plain": [
              "True"
            ]
          },
          "metadata": {},
          "execution_count": 268
        }
      ]
    },
    {
      "cell_type": "code",
      "source": [
        "dir(tuple)"
      ],
      "metadata": {
        "colab": {
          "base_uri": "https://localhost:8080/"
        },
        "id": "4NvqQxjYfd7Q",
        "outputId": "fa54fab5-e3e0-4d54-de9d-249958bf9d9b"
      },
      "execution_count": null,
      "outputs": [
        {
          "output_type": "execute_result",
          "data": {
            "text/plain": [
              "['__add__',\n",
              " '__class__',\n",
              " '__contains__',\n",
              " '__delattr__',\n",
              " '__dir__',\n",
              " '__doc__',\n",
              " '__eq__',\n",
              " '__format__',\n",
              " '__ge__',\n",
              " '__getattribute__',\n",
              " '__getitem__',\n",
              " '__getnewargs__',\n",
              " '__gt__',\n",
              " '__hash__',\n",
              " '__init__',\n",
              " '__init_subclass__',\n",
              " '__iter__',\n",
              " '__le__',\n",
              " '__len__',\n",
              " '__lt__',\n",
              " '__mul__',\n",
              " '__ne__',\n",
              " '__new__',\n",
              " '__reduce__',\n",
              " '__reduce_ex__',\n",
              " '__repr__',\n",
              " '__rmul__',\n",
              " '__setattr__',\n",
              " '__sizeof__',\n",
              " '__str__',\n",
              " '__subclasshook__',\n",
              " 'count',\n",
              " 'index']"
            ]
          },
          "metadata": {},
          "execution_count": 270
        }
      ]
    },
    {
      "cell_type": "markdown",
      "source": [
        "###튜플은 검색에 관련된 메서드 2개(count,index)를 갖는다"
      ],
      "metadata": {
        "id": "CASASzwif739"
      }
    },
    {
      "cell_type": "code",
      "source": [
        "t_val6=(1,2,3,2,2,3)\n",
        "t_val6.count(2)   # 2가 몇 개 있는가?"
      ],
      "metadata": {
        "colab": {
          "base_uri": "https://localhost:8080/"
        },
        "id": "_UUXVq74fvqm",
        "outputId": "7fb63069-35e5-4dab-864d-8f1936adcaf7"
      },
      "execution_count": null,
      "outputs": [
        {
          "output_type": "execute_result",
          "data": {
            "text/plain": [
              "3"
            ]
          },
          "metadata": {},
          "execution_count": 272
        }
      ]
    },
    {
      "cell_type": "code",
      "source": [
        "t_val6.index(2) # 첫번쨰 2의 인덱스는?"
      ],
      "metadata": {
        "colab": {
          "base_uri": "https://localhost:8080/"
        },
        "id": "gW5_ebapgJp1",
        "outputId": "bd251bf5-7cb2-46ec-844a-fa457ce5a5f2"
      },
      "execution_count": null,
      "outputs": [
        {
          "output_type": "execute_result",
          "data": {
            "text/plain": [
              "1"
            ]
          },
          "metadata": {},
          "execution_count": 274
        }
      ]
    },
    {
      "cell_type": "code",
      "source": [
        "t_val6.index(2,2) # 첫번째 2의 인덱스를 2위치부터 검색해 나간다."
      ],
      "metadata": {
        "colab": {
          "base_uri": "https://localhost:8080/"
        },
        "id": "NC2vcuUJgLjV",
        "outputId": "320ed671-9232-4cc3-8e57-cd493e795551"
      },
      "execution_count": null,
      "outputs": [
        {
          "output_type": "execute_result",
          "data": {
            "text/plain": [
              "3"
            ]
          },
          "metadata": {},
          "execution_count": 276
        }
      ]
    },
    {
      "cell_type": "markdown",
      "source": [
        "###튜플은 중첩해서 사용할 수 있다."
      ],
      "metadata": {
        "id": "vwwKuAsogeyt"
      }
    },
    {
      "cell_type": "code",
      "source": [
        "t_val7=('python','hello!!')\n",
        "t_val8=(t_val7,(1,2,3))\n",
        "t_val8"
      ],
      "metadata": {
        "colab": {
          "base_uri": "https://localhost:8080/"
        },
        "id": "BT786MfmgRj0",
        "outputId": "981618bf-d1a7-4443-da20-20f4bbec34fb"
      },
      "execution_count": null,
      "outputs": [
        {
          "output_type": "execute_result",
          "data": {
            "text/plain": [
              "(('python', 'hello!!'), (1, 2, 3))"
            ]
          },
          "metadata": {},
          "execution_count": 277
        }
      ]
    },
    {
      "cell_type": "markdown",
      "source": [
        "### 한 변수에 데이터를 각각 꺼내 오는것을 언패킹 지원"
      ],
      "metadata": {
        "id": "OZD1RmHEg39N"
      }
    },
    {
      "cell_type": "code",
      "source": [
        "t_val9=(10,20,30)\n",
        "l,m,n=t_val9     # t_val9의 각 원소들이 l,m,n 저장\n",
        "print(l,m,n)"
      ],
      "metadata": {
        "colab": {
          "base_uri": "https://localhost:8080/"
        },
        "id": "s9E3tmppg7gF",
        "outputId": "74caea01-5dd2-47ab-a35e-fa7e5177e557"
      },
      "execution_count": null,
      "outputs": [
        {
          "output_type": "stream",
          "name": "stdout",
          "text": [
            "10 20 30\n"
          ]
        }
      ]
    },
    {
      "cell_type": "code",
      "source": [
        "t_val10=((1,2),(3,4))\n",
        "(x1,y1),(x2,y2)=t_val10\n",
        "(x1,y1)"
      ],
      "metadata": {
        "colab": {
          "base_uri": "https://localhost:8080/"
        },
        "id": "LxifDq_ihCnV",
        "outputId": "90f110e0-4123-4653-f0d3-81ac0796333a"
      },
      "execution_count": null,
      "outputs": [
        {
          "output_type": "execute_result",
          "data": {
            "text/plain": [
              "(1, 2)"
            ]
          },
          "metadata": {},
          "execution_count": 280
        }
      ]
    },
    {
      "cell_type": "code",
      "source": [
        "(x2,y2)"
      ],
      "metadata": {
        "colab": {
          "base_uri": "https://localhost:8080/"
        },
        "id": "OOw9cFJKhlke",
        "outputId": "639512fa-ec55-48f4-81f2-bb0e2d2dab03"
      },
      "execution_count": null,
      "outputs": [
        {
          "output_type": "execute_result",
          "data": {
            "text/plain": [
              "(3, 4)"
            ]
          },
          "metadata": {},
          "execution_count": 281
        }
      ]
    },
    {
      "cell_type": "markdown",
      "source": [
        "### 확장된 언패킹을 이용한 자유로운 형태 이용"
      ],
      "metadata": {
        "id": "UYK6fQpYh402"
      }
    },
    {
      "cell_type": "code",
      "source": [
        "t_val12=(1,2,3,4,5)\n",
        "a,*b=t_val12\n",
        "print(a,b)"
      ],
      "metadata": {
        "colab": {
          "base_uri": "https://localhost:8080/"
        },
        "id": "Wfyy62aqhoyF",
        "outputId": "7671c1d9-9b00-44a7-e6c1-ce911003388e"
      },
      "execution_count": null,
      "outputs": [
        {
          "output_type": "stream",
          "name": "stdout",
          "text": [
            "1 [2, 3, 4, 5]\n"
          ]
        }
      ]
    },
    {
      "cell_type": "code",
      "source": [
        "print(type(a),type(b))"
      ],
      "metadata": {
        "colab": {
          "base_uri": "https://localhost:8080/"
        },
        "id": "a9FyY4C_iBLl",
        "outputId": "5357a193-bb6a-4d63-b81a-ac099f11e9f1"
      },
      "execution_count": null,
      "outputs": [
        {
          "output_type": "stream",
          "name": "stdout",
          "text": [
            "<class 'int'> <class 'list'>\n"
          ]
        }
      ]
    },
    {
      "cell_type": "code",
      "source": [
        "*a, b=t_val12\n",
        "print(a,b)"
      ],
      "metadata": {
        "colab": {
          "base_uri": "https://localhost:8080/"
        },
        "id": "_PAMUrX7iIye",
        "outputId": "87a8aad9-608c-41d7-ad5c-ab81efd7e7a9"
      },
      "execution_count": null,
      "outputs": [
        {
          "output_type": "stream",
          "name": "stdout",
          "text": [
            "[1, 2, 3, 4] 5\n"
          ]
        }
      ]
    },
    {
      "cell_type": "code",
      "source": [
        "a,b,*c=t_val12\n",
        "print(a,b,c)"
      ],
      "metadata": {
        "colab": {
          "base_uri": "https://localhost:8080/"
        },
        "id": "Vfb5DULHiTxF",
        "outputId": "0d18694f-bf47-4bef-9b64-4fd893711b41"
      },
      "execution_count": null,
      "outputs": [
        {
          "output_type": "stream",
          "name": "stdout",
          "text": [
            "1 2 [3, 4, 5]\n"
          ]
        }
      ]
    },
    {
      "cell_type": "code",
      "source": [
        "a,*b,*c=t_val12\n",
        "#*a와 같은 식의 표현은 나머지 전부를 의미한다. 그래서 *기호는 한번만 사용해야한다."
      ],
      "metadata": {
        "colab": {
          "base_uri": "https://localhost:8080/",
          "height": 97
        },
        "id": "e60G6ZmYiYQe",
        "outputId": "b3538078-df6a-476b-9330-a50be958e703"
      },
      "execution_count": null,
      "outputs": [
        {
          "output_type": "error",
          "ename": "SyntaxError",
          "evalue": "ignored",
          "traceback": [
            "\u001b[0;36m  File \u001b[0;32m\"<ipython-input-287-ce618995a98f>\"\u001b[0;36m, line \u001b[0;32m4\u001b[0m\n\u001b[0;31mSyntaxError\u001b[0m\u001b[0;31m:\u001b[0m two starred expressions in assignment\n"
          ]
        }
      ]
    },
    {
      "cell_type": "markdown",
      "source": [
        "**튜플과 리시트의 공통점**   \n",
        "  임의의 객체를 저장할 수 있다는 것과 순서(sequence) 자료형이다   \n",
        "**튜플과 리시트의 차이점**   \n",
        "  튜플은 변경불가능한 순서(sequence) 자료형이다.   \n",
        "  튜플은 함수의 가변 인수를 지원한다.   "
      ],
      "metadata": {
        "id": "YQ2bLY3QjYku"
      }
    },
    {
      "cell_type": "markdown",
      "source": [
        "###리스트와 튜플은 list()와 tuple()내장함수를 사용하여 상호변환 가능"
      ],
      "metadata": {
        "id": "sRMggLmejdGW"
      }
    },
    {
      "cell_type": "code",
      "source": [
        "t_val13=(1,2,3,4,5,)\n",
        "l_val=list(t_val13)\n",
        "l_val[0]=100\n",
        "l_val"
      ],
      "metadata": {
        "colab": {
          "base_uri": "https://localhost:8080/"
        },
        "id": "P_hcWw5MipSd",
        "outputId": "034ffce5-392f-453b-d954-af8da5bdb010"
      },
      "execution_count": null,
      "outputs": [
        {
          "output_type": "execute_result",
          "data": {
            "text/plain": [
              "[100, 2, 3, 4, 5]"
            ]
          },
          "metadata": {},
          "execution_count": 289
        }
      ]
    },
    {
      "cell_type": "code",
      "source": [
        "type(l_val)"
      ],
      "metadata": {
        "colab": {
          "base_uri": "https://localhost:8080/"
        },
        "id": "v7dorKF3judH",
        "outputId": "7e5094b2-7356-4943-82a8-14f91404840f"
      },
      "execution_count": null,
      "outputs": [
        {
          "output_type": "execute_result",
          "data": {
            "text/plain": [
              "list"
            ]
          },
          "metadata": {},
          "execution_count": 290
        }
      ]
    },
    {
      "cell_type": "code",
      "source": [
        "t_val14=tuple(l_val)\n",
        "t_val14"
      ],
      "metadata": {
        "colab": {
          "base_uri": "https://localhost:8080/"
        },
        "id": "SjCf6Zj0jwPO",
        "outputId": "e0c1460c-5682-47b6-df89-1969eac7eaec"
      },
      "execution_count": null,
      "outputs": [
        {
          "output_type": "execute_result",
          "data": {
            "text/plain": [
              "(100, 2, 3, 4, 5)"
            ]
          },
          "metadata": {},
          "execution_count": 291
        }
      ]
    },
    {
      "cell_type": "code",
      "source": [
        "type(t_val14)"
      ],
      "metadata": {
        "colab": {
          "base_uri": "https://localhost:8080/"
        },
        "id": "NzDnApdAj7Tn",
        "outputId": "bf528903-7156-4b12-de25-52c8566ef7d4"
      },
      "execution_count": null,
      "outputs": [
        {
          "output_type": "execute_result",
          "data": {
            "text/plain": [
              "tuple"
            ]
          },
          "metadata": {},
          "execution_count": 292
        }
      ]
    },
    {
      "cell_type": "markdown",
      "source": [
        "### 반드시 튜플을 사용하는 3가지 경우   \n",
        "  첫번째는 함수에 있어서 하나 이상의 값을 반환할때이다."
      ],
      "metadata": {
        "id": "nqcfcLVfkME3"
      }
    },
    {
      "cell_type": "code",
      "source": [
        "def calc(a,b):\n",
        "  return a+b, a*b   #튜플을 반환한다.\n",
        "x,y = calc(5,4)\n",
        "print(x,y)"
      ],
      "metadata": {
        "colab": {
          "base_uri": "https://localhost:8080/"
        },
        "id": "C2fn5ydjj9tu",
        "outputId": "60fd7e37-f508-4958-eb81-51dcfe55d72b"
      },
      "execution_count": null,
      "outputs": [
        {
          "output_type": "stream",
          "name": "stdout",
          "text": [
            "9 20\n"
          ]
        }
      ]
    },
    {
      "cell_type": "markdown",
      "source": [
        "두번째는 튜플에 있는 값들을 함수의 인수로 사용할 때이다."
      ],
      "metadata": {
        "id": "14LPUenWdXf9"
      }
    },
    {
      "cell_type": "code",
      "source": [
        "def calc(*args):\n",
        "    print(args)\n",
        "args = (4,5)\n",
        "\n",
        "calc(*args)"
      ],
      "metadata": {
        "id": "eQnWFBAykeqn",
        "colab": {
          "base_uri": "https://localhost:8080/"
        },
        "outputId": "efbfd19d-8934-42a9-f4f9-66c0bc9f2a4e"
      },
      "execution_count": null,
      "outputs": [
        {
          "output_type": "stream",
          "name": "stdout",
          "text": [
            "(4, 5)\n"
          ]
        }
      ]
    },
    {
      "cell_type": "markdown",
      "source": [
        "세번째는 python 2형식의 서식 문자열에 데이터를 공급할 때이다."
      ],
      "metadata": {
        "id": "WsqeFks-diwK"
      }
    },
    {
      "cell_type": "code",
      "source": [
        "\"%d %f %s\" %(12, 3.4, 'helo')"
      ],
      "metadata": {
        "colab": {
          "base_uri": "https://localhost:8080/",
          "height": 35
        },
        "id": "u8O4xx8-dfvi",
        "outputId": "4feaeb94-0f9e-490e-be73-2871b6f140f6"
      },
      "execution_count": null,
      "outputs": [
        {
          "output_type": "execute_result",
          "data": {
            "text/plain": [
              "'12 3.400000 helo'"
            ],
            "application/vnd.google.colaboratory.intrinsic+json": {
              "type": "string"
            }
          },
          "metadata": {},
          "execution_count": 3
        }
      ]
    },
    {
      "cell_type": "markdown",
      "source": [
        "### 집합(sets)   \n",
        "- 집합은 여러 값을 순서 없이 그리고 중복 없이 모아 놓은 자료형이다.   \n",
        "- python에서는 set과 frozenset 두 가지 집합 자료형을 제공한다.   \n",
        "- set은 변경 가능한 집합이고, frozenset은 변경 불가능한 집합이다.   \n",
        "- set은{}중괄호나 set()으로 표현한다."
      ],
      "metadata": {
        "id": "YW7JRgiVfY_t"
      }
    },
    {
      "cell_type": "code",
      "source": [
        "s={}\n",
        "print(s)\n",
        "print(type(s))"
      ],
      "metadata": {
        "colab": {
          "base_uri": "https://localhost:8080/"
        },
        "id": "UvcPrRGsdwLq",
        "outputId": "db7ba789-bed7-4920-a50c-7253488acbc9"
      },
      "execution_count": null,
      "outputs": [
        {
          "output_type": "stream",
          "name": "stdout",
          "text": [
            "{}\n",
            "<class 'dict'>\n"
          ]
        }
      ]
    },
    {
      "cell_type": "code",
      "source": [
        "s=set( )\n",
        "print(s)\n",
        "print(type(s))"
      ],
      "metadata": {
        "colab": {
          "base_uri": "https://localhost:8080/"
        },
        "id": "S6g-MXgpf2Iz",
        "outputId": "c8ad701c-d148-4e2e-fa31-4a47cc4a6c34"
      },
      "execution_count": null,
      "outputs": [
        {
          "output_type": "stream",
          "name": "stdout",
          "text": [
            "set()\n",
            "<class 'set'>\n"
          ]
        }
      ]
    },
    {
      "cell_type": "code",
      "source": [
        "type(s)"
      ],
      "metadata": {
        "colab": {
          "base_uri": "https://localhost:8080/"
        },
        "id": "-FHaD3smf4Zj",
        "outputId": "d6b402a1-68bb-4c3d-ffdf-fde6cfa2a93e"
      },
      "execution_count": null,
      "outputs": [
        {
          "output_type": "execute_result",
          "data": {
            "text/plain": [
              "set"
            ]
          },
          "metadata": {},
          "execution_count": 15
        }
      ]
    },
    {
      "cell_type": "markdown",
      "source": [
        "- 멤버십(원소와 집합사이의 귀속관계)검사, 시퀀스에서의 중복제거와 교집합, 합집합, 차집합, 같은 수학연산 수행에 사용된다.   \n",
        "- 다른 시퀀스(sequence)와 마찬가지로, x in set, len(set), 컴프리헨션과 같은 기능을 제공하지만, 삽입순서를 기록하지는 않는다. 따라서 인덱싱이나 슬라이싱은 사용이 불가능하다.   \n",
        "- 반복 가능한(Iterable)객체로부터 집합을 만들 수 있지만 모든 데이터가 원소로 사용 할 수 있는 것은 아니다. 해시가능(Hashable)이면서 변경 불가능한 자료형만이 집합의 원소로 사용 가능하다."
      ],
      "metadata": {
        "id": "3_Zqvup8gjuz"
      }
    },
    {
      "cell_type": "code",
      "source": [
        "set((3,1,2))   # 튜플로 부터 집합을 만든다. 오름차순으로 생성된다."
      ],
      "metadata": {
        "colab": {
          "base_uri": "https://localhost:8080/"
        },
        "id": "G9IfwwRyf5yz",
        "outputId": "42a6b035-9248-4ee3-f799-eb92dd623039"
      },
      "execution_count": null,
      "outputs": [
        {
          "output_type": "execute_result",
          "data": {
            "text/plain": [
              "{1, 2, 3}"
            ]
          },
          "metadata": {},
          "execution_count": 18
        }
      ]
    },
    {
      "cell_type": "code",
      "source": [
        "set([3,1,2])   # 리스트로부터 집합을 만든다. 오름차순으로 생성된다."
      ],
      "metadata": {
        "colab": {
          "base_uri": "https://localhost:8080/"
        },
        "id": "tljSpcEDhBJj",
        "outputId": "b4092ce3-9faf-4f3b-8cc7-536b58abe54c"
      },
      "execution_count": null,
      "outputs": [
        {
          "output_type": "execute_result",
          "data": {
            "text/plain": [
              "{1, 2, 3}"
            ]
          },
          "metadata": {},
          "execution_count": 19
        }
      ]
    },
    {
      "cell_type": "code",
      "source": [
        "set('python')   # 문자열로부터 집합을 만든다. 오름차순으로 생성된다."
      ],
      "metadata": {
        "colab": {
          "base_uri": "https://localhost:8080/"
        },
        "id": "zO86TUAXhD1a",
        "outputId": "9d9480e7-347f-41c1-f449-87a044c13c19"
      },
      "execution_count": null,
      "outputs": [
        {
          "output_type": "execute_result",
          "data": {
            "text/plain": [
              "{'h', 'n', 'o', 'p', 't', 'y'}"
            ]
          },
          "metadata": {},
          "execution_count": 20
        }
      ]
    },
    {
      "cell_type": "code",
      "source": [
        "set((3,1,2,3,1,2,3,1,2))   # 중복된 원소는 한번만 표현한다."
      ],
      "metadata": {
        "colab": {
          "base_uri": "https://localhost:8080/"
        },
        "id": "Kz7SOeCMhHBT",
        "outputId": "bd742361-05d2-490e-cadc-6b4209610cc5"
      },
      "execution_count": null,
      "outputs": [
        {
          "output_type": "execute_result",
          "data": {
            "text/plain": [
              "{1, 2, 3}"
            ]
          },
          "metadata": {},
          "execution_count": 21
        }
      ]
    },
    {
      "cell_type": "code",
      "source": [
        "set({'one':1, 'two':2})  # 사전의 반복자는 키 값을 반환한다."
      ],
      "metadata": {
        "colab": {
          "base_uri": "https://localhost:8080/"
        },
        "id": "7bLzlLo2hLi8",
        "outputId": "b58ad4c9-2fd1-453e-add5-a7ee09992753"
      },
      "execution_count": null,
      "outputs": [
        {
          "output_type": "execute_result",
          "data": {
            "text/plain": [
              "{'one', 'two'}"
            ]
          },
          "metadata": {},
          "execution_count": 22
        }
      ]
    },
    {
      "cell_type": "code",
      "source": [
        "a=[1,2,3]\n",
        "b=[4,5,6]\n",
        "{a,b}   # 리스트는 변경이 가능하므로 집합을 생성할 때 Error이 발생함."
      ],
      "metadata": {
        "colab": {
          "base_uri": "https://localhost:8080/",
          "height": 201
        },
        "id": "1W3NhIjFiRIs",
        "outputId": "cde2a172-26e6-4dcc-cd76-bc628c8b9cf3"
      },
      "execution_count": null,
      "outputs": [
        {
          "output_type": "error",
          "ename": "TypeError",
          "evalue": "ignored",
          "traceback": [
            "\u001b[0;31m---------------------------------------------------------------------------\u001b[0m",
            "\u001b[0;31mTypeError\u001b[0m                                 Traceback (most recent call last)",
            "\u001b[0;32m<ipython-input-23-31228a79afa0>\u001b[0m in \u001b[0;36m<module>\u001b[0;34m\u001b[0m\n\u001b[1;32m      1\u001b[0m \u001b[0ma\u001b[0m\u001b[0;34m=\u001b[0m\u001b[0;34m[\u001b[0m\u001b[0;36m1\u001b[0m\u001b[0;34m,\u001b[0m\u001b[0;36m2\u001b[0m\u001b[0;34m,\u001b[0m\u001b[0;36m3\u001b[0m\u001b[0;34m]\u001b[0m\u001b[0;34m\u001b[0m\u001b[0;34m\u001b[0m\u001b[0m\n\u001b[1;32m      2\u001b[0m \u001b[0mb\u001b[0m\u001b[0;34m=\u001b[0m\u001b[0;34m[\u001b[0m\u001b[0;36m4\u001b[0m\u001b[0;34m,\u001b[0m\u001b[0;36m5\u001b[0m\u001b[0;34m,\u001b[0m\u001b[0;36m6\u001b[0m\u001b[0;34m]\u001b[0m\u001b[0;34m\u001b[0m\u001b[0;34m\u001b[0m\u001b[0m\n\u001b[0;32m----> 3\u001b[0;31m \u001b[0;34m{\u001b[0m\u001b[0ma\u001b[0m\u001b[0;34m,\u001b[0m\u001b[0mb\u001b[0m\u001b[0;34m}\u001b[0m\u001b[0;34m\u001b[0m\u001b[0;34m\u001b[0m\u001b[0m\n\u001b[0m",
            "\u001b[0;31mTypeError\u001b[0m: unhashable type: 'list'"
          ]
        }
      ]
    },
    {
      "cell_type": "code",
      "source": [
        "a=(1,2,3)\n",
        "b=(4,5,6)\n",
        "c={a,b}\n",
        "print(c)\n",
        "print(type(c))"
      ],
      "metadata": {
        "colab": {
          "base_uri": "https://localhost:8080/"
        },
        "id": "nJE7i1cIibsj",
        "outputId": "927e1194-6d02-43bd-cdf5-34f2098dd5da"
      },
      "execution_count": null,
      "outputs": [
        {
          "output_type": "stream",
          "name": "stdout",
          "text": [
            "{(1, 2, 3), (4, 5, 6)}\n",
            "<class 'set'>\n"
          ]
        }
      ]
    },
    {
      "cell_type": "code",
      "source": [
        "dir(set)"
      ],
      "metadata": {
        "colab": {
          "base_uri": "https://localhost:8080/"
        },
        "id": "sQTj9Al4jNP1",
        "outputId": "f9438ff8-3dac-460e-edd3-c7478f717172"
      },
      "execution_count": null,
      "outputs": [
        {
          "output_type": "execute_result",
          "data": {
            "text/plain": [
              "['__and__',\n",
              " '__class__',\n",
              " '__contains__',\n",
              " '__delattr__',\n",
              " '__dir__',\n",
              " '__doc__',\n",
              " '__eq__',\n",
              " '__format__',\n",
              " '__ge__',\n",
              " '__getattribute__',\n",
              " '__gt__',\n",
              " '__hash__',\n",
              " '__iand__',\n",
              " '__init__',\n",
              " '__init_subclass__',\n",
              " '__ior__',\n",
              " '__isub__',\n",
              " '__iter__',\n",
              " '__ixor__',\n",
              " '__le__',\n",
              " '__len__',\n",
              " '__lt__',\n",
              " '__ne__',\n",
              " '__new__',\n",
              " '__or__',\n",
              " '__rand__',\n",
              " '__reduce__',\n",
              " '__reduce_ex__',\n",
              " '__repr__',\n",
              " '__ror__',\n",
              " '__rsub__',\n",
              " '__rxor__',\n",
              " '__setattr__',\n",
              " '__sizeof__',\n",
              " '__str__',\n",
              " '__sub__',\n",
              " '__subclasshook__',\n",
              " '__xor__',\n",
              " 'add',\n",
              " 'clear',\n",
              " 'copy',\n",
              " 'difference',\n",
              " 'difference_update',\n",
              " 'discard',\n",
              " 'intersection',\n",
              " 'intersection_update',\n",
              " 'isdisjoint',\n",
              " 'issubset',\n",
              " 'issuperset',\n",
              " 'pop',\n",
              " 'remove',\n",
              " 'symmetric_difference',\n",
              " 'symmetric_difference_update',\n",
              " 'union',\n",
              " 'update']"
            ]
          },
          "metadata": {},
          "execution_count": 25
        }
      ]
    },
    {
      "cell_type": "markdown",
      "source": [
        "frozenset\n",
        "- 값을 변경하지 않는 범위에서 set객체와 동일하게 동작한다.\n",
        "- fiozenset객체의 생성은 집합을 포함한 반복 가능한 자료형으로 부터 가능하다.\n",
        "- frozenset은 frozenset()으로 생성한다."
      ],
      "metadata": {
        "id": "mz41utwNkBmt"
      }
    },
    {
      "cell_type": "code",
      "source": [
        "f=frozenset();\n",
        "f"
      ],
      "metadata": {
        "colab": {
          "base_uri": "https://localhost:8080/"
        },
        "id": "LXnoUm-7j7J8",
        "outputId": "cf534d0f-6fa6-4963-efd0-66245b07cdb3"
      },
      "execution_count": null,
      "outputs": [
        {
          "output_type": "execute_result",
          "data": {
            "text/plain": [
              "frozenset()"
            ]
          },
          "metadata": {},
          "execution_count": 26
        }
      ]
    },
    {
      "cell_type": "code",
      "source": [
        "f_val=frozenset([1,2,3,4,5])\n",
        "f_val"
      ],
      "metadata": {
        "colab": {
          "base_uri": "https://localhost:8080/"
        },
        "id": "DJRGuBWvkURV",
        "outputId": "c9e573f4-ee00-4291-8c11-e4f8c8faa20b"
      },
      "execution_count": null,
      "outputs": [
        {
          "output_type": "execute_result",
          "data": {
            "text/plain": [
              "frozenset({1, 2, 3, 4, 5})"
            ]
          },
          "metadata": {},
          "execution_count": 27
        }
      ]
    },
    {
      "cell_type": "code",
      "source": [
        "dir(frozenset)"
      ],
      "metadata": {
        "colab": {
          "base_uri": "https://localhost:8080/"
        },
        "id": "op0xrgQHkaRE",
        "outputId": "60bb31d6-4145-4387-94c9-a79ec21c0e9b"
      },
      "execution_count": null,
      "outputs": [
        {
          "output_type": "execute_result",
          "data": {
            "text/plain": [
              "['__and__',\n",
              " '__class__',\n",
              " '__contains__',\n",
              " '__delattr__',\n",
              " '__dir__',\n",
              " '__doc__',\n",
              " '__eq__',\n",
              " '__format__',\n",
              " '__ge__',\n",
              " '__getattribute__',\n",
              " '__gt__',\n",
              " '__hash__',\n",
              " '__init__',\n",
              " '__init_subclass__',\n",
              " '__iter__',\n",
              " '__le__',\n",
              " '__len__',\n",
              " '__lt__',\n",
              " '__ne__',\n",
              " '__new__',\n",
              " '__or__',\n",
              " '__rand__',\n",
              " '__reduce__',\n",
              " '__reduce_ex__',\n",
              " '__repr__',\n",
              " '__ror__',\n",
              " '__rsub__',\n",
              " '__rxor__',\n",
              " '__setattr__',\n",
              " '__sizeof__',\n",
              " '__str__',\n",
              " '__sub__',\n",
              " '__subclasshook__',\n",
              " '__xor__',\n",
              " 'copy',\n",
              " 'difference',\n",
              " 'intersection',\n",
              " 'isdisjoint',\n",
              " 'issubset',\n",
              " 'issuperset',\n",
              " 'symmetric_difference',\n",
              " 'union']"
            ]
          },
          "metadata": {},
          "execution_count": 28
        }
      ]
    },
    {
      "cell_type": "markdown",
      "source": [
        "### 사전(dict)\n",
        "- 특정 키를 주면 이와 관련된 값을 돌려주는 내용 기반으로 검색하는 자료형이다.\n",
        "- 데이터의 저장순서가 없다.\n",
        "- 내부적으로 해시 기법을 사용하기 때문에 검색속도가 빠르다.\n",
        "- Key-Value형식으로 저장을 하기 때문에 Key을 이용해서 Value에 접근한다.\n",
        "- Key값은 중복을 허용하지 않는다."
      ],
      "metadata": {
        "id": "ElkTWY1Uk8SO"
      }
    },
    {
      "cell_type": "code",
      "source": [
        "d={'one': 1, 'two':2}\n",
        "d"
      ],
      "metadata": {
        "colab": {
          "base_uri": "https://localhost:8080/"
        },
        "id": "FBpmFvwRkzeF",
        "outputId": "f2e71d9a-62ef-4f3f-8254-0878777e4555"
      },
      "execution_count": null,
      "outputs": [
        {
          "output_type": "execute_result",
          "data": {
            "text/plain": [
              "{'one': 1, 'two': 2}"
            ]
          },
          "metadata": {},
          "execution_count": 29
        }
      ]
    },
    {
      "cell_type": "code",
      "source": [
        "type(d)"
      ],
      "metadata": {
        "colab": {
          "base_uri": "https://localhost:8080/"
        },
        "id": "CFOtSJOsllS-",
        "outputId": "3112f3a5-031a-44be-bfcf-c4f3eb634564"
      },
      "execution_count": null,
      "outputs": [
        {
          "output_type": "execute_result",
          "data": {
            "text/plain": [
              "dict"
            ]
          },
          "metadata": {},
          "execution_count": 30
        }
      ]
    },
    {
      "cell_type": "code",
      "source": [
        "d=dict(one=1, two=2)\n",
        "d"
      ],
      "metadata": {
        "colab": {
          "base_uri": "https://localhost:8080/"
        },
        "id": "6UpHFdwElm5d",
        "outputId": "666eb0b0-5867-425c-fa55-ad8bdce7c322"
      },
      "execution_count": null,
      "outputs": [
        {
          "output_type": "execute_result",
          "data": {
            "text/plain": [
              "{'one': 1, 'two': 2}"
            ]
          },
          "metadata": {},
          "execution_count": 31
        }
      ]
    },
    {
      "cell_type": "markdown",
      "source": [
        "- zip함수를 이용해서 사전(dict)을 생성할 수 있다."
      ],
      "metadata": {
        "id": "SoxTRbv0o3oH"
      }
    },
    {
      "cell_type": "code",
      "source": [
        "keys=['one','two','three']   # 시퀀스 자료형이면 된다.\n",
        "values=[1, 2, 3]\n",
        "dict(zip(keys,values))"
      ],
      "metadata": {
        "colab": {
          "base_uri": "https://localhost:8080/"
        },
        "id": "vjOl0KPtlpwO",
        "outputId": "b145a113-9400-43a0-98b1-63568b7cbfae"
      },
      "execution_count": null,
      "outputs": [
        {
          "output_type": "execute_result",
          "data": {
            "text/plain": [
              "{'one': 1, 'two': 2, 'three': 3}"
            ]
          },
          "metadata": {},
          "execution_count": 32
        }
      ]
    },
    {
      "cell_type": "code",
      "source": [
        "dir(dict)"
      ],
      "metadata": {
        "colab": {
          "base_uri": "https://localhost:8080/"
        },
        "id": "F1tVfuy9pI7I",
        "outputId": "534716a6-97e3-4091-a6fe-9852c7112231"
      },
      "execution_count": null,
      "outputs": [
        {
          "output_type": "execute_result",
          "data": {
            "text/plain": [
              "['__class__',\n",
              " '__contains__',\n",
              " '__delattr__',\n",
              " '__delitem__',\n",
              " '__dir__',\n",
              " '__doc__',\n",
              " '__eq__',\n",
              " '__format__',\n",
              " '__ge__',\n",
              " '__getattribute__',\n",
              " '__getitem__',\n",
              " '__gt__',\n",
              " '__hash__',\n",
              " '__init__',\n",
              " '__init_subclass__',\n",
              " '__iter__',\n",
              " '__le__',\n",
              " '__len__',\n",
              " '__lt__',\n",
              " '__ne__',\n",
              " '__new__',\n",
              " '__reduce__',\n",
              " '__reduce_ex__',\n",
              " '__repr__',\n",
              " '__reversed__',\n",
              " '__setattr__',\n",
              " '__setitem__',\n",
              " '__sizeof__',\n",
              " '__str__',\n",
              " '__subclasshook__',\n",
              " 'clear',\n",
              " 'copy',\n",
              " 'fromkeys',\n",
              " 'get',\n",
              " 'items',\n",
              " 'keys',\n",
              " 'pop',\n",
              " 'popitem',\n",
              " 'setdefault',\n",
              " 'update',\n",
              " 'values']"
            ]
          },
          "metadata": {},
          "execution_count": 33
        }
      ]
    },
    {
      "cell_type": "markdown",
      "source": [
        "### interning\n",
        "- 파이썬은 느리기 때문에 중간에 cache 저장하는 기법이 있다.\n",
        "- 5에서 256은 파이썬에서 같은 메모리주소를 사용한다.(interning 기법)"
      ],
      "metadata": {
        "id": "iQ0ixqE-A3tW"
      }
    },
    {
      "cell_type": "code",
      "source": [
        "a = 100\n",
        "b = 100"
      ],
      "metadata": {
        "id": "mtY8Jr9sBHY9"
      },
      "execution_count": 1,
      "outputs": []
    },
    {
      "cell_type": "code",
      "source": [
        "# == 메모리에 저장된 값을 비교\n",
        "a == b"
      ],
      "metadata": {
        "colab": {
          "base_uri": "https://localhost:8080/"
        },
        "id": "l_Pxo1GaBZU2",
        "outputId": "bf4b4af8-2e19-4414-d216-5cfa3bbf186d"
      },
      "execution_count": 4,
      "outputs": [
        {
          "output_type": "execute_result",
          "data": {
            "text/plain": [
              "True"
            ]
          },
          "metadata": {},
          "execution_count": 4
        }
      ]
    },
    {
      "cell_type": "code",
      "source": [
        "# is는 메모리 주소를 비교\n",
        "a is b"
      ],
      "metadata": {
        "colab": {
          "base_uri": "https://localhost:8080/"
        },
        "id": "wx8TkH_pBeRE",
        "outputId": "a61db848-ec2f-4e9c-9305-7a534bedce38"
      },
      "execution_count": 5,
      "outputs": [
        {
          "output_type": "execute_result",
          "data": {
            "text/plain": [
              "True"
            ]
          },
          "metadata": {},
          "execution_count": 5
        }
      ]
    },
    {
      "cell_type": "code",
      "source": [
        "a = 257\n",
        "b = 257"
      ],
      "metadata": {
        "id": "ZAvuyclQBsz7"
      },
      "execution_count": 7,
      "outputs": []
    },
    {
      "cell_type": "code",
      "source": [
        "# 값 비교 :True\n",
        "a == b"
      ],
      "metadata": {
        "colab": {
          "base_uri": "https://localhost:8080/"
        },
        "id": "OWYfZgGcB_Kj",
        "outputId": "6261fa2d-174a-433b-da44-8a5f9568a25d"
      },
      "execution_count": 8,
      "outputs": [
        {
          "output_type": "execute_result",
          "data": {
            "text/plain": [
              "True"
            ]
          },
          "metadata": {},
          "execution_count": 8
        }
      ]
    },
    {
      "cell_type": "code",
      "source": [
        "# 주소를 비교하기 때문에 :False\n",
        "a is b"
      ],
      "metadata": {
        "colab": {
          "base_uri": "https://localhost:8080/"
        },
        "id": "HiwXQN8FCC38",
        "outputId": "f78cfa03-3326-431a-e02a-91e382e41e93"
      },
      "execution_count": 9,
      "outputs": [
        {
          "output_type": "execute_result",
          "data": {
            "text/plain": [
              "False"
            ]
          },
          "metadata": {},
          "execution_count": 9
        }
      ]
    },
    {
      "cell_type": "markdown",
      "source": [
        "### 파이썬에서 문자열 일때는 a-z,A-Z,0-9_는 내부적으로 interning기법을 사용한다."
      ],
      "metadata": {
        "id": "2ujLuWBtCUX9"
      }
    },
    {
      "cell_type": "code",
      "source": [
        "a = 'python'\n",
        "b = 'python'"
      ],
      "metadata": {
        "id": "gyKy66xwCGyN"
      },
      "execution_count": 10,
      "outputs": []
    },
    {
      "cell_type": "code",
      "source": [
        "a == b"
      ],
      "metadata": {
        "colab": {
          "base_uri": "https://localhost:8080/"
        },
        "id": "c4dlxIhUCkXc",
        "outputId": "dcbdf4f0-fb06-43a0-b217-c184f0a0b7fb"
      },
      "execution_count": 11,
      "outputs": [
        {
          "output_type": "execute_result",
          "data": {
            "text/plain": [
              "True"
            ]
          },
          "metadata": {},
          "execution_count": 11
        }
      ]
    },
    {
      "cell_type": "code",
      "source": [
        "a is b"
      ],
      "metadata": {
        "colab": {
          "base_uri": "https://localhost:8080/"
        },
        "id": "3WRCRJEdClb7",
        "outputId": "41a3a600-4775-4802-bd17-ff311559b0d2"
      },
      "execution_count": 12,
      "outputs": [
        {
          "output_type": "execute_result",
          "data": {
            "text/plain": [
              "True"
            ]
          },
          "metadata": {},
          "execution_count": 12
        }
      ]
    },
    {
      "cell_type": "code",
      "source": [
        "a = 'python3'\n",
        "b = 'python3'"
      ],
      "metadata": {
        "id": "EJysJ9rvCmbm"
      },
      "execution_count": 19,
      "outputs": []
    },
    {
      "cell_type": "code",
      "source": [
        "a == b"
      ],
      "metadata": {
        "colab": {
          "base_uri": "https://localhost:8080/"
        },
        "id": "nCXcl44fCr9e",
        "outputId": "cffa5f4e-2d2e-41ae-c2a4-28c19af6cee8"
      },
      "execution_count": 20,
      "outputs": [
        {
          "output_type": "execute_result",
          "data": {
            "text/plain": [
              "True"
            ]
          },
          "metadata": {},
          "execution_count": 20
        }
      ]
    },
    {
      "cell_type": "code",
      "source": [
        "a is b"
      ],
      "metadata": {
        "colab": {
          "base_uri": "https://localhost:8080/"
        },
        "id": "8RLgI67lCtKb",
        "outputId": "3da247b5-07cc-4199-a001-59d75435aaca"
      },
      "execution_count": 21,
      "outputs": [
        {
          "output_type": "execute_result",
          "data": {
            "text/plain": [
              "True"
            ]
          },
          "metadata": {},
          "execution_count": 21
        }
      ]
    },
    {
      "cell_type": "code",
      "source": [
        "a = '파이썬'\n",
        "b = '파이썬'"
      ],
      "metadata": {
        "id": "5RVlKnf1Ct37"
      },
      "execution_count": 23,
      "outputs": []
    },
    {
      "cell_type": "code",
      "source": [
        "# 값 비교\n",
        "a == b"
      ],
      "metadata": {
        "colab": {
          "base_uri": "https://localhost:8080/"
        },
        "id": "OxXB6PfRC1HN",
        "outputId": "eda30d4c-727e-4351-80ca-3a7b979e5446"
      },
      "execution_count": 24,
      "outputs": [
        {
          "output_type": "execute_result",
          "data": {
            "text/plain": [
              "True"
            ]
          },
          "metadata": {},
          "execution_count": 24
        }
      ]
    },
    {
      "cell_type": "code",
      "source": [
        "# 주소 비교\n",
        "# 한글은 무조건 다른 메모리를 할당함\n",
        "a is b"
      ],
      "metadata": {
        "colab": {
          "base_uri": "https://localhost:8080/"
        },
        "id": "ijTpHKKBC44O",
        "outputId": "aebb2be8-7ccc-40cf-b9fa-6ad6d2881b78"
      },
      "execution_count": 25,
      "outputs": [
        {
          "output_type": "execute_result",
          "data": {
            "text/plain": [
              "False"
            ]
          },
          "metadata": {},
          "execution_count": 25
        }
      ]
    },
    {
      "cell_type": "code",
      "source": [
        "a = 'python version'\n",
        "b = 'python version'"
      ],
      "metadata": {
        "id": "_ZsNeIhxC5Z0"
      },
      "execution_count": 27,
      "outputs": []
    },
    {
      "cell_type": "code",
      "source": [
        "# 값 비교\n",
        "a == b"
      ],
      "metadata": {
        "colab": {
          "base_uri": "https://localhost:8080/"
        },
        "id": "nvNy71T2DMQM",
        "outputId": "f1301ece-6aa2-444d-da92-eb4699407e7b"
      },
      "execution_count": 28,
      "outputs": [
        {
          "output_type": "execute_result",
          "data": {
            "text/plain": [
              "True"
            ]
          },
          "metadata": {},
          "execution_count": 28
        }
      ]
    },
    {
      "cell_type": "code",
      "source": [
        "# 주소 비교\n",
        "# 영문에 공백이 포함되어 있으면 다른 메모리에 할당됨\n",
        "a is b"
      ],
      "metadata": {
        "colab": {
          "base_uri": "https://localhost:8080/"
        },
        "id": "jD-MBmi5DP99",
        "outputId": "55815e60-e240-46aa-9654-1b8ad0358fae"
      },
      "execution_count": 29,
      "outputs": [
        {
          "output_type": "execute_result",
          "data": {
            "text/plain": [
              "False"
            ]
          },
          "metadata": {},
          "execution_count": 29
        }
      ]
    },
    {
      "cell_type": "markdown",
      "source": [
        "### 영문자일때 공백포함되어 있어도 interning 기법을 사용할 수 있도록 intern을 사용하면 된다."
      ],
      "metadata": {
        "id": "KaDkGmLSDr1S"
      }
    },
    {
      "cell_type": "code",
      "source": [
        "from sys import intern"
      ],
      "metadata": {
        "id": "n5GT-76SDRps"
      },
      "execution_count": 30,
      "outputs": []
    },
    {
      "cell_type": "code",
      "source": [
        "c = intern('python programming')\n",
        "d = intern('python programming')"
      ],
      "metadata": {
        "id": "iktgQ6PMD4DE"
      },
      "execution_count": 31,
      "outputs": []
    },
    {
      "cell_type": "code",
      "source": [
        "c == d"
      ],
      "metadata": {
        "colab": {
          "base_uri": "https://localhost:8080/"
        },
        "id": "9XMIcqxzEKLP",
        "outputId": "3eca4213-fafc-4e22-a8b3-5174986b4d38"
      },
      "execution_count": 32,
      "outputs": [
        {
          "output_type": "execute_result",
          "data": {
            "text/plain": [
              "True"
            ]
          },
          "metadata": {},
          "execution_count": 32
        }
      ]
    },
    {
      "cell_type": "code",
      "source": [
        "c is d"
      ],
      "metadata": {
        "colab": {
          "base_uri": "https://localhost:8080/"
        },
        "id": "zBR6JoBvELUE",
        "outputId": "065f2753-4dff-491b-997a-a3ee22e84efa"
      },
      "execution_count": 33,
      "outputs": [
        {
          "output_type": "execute_result",
          "data": {
            "text/plain": [
              "True"
            ]
          },
          "metadata": {},
          "execution_count": 33
        }
      ]
    },
    {
      "cell_type": "code",
      "source": [
        "help(intern)"
      ],
      "metadata": {
        "colab": {
          "base_uri": "https://localhost:8080/"
        },
        "id": "RixvahmEEMJR",
        "outputId": "4f3cb09b-b111-478a-fe0d-f5d546baf0b0"
      },
      "execution_count": 34,
      "outputs": [
        {
          "output_type": "stream",
          "name": "stdout",
          "text": [
            "Help on built-in function intern in module sys:\n",
            "\n",
            "intern(string, /)\n",
            "    ``Intern'' the given string.\n",
            "    \n",
            "    This enters the string in the (global) table of interned strings whose\n",
            "    purpose is to speed up dictionary lookups. Return the string itself or\n",
            "    the previously interned string object with the same value.\n",
            "\n"
          ]
        }
      ]
    },
    {
      "cell_type": "code",
      "source": [
        "# 숫자일때는 intern()을 사용할 수 없다.\n",
        "a = intern(255);\n",
        "b = intern(255);"
      ],
      "metadata": {
        "colab": {
          "base_uri": "https://localhost:8080/",
          "height": 184
        },
        "id": "MZYxRDw3EUgs",
        "outputId": "c734a937-bada-48dc-c051-d8cf5c185a5e"
      },
      "execution_count": 36,
      "outputs": [
        {
          "output_type": "error",
          "ename": "TypeError",
          "evalue": "ignored",
          "traceback": [
            "\u001b[0;31m---------------------------------------------------------------------------\u001b[0m",
            "\u001b[0;31mTypeError\u001b[0m                                 Traceback (most recent call last)",
            "\u001b[0;32m<ipython-input-36-5367468ab90c>\u001b[0m in \u001b[0;36m<module>\u001b[0;34m\u001b[0m\n\u001b[0;32m----> 1\u001b[0;31m \u001b[0ma\u001b[0m \u001b[0;34m=\u001b[0m \u001b[0mintern\u001b[0m\u001b[0;34m(\u001b[0m\u001b[0;36m255\u001b[0m\u001b[0;34m)\u001b[0m\u001b[0;34m;\u001b[0m\u001b[0;34m\u001b[0m\u001b[0;34m\u001b[0m\u001b[0m\n\u001b[0m\u001b[1;32m      2\u001b[0m \u001b[0mb\u001b[0m \u001b[0;34m=\u001b[0m \u001b[0mintern\u001b[0m\u001b[0;34m(\u001b[0m\u001b[0;36m255\u001b[0m\u001b[0;34m)\u001b[0m\u001b[0;34m;\u001b[0m\u001b[0;34m\u001b[0m\u001b[0;34m\u001b[0m\u001b[0m\n",
            "\u001b[0;31mTypeError\u001b[0m: intern() argument must be str, not int"
          ]
        }
      ]
    },
    {
      "cell_type": "code",
      "source": [],
      "metadata": {
        "id": "U51kwI4fEoVc"
      },
      "execution_count": null,
      "outputs": []
    }
  ]
}