{
  "nbformat": 4,
  "nbformat_minor": 0,
  "metadata": {
    "colab": {
      "provenance": [],
      "authorship_tag": "ABX9TyOXs/8Lyy6rLSjLCl49Lkvo",
      "include_colab_link": true
    },
    "kernelspec": {
      "name": "python3",
      "display_name": "Python 3"
    },
    "language_info": {
      "name": "python"
    }
  },
  "cells": [
    {
      "cell_type": "markdown",
      "metadata": {
        "id": "view-in-github",
        "colab_type": "text"
      },
      "source": [
        "<a href=\"https://colab.research.google.com/github/dlscks/pythondemo/blob/main/python_22_%EB%8D%B0%EC%9D%B4%ED%84%B0_%EC%88%98%EC%B9%98%EC%9A%94%EC%95%BD.ipynb\" target=\"_parent\"><img src=\"https://colab.research.google.com/assets/colab-badge.svg\" alt=\"Open In Colab\"/></a>"
      ]
    },
    {
      "cell_type": "markdown",
      "source": [
        "### 구글 드라이브 연결"
      ],
      "metadata": {
        "id": "HOd3MDQ8ammb"
      }
    },
    {
      "cell_type": "code",
      "execution_count": 1,
      "metadata": {
        "colab": {
          "base_uri": "https://localhost:8080/"
        },
        "id": "rsKt0gwMadpb",
        "outputId": "e1ff0680-f001-47ea-a5bb-9e3975aedcd2"
      },
      "outputs": [
        {
          "output_type": "stream",
          "name": "stdout",
          "text": [
            "Mounted at /content/drive\n",
            "/content/drive/MyDrive/python_demo\n"
          ]
        }
      ],
      "source": [
        "from google.colab import drive\n",
        "drive.mount('/content/drive')\n",
        "\n",
        "%cd /content/drive/MyDrive/python_demo"
      ]
    },
    {
      "cell_type": "markdown",
      "source": [
        "### 4명의 키와 몸무게 계산(합계,평균,편차,분산,표준편차,상관계수)\n",
        "1. python을 이용한 4명의 키와 몸무게\n",
        "2. numpy을 이용한 4명의 키와 몸무게"
      ],
      "metadata": {
        "id": "UyLvPbuwauoR"
      }
    },
    {
      "cell_type": "markdown",
      "source": [
        "### python을 이용한 4명의 키와 몸무게"
      ],
      "metadata": {
        "id": "ePL0ahyDbFaS"
      }
    },
    {
      "cell_type": "code",
      "source": [
        "height = [175,165,180,160]\n",
        "weight = [75,70,95,72]"
      ],
      "metadata": {
        "id": "dnlUCdz0a8SS"
      },
      "execution_count": 2,
      "outputs": []
    },
    {
      "cell_type": "markdown",
      "source": [
        "합계-height,weight"
      ],
      "metadata": {
        "id": "JW1Oa_9qbIfC"
      }
    },
    {
      "cell_type": "code",
      "source": [
        "h_sum = sum(height)\n",
        "w_sum = sum(weight)"
      ],
      "metadata": {
        "id": "yI0KpYsubORZ"
      },
      "execution_count": 3,
      "outputs": []
    },
    {
      "cell_type": "code",
      "source": [
        "print('키 합계:' , h_sum)\n",
        "print('몸무게 합계:' , w_sum)"
      ],
      "metadata": {
        "colab": {
          "base_uri": "https://localhost:8080/"
        },
        "id": "0-92U4QNbT1R",
        "outputId": "9c600fe8-76f1-481a-ee68-ca3bac98c528"
      },
      "execution_count": 4,
      "outputs": [
        {
          "output_type": "stream",
          "name": "stdout",
          "text": [
            "키 합계: 680\n",
            "몸무게 합계: 312\n"
          ]
        }
      ]
    },
    {
      "cell_type": "markdown",
      "source": [
        "평균-height,weight"
      ],
      "metadata": {
        "id": "1kkPJneubjJJ"
      }
    },
    {
      "cell_type": "code",
      "source": [
        "length = len(height)"
      ],
      "metadata": {
        "id": "0pWazk4dbgBT"
      },
      "execution_count": 5,
      "outputs": []
    },
    {
      "cell_type": "code",
      "source": [
        "h_mean = h_sum/length\n",
        "w_mean = w_sum/length"
      ],
      "metadata": {
        "id": "hQ1k7nU-bqeB"
      },
      "execution_count": 7,
      "outputs": []
    },
    {
      "cell_type": "code",
      "source": [
        "print('키 평균:' , h_mean)\n",
        "print('몸무게 평균:' , w_mean)"
      ],
      "metadata": {
        "colab": {
          "base_uri": "https://localhost:8080/"
        },
        "id": "bFPDhxdacHi6",
        "outputId": "14ff00fc-cfa1-4dff-f231-275f1141c3c0"
      },
      "execution_count": 8,
      "outputs": [
        {
          "output_type": "stream",
          "name": "stdout",
          "text": [
            "키 평균: 170.0\n",
            "몸무게 평균: 78.0\n"
          ]
        }
      ]
    },
    {
      "cell_type": "markdown",
      "source": [
        "편차-height,weight"
      ],
      "metadata": {
        "id": "wdCnuLv_cWwa"
      }
    },
    {
      "cell_type": "code",
      "source": [
        "h_deviation = [i-h_mean for i in height]\n",
        "w_deviation = [i-w_mean for i in weight]"
      ],
      "metadata": {
        "id": "8mGWN3ROcVaU"
      },
      "execution_count": 9,
      "outputs": []
    },
    {
      "cell_type": "code",
      "source": [
        "print('키 편차:' , h_deviation, sum(h_deviation))\n",
        "print('몸무게 편차:' , w_deviation, sum(w_deviation))"
      ],
      "metadata": {
        "colab": {
          "base_uri": "https://localhost:8080/"
        },
        "id": "uy9e6BavcsHJ",
        "outputId": "b7ca06f1-c1bd-435a-935f-49fea4a9b663"
      },
      "execution_count": 10,
      "outputs": [
        {
          "output_type": "stream",
          "name": "stdout",
          "text": [
            "키 편차: [5.0, -5.0, 10.0, -10.0] 0.0\n",
            "몸무게 편차: [-3.0, -8.0, 17.0, -6.0] 0.0\n"
          ]
        }
      ]
    },
    {
      "cell_type": "markdown",
      "source": [
        "분산-height,weight"
      ],
      "metadata": {
        "id": "hJa_qDLHdJwS"
      }
    },
    {
      "cell_type": "code",
      "source": [
        "h_data = [(i-h_mean)**2 for i in height]\n",
        "w_data = [(i-w_mean)**2 for i in weight]\n",
        "h_variance = sum(h_data)/length\n",
        "w_variance = sum(w_data)/length"
      ],
      "metadata": {
        "id": "Jzh0kl1nc-mb"
      },
      "execution_count": 13,
      "outputs": []
    },
    {
      "cell_type": "code",
      "source": [
        "print('키 분산:' , h_variance)\n",
        "print('몸무게 분산:', w_variance)"
      ],
      "metadata": {
        "colab": {
          "base_uri": "https://localhost:8080/"
        },
        "id": "uB0cw8k6dhC7",
        "outputId": "c6d279d9-38d8-4492-a70e-8841d9891e93"
      },
      "execution_count": 14,
      "outputs": [
        {
          "output_type": "stream",
          "name": "stdout",
          "text": [
            "키 분산: 62.5\n",
            "몸무게 분산: 99.5\n"
          ]
        }
      ]
    },
    {
      "cell_type": "markdown",
      "source": [
        "표준편차-height,weight"
      ],
      "metadata": {
        "id": "iGUQHobXeOGh"
      }
    },
    {
      "cell_type": "code",
      "source": [
        "import math\n",
        "\n",
        "h_standard_deviation = math.sqrt(h_variance)\n",
        "w_standard_deviation = math.sqrt(w_variance)"
      ],
      "metadata": {
        "id": "jAkwpDqZd7bK"
      },
      "execution_count": 15,
      "outputs": []
    },
    {
      "cell_type": "code",
      "source": [
        "print('키 표준편차', h_standard_deviation)\n",
        "print('몸무게 표준편차', w_standard_deviation)"
      ],
      "metadata": {
        "colab": {
          "base_uri": "https://localhost:8080/"
        },
        "id": "bKWDK5P0ehc5",
        "outputId": "017589bd-ff12-40c5-d1dd-210dc0a28e61"
      },
      "execution_count": 19,
      "outputs": [
        {
          "output_type": "stream",
          "name": "stdout",
          "text": [
            "키 표준편차 7.905694150420948\n",
            "몸무게 표준편차 9.974968671630002\n"
          ]
        }
      ]
    },
    {
      "cell_type": "markdown",
      "source": [
        "공분산-height,weight"
      ],
      "metadata": {
        "id": "f7tjnAnJe16B"
      }
    },
    {
      "cell_type": "code",
      "source": [
        "h_w_covariance = [i*j for i,j in zip(h_deviation, w_deviation)]\n",
        "print(h_w_covariance)\n",
        "\n",
        "h_w_covariance = sum(h_w_covariance)/length\n",
        "print(h_w_covariance)"
      ],
      "metadata": {
        "colab": {
          "base_uri": "https://localhost:8080/"
        },
        "id": "bkl1hJiCesv4",
        "outputId": "621341c1-e296-41a1-ff82-37fb920fda3e"
      },
      "execution_count": 20,
      "outputs": [
        {
          "output_type": "stream",
          "name": "stdout",
          "text": [
            "[-15.0, 40.0, 170.0, 60.0]\n",
            "63.75\n"
          ]
        }
      ]
    },
    {
      "cell_type": "markdown",
      "source": [
        "상관계수-height,weight"
      ],
      "metadata": {
        "id": "Ip94GR-jfXAB"
      }
    },
    {
      "cell_type": "code",
      "source": [
        "h_w_coef = h_w_covariance / (h_standard_deviation * w_standard_deviation)\n",
        "print(h_w_coef)"
      ],
      "metadata": {
        "colab": {
          "base_uri": "https://localhost:8080/"
        },
        "id": "uc8WNjb3fcU7",
        "outputId": "69691368-3e6b-4e29-98ee-1e903e84a198"
      },
      "execution_count": 21,
      "outputs": [
        {
          "output_type": "stream",
          "name": "stdout",
          "text": [
            "0.8084043468090077\n"
          ]
        }
      ]
    },
    {
      "cell_type": "markdown",
      "source": [
        "### numpy을 이용한 4명의 키와 몸무게\n",
        "\n",
        "통계량의 계산이나 기본적인 데이터 분석에 사용되는 함수는 scipy패키지에서도 제공되나 sum,mean,var,cov,corrcoef등은 Scipy 2.0부터 remove되고 numpy에서 사용하도록 권장하고 있다."
      ],
      "metadata": {
        "id": "hYSEUDxfmiZ3"
      }
    },
    {
      "cell_type": "code",
      "source": [
        "import numpy as np"
      ],
      "metadata": {
        "id": "X0tfekBTfoWb"
      },
      "execution_count": 22,
      "outputs": []
    },
    {
      "cell_type": "code",
      "source": [
        "height = [175,165,180,160]\n",
        "weight = [75,70,95,72]"
      ],
      "metadata": {
        "id": "vV6fQih4m5Vn"
      },
      "execution_count": 23,
      "outputs": []
    },
    {
      "cell_type": "markdown",
      "source": [
        "합계-height,weight"
      ],
      "metadata": {
        "id": "D-gmnQsMm55m"
      }
    },
    {
      "cell_type": "code",
      "source": [
        "h_sum = np.sum(height)\n",
        "w_sum = np.sum(weight)"
      ],
      "metadata": {
        "id": "JjWIL-PsnD-O"
      },
      "execution_count": 24,
      "outputs": []
    },
    {
      "cell_type": "code",
      "source": [
        "print('키 합계:', h_sum)\n",
        "print('몸무계 합계:', w_sum)"
      ],
      "metadata": {
        "colab": {
          "base_uri": "https://localhost:8080/"
        },
        "id": "BylO45F6nKtA",
        "outputId": "4b72bd52-4a2b-43c4-8a52-0bccd2fcd5c4"
      },
      "execution_count": 25,
      "outputs": [
        {
          "output_type": "stream",
          "name": "stdout",
          "text": [
            "키 합계: 680\n",
            "몸무계 합계: 312\n"
          ]
        }
      ]
    },
    {
      "cell_type": "markdown",
      "source": [
        "평균-height,weight"
      ],
      "metadata": {
        "id": "lGjbbOd-nUNN"
      }
    },
    {
      "cell_type": "code",
      "source": [
        "h_mean = np.mean(height)\n",
        "w_mean = np.mean(weight)"
      ],
      "metadata": {
        "id": "qqDx_GPWnZDW"
      },
      "execution_count": 26,
      "outputs": []
    },
    {
      "cell_type": "code",
      "source": [
        "print('키 평균:' , h_mean)\n",
        "print('몸무게 평균:' , w_mean)"
      ],
      "metadata": {
        "colab": {
          "base_uri": "https://localhost:8080/"
        },
        "id": "O1LXAteengeH",
        "outputId": "b6e0b865-2f48-48f6-9112-d72b9b117fa0"
      },
      "execution_count": 27,
      "outputs": [
        {
          "output_type": "stream",
          "name": "stdout",
          "text": [
            "키 평균: 170.0\n",
            "몸무게 평균: 78.0\n"
          ]
        }
      ]
    },
    {
      "cell_type": "markdown",
      "source": [
        "편차-height,weight"
      ],
      "metadata": {
        "id": "pn985ct3nimu"
      }
    },
    {
      "cell_type": "code",
      "source": [
        "h_deviation = height - h_mean\n",
        "w_deviation = weight - w_mean"
      ],
      "metadata": {
        "id": "k9Ad941CnmGA"
      },
      "execution_count": 28,
      "outputs": []
    },
    {
      "cell_type": "code",
      "source": [
        "print('키 편차:', h_deviation, np.sum(h_deviation))\n",
        "print('몸무게 편차:', w_deviation, np.sum(w_deviation))"
      ],
      "metadata": {
        "colab": {
          "base_uri": "https://localhost:8080/"
        },
        "id": "ITKorUw3nv3p",
        "outputId": "30966894-948a-40ae-a740-3c97185a52ed"
      },
      "execution_count": 30,
      "outputs": [
        {
          "output_type": "stream",
          "name": "stdout",
          "text": [
            "키 편차: [  5.  -5.  10. -10.] 0.0\n",
            "몸무게 편차: [-3. -8. 17. -6.] 0.0\n"
          ]
        }
      ]
    },
    {
      "cell_type": "markdown",
      "source": [
        "분산-height,weight"
      ],
      "metadata": {
        "id": "aW5WTsuIn-52"
      }
    },
    {
      "cell_type": "code",
      "source": [
        "h_variance = np.var(height)\n",
        "w_variance = np.var(weight)"
      ],
      "metadata": {
        "id": "4N0FJB3MoHO2"
      },
      "execution_count": 32,
      "outputs": []
    },
    {
      "cell_type": "code",
      "source": [
        "print('키 분산:', h_variance)\n",
        "print('몸무게 분산:', w_variance)"
      ],
      "metadata": {
        "colab": {
          "base_uri": "https://localhost:8080/"
        },
        "id": "26AFEtVgoKZl",
        "outputId": "bf479bc4-0df5-445a-d74d-11c051f3d360"
      },
      "execution_count": 33,
      "outputs": [
        {
          "output_type": "stream",
          "name": "stdout",
          "text": [
            "키 분산: 62.5\n",
            "몸무게 분산: 99.5\n"
          ]
        }
      ]
    },
    {
      "cell_type": "markdown",
      "source": [
        "표준편차-height,weight"
      ],
      "metadata": {
        "id": "KfI9cY9uoWQu"
      }
    },
    {
      "cell_type": "code",
      "source": [
        "h_standard_deviation = np.std(height)\n",
        "w_standard_deviation = np.std(weight)"
      ],
      "metadata": {
        "id": "h9_-e0E1oZEF"
      },
      "execution_count": 34,
      "outputs": []
    },
    {
      "cell_type": "code",
      "source": [
        "print('키 표준편차:', h_standard_deviation)\n",
        "print('몸무게 표준편차:', w_standard_deviation)"
      ],
      "metadata": {
        "colab": {
          "base_uri": "https://localhost:8080/"
        },
        "id": "xWkAE85norO3",
        "outputId": "a44facbf-da58-4810-8547-d3848ebf467c"
      },
      "execution_count": 35,
      "outputs": [
        {
          "output_type": "stream",
          "name": "stdout",
          "text": [
            "키 표준편차: 7.905694150420948\n",
            "몸무게 표준편차: 9.974968671630002\n"
          ]
        }
      ]
    },
    {
      "cell_type": "markdown",
      "source": [
        "공분산-height,weight"
      ],
      "metadata": {
        "id": "9GuRZutxo0_u"
      }
    },
    {
      "cell_type": "code",
      "source": [
        "# 공분산 매트릭스로 출력\n",
        "h_w_covariance = np.cov(height,weight,ddof=0) # default ddof=0\n",
        "h_w_covariance"
      ],
      "metadata": {
        "colab": {
          "base_uri": "https://localhost:8080/"
        },
        "id": "aIYW04ajo_yO",
        "outputId": "fa61eb51-99aa-46e7-e2a6-0a12e138db2d"
      },
      "execution_count": 36,
      "outputs": [
        {
          "output_type": "execute_result",
          "data": {
            "text/plain": [
              "array([[62.5 , 63.75],\n",
              "       [63.75, 99.5 ]])"
            ]
          },
          "metadata": {},
          "execution_count": 36
        }
      ]
    },
    {
      "cell_type": "markdown",
      "source": [
        "상관계수-height,weight"
      ],
      "metadata": {
        "id": "yLdLjC2ZpiA2"
      }
    },
    {
      "cell_type": "code",
      "source": [
        "# 상관계수 매트릭스로 출력\n",
        "np.corrcoef(height,weight)"
      ],
      "metadata": {
        "colab": {
          "base_uri": "https://localhost:8080/"
        },
        "id": "xXXVO-3JpMnu",
        "outputId": "7d9d0b0c-002a-4e32-a8ca-5eec780997f4"
      },
      "execution_count": 37,
      "outputs": [
        {
          "output_type": "execute_result",
          "data": {
            "text/plain": [
              "array([[1.        , 0.80840435],\n",
              "       [0.80840435, 1.        ]])"
            ]
          },
          "metadata": {},
          "execution_count": 37
        }
      ]
    },
    {
      "cell_type": "code",
      "source": [],
      "metadata": {
        "id": "bQELvaV-pqV-"
      },
      "execution_count": null,
      "outputs": []
    }
  ]
}