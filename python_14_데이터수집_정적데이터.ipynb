{
  "nbformat": 4,
  "nbformat_minor": 0,
  "metadata": {
    "colab": {
      "provenance": [],
      "authorship_tag": "ABX9TyM2xYCVOyI1kRHMHCsGHoz2",
      "include_colab_link": true
    },
    "kernelspec": {
      "name": "python3",
      "display_name": "Python 3"
    },
    "language_info": {
      "name": "python"
    }
  },
  "cells": [
    {
      "cell_type": "markdown",
      "metadata": {
        "id": "view-in-github",
        "colab_type": "text"
      },
      "source": [
        "<a href=\"https://colab.research.google.com/github/dlscks/pythondemo/blob/main/python_14_%EB%8D%B0%EC%9D%B4%ED%84%B0%EC%88%98%EC%A7%91_%EC%A0%95%EC%A0%81%EB%8D%B0%EC%9D%B4%ED%84%B0.ipynb\" target=\"_parent\"><img src=\"https://colab.research.google.com/assets/colab-badge.svg\" alt=\"Open In Colab\"/></a>"
      ]
    },
    {
      "cell_type": "code",
      "source": [
        "from google.colab import drive\n",
        "drive.mount('/content/drive')\n",
        "\n",
        "%cd /content/drive/MyDrive/python_demo"
      ],
      "metadata": {
        "colab": {
          "base_uri": "https://localhost:8080/"
        },
        "id": "j51PErJWuH1x",
        "outputId": "da1dda67-0d9f-4756-f42b-80e68606eb01"
      },
      "execution_count": 1,
      "outputs": [
        {
          "output_type": "stream",
          "name": "stdout",
          "text": [
            "Mounted at /content/drive\n",
            "/content/drive/MyDrive/python_demo\n"
          ]
        }
      ]
    },
    {
      "cell_type": "code",
      "source": [
        "import requests \n",
        "from bs4 import BeautifulSoup\n",
        "import re"
      ],
      "metadata": {
        "id": "f-TG4UG5uOxr"
      },
      "execution_count": 5,
      "outputs": []
    },
    {
      "cell_type": "markdown",
      "source": [
        "### 다양한 웹사이트 Crawling"
      ],
      "metadata": {
        "id": "opWSeu_Ww9BB"
      }
    },
    {
      "cell_type": "code",
      "source": [
        "rank = []\n",
        "title = []\n",
        "point = []"
      ],
      "metadata": {
        "id": "Pg-BJ_WnF7ju"
      },
      "execution_count": 6,
      "outputs": []
    },
    {
      "cell_type": "code",
      "execution_count": 7,
      "metadata": {
        "colab": {
          "base_uri": "https://localhost:8080/"
        },
        "id": "9jMqmlXMuAjo",
        "outputId": "98021e4f-c9fb-4c2a-bd6a-b9c665eb45e2"
      },
      "outputs": [
        {
          "output_type": "stream",
          "name": "stdout",
          "text": [
            "01 탑건: 매버릭 9.76\n",
            "02 인생은 뷰티풀: 비타돌체 9.70\n",
            "03 클라우스 9.66\n",
            "04 할머니의 먼 집 9.62\n",
            "05 밥정 9.60\n",
            "06 그린 북 9.60\n",
            "07 가버나움 9.59\n",
            "08 베일리 어게인 9.54\n",
            "09 원더 9.53\n",
            "010 아일라 9.52\n",
            "11 디지몬 어드벤처 라스트 에볼루션 : 인연 9.51\n",
            "12 극장판 바이올렛 에버가든 9.50\n",
            "13 당갈 9.49\n",
            "14 아바타 리마스터링 9.48\n",
            "15 포드 V 페라리 9.47\n",
            "16 먼 훗날 우리 9.47\n",
            "17 주전장 9.46\n",
            "18 쇼생크 탈출 9.46\n",
            "19 터미네이터 2:오리지널 9.45\n",
            "20 덕구 9.45\n",
            "21 클래식 9.44\n",
            "22 라이언 일병 구하기 9.43\n",
            "23 나 홀로 집에 9.43\n",
            "24 장민호 드라마 최종회 9.43\n",
            "25 그대, 고맙소 : 김호중 생애 첫 팬미팅 무비 9.43\n",
            "26 명탐정 코난: 할로윈의 신부 9.42\n",
            "27 월-E 9.42\n",
            "28 빽 투 더 퓨쳐 9.42\n",
            "29 사운드 오브 뮤직 9.42\n",
            "30 보헤미안 랩소디 9.42\n",
            "31 포레스트 검프 9.41\n",
            "32 타이타닉 9.41\n",
            "33 글래디에이터 9.41\n",
            "34 위대한 쇼맨 9.41\n",
            "35 인생은 아름다워 9.41\n",
            "36 살인의 추억 9.41\n",
            "37 매트릭스 9.40\n",
            "38 헬프 9.40\n",
            "39 센과 치히로의 행방불명 9.40\n",
            "40 태극권 9.40\n",
            "41 캐스트 어웨이 9.40\n",
            "42 가나의 혼인잔치: 언약 9.39\n",
            "43 토이 스토리 3 9.39\n",
            "44 쉰들러 리스트 9.39\n",
            "45 헌터 킬러 9.39\n",
            "46 반지의 제왕: 왕의 귀환 9.38\n",
            "47 죽은 시인의 사회 9.38\n",
            "48 히든 피겨스 9.38\n",
            "49 어벤져스: 엔드게임 9.38\n",
            "50 집으로... 9.38\n"
          ]
        }
      ],
      "source": [
        "url = 'https://movie.naver.com/movie/sdb/rank/rmovie.naver?sel=pnt&date=20221208'\n",
        "movie_html = requests.get(url)\n",
        "bs_movie = BeautifulSoup(movie_html.text, 'html.parser')\n",
        "\n",
        "rank_html = bs_movie.find_all('img',{'alt':re.compile(\"^[0-9]+$\")})\n",
        "#print(rank_html)\n",
        "\n",
        "#rank_html = bs_movie.select('td.ac img[alt]')\n",
        "#for element in rank_html:\n",
        "#   if(element['alt']!=\"na\"):\n",
        "#     rank.append(element)\n",
        "\n",
        "\n",
        "title_html = bs_movie.select('td.title')\n",
        "#print(title_html)\n",
        "\n",
        "point_html = bs_movie.select('td.point')\n",
        "#print(point_html)\n",
        "\n",
        "\n",
        "for x, y, z in zip(rank_html,  title_html, point_html):  \n",
        "  print(x['alt'],re.sub(\"\\n\", \"\", y.text), z.text)"
      ]
    },
    {
      "cell_type": "code",
      "source": [],
      "metadata": {
        "id": "IVf6HX7zx0yJ"
      },
      "execution_count": null,
      "outputs": []
    }
  ]
}