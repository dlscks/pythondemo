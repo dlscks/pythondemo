{
  "nbformat": 4,
  "nbformat_minor": 0,
  "metadata": {
    "colab": {
      "provenance": [],
      "authorship_tag": "ABX9TyPcokwBAdUrWGej3tv2MRYX",
      "include_colab_link": true
    },
    "kernelspec": {
      "name": "python3",
      "display_name": "Python 3"
    },
    "language_info": {
      "name": "python"
    }
  },
  "cells": [
    {
      "cell_type": "markdown",
      "metadata": {
        "id": "view-in-github",
        "colab_type": "text"
      },
      "source": [
        "<a href=\"https://colab.research.google.com/github/dlscks/pythondemo/blob/main/python_17_selenium.ipynb\" target=\"_parent\"><img src=\"https://colab.research.google.com/assets/colab-badge.svg\" alt=\"Open In Colab\"/></a>"
      ]
    },
    {
      "cell_type": "markdown",
      "source": [
        "### Selenium\n",
        "- 'Web Application'의 테스트를 자동화하기 위한 도구이다.\n",
        "- !pip install selenium\n",
        "- 참고사이트\n",
        " - https://www.selenium.dev/documentation/webdriver/getting_started/upgrade_to_selenium_4/\n",
        " - https://kibua20.tistory.com/228\n",
        " - https://wikidocs.net/177133"
      ],
      "metadata": {
        "id": "s8PClsBO2TS5"
      }
    },
    {
      "cell_type": "markdown",
      "source": [
        "### 구글 드라이브 연결"
      ],
      "metadata": {
        "id": "IvO-eYQY5K4v"
      }
    },
    {
      "cell_type": "code",
      "execution_count": null,
      "metadata": {
        "colab": {
          "base_uri": "https://localhost:8080/"
        },
        "id": "tfK9duU41_uW",
        "outputId": "07208c3a-24d8-4bd4-9cd9-8f38eb021cdf"
      },
      "outputs": [
        {
          "output_type": "stream",
          "name": "stdout",
          "text": [
            "Mounted at /content/drive\n",
            "/content/drive/MyDrive/python_demo\n"
          ]
        }
      ],
      "source": [
        "from google.colab import drive\n",
        "drive.mount('/content/drive')\n",
        "\n",
        "%cd /content/drive/MyDrive/python_demo"
      ]
    },
    {
      "cell_type": "markdown",
      "source": [
        "### selenium V4"
      ],
      "metadata": {
        "id": "Zcnhc1dM4s_A"
      }
    },
    {
      "cell_type": "code",
      "source": [
        "!pip install selenium\n",
        "# 특정 버전 설치\n",
        "# !pip install selenium==4.4.3\n",
        "\n",
        "# 구글코랩 selenium4\n",
        "!apt-get update\n",
        "!apt install chromium-chromedriver\n",
        "!cp /usr/lib/chromium-browser/chromedriver /usr/bin"
      ],
      "metadata": {
        "id": "KzkP6Awo2SdI"
      },
      "execution_count": null,
      "outputs": []
    },
    {
      "cell_type": "markdown",
      "source": [
        "### import"
      ],
      "metadata": {
        "id": "14r-HAc46Acw"
      }
    },
    {
      "cell_type": "code",
      "source": [
        "import requests\n",
        "from bs4 import BeautifulSoup\n",
        "import time\n",
        "from datetime import datetime\n",
        "\n",
        "from selenium import webdriver\n",
        "\n",
        "from selenium.webdriver.common.by import By\n",
        "from selenium.webdriver.support.ui import WebDriverWait \n",
        "from selenium.webdriver.support import expected_conditions as EC\n",
        "from selenium.webdriver.common.keys import Keys\n"
      ],
      "metadata": {
        "id": "lnSS_xqb59HA"
      },
      "execution_count": 28,
      "outputs": []
    },
    {
      "cell_type": "markdown",
      "source": [
        "### selenium 버전별 Drive 객체 생성"
      ],
      "metadata": {
        "id": "X23tkxub7rwn"
      }
    },
    {
      "cell_type": "code",
      "source": [
        "# selenium V3\n",
        "# path = './lib/chromedriver.exe'\n",
        "# driver.get(path)\n",
        "\n",
        "# selenium V4\n",
        "# chrome_options = webdriver.ChromeOptions()\n",
        "# driver = webdriver.Chrome(service=Service(ChromeDriverManager().install()))\n",
        "\n",
        "\n",
        "#Colab에선 웹브라우저 창이 뜨지 않으므로 별도 설정한다.\n",
        "options = webdriver.ChromeOptions()\n",
        "options.add_argument('--headless')        # Head-less 설정\n",
        "options.add_argument('--no-sandbox')\n",
        "options.add_argument('--disable-dev-shm-usage')\n",
        "driver = webdriver.Chrome('chromedriver', options=options)"
      ],
      "metadata": {
        "id": "8lqF3kND7XFy"
      },
      "execution_count": 29,
      "outputs": []
    },
    {
      "cell_type": "markdown",
      "source": [
        "### Naver에서 id가 1개일 때 & 검색어 입력"
      ],
      "metadata": {
        "id": "AYoOfcxq6jAQ"
      }
    },
    {
      "cell_type": "code",
      "source": [
        "url = 'https://www.naver.com/'\n",
        "driver.get(url)"
      ],
      "metadata": {
        "id": "fDRmV0vG6nrZ"
      },
      "execution_count": null,
      "outputs": []
    },
    {
      "cell_type": "code",
      "source": [
        "# 크롤링 데이터 확인\n",
        "print(type(driver))\n",
        "#driver.page_source\n",
        "\n",
        "#print(type(driver.page_source))"
      ],
      "metadata": {
        "colab": {
          "base_uri": "https://localhost:8080/"
        },
        "id": "o71kFBMs90ze",
        "outputId": "ddf83c4b-a008-4db8-f0e2-9a2c71024a65"
      },
      "execution_count": null,
      "outputs": [
        {
          "output_type": "stream",
          "name": "stdout",
          "text": [
            "<class 'selenium.webdriver.chrome.webdriver.WebDriver'>\n"
          ]
        }
      ]
    },
    {
      "cell_type": "code",
      "source": [
        "# WebElement으로 리턴\n",
        "inputSearch = driver.find_element(By.ID, 'query')\n",
        "print(inputSearch)\n",
        "print(dir(inputSearch))\n",
        "\n",
        "# 검색어를 입력한다.\n",
        "inputSearch.send_keys('겨울왕국')\n",
        "\n",
        "# id='search_btn' 인 검색버튼을 찾는다.\n",
        "buttonSearch = driver.find_element(By.ID, 'search_btn')\n",
        "\n",
        "print(inputSearch.get_attribute(\"value\"))\n",
        "\n",
        "# 검색버튼 클릭\n",
        "buttonSearch.click()"
      ],
      "metadata": {
        "colab": {
          "base_uri": "https://localhost:8080/"
        },
        "id": "KpOL9GsEAxSu",
        "outputId": "42855083-79cc-4ae6-d281-e0322844142f"
      },
      "execution_count": null,
      "outputs": [
        {
          "output_type": "stream",
          "name": "stdout",
          "text": [
            "<selenium.webdriver.remote.webelement.WebElement (session=\"2771ac6d30f4e271f524a6650759fff1\", element=\"e4fc06af-fd4b-4f4b-9ee8-52bd70008feb\")>\n",
            "['__abstractmethods__', '__class__', '__delattr__', '__dict__', '__dir__', '__doc__', '__eq__', '__format__', '__ge__', '__getattribute__', '__gt__', '__hash__', '__init__', '__init_subclass__', '__le__', '__lt__', '__module__', '__ne__', '__new__', '__reduce__', '__reduce_ex__', '__repr__', '__setattr__', '__sizeof__', '__str__', '__subclasshook__', '__weakref__', '_abc_impl', '_execute', '_id', '_parent', '_upload', 'accessible_name', 'aria_role', 'clear', 'click', 'find_element', 'find_elements', 'get_attribute', 'get_dom_attribute', 'get_property', 'id', 'is_displayed', 'is_enabled', 'is_selected', 'location', 'location_once_scrolled_into_view', 'parent', 'rect', 'screenshot', 'screenshot_as_base64', 'screenshot_as_png', 'send_keys', 'shadow_root', 'size', 'submit', 'tag_name', 'text', 'value_of_css_property']\n",
            "겨울왕국\n"
          ]
        }
      ]
    },
    {
      "cell_type": "markdown",
      "source": [
        "### Google에서 class가 1개일 때 & 검색어 입력"
      ],
      "metadata": {
        "id": "zdyS6jePEHSt"
      }
    },
    {
      "cell_type": "code",
      "source": [
        "url = 'https://www.google.com/'\n",
        "driver.get(url)"
      ],
      "metadata": {
        "id": "d760FGakBejO"
      },
      "execution_count": null,
      "outputs": []
    },
    {
      "cell_type": "code",
      "source": [
        "btns = driver.find_element(By.CLASS_NAME, 'gLFyf')\n",
        "\n",
        "# 검색어를 입력한다.\n",
        "btns.send_keys('겨울왕국')\n",
        "\n",
        "print(btns.get_attribute('value'))\n",
        "\n",
        "#btns.click() # click 사용하면 안됨\n",
        "btns.submit()"
      ],
      "metadata": {
        "colab": {
          "base_uri": "https://localhost:8080/"
        },
        "id": "IWMtG9zkEarM",
        "outputId": "2e7ac892-4c4a-4c36-8b43-4ecadecbbb4b"
      },
      "execution_count": null,
      "outputs": [
        {
          "output_type": "stream",
          "name": "stdout",
          "text": [
            "겨울왕국\n"
          ]
        }
      ]
    },
    {
      "cell_type": "markdown",
      "source": [
        "### DAUM에서 css가 여러개일때"
      ],
      "metadata": {
        "id": "_vtdsSD_GHUW"
      }
    },
    {
      "cell_type": "code",
      "source": [
        "url = 'https://www.daum.net/'\n",
        "driver.get(url)"
      ],
      "metadata": {
        "id": "1N8rEzKgGKYF",
        "colab": {
          "base_uri": "https://localhost:8080/",
          "height": 183
        },
        "outputId": "15aa7c04-2b47-4986-d62a-df679f93b62f"
      },
      "execution_count": null,
      "outputs": [
        {
          "output_type": "error",
          "ename": "NameError",
          "evalue": "ignored",
          "traceback": [
            "\u001b[0;31m---------------------------------------------------------------------------\u001b[0m",
            "\u001b[0;31mNameError\u001b[0m                                 Traceback (most recent call last)",
            "\u001b[0;32m<ipython-input-10-cec2a13d9297>\u001b[0m in \u001b[0;36m<module>\u001b[0;34m\u001b[0m\n\u001b[1;32m      1\u001b[0m \u001b[0murl\u001b[0m \u001b[0;34m=\u001b[0m \u001b[0;34m'https://www.daum.net/'\u001b[0m\u001b[0;34m\u001b[0m\u001b[0;34m\u001b[0m\u001b[0m\n\u001b[0;32m----> 2\u001b[0;31m \u001b[0mdriver\u001b[0m\u001b[0;34m.\u001b[0m\u001b[0mget\u001b[0m\u001b[0;34m(\u001b[0m\u001b[0murl\u001b[0m\u001b[0;34m)\u001b[0m\u001b[0;34m\u001b[0m\u001b[0;34m\u001b[0m\u001b[0m\n\u001b[0m",
            "\u001b[0;31mNameError\u001b[0m: name 'driver' is not defined"
          ]
        }
      ]
    },
    {
      "cell_type": "code",
      "source": [
        "#selector가 여러개 일 때\n",
        "ahtml = driver.find_element(By.CSS_SELECTOR, '.menu_service > ul > li:nth-child(4) a')\n",
        "print(type(ahtml))\n",
        "print(ahtml.text)\n",
        "ahtml.click()"
      ],
      "metadata": {
        "colab": {
          "base_uri": "https://localhost:8080/"
        },
        "id": "gDuFMs68GqZE",
        "outputId": "0ec1d2c5-84b7-4dd5-ef9d-4bb22ea178f0"
      },
      "execution_count": null,
      "outputs": [
        {
          "output_type": "stream",
          "name": "stdout",
          "text": [
            "<class 'selenium.webdriver.remote.webelement.WebElement'>\n",
            "지도\n"
          ]
        }
      ]
    },
    {
      "cell_type": "markdown",
      "source": [
        "### Naver에서 많이 본 뉴스 목록 보기"
      ],
      "metadata": {
        "id": "SRtrQI8_H4YE"
      }
    },
    {
      "cell_type": "code",
      "source": [
        "url = 'https://www.naver.com/'\n",
        "driver.get(url)"
      ],
      "metadata": {
        "id": "FrtGjZrbHhMN"
      },
      "execution_count": null,
      "outputs": []
    },
    {
      "cell_type": "code",
      "source": [
        "news = driver.find_element(By.CSS_SELECTOR, '#NM_FAVORITE > div.group_nav > ul.list_nav.NM_FAVORITE_LIST > li:nth-child(2) > a.nav')\n",
        "print(news.text)\n",
        "news.click( )\n",
        "\n",
        "div_cjs_list = driver.find_elements(By.CSS_SELECTOR, 'div.cjs_journal_wrap._item_contents div.cjs_news_tw > div.cjs_t')\n",
        "\n",
        "for element_cjs in div_cjs_list:\n",
        " print(element_cjs.text)"
      ],
      "metadata": {
        "id": "Zxn6xvyPIOWH"
      },
      "execution_count": null,
      "outputs": []
    },
    {
      "cell_type": "markdown",
      "source": [
        "### 시간창 대기 3가지\n",
        "- 일반적으로 시간창 대기는 time.sleep, implicity_wait, Explicit Waits 3가지 사용\n",
        " - time.sleep : 그냥 지정한 시간만큼 기다린 뒤에 작업을 진행\n",
        " - implicity_wait : 지정한 시간만큼 기다려주고 그 이후는 기다리지 않음\n",
        " - Explicit Waits : 특정 상태가 될 때까지 기다리고, 상태가 되면 바로 다음 실행"
      ],
      "metadata": {
        "id": "bfyxgufdQpZq"
      }
    },
    {
      "cell_type": "code",
      "source": [
        "from selenium.webdriver.wpewebkit.webdriver import WebDriver\n",
        "# 무조건 지정된 time만큼 대기\n",
        "# time.sleep(5) # 5초까지 기다려 준다.\n",
        "\n",
        "# 5초 driver.implicitly_wait(5)의 경우, 페이지가 2초만에 로딩된다면,\n",
        "# 5초를 기다리지 않고 바로 다음 코드로 넘어간다.\n",
        "driver.implicitly_wait(5)\n",
        "\n",
        "url = 'https://daum.net/'\n",
        "driver.get(url)\n",
        "\n",
        "# 검색 버튼을 찾아서 누를건데, 최대 5초까지만 기다리겠다는 의미\n",
        "button = WebDriverWait(driver, 5).until(EC.presence_of_element_located((By.CSS_SELECTOR, '.menu_service > ul > li:nth-child(4) > a')))\n",
        "print(button.text)\n",
        "button.click()"
      ],
      "metadata": {
        "colab": {
          "base_uri": "https://localhost:8080/",
          "height": 235
        },
        "id": "1lVAgGyJOGel",
        "outputId": "89294175-e232-4f04-9d53-bc20cbcaee12"
      },
      "execution_count": null,
      "outputs": [
        {
          "output_type": "error",
          "ename": "NameError",
          "evalue": "ignored",
          "traceback": [
            "\u001b[0;31m---------------------------------------------------------------------------\u001b[0m",
            "\u001b[0;31mNameError\u001b[0m                                 Traceback (most recent call last)",
            "\u001b[0;32m<ipython-input-9-03204b57229f>\u001b[0m in \u001b[0;36m<module>\u001b[0;34m\u001b[0m\n\u001b[1;32m      5\u001b[0m \u001b[0;31m# 5초 driver.implicitly_wait(5)의 경우, 페이지가 2초만에 로딩된다면,\u001b[0m\u001b[0;34m\u001b[0m\u001b[0;34m\u001b[0m\u001b[0;34m\u001b[0m\u001b[0m\n\u001b[1;32m      6\u001b[0m \u001b[0;31m# 5초를 기다리지 않고 바로 다음 코드로 넘어간다.\u001b[0m\u001b[0;34m\u001b[0m\u001b[0;34m\u001b[0m\u001b[0;34m\u001b[0m\u001b[0m\n\u001b[0;32m----> 7\u001b[0;31m \u001b[0mdriver\u001b[0m\u001b[0;34m.\u001b[0m\u001b[0mimplicitly_wait\u001b[0m\u001b[0;34m(\u001b[0m\u001b[0;36m5\u001b[0m\u001b[0;34m)\u001b[0m\u001b[0;34m\u001b[0m\u001b[0;34m\u001b[0m\u001b[0m\n\u001b[0m\u001b[1;32m      8\u001b[0m \u001b[0;34m\u001b[0m\u001b[0m\n\u001b[1;32m      9\u001b[0m \u001b[0murl\u001b[0m \u001b[0;34m=\u001b[0m \u001b[0;34m'https://daum.net/'\u001b[0m\u001b[0;34m\u001b[0m\u001b[0;34m\u001b[0m\u001b[0m\n",
            "\u001b[0;31mNameError\u001b[0m: name 'driver' is not defined"
          ]
        }
      ]
    },
    {
      "cell_type": "markdown",
      "source": [
        "### daum 로그인"
      ],
      "metadata": {
        "id": "IaMwTFerWdE4"
      }
    },
    {
      "cell_type": "code",
      "source": [
        "url = 'https://www.daum.net/'\n",
        "driver.get(url)\n",
        "\n",
        "# next = driver.find_element(By.XPATH, '//*[@id=\"inner_login\"]/a[1]')\n",
        "# next.click()\n",
        "\n",
        "# inputid = driver.find_element(By.ID, 'input-loginKey')\n",
        "\n",
        "# inputpwd = driver.find_element(By.ID, 'input-password')\n",
        "\n",
        "# time.sleep(3)\n",
        "\n",
        "# inputid.send_keys('dlscks971026@naver.com')\n",
        "# inputpwd.send_keys('dlscks15')\n",
        "\n",
        "# login = driver.find_element(By.CLASS_NAME, 'btn_g.highlight')\n",
        "# login.click( )\n",
        "\n",
        "button = WebDriverWait(driver, 10).until(EC.presence_of_element_located((By.CLASS_NAME, 'link_basis')))\n",
        "print(button.text)\n",
        "button.click()\n",
        " \n",
        "button3 = WebDriverWait(driver, 5).until(EC.presence_of_element_located((By.CLASS_NAME, 'fst.link_mail')))\n",
        "print(button3.text)\n",
        "button3.click()\n",
        "\n",
        "button2 = WebDriverWait(driver, 5).until(EC.presence_of_element_located((By.CLASS_NAME, 'link_subject')))\n",
        "print(button2.text)\n"
      ],
      "metadata": {
        "colab": {
          "base_uri": "https://localhost:8080/"
        },
        "id": "lRV-tD7sWgBi",
        "outputId": "19c0c470-3924-4d3a-937a-15ad019a1458"
      },
      "execution_count": 35,
      "outputs": [
        {
          "output_type": "stream",
          "name": "stdout",
          "text": [
            "메일\n",
            "전체\n",
            "(광고) 12월의 급등종목 바로 이 자리에서 공개합니다 절대 놓치지마세요\n"
          ]
        }
      ]
    },
    {
      "cell_type": "code",
      "source": [
        "!pip freeze"
      ],
      "metadata": {
        "id": "uo2MWbrSOOI9"
      },
      "execution_count": null,
      "outputs": []
    },
    {
      "cell_type": "code",
      "source": [
        "url=\"https://drive.google.com/file/d/1I8faWeRQS_Nf4vwDImH5ih40Q-vq97Kh/view?usp=share_link\" \n",
        "path='https://drive.google.com/uc?export=download&id='+url.split('/')[-2]\n",
        "size=\"width=\\\"\\\" \"+\"height =\\\"\\\" \"\n",
        "tag=\"<img src='\"+path+\"' \"+size+\"/><br>\"\n",
        "print(\" ▶ Path : \", path)\n",
        "print('\\n',\"▶ Tag : \", tag)\n"
      ],
      "metadata": {
        "colab": {
          "base_uri": "https://localhost:8080/"
        },
        "id": "BhtzW-9gnBQg",
        "outputId": "001bc806-9d45-40af-d91c-562d7f34eb6e"
      },
      "execution_count": 37,
      "outputs": [
        {
          "output_type": "stream",
          "name": "stdout",
          "text": [
            " ▶ Path :  https://drive.google.com/uc?export=download&id=1I8faWeRQS_Nf4vwDImH5ih40Q-vq97Kh\n",
            "\n",
            " ▶ Tag :  <img src='https://drive.google.com/uc?export=download&id=1I8faWeRQS_Nf4vwDImH5ih40Q-vq97Kh' width=\"\" height =\"\" /><br>\n"
          ]
        }
      ]
    },
    {
      "cell_type": "markdown",
      "source": [
        "![parser](https://drive.google.com/uc?export=download&id=1I8faWeRQS_Nf4vwDImH5ih40Q-vq97Kh)"
      ],
      "metadata": {
        "id": "yU-S4ND9nZFw"
      }
    },
    {
      "cell_type": "markdown",
      "source": [
        "![이미지](https://t1.daumcdn.net/daumtop_chanel/op/20200723055344399.png)"
      ],
      "metadata": {
        "id": "JZaNcLG-mPIe"
      }
    },
    {
      "cell_type": "code",
      "source": [],
      "metadata": {
        "id": "s9ripx3AORs1"
      },
      "execution_count": null,
      "outputs": []
    }
  ]
}