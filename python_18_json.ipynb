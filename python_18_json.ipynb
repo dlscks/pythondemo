{
  "nbformat": 4,
  "nbformat_minor": 0,
  "metadata": {
    "colab": {
      "provenance": [],
      "authorship_tag": "ABX9TyN6kX42B++XEK1An7jrowyY",
      "include_colab_link": true
    },
    "kernelspec": {
      "name": "python3",
      "display_name": "Python 3"
    },
    "language_info": {
      "name": "python"
    }
  },
  "cells": [
    {
      "cell_type": "markdown",
      "metadata": {
        "id": "view-in-github",
        "colab_type": "text"
      },
      "source": [
        "<a href=\"https://colab.research.google.com/github/dlscks/pythondemo/blob/main/python_18_json.ipynb\" target=\"_parent\"><img src=\"https://colab.research.google.com/assets/colab-badge.svg\" alt=\"Open In Colab\"/></a>"
      ]
    },
    {
      "cell_type": "markdown",
      "source": [
        "# 파일 입출력 할 때 dict 타입으로 저장하는 방법\n",
        "- str(dict)을 사용하는 방법\n",
        "- json 모듈을 이용하는 방법"
      ],
      "metadata": {
        "id": "g9E2pUBRs7-F"
      }
    },
    {
      "cell_type": "markdown",
      "source": [
        "### 구글 드라이브 연결"
      ],
      "metadata": {
        "id": "EibT05Ayswol"
      }
    },
    {
      "cell_type": "code",
      "execution_count": 1,
      "metadata": {
        "colab": {
          "base_uri": "https://localhost:8080/"
        },
        "id": "9RjVuexzsod2",
        "outputId": "53fc290c-be50-47b2-be13-5a1708d3f3b0"
      },
      "outputs": [
        {
          "output_type": "stream",
          "name": "stdout",
          "text": [
            "Mounted at /content/drive\n",
            "/content/drive/MyDrive/python_demo\n"
          ]
        }
      ],
      "source": [
        "from google.colab import drive\n",
        "drive.mount('/content/drive')\n",
        "\n",
        "%cd /content/drive/MyDrive/python_demo"
      ]
    },
    {
      "cell_type": "markdown",
      "source": [
        "### str(dict)을 사용하는 방법"
      ],
      "metadata": {
        "id": "auyRIkm8tKD8"
      }
    },
    {
      "cell_type": "code",
      "source": [
        "dict = {'10': '1056','name':'park','직업':'프리랜서'}\n",
        "\n",
        "with open('./data_crowing/dictdata.txt','w', encoding='UTF-8') as file:\n",
        "  file.write(str(dict))"
      ],
      "metadata": {
        "id": "ewceiOjQs3F8"
      },
      "execution_count": 4,
      "outputs": []
    },
    {
      "cell_type": "markdown",
      "source": [
        "### json 모듈을 이용하는 방법"
      ],
      "metadata": {
        "id": "CqFObjCsuFFU"
      }
    },
    {
      "cell_type": "code",
      "source": [
        "import json"
      ],
      "metadata": {
        "id": "AXwxKrOJto4e"
      },
      "execution_count": 5,
      "outputs": []
    },
    {
      "cell_type": "code",
      "source": [
        "dict = {'10': '1056','name':'park','직업':'프리랜서'}\n",
        "\n",
        "with open('./data_crowing/dictjson1.txt','w') as file:\n",
        "  file.write(json.dumps(dict))"
      ],
      "metadata": {
        "id": "AeiDaPCluMVV"
      },
      "execution_count": 6,
      "outputs": []
    },
    {
      "cell_type": "markdown",
      "source": [
        "위의 write을 결과를 보면 한글이 깨져나옴. 이를 해결하기 위해서 ensure_ascii=False을 지정한다."
      ],
      "metadata": {
        "id": "3JRvyLGVvrYk"
      }
    },
    {
      "cell_type": "code",
      "source": [
        "dict = {'10': '1056','name':'park','직업':'프리랜서'}\n",
        "\n",
        "with open('./data_crowing/dictjson1.txt','w') as file:\n",
        "  file.write(json.dumps(dict, ensure_ascii=False))"
      ],
      "metadata": {
        "id": "XXbfV2AlvDx0"
      },
      "execution_count": 7,
      "outputs": []
    },
    {
      "cell_type": "code",
      "source": [
        "import json\n",
        "json_str = '{\"name\":\"kyeongrok\", \"age\":\"32\"}'\n",
        "print(type(json_str)) # str\n",
        "json_obj = json.loads(json_str)\n",
        "print(json_obj)\n",
        "print(type(json_obj)) #dict"
      ],
      "metadata": {
        "colab": {
          "base_uri": "https://localhost:8080/"
        },
        "id": "_iKn-Q1ivSzs",
        "outputId": "7ea0fd4b-1a74-4919-c12d-13cbfa582c9a"
      },
      "execution_count": 8,
      "outputs": [
        {
          "output_type": "stream",
          "name": "stdout",
          "text": [
            "<class 'str'>\n",
            "{'name': 'kyeongrok', 'age': '32'}\n",
            "<class 'dict'>\n"
          ]
        }
      ]
    },
    {
      "cell_type": "code",
      "source": [
        "import json\n",
        "json_str = '[100, 200, 300, 400]'\n",
        "print(type(json_str)) # str\n",
        "\n",
        "json_obj = json.loads(json_str)\n",
        "print(type(json_obj)) # list\n",
        "\n",
        "print(json_obj)\n",
        "print(json_obj[0])\n",
        "print(type(json_obj[0])) # int"
      ],
      "metadata": {
        "colab": {
          "base_uri": "https://localhost:8080/"
        },
        "id": "G3nSCfUOxl1P",
        "outputId": "0774ec4a-80b9-42d1-d2b6-a50c4e0cf4d7"
      },
      "execution_count": 10,
      "outputs": [
        {
          "output_type": "stream",
          "name": "stdout",
          "text": [
            "<class 'str'>\n",
            "<class 'list'>\n",
            "[100, 200, 300, 400]\n",
            "100\n",
            "<class 'int'>\n"
          ]
        }
      ]
    },
    {
      "cell_type": "code",
      "source": [
        "import json\n",
        "\n",
        "json_str = '[{\"name\":\"kyeongrok\", \"age\":\"32\"},{\"name\":\"bomi\", \"age\":\"25\"}]'\n",
        "print(type(json_str)) # str\n",
        "\n",
        "json_obj = json.loads(json_str)\n",
        "print(type(json_obj)) #list\n",
        "print(json_obj)\n",
        "\n",
        "print(json_obj[0])\n",
        "print(type(json_obj[0])) #dict\n",
        "print(json_obj[0][\"name\"])\n"
      ],
      "metadata": {
        "colab": {
          "base_uri": "https://localhost:8080/"
        },
        "id": "L1iyM3AoyFsU",
        "outputId": "d0633072-cd6e-49cc-e391-91ba21915f3e"
      },
      "execution_count": 14,
      "outputs": [
        {
          "output_type": "stream",
          "name": "stdout",
          "text": [
            "<class 'str'>\n",
            "<class 'list'>\n",
            "[{'name': 'kyeongrok', 'age': '32'}, {'name': 'bomi', 'age': '25'}]\n",
            "{'name': 'kyeongrok', 'age': '32'}\n",
            "<class 'dict'>\n",
            "kyeongrok\n"
          ]
        }
      ]
    },
    {
      "cell_type": "code",
      "source": [
        "import json\n",
        "json_str = '[{\"name\":\"kyeongrok\", \"age\":\"32\"},{\"name\":\"bomi\", \"age\":\"25\"}]'\n",
        "\n",
        "json_obj = json.loads(json_str)\n",
        "\n",
        "for element in json_obj:\n",
        "  print(element)\n",
        "  print(element['name'], element['age'])"
      ],
      "metadata": {
        "colab": {
          "base_uri": "https://localhost:8080/"
        },
        "id": "A574TK4ZyiJj",
        "outputId": "3b774919-6ea8-46e2-953e-8f8a01c58c19"
      },
      "execution_count": 16,
      "outputs": [
        {
          "output_type": "stream",
          "name": "stdout",
          "text": [
            "{'name': 'kyeongrok', 'age': '32'}\n",
            "kyeongrok 32\n",
            "{'name': 'bomi', 'age': '25'}\n",
            "bomi 25\n"
          ]
        }
      ]
    },
    {
      "cell_type": "code",
      "source": [
        "import json\n",
        "json_str = '[{\"name\":\"kyeongrok\", \"age\":\"32\"},{\"name\":\"bomi\", \"age\":\"25\"}]'\n",
        "\n",
        "with open('./data_crowing/listjson.json', 'w') as file:\n",
        "  file.write(json_str)"
      ],
      "metadata": {
        "id": "JzjJr2l-0ZHb"
      },
      "execution_count": 18,
      "outputs": []
    },
    {
      "cell_type": "code",
      "source": [
        "import json\n",
        "\n",
        "with open('./data_crowing/listjson.json', 'r') as file:\n",
        "  data = file.read()\n",
        "print(type(data))\n",
        "obj = json.loads(data)\n",
        "print(obj)\n",
        "print(type(obj))\n",
        "\n",
        "for element in obj:\n",
        "  print(element)\n",
        "  print(element['name'], element['age'])"
      ],
      "metadata": {
        "colab": {
          "base_uri": "https://localhost:8080/"
        },
        "id": "1in9aENt8dxK",
        "outputId": "cb746efa-dab2-46a6-fd35-522fc801b320"
      },
      "execution_count": 23,
      "outputs": [
        {
          "output_type": "stream",
          "name": "stdout",
          "text": [
            "<class 'str'>\n",
            "[{'name': 'kyeongrok', 'age': '32'}, {'name': 'bomi', 'age': '25'}]\n",
            "<class 'list'>\n",
            "{'name': 'kyeongrok', 'age': '32'}\n",
            "kyeongrok 32\n",
            "{'name': 'bomi', 'age': '25'}\n",
            "bomi 25\n"
          ]
        }
      ]
    },
    {
      "cell_type": "markdown",
      "source": [
        "### 세계 곡물 가격 동향"
      ],
      "metadata": {
        "id": "lYp5F4-cBf5X"
      }
    },
    {
      "cell_type": "code",
      "source": [
        "import requests\n",
        "import json\n",
        "\n",
        "from_date ='2020-01-01'\n",
        "to_date = '2022-01-01'\n",
        "url=\"http://www.krei.re.kr:18181/chart/main_chart/index/kind/W/sdate/\"+from_date+\"/edate/\"+to_date\n",
        "\n",
        "data = requests.get(url)\n",
        "print(data)\n",
        "print(type(data))\n",
        "print(dir(data))\n",
        "#print(data.text)\n",
        "print(type(data.text)) # str\n",
        "js_obj = json.loads(data.text)\n",
        "print(type(js_obj))\n",
        "for food in js_obj:\n",
        "  #print(food)\n",
        "  #print(type(food)) #dict\n",
        "  print(food['id'],food['date'],food['high'], food['low'])"
      ],
      "metadata": {
        "id": "OJPPuinY9loK"
      },
      "execution_count": null,
      "outputs": []
    },
    {
      "cell_type": "code",
      "source": [],
      "metadata": {
        "id": "Dqi3I-ZIB2AH"
      },
      "execution_count": null,
      "outputs": []
    }
  ]
}