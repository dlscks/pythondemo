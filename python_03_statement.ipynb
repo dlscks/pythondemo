{
  "nbformat": 4,
  "nbformat_minor": 0,
  "metadata": {
    "colab": {
      "provenance": [],
      "authorship_tag": "ABX9TyM/xA6tAcodscEEhdZtBUYm",
      "include_colab_link": true
    },
    "kernelspec": {
      "name": "python3",
      "display_name": "Python 3"
    },
    "language_info": {
      "name": "python"
    }
  },
  "cells": [
    {
      "cell_type": "markdown",
      "metadata": {
        "id": "view-in-github",
        "colab_type": "text"
      },
      "source": [
        "<a href=\"https://colab.research.google.com/github/dlscks/pythondemo/blob/main/python_03_statement.ipynb\" target=\"_parent\"><img src=\"https://colab.research.google.com/assets/colab-badge.svg\" alt=\"Open In Colab\"/></a>"
      ]
    },
    {
      "cell_type": "code",
      "execution_count": 1,
      "metadata": {
        "colab": {
          "base_uri": "https://localhost:8080/"
        },
        "id": "6yAcsEaGr1FA",
        "outputId": "01f5d879-d8cd-4235-ee4b-d331885af26a"
      },
      "outputs": [
        {
          "output_type": "stream",
          "name": "stdout",
          "text": [
            "No\n"
          ]
        }
      ],
      "source": [
        "a = 1\n",
        "if a>3 :\n",
        "  print('Yes')\n",
        "else:\n",
        "   print('No')"
      ]
    },
    {
      "cell_type": "code",
      "source": [
        "if a>0:\n",
        "  print('Yes')\n",
        "  print('Ok')\n",
        "else :\n",
        "    print('No')"
      ],
      "metadata": {
        "colab": {
          "base_uri": "https://localhost:8080/"
        },
        "id": "tH2BK9VdsyAh",
        "outputId": "799a59c4-dfe6-4816-bfa7-57aea5be9213"
      },
      "execution_count": 2,
      "outputs": [
        {
          "output_type": "stream",
          "name": "stdout",
          "text": [
            "Yes\n",
            "Ok\n"
          ]
        }
      ]
    },
    {
      "cell_type": "code",
      "source": [
        "# jumsu가 80이상 '상', 80미만~60이상 '중', 60미만 '하'\n",
        "jumsu = 55\n",
        "if jumsu >=80:\n",
        "  print('상')\n",
        "elif jumsu >=60:\n",
        "  print('중')\n",
        "else:\n",
        "  print('하')"
      ],
      "metadata": {
        "colab": {
          "base_uri": "https://localhost:8080/"
        },
        "id": "CsBtqH6AsY8r",
        "outputId": "58b9daa8-3076-4cfe-f7df-a6af779648bd"
      },
      "execution_count": 4,
      "outputs": [
        {
          "output_type": "stream",
          "name": "stdout",
          "text": [
            "하\n"
          ]
        }
      ]
    },
    {
      "cell_type": "markdown",
      "source": [
        "### existance\n",
        "   python에서 조건은 존재론(existance)적이다. ->truthy,falsy"
      ],
      "metadata": {
        "id": "lX3GYsT5tkZy"
      }
    },
    {
      "cell_type": "code",
      "source": [
        "# 0은 숫자가 없는 것과 같음 -> falsy\n",
        "a= 0.0\n",
        "if a:\n",
        "  print('Yes')\n",
        "else:\n",
        "  print('No')"
      ],
      "metadata": {
        "colab": {
          "base_uri": "https://localhost:8080/"
        },
        "id": "GHSh3zJEtwJx",
        "outputId": "87e0e168-b494-49a5-e025-efac5973d076"
      },
      "execution_count": 6,
      "outputs": [
        {
          "output_type": "stream",
          "name": "stdout",
          "text": [
            "No\n"
          ]
        }
      ]
    },
    {
      "cell_type": "code",
      "source": [
        "# None은 객체가 없는 것과 같음 ->falsy\n",
        "a = None\n",
        "if a:\n",
        "  print('Yes')\n",
        "else:\n",
        "  print('No')"
      ],
      "metadata": {
        "colab": {
          "base_uri": "https://localhost:8080/"
        },
        "id": "4gC_sC0fumVc",
        "outputId": "5a4d3c02-34d7-4f99-f77a-a60338906786"
      },
      "execution_count": 7,
      "outputs": [
        {
          "output_type": "stream",
          "name": "stdout",
          "text": [
            "No\n"
          ]
        }
      ]
    },
    {
      "cell_type": "code",
      "source": [
        "# 비어 있는 dict는 없는것과 같음 -> falsy\n",
        "a = {}\n",
        "if a:\n",
        "  print('Yes')\n",
        "else:\n",
        "  print('No')"
      ],
      "metadata": {
        "colab": {
          "base_uri": "https://localhost:8080/"
        },
        "id": "3dvdLUbRu9C6",
        "outputId": "c217e56c-5f90-408f-d612-105818c25554"
      },
      "execution_count": 8,
      "outputs": [
        {
          "output_type": "stream",
          "name": "stdout",
          "text": [
            "No\n"
          ]
        }
      ]
    },
    {
      "cell_type": "code",
      "source": [
        "# 인스턴스 방식으로 값을 만들 때 괄호 안이 비어 있는 값을 만든다.\n",
        "# if에서 모두 false이다.\n",
        "\n",
        "a = int()\n",
        "b = float()\n",
        "c = complex()\n",
        "d = list()"
      ],
      "metadata": {
        "id": "SxsSi2IKvWL5"
      },
      "execution_count": 9,
      "outputs": []
    },
    {
      "cell_type": "code",
      "source": [
        "if a:\n",
        "  print('Yes')\n",
        "else:\n",
        "  print('No')"
      ],
      "metadata": {
        "colab": {
          "base_uri": "https://localhost:8080/"
        },
        "id": "QVzQ43_rvtHS",
        "outputId": "51f8dce9-719c-4441-ea02-7e6883464435"
      },
      "execution_count": 11,
      "outputs": [
        {
          "output_type": "stream",
          "name": "stdout",
          "text": [
            "No\n"
          ]
        }
      ]
    },
    {
      "cell_type": "code",
      "source": [
        "3<2 or 4<5"
      ],
      "metadata": {
        "colab": {
          "base_uri": "https://localhost:8080/"
        },
        "id": "CPoRnKKMv1Ma",
        "outputId": "56119b4e-4f3f-4628-dd4a-d8d0143df0b7"
      },
      "execution_count": 12,
      "outputs": [
        {
          "output_type": "execute_result",
          "data": {
            "text/plain": [
              "True"
            ]
          },
          "metadata": {},
          "execution_count": 12
        }
      ]
    },
    {
      "cell_type": "code",
      "source": [
        "# and는 앞이 True이면 뒤에 값을 반환한다.\n",
        "# 3은 존재론적으로 True\n",
        "3 and 4"
      ],
      "metadata": {
        "colab": {
          "base_uri": "https://localhost:8080/"
        },
        "id": "LQSVJ5OOxt_0",
        "outputId": "bac70ec2-891c-4a00-95fc-994f91f25d88"
      },
      "execution_count": 14,
      "outputs": [
        {
          "output_type": "execute_result",
          "data": {
            "text/plain": [
              "4"
            ]
          },
          "metadata": {},
          "execution_count": 14
        }
      ]
    },
    {
      "cell_type": "code",
      "source": [
        "# and는 앞이 False이면 앞에 값을 반환한다.\n",
        "# 비어 있는 문자열은 없는 것과 같음 -> Falsy\n",
        "\"\" and 4"
      ],
      "metadata": {
        "colab": {
          "base_uri": "https://localhost:8080/",
          "height": 35
        },
        "id": "2sn4Uv5CxwSr",
        "outputId": "6e182dec-1e46-488c-84cc-6a2344fce1e0"
      },
      "execution_count": 15,
      "outputs": [
        {
          "output_type": "execute_result",
          "data": {
            "text/plain": [
              "''"
            ],
            "application/vnd.google.colaboratory.intrinsic+json": {
              "type": "string"
            }
          },
          "metadata": {},
          "execution_count": 15
        }
      ]
    },
    {
      "cell_type": "code",
      "source": [
        "# or은 and의 반대\n",
        "# 앞이 True이면 앞, 앞이  False이면 뒤의 값을 반환한다.\n",
        "3 or 4"
      ],
      "metadata": {
        "colab": {
          "base_uri": "https://localhost:8080/"
        },
        "id": "barFajHiyQsD",
        "outputId": "48d48e2d-014e-4c4d-e63c-7611fdb9f4d8"
      },
      "execution_count": 16,
      "outputs": [
        {
          "output_type": "execute_result",
          "data": {
            "text/plain": [
              "3"
            ]
          },
          "metadata": {},
          "execution_count": 16
        }
      ]
    },
    {
      "cell_type": "code",
      "source": [
        "\"\" or 4"
      ],
      "metadata": {
        "colab": {
          "base_uri": "https://localhost:8080/"
        },
        "id": "nnxqX9-QyzBM",
        "outputId": "8eaca1da-42b5-48ee-e4e8-740e00853806"
      },
      "execution_count": 17,
      "outputs": [
        {
          "output_type": "execute_result",
          "data": {
            "text/plain": [
              "4"
            ]
          },
          "metadata": {},
          "execution_count": 17
        }
      ]
    },
    {
      "cell_type": "code",
      "source": [
        "# if 조건에 문장을 사용할 수 없다.\n",
        "if a= 4:\n",
        "  print('4')"
      ],
      "metadata": {
        "colab": {
          "base_uri": "https://localhost:8080/",
          "height": 131
        },
        "id": "-6kyoqVuzCdU",
        "outputId": "a221765f-53a1-4225-aa1f-1e15dd0b7550"
      },
      "execution_count": 18,
      "outputs": [
        {
          "output_type": "error",
          "ename": "SyntaxError",
          "evalue": "ignored",
          "traceback": [
            "\u001b[0;36m  File \u001b[0;32m\"<ipython-input-18-916324bb42ff>\"\u001b[0;36m, line \u001b[0;32m1\u001b[0m\n\u001b[0;31m    if a= 4:\u001b[0m\n\u001b[0m        ^\u001b[0m\n\u001b[0;31mSyntaxError\u001b[0m\u001b[0;31m:\u001b[0m invalid syntax\n"
          ]
        }
      ]
    },
    {
      "cell_type": "markdown",
      "source": [
        "- 첫 번째 방법은 순서형 또는 딕셔너리를 사용하는 것이다."
      ],
      "metadata": {
        "id": "5zrf-EBY6twI"
      }
    },
    {
      "cell_type": "code",
      "source": [
        "for v in[1,2,3,4,5]:\n",
        "  print(v)"
      ],
      "metadata": {
        "colab": {
          "base_uri": "https://localhost:8080/"
        },
        "id": "D4ZeRHdr3iPg",
        "outputId": "b091fc21-2d40-4da8-fc6b-4b5992ace793"
      },
      "execution_count": 19,
      "outputs": [
        {
          "output_type": "stream",
          "name": "stdout",
          "text": [
            "1\n",
            "2\n",
            "3\n",
            "4\n",
            "5\n"
          ]
        }
      ]
    },
    {
      "cell_type": "code",
      "source": [
        "for v in 'python':\n",
        "  print(v)"
      ],
      "metadata": {
        "colab": {
          "base_uri": "https://localhost:8080/"
        },
        "id": "n7FimDG24Itn",
        "outputId": "751ed2e6-385e-4069-8f5c-cdaf22a0147c"
      },
      "execution_count": 20,
      "outputs": [
        {
          "output_type": "stream",
          "name": "stdout",
          "text": [
            "p\n",
            "y\n",
            "t\n",
            "h\n",
            "o\n",
            "n\n"
          ]
        }
      ]
    },
    {
      "cell_type": "code",
      "source": [
        "t=[('one',1),('two',2)]\n",
        "for k, v in t:\n",
        "  print('{0} : {1}'.format(k,v))"
      ],
      "metadata": {
        "colab": {
          "base_uri": "https://localhost:8080/"
        },
        "id": "vHceHffK579g",
        "outputId": "478d2868-d1c8-4772-efe3-66754d5ba6af"
      },
      "execution_count": 21,
      "outputs": [
        {
          "output_type": "stream",
          "name": "stdout",
          "text": [
            "one : 1\n",
            "two : 2\n"
          ]
        }
      ]
    },
    {
      "cell_type": "code",
      "source": [
        "dic = {'a':1, 'b':2}\n",
        "for k in dic:\n",
        "  print('{0} : {1}'.format(k, dic[k]))"
      ],
      "metadata": {
        "colab": {
          "base_uri": "https://localhost:8080/"
        },
        "id": "h9GLBanu6L4X",
        "outputId": "9003b626-1c7e-4385-cde5-cb8a27acab0e"
      },
      "execution_count": 26,
      "outputs": [
        {
          "output_type": "stream",
          "name": "stdout",
          "text": [
            "a : 1\n",
            "b : 2\n"
          ]
        }
      ]
    },
    {
      "cell_type": "code",
      "source": [
        "print(len(dir(dict)), len(dir(dic)))"
      ],
      "metadata": {
        "colab": {
          "base_uri": "https://localhost:8080/"
        },
        "id": "chYQqp1f6Y7P",
        "outputId": "70a4ec7c-dc61-45fd-ea7d-9f138576bf7f"
      },
      "execution_count": 28,
      "outputs": [
        {
          "output_type": "stream",
          "name": "stdout",
          "text": [
            "41 41\n"
          ]
        }
      ]
    },
    {
      "cell_type": "code",
      "source": [
        "dic.__doc__"
      ],
      "metadata": {
        "colab": {
          "base_uri": "https://localhost:8080/",
          "height": 70
        },
        "id": "y9Gy46YV8Aug",
        "outputId": "5afae818-b1e3-4959-f1bf-83d62ccdf0cf"
      },
      "execution_count": 29,
      "outputs": [
        {
          "output_type": "execute_result",
          "data": {
            "text/plain": [
              "\"dict() -> new empty dictionary\\ndict(mapping) -> new dictionary initialized from a mapping object's\\n    (key, value) pairs\\ndict(iterable) -> new dictionary initialized as if via:\\n    d = {}\\n    for k, v in iterable:\\n        d[k] = v\\ndict(**kwargs) -> new dictionary initialized with the name=value pairs\\n    in the keyword argument list.  For example:  dict(one=1, two=2)\""
            ],
            "application/vnd.google.colaboratory.intrinsic+json": {
              "type": "string"
            }
          },
          "metadata": {},
          "execution_count": 29
        }
      ]
    },
    {
      "cell_type": "code",
      "source": [
        "dict.__doc__"
      ],
      "metadata": {
        "colab": {
          "base_uri": "https://localhost:8080/",
          "height": 70
        },
        "id": "Y8CbHE_L8PWP",
        "outputId": "e90c155f-f720-4a82-f18d-bba5acd60a71"
      },
      "execution_count": 30,
      "outputs": [
        {
          "output_type": "execute_result",
          "data": {
            "text/plain": [
              "\"dict() -> new empty dictionary\\ndict(mapping) -> new dictionary initialized from a mapping object's\\n    (key, value) pairs\\ndict(iterable) -> new dictionary initialized as if via:\\n    d = {}\\n    for k, v in iterable:\\n        d[k] = v\\ndict(**kwargs) -> new dictionary initialized with the name=value pairs\\n    in the keyword argument list.  For example:  dict(one=1, two=2)\""
            ],
            "application/vnd.google.colaboratory.intrinsic+json": {
              "type": "string"
            }
          },
          "metadata": {},
          "execution_count": 30
        }
      ]
    },
    {
      "cell_type": "markdown",
      "source": [
        "### 반복문\n",
        "\n",
        "- 반복문에서 else는 반복문이 완벽하게 끝났을 때 실행된다\n",
        "- 대부분의 프로그래밍 언어는 while과 for을 지원한다.\n"
      ],
      "metadata": {
        "id": "fblTYAWx-joq"
      }
    },
    {
      "cell_type": "code",
      "source": [
        "# while문이 완벽히 돌았으므로 end가 출력된다.\n",
        "a = 15;\n",
        "\n",
        "while a>10:\n",
        "  a-=1\n",
        "  print(a)\n",
        "else:\n",
        "  print('end')"
      ],
      "metadata": {
        "colab": {
          "base_uri": "https://localhost:8080/"
        },
        "id": "l8LclUKe8UiA",
        "outputId": "aaecc959-77c6-454a-d784-075b3b846040"
      },
      "execution_count": 36,
      "outputs": [
        {
          "output_type": "stream",
          "name": "stdout",
          "text": [
            "14\n",
            "13\n",
            "12\n",
            "11\n",
            "10\n",
            "end\n"
          ]
        }
      ]
    },
    {
      "cell_type": "code",
      "source": [
        "# break는 반복문을 중단시킨다.\n",
        "# break가 실행되면 반복문이 완벽하게 실행된 것이 아니므로 else가 실행되지 않는다.\n",
        "a = 10\n",
        "while a>1:\n",
        "  a-=1\n",
        "  if a ==5:\n",
        "   break     \n",
        "  print(a)\n",
        "else:\n",
        "      print('end')"
      ],
      "metadata": {
        "colab": {
          "base_uri": "https://localhost:8080/"
        },
        "id": "j2jDmN8W-QBi",
        "outputId": "9ab1993a-4302-4688-99fd-8e9c2d83cafd"
      },
      "execution_count": 47,
      "outputs": [
        {
          "output_type": "stream",
          "name": "stdout",
          "text": [
            "9\n",
            "8\n",
            "7\n",
            "6\n"
          ]
        }
      ]
    },
    {
      "cell_type": "code",
      "source": [
        "# continue는 다음 루프로 바로 넘어간다.\n",
        "# 반복문을 중단하지는 않으므로 else문이 실행된다.\n",
        "a =10\n",
        "while a>1:\n",
        "  a -= 1\n",
        "  if a==5:\n",
        "    continue\n",
        "  print(a)\n",
        "else:\n",
        "  print('end')"
      ],
      "metadata": {
        "colab": {
          "base_uri": "https://localhost:8080/"
        },
        "id": "FP1o-AaI_TQa",
        "outputId": "8aba9b3b-59ae-46d0-a861-0da17d0e5b3d"
      },
      "execution_count": 48,
      "outputs": [
        {
          "output_type": "stream",
          "name": "stdout",
          "text": [
            "9\n",
            "8\n",
            "7\n",
            "6\n",
            "4\n",
            "3\n",
            "2\n",
            "1\n",
            "end\n"
          ]
        }
      ]
    },
    {
      "cell_type": "markdown",
      "source": [
        "### range함수\n",
        "- range(start, stop, step) 함수는 주로 for문과 같이 사용된다.\n",
        "- range(start, stop, step) 함수는 숫자범위에 대하여 반복을 하거나 특정한 범위의 숫자를 나열하도록 해주는 특별한 함수이다.\n",
        "- range 함수를 사용하는 형식은 선택사항인 시작값(start), 종료값(stop), 증감분(step)이다.\n",
        "- range(0,10,2) => 0,2,4,6,8\n",
        "- 0부터 시작하여 2의 간격으로 10에 미만까지의 정수"
      ],
      "metadata": {
        "id": "1OsKj28eBQWb"
      }
    },
    {
      "cell_type": "code",
      "source": [
        "for i in range(1,6):\n",
        "  print(i)"
      ],
      "metadata": {
        "colab": {
          "base_uri": "https://localhost:8080/"
        },
        "id": "KA8e0jDrAGCr",
        "outputId": "371406a2-c337-4117-c1c7-44f152652274"
      },
      "execution_count": 52,
      "outputs": [
        {
          "output_type": "stream",
          "name": "stdout",
          "text": [
            "1\n",
            "2\n",
            "3\n",
            "4\n",
            "5\n"
          ]
        }
      ]
    },
    {
      "cell_type": "markdown",
      "source": [
        "### enumerate함수\n",
        "- enumerate()함수는 인덱스와 객체를 동시에 저장할 수 있는 특징을 가진 for문을 좀 더 효율적으로 사용하기 위한 함수이다.\n",
        "- enumerate()함수는 순서자료형(리스트,튜플,문자열)을 입력으로 받아 인덱스를 포함하는 enumerate객체를 리턴한다.\n",
        "- enumerate([순서자료형],[시작값=0])의 형식을 가지며 순서자료형은 반복자가 가능한객체가 입력되고 시작값은 입력시 해당수부터 증가하며, 생략했을 경우 기본값은 0이다."
      ],
      "metadata": {
        "id": "8hYYAUL5JsNW"
      }
    },
    {
      "cell_type": "code",
      "source": [
        "for k, v in enumerate(['apple','python','microsoft']):\n",
        "  print('{0} :{1}'.format(k,v))"
      ],
      "metadata": {
        "colab": {
          "base_uri": "https://localhost:8080/"
        },
        "id": "DWY99WhOJUXe",
        "outputId": "a008173b-233d-44c1-f901-0dfe2d87b279"
      },
      "execution_count": 53,
      "outputs": [
        {
          "output_type": "stream",
          "name": "stdout",
          "text": [
            "0 :apple\n",
            "1 :python\n",
            "2 :microsoft\n"
          ]
        }
      ]
    },
    {
      "cell_type": "code",
      "source": [
        "for j in enumerate(['apple','python','microsoft'],1):\n",
        "  print('{0}'.format(j))"
      ],
      "metadata": {
        "colab": {
          "base_uri": "https://localhost:8080/"
        },
        "id": "lCa-SQu2Kza_",
        "outputId": "2c4253ad-149b-4061-946e-227849abc7d9"
      },
      "execution_count": 54,
      "outputs": [
        {
          "output_type": "stream",
          "name": "stdout",
          "text": [
            "(1, 'apple')\n",
            "(2, 'python')\n",
            "(3, 'microsoft')\n"
          ]
        }
      ]
    },
    {
      "cell_type": "markdown",
      "source": [
        "### zip 함수\n",
        "- 매개 인자로 여러 목록을 받아 각 목록의 요소를 튜플에 담아 목록에 저장한다."
      ],
      "metadata": {
        "id": "qRRtAs3QLc4A"
      }
    },
    {
      "cell_type": "code",
      "source": [
        "a=[1,2,3,4,5]\n",
        "b=['a','b','c','d','e']\n",
        "for x,y in zip (a,b):\n",
        "  print(x,y)\n",
        "  t=x,y\n",
        "print(type(t))"
      ],
      "metadata": {
        "colab": {
          "base_uri": "https://localhost:8080/"
        },
        "id": "EaDWBqU7LQ5R",
        "outputId": "8257d13a-df07-43c1-dd51-e27763dda427"
      },
      "execution_count": 55,
      "outputs": [
        {
          "output_type": "stream",
          "name": "stdout",
          "text": [
            "1 a\n",
            "2 b\n",
            "3 c\n",
            "4 d\n",
            "5 e\n",
            "<class 'tuple'>\n"
          ]
        }
      ]
    },
    {
      "cell_type": "markdown",
      "source": [
        "### items 함수\n",
        "- dict의 내장함수로 키와 값을 동시에 검색한다."
      ],
      "metadata": {
        "id": "1fm1nSpCMHgg"
      }
    },
    {
      "cell_type": "code",
      "source": [
        "dic = {'애플':'www.apple.com', '파이썬':'www.python.org'}\n",
        "for k, v in dic.items():\n",
        "  print('{0} : {1}'.format(k,v))\n",
        "  m=k,v\n",
        "print(type(m))"
      ],
      "metadata": {
        "colab": {
          "base_uri": "https://localhost:8080/"
        },
        "id": "zjsx-tsQLzmz",
        "outputId": "d47985c4-6cc4-4b56-8749-2bc93e531e00"
      },
      "execution_count": 57,
      "outputs": [
        {
          "output_type": "stream",
          "name": "stdout",
          "text": [
            "애플 : www.apple.com\n",
            "파이썬 : www.python.org\n",
            "<class 'tuple'>\n"
          ]
        }
      ]
    },
    {
      "cell_type": "markdown",
      "source": [
        "### 예외(Exception)\n",
        "- 프로그램을 수행하다 보면 문법적으로 문제가 없는 코드를 실행하는 중에 더이상 진행할 수 없는 상황이 발생하는 경우를 의미한다.\n",
        "- 모든 예외는 클래스로 표현되며 최상의 클래스는 BaseException클래스이다.\n",
        "- 예외상황\n",
        "   - 0으로 숫자 나누기\n",
        "   - 문자열과 숫자 더하기\n",
        "   - 참조범위를 넘어서 인덱스 참조하기\n",
        "   - 등록되어 있지 않은 키로 사전 검색하기"
      ],
      "metadata": {
        "id": "de0x10fsNWsY"
      }
    },
    {
      "cell_type": "markdown",
      "source": [
        "- 나누기 연산에서 ZeroDivisionError에러 발생"
      ],
      "metadata": {
        "id": "9I8JY6s1PkEx"
      }
    },
    {
      "cell_type": "code",
      "source": [
        "a,b = 5,0\n",
        "c = a/b\n",
        "print(c)"
      ],
      "metadata": {
        "colab": {
          "base_uri": "https://localhost:8080/",
          "height": 218
        },
        "id": "1gMpi_xEMmbo",
        "outputId": "ef56396b-5e27-48a0-b336-9f45b8609979"
      },
      "execution_count": 65,
      "outputs": [
        {
          "output_type": "error",
          "ename": "ZeroDivisionError",
          "evalue": "ignored",
          "traceback": [
            "\u001b[0;31m---------------------------------------------------------------------------\u001b[0m",
            "\u001b[0;31mZeroDivisionError\u001b[0m                         Traceback (most recent call last)",
            "\u001b[0;32m<ipython-input-65-141d133583fd>\u001b[0m in \u001b[0;36m<module>\u001b[0;34m\u001b[0m\n\u001b[1;32m      2\u001b[0m \u001b[0;34m\u001b[0m\u001b[0m\n\u001b[1;32m      3\u001b[0m \u001b[0ma\u001b[0m\u001b[0;34m,\u001b[0m\u001b[0mb\u001b[0m \u001b[0;34m=\u001b[0m \u001b[0;36m5\u001b[0m\u001b[0;34m,\u001b[0m\u001b[0;36m0\u001b[0m\u001b[0;34m\u001b[0m\u001b[0;34m\u001b[0m\u001b[0m\n\u001b[0;32m----> 4\u001b[0;31m \u001b[0mc\u001b[0m \u001b[0;34m=\u001b[0m \u001b[0ma\u001b[0m\u001b[0;34m/\u001b[0m\u001b[0mb\u001b[0m\u001b[0;34m\u001b[0m\u001b[0;34m\u001b[0m\u001b[0m\n\u001b[0m\u001b[1;32m      5\u001b[0m \u001b[0mprint\u001b[0m\u001b[0;34m(\u001b[0m\u001b[0mc\u001b[0m\u001b[0;34m)\u001b[0m\u001b[0;34m\u001b[0m\u001b[0;34m\u001b[0m\u001b[0m\n",
            "\u001b[0;31mZeroDivisionError\u001b[0m: division by zero"
          ]
        }
      ]
    },
    {
      "cell_type": "markdown",
      "source": [
        "- 정의되지 않은 변수를 사용하면 NameError에러 발생"
      ],
      "metadata": {
        "id": "ZaFMn1EiPnbC"
      }
    },
    {
      "cell_type": "code",
      "source": [
        "4 + spam *3"
      ],
      "metadata": {
        "colab": {
          "base_uri": "https://localhost:8080/",
          "height": 201
        },
        "id": "zdwlPbWWPHdy",
        "outputId": "bdfdadda-0578-4ac2-a276-01facc413474"
      },
      "execution_count": 66,
      "outputs": [
        {
          "output_type": "error",
          "ename": "NameError",
          "evalue": "ignored",
          "traceback": [
            "\u001b[0;31m---------------------------------------------------------------------------\u001b[0m",
            "\u001b[0;31mNameError\u001b[0m                                 Traceback (most recent call last)",
            "\u001b[0;32m<ipython-input-66-20c053ee47ac>\u001b[0m in \u001b[0;36m<module>\u001b[0;34m\u001b[0m\n\u001b[1;32m      1\u001b[0m \u001b[0;31m# 정의되지 않은 변수를 사용하면 NameError에러 발생\u001b[0m\u001b[0;34m\u001b[0m\u001b[0;34m\u001b[0m\u001b[0;34m\u001b[0m\u001b[0m\n\u001b[1;32m      2\u001b[0m \u001b[0;34m\u001b[0m\u001b[0m\n\u001b[0;32m----> 3\u001b[0;31m \u001b[0;36m4\u001b[0m \u001b[0;34m+\u001b[0m \u001b[0mspam\u001b[0m \u001b[0;34m*\u001b[0m\u001b[0;36m3\u001b[0m\u001b[0;34m\u001b[0m\u001b[0;34m\u001b[0m\u001b[0m\n\u001b[0m",
            "\u001b[0;31mNameError\u001b[0m: name 'spam' is not defined"
          ]
        }
      ]
    },
    {
      "cell_type": "markdown",
      "source": [
        "- 숫자가 아닌 데이터를 int로 변형할 때 ValueError에러 발생"
      ],
      "metadata": {
        "id": "DHPtzW9jPusa"
      }
    },
    {
      "cell_type": "code",
      "source": [
        "int(3)**int('abc')"
      ],
      "metadata": {
        "colab": {
          "base_uri": "https://localhost:8080/",
          "height": 166
        },
        "id": "JPtDihvXPeIJ",
        "outputId": "5ac4302f-b08f-4be8-ddfb-c9ee9cd70a5e"
      },
      "execution_count": 67,
      "outputs": [
        {
          "output_type": "error",
          "ename": "ValueError",
          "evalue": "ignored",
          "traceback": [
            "\u001b[0;31m---------------------------------------------------------------------------\u001b[0m",
            "\u001b[0;31mValueError\u001b[0m                                Traceback (most recent call last)",
            "\u001b[0;32m<ipython-input-67-70942bfa62b2>\u001b[0m in \u001b[0;36m<module>\u001b[0;34m\u001b[0m\n\u001b[0;32m----> 1\u001b[0;31m \u001b[0mint\u001b[0m\u001b[0;34m(\u001b[0m\u001b[0;36m3\u001b[0m\u001b[0;34m)\u001b[0m\u001b[0;34m**\u001b[0m\u001b[0mint\u001b[0m\u001b[0;34m(\u001b[0m\u001b[0;34m'abc'\u001b[0m\u001b[0;34m)\u001b[0m\u001b[0;34m\u001b[0m\u001b[0;34m\u001b[0m\u001b[0m\n\u001b[0m",
            "\u001b[0;31mValueError\u001b[0m: invalid literal for int() with base 10: 'abc'"
          ]
        }
      ]
    },
    {
      "cell_type": "markdown",
      "source": [
        "- 연산 중에 인수의 타입이 맞지 않으면 TypeError에러 발생"
      ],
      "metadata": {
        "id": "6Z5iadU8QEWa"
      }
    },
    {
      "cell_type": "code",
      "source": [
        "'2' + 2"
      ],
      "metadata": {
        "colab": {
          "base_uri": "https://localhost:8080/",
          "height": 166
        },
        "id": "T5ZnDBo6P3Vs",
        "outputId": "6f6f6edb-bd79-4ef0-b435-f9d47b22a4be"
      },
      "execution_count": 68,
      "outputs": [
        {
          "output_type": "error",
          "ename": "TypeError",
          "evalue": "ignored",
          "traceback": [
            "\u001b[0;31m---------------------------------------------------------------------------\u001b[0m",
            "\u001b[0;31mTypeError\u001b[0m                                 Traceback (most recent call last)",
            "\u001b[0;32m<ipython-input-68-d2b23a1db757>\u001b[0m in \u001b[0;36m<module>\u001b[0;34m\u001b[0m\n\u001b[0;32m----> 1\u001b[0;31m \u001b[0;34m'2'\u001b[0m \u001b[0;34m+\u001b[0m \u001b[0;36m2\u001b[0m\u001b[0;34m\u001b[0m\u001b[0;34m\u001b[0m\u001b[0m\n\u001b[0m",
            "\u001b[0;31mTypeError\u001b[0m: can only concatenate str (not \"int\") to str"
          ]
        }
      ]
    },
    {
      "cell_type": "markdown",
      "source": [
        "[exception](https://python.bakyeono.net/chapter-9-4.html)\n",
        "![exception](https://python.bakyeono.net/img/img-9-4.png)"
      ],
      "metadata": {
        "id": "cafJPAtuSMVL"
      }
    },
    {
      "cell_type": "markdown",
      "source": [
        "[파이썬 예외처리](https://blog.naver.com/PostView.nhn?isHttpsRedirect=true&blogId=dudwo567890&logNo=130161392390)\n"
      ],
      "metadata": {
        "id": "qtdH68-kTM1E"
      }
    },
    {
      "cell_type": "markdown",
      "source": [
        "### 예외처리(Exception Handling)\n",
        "- 예외처리란 예외가 발생했을 때 프로그램이 정상적으로 종료될 수 있도록 예외가 발생되는 곳에서 해주는 기능이다.\n",
        "- 형식\n",
        "  - try:<예외가 발생될 가능성이 있는 문장>\n",
        "  - except [발생 오류[as 오류 메시지 변수]]:<예외가 발생했을 때 실행되는 문장>\n",
        "  - Else: <예외가 발생하지 않았을 때 실행되는 문장\n",
        "  - finally: <예외 발생 여부에 상관없이 무조건 실행되는 문장>"
      ],
      "metadata": {
        "id": "UDW6qARAT0Rs"
      }
    },
    {
      "cell_type": "markdown",
      "source": [
        "### try~except\n",
        "- try 절 안에 문제가 발생할 가능성이 있는 코드 블록을 배치하고 except절에는 문제가 생겼을 때 뒤처리를 하는 코드 블록 배치\n",
        "\n",
        "  - try : # 문제가 발생할 가능성이 있는 코드\n",
        "  - except : # 문제가 생겼을 때 실행할 코드"
      ],
      "metadata": {
        "id": "s5Sx13oTXoBX"
      }
    },
    {
      "cell_type": "code",
      "source": [
        "# try~except\n",
        "# divide 함수에서 1/0을 실행하다 0으로 나누려는 시도임을 파악하고 예외를 일으킨다. 발생한 예외를 처리할 곳을 찾다가\n",
        "# except절을 만나 프로그램 흐름을 변경한다.\n",
        "\n",
        "def divide(x,y):\n",
        "  return x/y\n",
        "\n",
        "try:\n",
        "  result=divide(1,0)\n",
        "except ZeroDivisionError:\n",
        "  print('분모는 0이면 안됨')\n",
        "else:\n",
        "  print(result)\n",
        "finally:\n",
        "  print('문제풀이 끝')"
      ],
      "metadata": {
        "colab": {
          "base_uri": "https://localhost:8080/"
        },
        "id": "HIOs6L1JQLFp",
        "outputId": "2b6acae9-01e9-4a2a-bdd4-40f2de776dae"
      },
      "execution_count": 69,
      "outputs": [
        {
          "output_type": "stream",
          "name": "stdout",
          "text": [
            "분모는 0이면 안됨\n",
            "문제풀이 끝\n"
          ]
        }
      ]
    },
    {
      "cell_type": "markdown",
      "source": [
        "### 복수개의 except\n",
        "- try 블록 안에서 여러 종류의 예외가 발생하는 경우에 사용\n",
        " - try: # 문제가 발생할 가능성이 있는 코드\n",
        " - except 예외형식1: #문제가 생겼을 때 실행할 코드\n",
        " - except 예외형식2: #문제가 생겼을 때 실행할 코드"
      ],
      "metadata": {
        "id": "icCsI4wEYVom"
      }
    },
    {
      "cell_type": "code",
      "source": [
        "my_list = [1,2,3]\n",
        "\n",
        "try:\n",
        "  print(\"첨자를 입력하세요:\")\n",
        "  index = int(input())\n",
        "  print(my_list[index]/0)\n",
        "except ZeroDivisionError:    #index가 0~2사이로 입력된다면ZeroDivisionError가 일어난다.\n",
        "  print(\"0으로 나눌 수 없습니다.\")\n",
        "except IndexError:    # index가 0~2를 벗어나면 mylist[index]에서 IndexError가 발생한다.\n",
        "  print(\"잘못된 첨자입니다.\")"
      ],
      "metadata": {
        "colab": {
          "base_uri": "https://localhost:8080/"
        },
        "id": "alFKjKDVW_cR",
        "outputId": "f6fb5faf-e648-441b-aa50-78fccd5486c0"
      },
      "execution_count": 74,
      "outputs": [
        {
          "output_type": "stream",
          "name": "stdout",
          "text": [
            "첨자를 입력하세요:\n",
            "2\n",
            "0으로 나눌 수 없습니다.\n"
          ]
        }
      ]
    },
    {
      "cell_type": "markdown",
      "source": [
        "- 예외의 인스턴스를 활용하는 방법: as 문 사용\n",
        " - try: # 문제가 발생할 가능성이 있는 코드\n",
        " - except 예외형식1 as err: # 문제가 생겼을 때 실행할 코드\n",
        " - except 예외형식2 as err: # 문제가 생겼을 때 실행할 코드\n",
        " "
      ],
      "metadata": {
        "id": "a6_b-FIuaYzf"
      }
    },
    {
      "cell_type": "code",
      "source": [
        "my_list = [1,2,3]\n",
        "\n",
        "try:\n",
        "  print(\"첨자를 입력하세요:\")\n",
        "  index = int(input())\n",
        "  print(my_list[index]/0)\n",
        "except ZeroDivisionError as err:\n",
        "  print('0으로 나눌 수 없습니다. ({0})'.format(err))\n",
        "except IndexError as err:\n",
        "  print(\"잘못된 첨자입니다. ({0})\".format(err))"
      ],
      "metadata": {
        "colab": {
          "base_uri": "https://localhost:8080/"
        },
        "id": "1_C6ofW6ZVOL",
        "outputId": "121bd314-cb35-4d96-a571-eb6863a638c7"
      },
      "execution_count": 75,
      "outputs": [
        {
          "output_type": "stream",
          "name": "stdout",
          "text": [
            "첨자를 입력하세요:\n",
            "2\n",
            "0으로 나눌 수 없습니다. (division by zero)\n"
          ]
        }
      ]
    },
    {
      "cell_type": "markdown",
      "source": [
        "- try ~ except ~ else\n",
        " - try와 함께 사용하는 else절은 try절에 있는 코드블록 실행 중에 아무런 예외가 일어나지 않으면 실행됨.\n",
        " \n",
        " - try: #실행할 코드블록\n",
        " - except: # 예외 처리 코드블록\n",
        " - else: # except절을 만나지 않았을 경우 실행하는 코드블록"
      ],
      "metadata": {
        "id": "Bl7WtPE9b-zR"
      }
    },
    {
      "cell_type": "code",
      "source": [
        "my_list = [1,2,3]\n",
        "\n",
        "try:\n",
        "  print('첨자를 입력하세요:')\n",
        "  index = int(input())\n",
        "  print('my_list[{0}]: {1}'.format(index, my_list[index]))\n",
        "except IndexError as err:\n",
        "  print('0으로 나눌 수 없습니다. ({0})'.format(err))\n",
        "else:\n",
        "  print(\"리스트의 요소 출력에 성공했습니다.\")"
      ],
      "metadata": {
        "colab": {
          "base_uri": "https://localhost:8080/"
        },
        "id": "7P7ArioYblrH",
        "outputId": "923f03c4-0c81-4d75-aba9-3a928f661d6c"
      },
      "execution_count": 82,
      "outputs": [
        {
          "output_type": "stream",
          "name": "stdout",
          "text": [
            "첨자를 입력하세요:\n",
            "4\n",
            "0으로 나눌 수 없습니다. (list index out of range)\n"
          ]
        }
      ]
    },
    {
      "cell_type": "markdown",
      "source": [
        "### raise\n",
        "- raise 은 프로그래머가 의도적으로 예외를 발생시켜야 하는 경우에 사용한다.\n",
        "- raise구문은 해당 예외를 단순히 발생시키거나 예외 발생시 필요한 정보를 같이 전달하기 위하여 인자로 넘겨줄 수 있다. 또한, 예외를 상위에서 처리하도록 그대로 전달할 수도 있다.\n",
        "- raise 구문의 예외로 올 수 있는 것으로 내장예외와 사용자정의 예외가 있다.\n",
        "\n",
        "  - raise [Exception] # 해당 예외를 발생함\n",
        "  - raise [Exception(data)] # 예외를 발생시 관련 데이터를 전달함\n",
        "  - raise # 발생된 예외를 상위로 전달함"
      ],
      "metadata": {
        "id": "xOKtGlsKdpRQ"
      }
    },
    {
      "cell_type": "code",
      "source": [
        "def RaiseErrorFunc():\n",
        "  raise NameError(\"NameError의 인자\")\n",
        "\n",
        "def PropagateError():\n",
        "  try:\n",
        "    RaiseErrorFunc()\n",
        "  except:\n",
        "    print(\"에러전달 이전에 먼저 이 메시지가 출력됨\")\n",
        "  \n",
        "PropagateError()"
      ],
      "metadata": {
        "colab": {
          "base_uri": "https://localhost:8080/"
        },
        "id": "8hL6-YcJdDLB",
        "outputId": "6ac7eefd-26c6-41bb-d922-b25e5b9313b4"
      },
      "execution_count": 84,
      "outputs": [
        {
          "output_type": "stream",
          "name": "stdout",
          "text": [
            "에러전달 이전에 먼저 이 메시지가 출력됨\n"
          ]
        }
      ]
    },
    {
      "cell_type": "code",
      "source": [
        "def RaiseErrorFunc():\n",
        "  raise NameError(\"NameError의 인자\")\n",
        "\n",
        "def PropagateError():\n",
        "  try:\n",
        "    RaiseErrorFunc()\n",
        "  except:\n",
        "    print(\"에러전달 이전에 먼저 이 메시지가 출력됨\")\n",
        "  raise\n",
        "\n",
        "PropagateError()"
      ],
      "metadata": {
        "colab": {
          "base_uri": "https://localhost:8080/",
          "height": 340
        },
        "id": "KCAOTgTde5rq",
        "outputId": "060d51a6-874a-48fc-b2f4-4a029bcaaad7"
      },
      "execution_count": 85,
      "outputs": [
        {
          "output_type": "stream",
          "name": "stdout",
          "text": [
            "에러전달 이전에 먼저 이 메시지가 출력됨\n"
          ]
        },
        {
          "output_type": "error",
          "ename": "RuntimeError",
          "evalue": "ignored",
          "traceback": [
            "\u001b[0;31m---------------------------------------------------------------------------\u001b[0m",
            "\u001b[0;31mRuntimeError\u001b[0m                              Traceback (most recent call last)",
            "\u001b[0;32m<ipython-input-85-84a6e03366e3>\u001b[0m in \u001b[0;36m<module>\u001b[0;34m\u001b[0m\n\u001b[1;32m      9\u001b[0m   \u001b[0;32mraise\u001b[0m\u001b[0;34m\u001b[0m\u001b[0;34m\u001b[0m\u001b[0m\n\u001b[1;32m     10\u001b[0m \u001b[0;34m\u001b[0m\u001b[0m\n\u001b[0;32m---> 11\u001b[0;31m \u001b[0mPropagateError\u001b[0m\u001b[0;34m(\u001b[0m\u001b[0;34m)\u001b[0m\u001b[0;34m\u001b[0m\u001b[0;34m\u001b[0m\u001b[0m\n\u001b[0m",
            "\u001b[0;32m<ipython-input-85-84a6e03366e3>\u001b[0m in \u001b[0;36mPropagateError\u001b[0;34m()\u001b[0m\n\u001b[1;32m      7\u001b[0m   \u001b[0;32mexcept\u001b[0m\u001b[0;34m:\u001b[0m\u001b[0;34m\u001b[0m\u001b[0;34m\u001b[0m\u001b[0m\n\u001b[1;32m      8\u001b[0m     \u001b[0mprint\u001b[0m\u001b[0;34m(\u001b[0m\u001b[0;34m\"에러전달 이전에 먼저 이 메시지가 출력됨\"\u001b[0m\u001b[0;34m)\u001b[0m\u001b[0;34m\u001b[0m\u001b[0;34m\u001b[0m\u001b[0m\n\u001b[0;32m----> 9\u001b[0;31m   \u001b[0;32mraise\u001b[0m\u001b[0;34m\u001b[0m\u001b[0;34m\u001b[0m\u001b[0m\n\u001b[0m\u001b[1;32m     10\u001b[0m \u001b[0;34m\u001b[0m\u001b[0m\n\u001b[1;32m     11\u001b[0m \u001b[0mPropagateError\u001b[0m\u001b[0;34m(\u001b[0m\u001b[0;34m)\u001b[0m\u001b[0;34m\u001b[0m\u001b[0;34m\u001b[0m\u001b[0m\n",
            "\u001b[0;31mRuntimeError\u001b[0m: No active exception to reraise"
          ]
        }
      ]
    },
    {
      "cell_type": "code",
      "source": [
        "def RaiseErrorFunc():\n",
        "  raise NameError(\"NameError의 인자\")\n",
        "\n",
        "def PropagateError():\n",
        "  try:\n",
        "    RaiseErrorFunc()\n",
        "  except:\n",
        "    print(\"에러전달 이전에 먼저 이 메시지가 출력됨\")\n",
        "  raise\n",
        "try:\n",
        "   PropagateError()\n",
        "except Exception as err:\n",
        " print('{0} 예외가 발생했습니다.'.format(err))"
      ],
      "metadata": {
        "colab": {
          "base_uri": "https://localhost:8080/"
        },
        "id": "pELLiBMKf80J",
        "outputId": "d570ee72-1944-4811-c25f-da33ab6375fb"
      },
      "execution_count": 98,
      "outputs": [
        {
          "output_type": "stream",
          "name": "stdout",
          "text": [
            "에러전달 이전에 먼저 이 메시지가 출력됨\n",
            "No active exception to reraise 예외가 발생했습니다.\n"
          ]
        }
      ]
    },
    {
      "cell_type": "code",
      "source": [],
      "metadata": {
        "id": "oUveAZlhhNQh"
      },
      "execution_count": null,
      "outputs": []
    }
  ]
}